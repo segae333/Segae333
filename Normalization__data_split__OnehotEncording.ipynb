{
  "nbformat": 4,
  "nbformat_minor": 0,
  "metadata": {
    "colab": {
      "name": "Normalization__data_split__OnehotEncording.ipynb",
      "provenance": [],
      "collapsed_sections": [
        "3WTo4COQL3UN",
        "-K9dNyU9MCTK",
        "XCEhNCZk4OPe",
        "uuD0ci15B5Ce"
      ]
    },
    "kernelspec": {
      "name": "python3",
      "display_name": "Python 3"
    },
    "language_info": {
      "name": "python"
    }
  },
  "cells": [
    {
      "cell_type": "markdown",
      "metadata": {
        "id": "3WTo4COQL3UN"
      },
      "source": [
        "### BostonHousing"
      ]
    },
    {
      "cell_type": "code",
      "metadata": {
        "id": "WHuJ1-P5-OnG"
      },
      "source": [
        "\n",
        "import pandas as pd\n",
        "import tensorflow as tf\n",
        "import matplotlib.pyplot as plt\n",
        "\n",
        "## 데이터 읽어오기.\n",
        "df = pd.read_csv(\"./BostonHousing.csv\")\n",
        "\n",
        "\n"
      ],
      "execution_count": null,
      "outputs": []
    },
    {
      "cell_type": "code",
      "metadata": {
        "colab": {
          "base_uri": "https://localhost:8080/"
        },
        "id": "BU9_WTWz_ch1",
        "outputId": "b7fa5905-4b8d-44a3-d16c-0135b6bd1ee7"
      },
      "source": [
        "print(df.info())\n",
        "print(df.shape)\n",
        "print(df.columns)"
      ],
      "execution_count": null,
      "outputs": [
        {
          "output_type": "stream",
          "name": "stdout",
          "text": [
            "<class 'pandas.core.frame.DataFrame'>\n",
            "RangeIndex: 506 entries, 0 to 505\n",
            "Data columns (total 14 columns):\n",
            " #   Column   Non-Null Count  Dtype  \n",
            "---  ------   --------------  -----  \n",
            " 0   CRIM     506 non-null    float64\n",
            " 1   ZN       506 non-null    float64\n",
            " 2   INDUS    506 non-null    float64\n",
            " 3   CHAS     506 non-null    int64  \n",
            " 4   NOX      506 non-null    float64\n",
            " 5   RM       506 non-null    float64\n",
            " 6   AGE      506 non-null    float64\n",
            " 7   DIS      506 non-null    float64\n",
            " 8   RAD      506 non-null    int64  \n",
            " 9   TAX      506 non-null    int64  \n",
            " 10  PTRATIO  506 non-null    float64\n",
            " 11  B        506 non-null    float64\n",
            " 12  LSTAT    506 non-null    float64\n",
            " 13  MEDV     506 non-null    float64\n",
            "dtypes: float64(11), int64(3)\n",
            "memory usage: 55.5 KB\n",
            "None\n",
            "(506, 14)\n",
            "Index(['CRIM', 'ZN', 'INDUS', 'CHAS', 'NOX', 'RM', 'AGE', 'DIS', 'RAD', 'TAX',\n",
            "       'PTRATIO', 'B', 'LSTAT', 'MEDV'],\n",
            "      dtype='object')\n"
          ]
        }
      ]
    },
    {
      "cell_type": "code",
      "metadata": {
        "id": "3w1InSKI_GZ0"
      },
      "source": [
        "## key말고 해당하는 value값만 추출해서 입력과 정갑 데이터 분류\n",
        "dataset = df.copy()\n",
        "\n",
        "X = df.iloc[:, 0:13]\n",
        "Y = df.iloc[:, 13:14]"
      ],
      "execution_count": null,
      "outputs": []
    },
    {
      "cell_type": "code",
      "metadata": {
        "id": "yNEZ0DB5WR8f"
      },
      "source": [
        "X1 = X.describe()\n",
        "X1 = X1.transpose()\n"
      ],
      "execution_count": null,
      "outputs": []
    },
    {
      "cell_type": "code",
      "metadata": {
        "id": "E_l8PswGXUmk"
      },
      "source": [
        "def min_max_norm(x):\n",
        "  return (x - X1['min']) / (X1['max'] - X1['min'])\n",
        "\n",
        "def standard_norm(x):\n",
        "  return (x - X1['mean']) / X1['std']"
      ],
      "execution_count": null,
      "outputs": []
    },
    {
      "cell_type": "code",
      "metadata": {
        "id": "-Vw6GuTtXWw5"
      },
      "source": [
        "\n",
        "min_max_norm_train_dataX = min_max_norm(X)\n",
        "standard_norm_train_dataX = standard_norm(X)"
      ],
      "execution_count": null,
      "outputs": []
    },
    {
      "cell_type": "code",
      "metadata": {
        "id": "vn6_8-8BA4Q3"
      },
      "source": [
        "tf.random.set_seed(777)"
      ],
      "execution_count": null,
      "outputs": []
    },
    {
      "cell_type": "code",
      "metadata": {
        "colab": {
          "base_uri": "https://localhost:8080/"
        },
        "id": "51IU5q-z_IP5",
        "outputId": "5b878ee0-e197-4ebf-8b7d-bc7142324a63"
      },
      "source": [
        "model = tf.keras.Sequential()\n",
        "model.add(tf.keras.layers.Dense(64, input_dim=13, activation='sigmoid'))\n",
        "model.add(tf.keras.layers.Dense(128, activation='sigmoid'))\n",
        "model.add(tf.keras.layers.Dense(256, activation='sigmoid'))\n",
        "model.add(tf.keras.layers.Dense(1))\n",
        "model.summary()"
      ],
      "execution_count": null,
      "outputs": [
        {
          "output_type": "stream",
          "name": "stdout",
          "text": [
            "Model: \"sequential_2\"\n",
            "_________________________________________________________________\n",
            "Layer (type)                 Output Shape              Param #   \n",
            "=================================================================\n",
            "dense_4 (Dense)              (None, 64)                896       \n",
            "_________________________________________________________________\n",
            "dense_5 (Dense)              (None, 128)               8320      \n",
            "_________________________________________________________________\n",
            "dense_6 (Dense)              (None, 256)               33024     \n",
            "_________________________________________________________________\n",
            "dense_7 (Dense)              (None, 1)                 257       \n",
            "=================================================================\n",
            "Total params: 42,497\n",
            "Trainable params: 42,497\n",
            "Non-trainable params: 0\n",
            "_________________________________________________________________\n"
          ]
        }
      ]
    },
    {
      "cell_type": "code",
      "metadata": {
        "id": "J16vtnS3_K_5"
      },
      "source": [
        "optimizer=tf.keras.optimizers.SGD(learning_rate=0.04) ### 경사 하강법으로 global min 에 찾아가는 최적화 방법 선언.\n",
        "loss=tf.keras.losses.mean_squared_error  ## 예측값 과 정답의 오차값 정의.\n",
        "metrics=tf.keras.metrics.RootMeanSquaredError() ### 학습하면서 평가할 메트릭스 선언언\n",
        "\n",
        "model.compile(loss =loss, optimizer= optimizer, metrics=[metrics])"
      ],
      "execution_count": null,
      "outputs": []
    },
    {
      "cell_type": "code",
      "metadata": {
        "id": "hGtUkEG9DjVl"
      },
      "source": [
        "esult = model.fit(standard_norm_train_dataX, Y, epochs=2000, batch_size=10)"
      ],
      "execution_count": null,
      "outputs": []
    },
    {
      "cell_type": "code",
      "metadata": {
        "colab": {
          "base_uri": "https://localhost:8080/"
        },
        "id": "to_pTkMIJ59I",
        "outputId": "9efd8117-972e-4dce-82e9-e53d56ea4ab8"
      },
      "source": [
        "print(esult.history.keys())"
      ],
      "execution_count": null,
      "outputs": [
        {
          "output_type": "stream",
          "name": "stdout",
          "text": [
            "dict_keys(['loss', 'root_mean_squared_error'])\n"
          ]
        }
      ]
    },
    {
      "cell_type": "code",
      "metadata": {
        "colab": {
          "base_uri": "https://localhost:8080/",
          "height": 348
        },
        "id": "9BNA9bgO_Nqe",
        "outputId": "bcdc7b9a-acfd-4edc-9350-83f5ac646fda"
      },
      "source": [
        "\n",
        "### history에서 loss key를 가지는 값들만 추출\n",
        "loss = esult.history['loss']\n",
        "\n",
        "### loss그래프화\n",
        "epochs = range(1, len(loss) + 1)\n",
        "plt.subplot(211)  ## 2x1 개의 그래프 중에 1번째\n",
        "plt.plot(epochs, loss, 'b-', label='Training loss')\n",
        "plt.title('Training loss')\n",
        "plt.xlabel('Epochs')\n",
        "plt.ylabel('Loss')\n",
        "plt.legend()\n",
        "\n",
        "### history에서 root_mean_squared_error key를 가지는 값들만 추출\n",
        "rmse = esult.history['root_mean_squared_error']\n",
        "epochs = range(1, len(rmse) + 1)\n",
        "\n",
        "### mean_absolute_error를 그래프화\n",
        "plt.subplot(212)  ## 2x1 개의 그래프 중에 2번째\n",
        "plt.plot(epochs, rmse, 'r-', label='Training rmse')\n",
        "plt.title('Training rmse')\n",
        "plt.xlabel('Epochs')\n",
        "plt.ylabel('rmse')\n",
        "plt.legend()\n",
        "\n",
        "print(\"\\n Test rmse: %.4f\" % (model.evaluate(standard_norm_train_dataX, Y)[1])) #RMES 는 0에 가까울수록 정답과 예측의 차이가 적다는 뜻 (ex:0이라면 정답)\n",
        "plt.show()\n"
      ],
      "execution_count": null,
      "outputs": [
        {
          "output_type": "stream",
          "name": "stdout",
          "text": [
            "16/16 [==============================] - 0s 1ms/step - loss: 0.0429 - root_mean_squared_error: 0.2072\n",
            "\n",
            " Test rmse: 0.2072\n"
          ]
        },
        {
          "output_type": "display_data",
          "data": {
            "image/png": "[encoded data removed]",
            "text/plain": [
              "<Figure size 432x288 with 2 Axes>"
            ]
          },
          "metadata": {
            "needs_background": "light"
          }
        }
      ]
    },
    {
      "cell_type": "markdown",
      "metadata": {
        "id": "-K9dNyU9MCTK"
      },
      "source": [
        "###Normalization"
      ]
    },
    {
      "cell_type": "code",
      "metadata": {
        "id": "DitaWqHZL_NQ"
      },
      "source": [
        "\n",
        "import seaborn as sns\n",
        "import pandas as pd\n",
        "import matplotlib.pyplot as plt\n",
        "\n",
        "## 데이터 읽어오기.## 데이터 읽어오기.\n",
        "raw_df = pd.read_csv(\"test.csv\")\n",
        "print(\"data info\")\n",
        "print(raw_df.info())\n",
        "print(\"data head\")\n",
        "print(raw_df.head())\n",
        "\n",
        "dataset=raw_df.copy()\n"
      ],
      "execution_count": null,
      "outputs": []
    },
    {
      "cell_type": "code",
      "metadata": {
        "colab": {
          "base_uri": "https://localhost:8080/"
        },
        "id": "hdDuDN6aNDPm",
        "outputId": "ca0c4671-613b-46da-cf0e-594818813530"
      },
      "source": [
        "## 데이터의 min , max, mean, std 값 구하기.\n",
        "data_stats = dataset.describe()\n",
        "data_stats = data_stats.transpose()\n",
        "print(dataset.describe())\n",
        "print(data_stats)"
      ],
      "execution_count": null,
      "outputs": [
        {
          "output_type": "stream",
          "name": "stdout",
          "text": [
            "              A           B            C     D\n",
            "count  10.00000   10.000000    10.000000  10.0\n",
            "mean    5.50000   55.000000   550.000000   2.0\n",
            "std     3.02765   30.276504   302.765035   0.0\n",
            "min     1.00000   10.000000   100.000000   2.0\n",
            "25%     3.25000   32.500000   325.000000   2.0\n",
            "50%     5.50000   55.000000   550.000000   2.0\n",
            "75%     7.75000   77.500000   775.000000   2.0\n",
            "max    10.00000  100.000000  1000.000000   2.0\n",
            "   count   mean         std    min     25%    50%     75%     max\n",
            "A   10.0    5.5    3.027650    1.0    3.25    5.5    7.75    10.0\n",
            "B   10.0   55.0   30.276504   10.0   32.50   55.0   77.50   100.0\n",
            "C   10.0  550.0  302.765035  100.0  325.00  550.0  775.00  1000.0\n",
            "D   10.0    2.0    0.000000    2.0    2.00    2.0    2.00     2.0\n"
          ]
        }
      ]
    },
    {
      "cell_type": "code",
      "metadata": {
        "colab": {
          "base_uri": "https://localhost:8080/",
          "height": 726
        },
        "id": "sVEJ8usFP5oN",
        "outputId": "1b213b4c-79c9-4136-8d22-6d6f2cde101e"
      },
      "source": [
        "\n",
        "## 데이터 분포도 확인하기.\n",
        "sns.pairplot(dataset[['A','B','C','D']], diag_kind=\"hist\")\n",
        "plt.show()\n"
      ],
      "execution_count": null,
      "outputs": [
        {
          "output_type": "display_data",
          "data": {
            "image/png": "[encoded data removed]",
            "text/plain": [
              "<Figure size 720x720 with 20 Axes>"
            ]
          },
          "metadata": {
            "needs_background": "light"
          }
        }
      ]
    },
    {
      "cell_type": "code",
      "metadata": {
        "id": "vhY8yvVqM0_E"
      },
      "source": [
        "\n",
        "## 정답 데이터 추출\n",
        "train_labels = dataset['D']\n",
        "\n",
        "\n",
        "## data normalization\n",
        "def min_max_norm(x):\n",
        "  return (x - data_stats['min']) / (data_stats['max'] - data_stats['min'])\n",
        "\n",
        "def standard_norm(x):\n",
        "  return (x - data_stats['mean']) / data_stats['std']\n"
      ],
      "execution_count": null,
      "outputs": []
    },
    {
      "cell_type": "code",
      "metadata": {
        "id": "At-93TWXSizx"
      },
      "source": [
        "\n",
        "min_max_norm_train_data = min_max_norm(dataset)\n",
        "standard_norm_train_data = standard_norm(dataset)\n"
      ],
      "execution_count": null,
      "outputs": []
    },
    {
      "cell_type": "code",
      "metadata": {
        "colab": {
          "base_uri": "https://localhost:8080/"
        },
        "id": "3xf80cuJOKkW",
        "outputId": "15a12872-296a-434b-b025-f8705ce3f289"
      },
      "source": [
        "\n",
        "print(\"min max : \")\n",
        "print(min_max_norm_train_data)\n",
        "print(\"standard : \")\n",
        "print(standard_norm_train_data)"
      ],
      "execution_count": null,
      "outputs": [
        {
          "output_type": "stream",
          "name": "stdout",
          "text": [
            "min max : \n",
            "          A         B         C   D\n",
            "0  0.000000  0.000000  0.000000 NaN\n",
            "1  0.111111  0.111111  0.111111 NaN\n",
            "2  0.222222  0.222222  0.222222 NaN\n",
            "3  0.333333  0.333333  0.333333 NaN\n",
            "4  0.444444  0.444444  0.444444 NaN\n",
            "5  0.555556  0.555556  0.555556 NaN\n",
            "6  0.666667  0.666667  0.666667 NaN\n",
            "7  0.777778  0.777778  0.777778 NaN\n",
            "8  0.888889  0.888889  0.888889 NaN\n",
            "9  1.000000  1.000000  1.000000 NaN\n",
            "standard : \n",
            "          A         B         C   D\n",
            "0 -1.486301 -1.486301 -1.486301 NaN\n",
            "1 -1.156012 -1.156012 -1.156012 NaN\n",
            "2 -0.825723 -0.825723 -0.825723 NaN\n",
            "3 -0.495434 -0.495434 -0.495434 NaN\n",
            "4 -0.165145 -0.165145 -0.165145 NaN\n",
            "5  0.165145  0.165145  0.165145 NaN\n",
            "6  0.495434  0.495434  0.495434 NaN\n",
            "7  0.825723  0.825723  0.825723 NaN\n",
            "8  1.156012  1.156012  1.156012 NaN\n",
            "9  1.486301  1.486301  1.486301 NaN\n"
          ]
        }
      ]
    },
    {
      "cell_type": "markdown",
      "metadata": {
        "id": "5IONS6-ye0mZ"
      },
      "source": [
        "### BostonHousing_Data_split"
      ]
    },
    {
      "cell_type": "code",
      "metadata": {
        "id": "JWuBoiVXfAI1"
      },
      "source": [
        "import pandas as pd\n",
        "import tensorflow as tf\n",
        "import matplotlib.pyplot as plt\n",
        "from sklearn.model_selection import train_test_split\n",
        "import seaborn as sns\n",
        "\n",
        "## 데이터 읽어오기.\n",
        "df = pd.read_csv(\"./BostonHousing.csv\")"
      ],
      "execution_count": null,
      "outputs": []
    },
    {
      "cell_type": "code",
      "metadata": {
        "id": "w3_aBpvYfGag"
      },
      "source": [
        "## key말고 해당하는 value값만 추출해서 입력과 정갑 데이터 분류\n",
        "dataset = df.copy()\n",
        "\n",
        "X = df.iloc[:, 0:13]\n",
        "Y = df.iloc[:, 13:14]"
      ],
      "execution_count": null,
      "outputs": []
    },
    {
      "cell_type": "code",
      "metadata": {
        "colab": {
          "base_uri": "https://localhost:8080/"
        },
        "id": "n95lmKJVg9va",
        "outputId": "dbfde89a-33a3-4ed8-b25d-22288f503bb7"
      },
      "source": [
        "print(\"data info\")\n",
        "print(dataset.info())\n",
        "print(\"data head\")\n",
        "print(dataset.head())"
      ],
      "execution_count": null,
      "outputs": [
        {
          "output_type": "stream",
          "name": "stdout",
          "text": [
            "data info\n",
            "<class 'pandas.core.frame.DataFrame'>\n",
            "RangeIndex: 506 entries, 0 to 505\n",
            "Data columns (total 14 columns):\n",
            " #   Column   Non-Null Count  Dtype  \n",
            "---  ------   --------------  -----  \n",
            " 0   CRIM     506 non-null    float64\n",
            " 1   ZN       506 non-null    float64\n",
            " 2   INDUS    506 non-null    float64\n",
            " 3   CHAS     506 non-null    int64  \n",
            " 4   NOX      506 non-null    float64\n",
            " 5   RM       506 non-null    float64\n",
            " 6   AGE      506 non-null    float64\n",
            " 7   DIS      506 non-null    float64\n",
            " 8   RAD      506 non-null    int64  \n",
            " 9   TAX      506 non-null    int64  \n",
            " 10  PTRATIO  506 non-null    float64\n",
            " 11  B        506 non-null    float64\n",
            " 12  LSTAT    506 non-null    float64\n",
            " 13  MEDV     506 non-null    float64\n",
            "dtypes: float64(11), int64(3)\n",
            "memory usage: 55.5 KB\n",
            "None\n",
            "data head\n",
            "      CRIM    ZN  INDUS  CHAS    NOX  ...  TAX  PTRATIO       B  LSTAT  MEDV\n",
            "0  0.00632  18.0   2.31     0  0.538  ...  296     15.3  396.90   4.98  24.0\n",
            "1  0.02731   0.0   7.07     0  0.469  ...  242     17.8  396.90   9.14  21.6\n",
            "2  0.02729   0.0   7.07     0  0.469  ...  242     17.8  392.83   4.03  34.7\n",
            "3  0.03237   0.0   2.18     0  0.458  ...  222     18.7  394.63   2.94  33.4\n",
            "4  0.06905   0.0   2.18     0  0.458  ...  222     18.7  396.90   5.33  36.2\n",
            "\n",
            "[5 rows x 14 columns]\n"
          ]
        }
      ]
    },
    {
      "cell_type": "code",
      "metadata": {
        "id": "35sRKacafJ_e"
      },
      "source": [
        "## std와 min을 구하기 위한 X데이터 형 변환\n",
        "X1 = X.describe()\n",
        "X1 = X1.transpose()"
      ],
      "execution_count": null,
      "outputs": []
    },
    {
      "cell_type": "code",
      "metadata": {
        "id": "hhsMHvDmfM3T"
      },
      "source": [
        "def min_max_norm(x):\n",
        "  return (x - X1['min']) / (X1['max'] - X1['min'])\n",
        "\n",
        "def standard_norm(x):\n",
        "  return (x - X1['mean']) / X1['std']"
      ],
      "execution_count": null,
      "outputs": []
    },
    {
      "cell_type": "code",
      "metadata": {
        "id": "yXrIceNTfRfE"
      },
      "source": [
        "min_max_norm_train_dataX = min_max_norm(X)\n",
        "standard_norm_train_dataX = standard_norm(X)"
      ],
      "execution_count": null,
      "outputs": []
    },
    {
      "cell_type": "code",
      "metadata": {
        "colab": {
          "base_uri": "https://localhost:8080/"
        },
        "id": "cV9wNzvokIDk",
        "outputId": "f01da2c2-4170-44a7-dc34-04f25d7db2df"
      },
      "source": [
        "print(\"min max : \")\n",
        "print(min_max_norm_train_dataX)\n",
        "print(\"standard : \")\n",
        "print(standard_norm_train_dataX)"
      ],
      "execution_count": null,
      "outputs": [
        {
          "output_type": "stream",
          "name": "stdout",
          "text": [
            "min max : \n",
            "         CRIM    ZN     INDUS  CHAS  ...       TAX   PTRATIO         B     LSTAT\n",
            "0    0.000000  0.18  0.067815   0.0  ...  0.208015  0.287234  1.000000  0.089680\n",
            "1    0.000236  0.00  0.242302   0.0  ...  0.104962  0.553191  1.000000  0.204470\n",
            "2    0.000236  0.00  0.242302   0.0  ...  0.104962  0.553191  0.989737  0.063466\n",
            "3    0.000293  0.00  0.063050   0.0  ...  0.066794  0.648936  0.994276  0.033389\n",
            "4    0.000705  0.00  0.063050   0.0  ...  0.066794  0.648936  1.000000  0.099338\n",
            "..        ...   ...       ...   ...  ...       ...       ...       ...       ...\n",
            "501  0.000633  0.00  0.420455   0.0  ...  0.164122  0.893617  0.987619  0.219095\n",
            "502  0.000438  0.00  0.420455   0.0  ...  0.164122  0.893617  1.000000  0.202815\n",
            "503  0.000612  0.00  0.420455   0.0  ...  0.164122  0.893617  1.000000  0.107892\n",
            "504  0.001161  0.00  0.420455   0.0  ...  0.164122  0.893617  0.991301  0.131071\n",
            "505  0.000462  0.00  0.420455   0.0  ...  0.164122  0.893617  1.000000  0.169702\n",
            "\n",
            "[506 rows x 13 columns]\n",
            "standard : \n",
            "         CRIM        ZN     INDUS  ...   PTRATIO         B     LSTAT\n",
            "0   -0.419367  0.284548 -1.286636  ... -1.457558  0.440616 -1.074499\n",
            "1   -0.416927 -0.487240 -0.592794  ... -0.302794  0.440616 -0.491953\n",
            "2   -0.416929 -0.487240 -0.592794  ... -0.302794  0.396035 -1.207532\n",
            "3   -0.416338 -0.487240 -1.305586  ...  0.112920  0.415751 -1.360171\n",
            "4   -0.412074 -0.487240 -1.305586  ...  0.112920  0.440616 -1.025487\n",
            "..        ...       ...       ...  ...       ...       ...       ...\n",
            "501 -0.412820 -0.487240  0.115624  ...  1.175303  0.386834 -0.417734\n",
            "502 -0.414839 -0.487240  0.115624  ...  1.175303  0.440616 -0.500355\n",
            "503 -0.413038 -0.487240  0.115624  ...  1.175303  0.440616 -0.982076\n",
            "504 -0.407361 -0.487240  0.115624  ...  1.175303  0.402826 -0.864446\n",
            "505 -0.414590 -0.487240  0.115624  ...  1.175303  0.440616 -0.668397\n",
            "\n",
            "[506 rows x 13 columns]\n"
          ]
        }
      ]
    },
    {
      "cell_type": "code",
      "metadata": {
        "id": "_OHXRHD-iDqx"
      },
      "source": [
        "data_columns = []\n",
        "for i in X.columns :\n",
        "  data_columns.append(i)\n",
        "  "
      ],
      "execution_count": null,
      "outputs": []
    },
    {
      "cell_type": "code",
      "metadata": {
        "colab": {
          "base_uri": "https://localhost:8080/"
        },
        "id": "FPY3ikgWjEbw",
        "outputId": "4e1ce5a0-cdb0-48d5-9423-30ec7ac3b3ab"
      },
      "source": [
        "data_columns"
      ],
      "execution_count": null,
      "outputs": [
        {
          "output_type": "execute_result",
          "data": {
            "text/plain": [
              "['CRIM',\n",
              " 'ZN',\n",
              " 'INDUS',\n",
              " 'CHAS',\n",
              " 'NOX',\n",
              " 'RM',\n",
              " 'AGE',\n",
              " 'DIS',\n",
              " 'RAD',\n",
              " 'TAX',\n",
              " 'PTRATIO',\n",
              " 'B',\n",
              " 'LSTAT']"
            ]
          },
          "metadata": {},
          "execution_count": 23
        }
      ]
    },
    {
      "cell_type": "code",
      "metadata": {
        "id": "Jr6pQYLjhmlY"
      },
      "source": [
        "## 데이터 분포도 확인하기.\n",
        "sns.pairplot(dataset[data_columns], diag_kind=\"kde\")\n",
        "plt.show()\n"
      ],
      "execution_count": null,
      "outputs": []
    },
    {
      "cell_type": "code",
      "metadata": {
        "id": "nHjko8Oak1Dx"
      },
      "source": [
        "#### data 분리\n",
        "X_train1, X_test, Y_train, Y_test = train_test_split(standard_norm_train_dataX, Y,\n",
        "                                                     test_size=0.2, shuffle=False)\n",
        "\n",
        "X_train, X_val, Y_train, Y_val = train_test_split()\n",
        "\n",
        "print(\"x train\")\n",
        "print(X_train)\n",
        "print(\"label train\")\n",
        "print(Y_train)\n",
        "\n",
        "print(\"x val\")\n",
        "print(X_val)\n",
        "print(\"label val\")\n",
        "print(Y_val)\n",
        "\n",
        "print(\"x test\")\n",
        "print(X_test)\n",
        "print(\"label test\")\n",
        "print(Y_test)\n"
      ],
      "execution_count": null,
      "outputs": []
    },
    {
      "cell_type": "code",
      "metadata": {
        "id": "Kpkx4MeEfUUK"
      },
      "source": [
        "tf.random.set_seed(777)"
      ],
      "execution_count": null,
      "outputs": []
    },
    {
      "cell_type": "code",
      "metadata": {
        "id": "SUyKdL1RfWfh"
      },
      "source": [
        "model = tf.keras.Sequential()\n",
        "model.add(tf.keras.layers.Dense(64, input_dim=13, activation='sigmoid'))\n",
        "model.add(tf.keras.layers.Dense(128, activation='sigmoid'))\n",
        "model.add(tf.keras.layers.Dense(256, activation='sigmoid'))\n",
        "model.add(tf.keras.layers.Dense(1))\n",
        "model.summary()"
      ],
      "execution_count": null,
      "outputs": []
    },
    {
      "cell_type": "code",
      "metadata": {
        "id": "bVHOj4_0fZj1"
      },
      "source": [
        "optimizer=tf.keras.optimizers.SGD(learning_rate=0.04) ### 경사 하강법으로 global min 에 찾아가는 최적화 방법 선언.\n",
        "loss=tf.keras.losses.mean_squared_error  ## 예측값 과 정답의 오차값 정의.\n",
        "metrics=tf.keras.metrics.RootMeanSquaredError() ### 학습하면서 평가할 메트릭스 선언언\n",
        "\n",
        "model.compile(loss =loss, optimizer= optimizer, metrics=[metrics])"
      ],
      "execution_count": null,
      "outputs": []
    },
    {
      "cell_type": "code",
      "metadata": {
        "id": "rrcoeQ3ufbi_"
      },
      "source": [
        "esult = model.fit(standard_norm_train_dataX, Y, epochs=2000, batch_size=10)"
      ],
      "execution_count": null,
      "outputs": []
    },
    {
      "cell_type": "code",
      "metadata": {
        "id": "bzVdOkjkfd66"
      },
      "source": [
        "print(esult.history.keys())"
      ],
      "execution_count": null,
      "outputs": []
    },
    {
      "cell_type": "code",
      "metadata": {
        "id": "9TnyFXxPfgqn"
      },
      "source": [
        "### history에서 loss key를 가지는 값들만 추출\n",
        "loss = esult.history['loss']\n",
        "\n",
        "### loss그래프화\n",
        "epochs = range(1, len(loss) + 1)\n",
        "plt.subplot(211)  ## 2x1 개의 그래프 중에 1번째\n",
        "plt.plot(epochs, loss, 'b-', label='Training loss')\n",
        "plt.title('Training loss')\n",
        "plt.xlabel('Epochs')\n",
        "plt.ylabel('Loss')\n",
        "plt.legend()\n",
        "\n",
        "### history에서 root_mean_squared_error key를 가지는 값들만 추출\n",
        "rmse = esult.history['root_mean_squared_error']\n",
        "epochs = range(1, len(rmse) + 1)\n",
        "\n",
        "### mean_absolute_error를 그래프화\n",
        "plt.subplot(212)  ## 2x1 개의 그래프 중에 2번째\n",
        "plt.plot(epochs, rmse, 'r-', label='Training rmse')\n",
        "plt.title('Training rmse')\n",
        "plt.xlabel('Epochs')\n",
        "plt.ylabel('rmse')\n",
        "plt.legend()\n",
        "\n",
        "print(\"\\n Test rmse: %.4f\" % (model.evaluate(standard_norm_train_dataX, Y)[1])) #RMES 는 0에 가까울수록 정답과 예측의 차이가 적다는 뜻 (ex:0이라면 정답)\n",
        "plt.show()"
      ],
      "execution_count": null,
      "outputs": []
    },
    {
      "cell_type": "markdown",
      "metadata": {
        "id": "XCEhNCZk4OPe"
      },
      "source": [
        "### BostonHousing Spilt(Ver.teacher)"
      ]
    },
    {
      "cell_type": "code",
      "metadata": {
        "id": "-yDKhfNA4j6F"
      },
      "source": [
        "from google.colab import files\n",
        "file_uploaded = files.upload()"
      ],
      "execution_count": null,
      "outputs": []
    },
    {
      "cell_type": "code",
      "metadata": {
        "id": "dlBfoq6n4ptv"
      },
      "source": [
        "import pandas as pd\n",
        "data = pd.read_csv('BostonHousing.csv')"
      ],
      "execution_count": null,
      "outputs": []
    },
    {
      "cell_type": "code",
      "metadata": {
        "id": "Xtnpzr0A417Z"
      },
      "source": [
        "x_data = data.copy()\n",
        "\n",
        "ori_y = x_data.pop('MEDV')"
      ],
      "execution_count": null,
      "outputs": []
    },
    {
      "cell_type": "code",
      "metadata": {
        "id": "2O1wrrVk45VQ"
      },
      "source": [
        "from sklearn.model_selection import train_test_split\n",
        "\n",
        "x_train1, x_test, y_train1, y_test = train_test_split(x_data, ori_y, test_size=0.3, shuffle=True)\n",
        "x_train, x_valid, y_train, y_valid = train_test_split(x_train1, y_train1, test_size=0.2, shuffle=True)"
      ],
      "execution_count": null,
      "outputs": []
    },
    {
      "cell_type": "code",
      "metadata": {
        "colab": {
          "base_uri": "https://localhost:8080/"
        },
        "id": "jMHe4qF246Yi",
        "outputId": "79f60fae-4abc-42e6-ba11-38d87278169b"
      },
      "source": [
        "import tensorflow as tf\n",
        "\n",
        "input_layer = tf.keras.layers.Input(shape=(13,))\n",
        "x = tf.keras.layers.Dense(50, activation='sigmoid')(input_layer)\n",
        "x = tf.keras.layers.Dense(100, activation='sigmoid')(x)\n",
        "x = tf.keras.layers.Dense(300, activation='sigmoid')(x)\n",
        "out_layer = tf.keras.layers.Dense(1, activation=None)(x)\n",
        "\n",
        "model = tf.keras.Model(inputs=[input_layer], outputs=[out_layer])\n",
        "model.summary()"
      ],
      "execution_count": null,
      "outputs": [
        {
          "output_type": "stream",
          "name": "stdout",
          "text": [
            "Model: \"model\"\n",
            "_________________________________________________________________\n",
            "Layer (type)                 Output Shape              Param #   \n",
            "=================================================================\n",
            "input_1 (InputLayer)         [(None, 13)]              0         \n",
            "_________________________________________________________________\n",
            "dense (Dense)                (None, 50)                700       \n",
            "_________________________________________________________________\n",
            "dense_1 (Dense)              (None, 100)               5100      \n",
            "_________________________________________________________________\n",
            "dense_2 (Dense)              (None, 300)               30300     \n",
            "_________________________________________________________________\n",
            "dense_3 (Dense)              (None, 1)                 301       \n",
            "=================================================================\n",
            "Total params: 36,401\n",
            "Trainable params: 36,401\n",
            "Non-trainable params: 0\n",
            "_________________________________________________________________\n"
          ]
        }
      ]
    },
    {
      "cell_type": "code",
      "metadata": {
        "colab": {
          "base_uri": "https://localhost:8080/"
        },
        "id": "XfY0BZSf46VU",
        "outputId": "adaa559f-3489-40d9-b8fc-4accae15d107"
      },
      "source": [
        "loss = tf.keras.losses.mean_squared_error\n",
        "optimizer = tf.keras.optimizers.SGD(lr=0.0004)\n",
        "metrics = tf.keras.metrics.RootMeanSquaredError()\n",
        "model.compile(loss = loss,\n",
        "              optimizer = optimizer,\n",
        "              metrics = [metrics])"
      ],
      "execution_count": null,
      "outputs": [
        {
          "output_type": "stream",
          "name": "stderr",
          "text": [
            "/usr/local/lib/python3.7/dist-packages/keras/optimizer_v2/optimizer_v2.py:356: UserWarning: The `lr` argument is deprecated, use `learning_rate` instead.\n",
            "  \"The `lr` argument is deprecated, use `learning_rate` instead.\")\n"
          ]
        }
      ]
    },
    {
      "cell_type": "code",
      "metadata": {
        "colab": {
          "base_uri": "https://localhost:8080/"
        },
        "id": "8p6OSJyu46TA",
        "outputId": "9da527ed-a16f-40c3-e6d3-f9611cd4d76a"
      },
      "source": [
        "result = model.fit(x_train, y_train, epochs = 200, batch_size = 10, validation_data=(x_valid, y_valid))"
      ],
      "execution_count": null,
      "outputs": [
        {
          "output_type": "stream",
          "name": "stdout",
          "text": [
            "Epoch 1/200\n",
            "29/29 [==============================] - 1s 10ms/step - loss: 213.5108 - root_mean_squared_error: 14.6120 - val_loss: 56.5327 - val_root_mean_squared_error: 7.5188\n",
            "Epoch 2/200\n",
            "29/29 [==============================] - 0s 3ms/step - loss: 90.7266 - root_mean_squared_error: 9.5251 - val_loss: 55.8079 - val_root_mean_squared_error: 7.4705\n",
            "Epoch 3/200\n",
            "29/29 [==============================] - 0s 3ms/step - loss: 88.1924 - root_mean_squared_error: 9.3911 - val_loss: 54.2560 - val_root_mean_squared_error: 7.3659\n",
            "Epoch 4/200\n",
            "29/29 [==============================] - 0s 4ms/step - loss: 88.6618 - root_mean_squared_error: 9.4160 - val_loss: 55.6550 - val_root_mean_squared_error: 7.4602\n",
            "Epoch 5/200\n",
            "29/29 [==============================] - 0s 3ms/step - loss: 88.1568 - root_mean_squared_error: 9.3892 - val_loss: 57.1211 - val_root_mean_squared_error: 7.5579\n",
            "Epoch 6/200\n",
            "29/29 [==============================] - 0s 3ms/step - loss: 87.8530 - root_mean_squared_error: 9.3730 - val_loss: 55.0964 - val_root_mean_squared_error: 7.4227\n",
            "Epoch 7/200\n",
            "29/29 [==============================] - 0s 3ms/step - loss: 87.7158 - root_mean_squared_error: 9.3657 - val_loss: 54.3153 - val_root_mean_squared_error: 7.3699\n",
            "Epoch 8/200\n",
            "29/29 [==============================] - 0s 3ms/step - loss: 87.8505 - root_mean_squared_error: 9.3729 - val_loss: 55.4880 - val_root_mean_squared_error: 7.4490\n",
            "Epoch 9/200\n",
            "29/29 [==============================] - 0s 2ms/step - loss: 87.9083 - root_mean_squared_error: 9.3759 - val_loss: 54.0768 - val_root_mean_squared_error: 7.3537\n",
            "Epoch 10/200\n",
            "29/29 [==============================] - 0s 4ms/step - loss: 87.6352 - root_mean_squared_error: 9.3614 - val_loss: 53.7292 - val_root_mean_squared_error: 7.3300\n",
            "Epoch 11/200\n",
            "29/29 [==============================] - 0s 3ms/step - loss: 87.0458 - root_mean_squared_error: 9.3298 - val_loss: 59.2650 - val_root_mean_squared_error: 7.6984\n",
            "Epoch 12/200\n",
            "29/29 [==============================] - 0s 3ms/step - loss: 87.8004 - root_mean_squared_error: 9.3702 - val_loss: 55.8620 - val_root_mean_squared_error: 7.4741\n",
            "Epoch 13/200\n",
            "29/29 [==============================] - 0s 4ms/step - loss: 87.3891 - root_mean_squared_error: 9.3482 - val_loss: 56.8985 - val_root_mean_squared_error: 7.5431\n",
            "Epoch 14/200\n",
            "29/29 [==============================] - 0s 3ms/step - loss: 87.3753 - root_mean_squared_error: 9.3475 - val_loss: 54.7187 - val_root_mean_squared_error: 7.3972\n",
            "Epoch 15/200\n",
            "29/29 [==============================] - 0s 2ms/step - loss: 87.3761 - root_mean_squared_error: 9.3475 - val_loss: 55.1086 - val_root_mean_squared_error: 7.4235\n",
            "Epoch 16/200\n",
            "29/29 [==============================] - 0s 2ms/step - loss: 86.2908 - root_mean_squared_error: 9.2893 - val_loss: 60.2107 - val_root_mean_squared_error: 7.7596\n",
            "Epoch 17/200\n",
            "29/29 [==============================] - 0s 3ms/step - loss: 87.3260 - root_mean_squared_error: 9.3448 - val_loss: 53.8987 - val_root_mean_squared_error: 7.3416\n",
            "Epoch 18/200\n",
            "29/29 [==============================] - 0s 3ms/step - loss: 86.6451 - root_mean_squared_error: 9.3083 - val_loss: 55.7303 - val_root_mean_squared_error: 7.4653\n",
            "Epoch 19/200\n",
            "29/29 [==============================] - 0s 3ms/step - loss: 86.2703 - root_mean_squared_error: 9.2882 - val_loss: 53.0658 - val_root_mean_squared_error: 7.2846\n",
            "Epoch 20/200\n",
            "29/29 [==============================] - 0s 2ms/step - loss: 86.3256 - root_mean_squared_error: 9.2912 - val_loss: 53.5331 - val_root_mean_squared_error: 7.3166\n",
            "Epoch 21/200\n",
            "29/29 [==============================] - 0s 3ms/step - loss: 86.0314 - root_mean_squared_error: 9.2753 - val_loss: 54.8249 - val_root_mean_squared_error: 7.4044\n",
            "Epoch 22/200\n",
            "29/29 [==============================] - 0s 3ms/step - loss: 86.2551 - root_mean_squared_error: 9.2874 - val_loss: 53.8001 - val_root_mean_squared_error: 7.3349\n",
            "Epoch 23/200\n",
            "29/29 [==============================] - 0s 3ms/step - loss: 85.8766 - root_mean_squared_error: 9.2670 - val_loss: 53.5860 - val_root_mean_squared_error: 7.3202\n",
            "Epoch 24/200\n",
            "29/29 [==============================] - 0s 3ms/step - loss: 85.3717 - root_mean_squared_error: 9.2397 - val_loss: 54.6645 - val_root_mean_squared_error: 7.3935\n",
            "Epoch 25/200\n",
            "29/29 [==============================] - 0s 3ms/step - loss: 85.6909 - root_mean_squared_error: 9.2569 - val_loss: 53.1860 - val_root_mean_squared_error: 7.2929\n",
            "Epoch 26/200\n",
            "29/29 [==============================] - 0s 3ms/step - loss: 85.5010 - root_mean_squared_error: 9.2467 - val_loss: 53.8318 - val_root_mean_squared_error: 7.3370\n",
            "Epoch 27/200\n",
            "29/29 [==============================] - 0s 3ms/step - loss: 84.8828 - root_mean_squared_error: 9.2132 - val_loss: 54.7825 - val_root_mean_squared_error: 7.4015\n",
            "Epoch 28/200\n",
            "29/29 [==============================] - 0s 3ms/step - loss: 84.9761 - root_mean_squared_error: 9.2182 - val_loss: 53.5692 - val_root_mean_squared_error: 7.3191\n",
            "Epoch 29/200\n",
            "29/29 [==============================] - 0s 3ms/step - loss: 85.0604 - root_mean_squared_error: 9.2228 - val_loss: 53.0452 - val_root_mean_squared_error: 7.2832\n",
            "Epoch 30/200\n",
            "29/29 [==============================] - 0s 3ms/step - loss: 83.9716 - root_mean_squared_error: 9.1636 - val_loss: 53.8687 - val_root_mean_squared_error: 7.3395\n",
            "Epoch 31/200\n",
            "29/29 [==============================] - 0s 2ms/step - loss: 84.1425 - root_mean_squared_error: 9.1729 - val_loss: 52.8944 - val_root_mean_squared_error: 7.2729\n",
            "Epoch 32/200\n",
            "29/29 [==============================] - 0s 3ms/step - loss: 83.7594 - root_mean_squared_error: 9.1520 - val_loss: 52.8229 - val_root_mean_squared_error: 7.2679\n",
            "Epoch 33/200\n",
            "29/29 [==============================] - 0s 2ms/step - loss: 83.8401 - root_mean_squared_error: 9.1564 - val_loss: 53.3055 - val_root_mean_squared_error: 7.3011\n",
            "Epoch 34/200\n",
            "29/29 [==============================] - 0s 3ms/step - loss: 83.5940 - root_mean_squared_error: 9.1430 - val_loss: 52.1790 - val_root_mean_squared_error: 7.2235\n",
            "Epoch 35/200\n",
            "29/29 [==============================] - 0s 3ms/step - loss: 83.5370 - root_mean_squared_error: 9.1399 - val_loss: 53.3152 - val_root_mean_squared_error: 7.3017\n",
            "Epoch 36/200\n",
            "29/29 [==============================] - 0s 3ms/step - loss: 82.8360 - root_mean_squared_error: 9.1014 - val_loss: 51.7731 - val_root_mean_squared_error: 7.1954\n",
            "Epoch 37/200\n",
            "29/29 [==============================] - 0s 2ms/step - loss: 82.8848 - root_mean_squared_error: 9.1041 - val_loss: 53.0646 - val_root_mean_squared_error: 7.2845\n",
            "Epoch 38/200\n",
            "29/29 [==============================] - 0s 3ms/step - loss: 82.2940 - root_mean_squared_error: 9.0716 - val_loss: 52.8423 - val_root_mean_squared_error: 7.2693\n",
            "Epoch 39/200\n",
            "29/29 [==============================] - 0s 2ms/step - loss: 82.2719 - root_mean_squared_error: 9.0704 - val_loss: 51.7024 - val_root_mean_squared_error: 7.1904\n",
            "Epoch 40/200\n",
            "29/29 [==============================] - 0s 3ms/step - loss: 82.0649 - root_mean_squared_error: 9.0590 - val_loss: 51.7545 - val_root_mean_squared_error: 7.1941\n",
            "Epoch 41/200\n",
            "29/29 [==============================] - 0s 3ms/step - loss: 81.3096 - root_mean_squared_error: 9.0172 - val_loss: 51.1069 - val_root_mean_squared_error: 7.1489\n",
            "Epoch 42/200\n",
            "29/29 [==============================] - 0s 2ms/step - loss: 81.1431 - root_mean_squared_error: 9.0079 - val_loss: 53.4462 - val_root_mean_squared_error: 7.3107\n",
            "Epoch 43/200\n",
            "29/29 [==============================] - 0s 2ms/step - loss: 81.1704 - root_mean_squared_error: 9.0095 - val_loss: 54.5429 - val_root_mean_squared_error: 7.3853\n",
            "Epoch 44/200\n",
            "29/29 [==============================] - 0s 3ms/step - loss: 80.6091 - root_mean_squared_error: 8.9783 - val_loss: 52.3476 - val_root_mean_squared_error: 7.2352\n",
            "Epoch 45/200\n",
            "29/29 [==============================] - 0s 3ms/step - loss: 80.0881 - root_mean_squared_error: 8.9492 - val_loss: 53.8875 - val_root_mean_squared_error: 7.3408\n",
            "Epoch 46/200\n",
            "29/29 [==============================] - 0s 2ms/step - loss: 80.1199 - root_mean_squared_error: 8.9510 - val_loss: 52.0778 - val_root_mean_squared_error: 7.2165\n",
            "Epoch 47/200\n",
            "29/29 [==============================] - 0s 3ms/step - loss: 79.8772 - root_mean_squared_error: 8.9374 - val_loss: 51.7318 - val_root_mean_squared_error: 7.1925\n",
            "Epoch 48/200\n",
            "29/29 [==============================] - 0s 2ms/step - loss: 79.9776 - root_mean_squared_error: 8.9430 - val_loss: 50.6825 - val_root_mean_squared_error: 7.1192\n",
            "Epoch 49/200\n",
            "29/29 [==============================] - 0s 3ms/step - loss: 80.3662 - root_mean_squared_error: 8.9647 - val_loss: 49.8709 - val_root_mean_squared_error: 7.0619\n",
            "Epoch 50/200\n",
            "29/29 [==============================] - 0s 3ms/step - loss: 79.8332 - root_mean_squared_error: 8.9349 - val_loss: 51.8355 - val_root_mean_squared_error: 7.1997\n",
            "Epoch 51/200\n",
            "29/29 [==============================] - 0s 3ms/step - loss: 79.9818 - root_mean_squared_error: 8.9433 - val_loss: 52.4865 - val_root_mean_squared_error: 7.2448\n",
            "Epoch 52/200\n",
            "29/29 [==============================] - 0s 3ms/step - loss: 79.5338 - root_mean_squared_error: 8.9182 - val_loss: 49.9701 - val_root_mean_squared_error: 7.0690\n",
            "Epoch 53/200\n",
            "29/29 [==============================] - 0s 2ms/step - loss: 79.0877 - root_mean_squared_error: 8.8931 - val_loss: 50.9090 - val_root_mean_squared_error: 7.1351\n",
            "Epoch 54/200\n",
            "29/29 [==============================] - 0s 3ms/step - loss: 78.1121 - root_mean_squared_error: 8.8381 - val_loss: 54.0167 - val_root_mean_squared_error: 7.3496\n",
            "Epoch 55/200\n",
            "29/29 [==============================] - 0s 3ms/step - loss: 78.3907 - root_mean_squared_error: 8.8538 - val_loss: 51.4911 - val_root_mean_squared_error: 7.1757\n",
            "Epoch 56/200\n",
            "29/29 [==============================] - 0s 3ms/step - loss: 78.1404 - root_mean_squared_error: 8.8397 - val_loss: 49.5499 - val_root_mean_squared_error: 7.0392\n",
            "Epoch 57/200\n",
            "29/29 [==============================] - 0s 3ms/step - loss: 77.4837 - root_mean_squared_error: 8.8025 - val_loss: 49.9996 - val_root_mean_squared_error: 7.0710\n",
            "Epoch 58/200\n",
            "29/29 [==============================] - 0s 2ms/step - loss: 76.5773 - root_mean_squared_error: 8.7508 - val_loss: 48.5082 - val_root_mean_squared_error: 6.9648\n",
            "Epoch 59/200\n",
            "29/29 [==============================] - 0s 3ms/step - loss: 76.0830 - root_mean_squared_error: 8.7226 - val_loss: 48.6963 - val_root_mean_squared_error: 6.9783\n",
            "Epoch 60/200\n",
            "29/29 [==============================] - 0s 2ms/step - loss: 76.4409 - root_mean_squared_error: 8.7431 - val_loss: 49.6358 - val_root_mean_squared_error: 7.0453\n",
            "Epoch 61/200\n",
            "29/29 [==============================] - 0s 3ms/step - loss: 75.5076 - root_mean_squared_error: 8.6895 - val_loss: 48.8087 - val_root_mean_squared_error: 6.9863\n",
            "Epoch 62/200\n",
            "29/29 [==============================] - 0s 3ms/step - loss: 75.4317 - root_mean_squared_error: 8.6851 - val_loss: 48.4099 - val_root_mean_squared_error: 6.9577\n",
            "Epoch 63/200\n",
            "29/29 [==============================] - 0s 4ms/step - loss: 74.7529 - root_mean_squared_error: 8.6460 - val_loss: 52.1076 - val_root_mean_squared_error: 7.2186\n",
            "Epoch 64/200\n",
            "29/29 [==============================] - 0s 2ms/step - loss: 75.3079 - root_mean_squared_error: 8.6780 - val_loss: 48.7220 - val_root_mean_squared_error: 6.9801\n",
            "Epoch 65/200\n",
            "29/29 [==============================] - 0s 3ms/step - loss: 74.1067 - root_mean_squared_error: 8.6085 - val_loss: 51.9431 - val_root_mean_squared_error: 7.2072\n",
            "Epoch 66/200\n",
            "29/29 [==============================] - 0s 3ms/step - loss: 73.8285 - root_mean_squared_error: 8.5924 - val_loss: 49.2159 - val_root_mean_squared_error: 7.0154\n",
            "Epoch 67/200\n",
            "29/29 [==============================] - 0s 3ms/step - loss: 73.9225 - root_mean_squared_error: 8.5978 - val_loss: 47.4324 - val_root_mean_squared_error: 6.8871\n",
            "Epoch 68/200\n",
            "29/29 [==============================] - 0s 2ms/step - loss: 72.9165 - root_mean_squared_error: 8.5391 - val_loss: 48.0543 - val_root_mean_squared_error: 6.9321\n",
            "Epoch 69/200\n",
            "29/29 [==============================] - 0s 3ms/step - loss: 71.9511 - root_mean_squared_error: 8.4824 - val_loss: 48.9029 - val_root_mean_squared_error: 6.9931\n",
            "Epoch 70/200\n",
            "29/29 [==============================] - 0s 3ms/step - loss: 71.8111 - root_mean_squared_error: 8.4741 - val_loss: 47.1920 - val_root_mean_squared_error: 6.8696\n",
            "Epoch 71/200\n",
            "29/29 [==============================] - 0s 3ms/step - loss: 72.5074 - root_mean_squared_error: 8.5151 - val_loss: 47.9156 - val_root_mean_squared_error: 6.9221\n",
            "Epoch 72/200\n",
            "29/29 [==============================] - 0s 3ms/step - loss: 72.2434 - root_mean_squared_error: 8.4996 - val_loss: 46.8033 - val_root_mean_squared_error: 6.8413\n",
            "Epoch 73/200\n",
            "29/29 [==============================] - 0s 3ms/step - loss: 72.4364 - root_mean_squared_error: 8.5110 - val_loss: 47.0927 - val_root_mean_squared_error: 6.8624\n",
            "Epoch 74/200\n",
            "29/29 [==============================] - 0s 3ms/step - loss: 72.4536 - root_mean_squared_error: 8.5120 - val_loss: 46.2523 - val_root_mean_squared_error: 6.8009\n",
            "Epoch 75/200\n",
            "29/29 [==============================] - 0s 3ms/step - loss: 72.3802 - root_mean_squared_error: 8.5077 - val_loss: 46.4179 - val_root_mean_squared_error: 6.8131\n",
            "Epoch 76/200\n",
            "29/29 [==============================] - 0s 4ms/step - loss: 70.7244 - root_mean_squared_error: 8.4098 - val_loss: 50.6436 - val_root_mean_squared_error: 7.1164\n",
            "Epoch 77/200\n",
            "29/29 [==============================] - 0s 3ms/step - loss: 70.2095 - root_mean_squared_error: 8.3791 - val_loss: 46.2714 - val_root_mean_squared_error: 6.8023\n",
            "Epoch 78/200\n",
            "29/29 [==============================] - 0s 3ms/step - loss: 71.3002 - root_mean_squared_error: 8.4439 - val_loss: 46.5171 - val_root_mean_squared_error: 6.8203\n",
            "Epoch 79/200\n",
            "29/29 [==============================] - 0s 2ms/step - loss: 70.0064 - root_mean_squared_error: 8.3670 - val_loss: 51.6665 - val_root_mean_squared_error: 7.1879\n",
            "Epoch 80/200\n",
            "29/29 [==============================] - 0s 3ms/step - loss: 71.0238 - root_mean_squared_error: 8.4276 - val_loss: 47.1341 - val_root_mean_squared_error: 6.8654\n",
            "Epoch 81/200\n",
            "29/29 [==============================] - 0s 3ms/step - loss: 69.1064 - root_mean_squared_error: 8.3130 - val_loss: 49.4507 - val_root_mean_squared_error: 7.0321\n",
            "Epoch 82/200\n",
            "29/29 [==============================] - 0s 2ms/step - loss: 69.6812 - root_mean_squared_error: 8.3475 - val_loss: 45.9511 - val_root_mean_squared_error: 6.7787\n",
            "Epoch 83/200\n",
            "29/29 [==============================] - 0s 3ms/step - loss: 70.5857 - root_mean_squared_error: 8.4015 - val_loss: 48.5372 - val_root_mean_squared_error: 6.9669\n",
            "Epoch 84/200\n",
            "29/29 [==============================] - 0s 3ms/step - loss: 68.1480 - root_mean_squared_error: 8.2552 - val_loss: 46.2443 - val_root_mean_squared_error: 6.8003\n",
            "Epoch 85/200\n",
            "29/29 [==============================] - 0s 3ms/step - loss: 69.0779 - root_mean_squared_error: 8.3113 - val_loss: 46.8441 - val_root_mean_squared_error: 6.8443\n",
            "Epoch 86/200\n",
            "29/29 [==============================] - 0s 2ms/step - loss: 68.5728 - root_mean_squared_error: 8.2809 - val_loss: 48.0373 - val_root_mean_squared_error: 6.9309\n",
            "Epoch 87/200\n",
            "29/29 [==============================] - 0s 3ms/step - loss: 68.5463 - root_mean_squared_error: 8.2793 - val_loss: 46.9423 - val_root_mean_squared_error: 6.8514\n",
            "Epoch 88/200\n",
            "29/29 [==============================] - 0s 3ms/step - loss: 68.3302 - root_mean_squared_error: 8.2662 - val_loss: 47.2224 - val_root_mean_squared_error: 6.8719\n",
            "Epoch 89/200\n",
            "29/29 [==============================] - 0s 3ms/step - loss: 67.6364 - root_mean_squared_error: 8.2241 - val_loss: 49.2625 - val_root_mean_squared_error: 7.0187\n",
            "Epoch 90/200\n",
            "29/29 [==============================] - 0s 2ms/step - loss: 67.7654 - root_mean_squared_error: 8.2320 - val_loss: 48.4099 - val_root_mean_squared_error: 6.9577\n",
            "Epoch 91/200\n",
            "29/29 [==============================] - 0s 3ms/step - loss: 67.1167 - root_mean_squared_error: 8.1925 - val_loss: 47.6649 - val_root_mean_squared_error: 6.9040\n",
            "Epoch 92/200\n",
            "29/29 [==============================] - 0s 2ms/step - loss: 68.8772 - root_mean_squared_error: 8.2992 - val_loss: 49.7633 - val_root_mean_squared_error: 7.0543\n",
            "Epoch 93/200\n",
            "29/29 [==============================] - 0s 3ms/step - loss: 68.1855 - root_mean_squared_error: 8.2575 - val_loss: 47.4259 - val_root_mean_squared_error: 6.8866\n",
            "Epoch 94/200\n",
            "29/29 [==============================] - 0s 4ms/step - loss: 69.8645 - root_mean_squared_error: 8.3585 - val_loss: 46.6592 - val_root_mean_squared_error: 6.8308\n",
            "Epoch 95/200\n",
            "29/29 [==============================] - 0s 3ms/step - loss: 70.5182 - root_mean_squared_error: 8.3975 - val_loss: 48.4392 - val_root_mean_squared_error: 6.9598\n",
            "Epoch 96/200\n",
            "29/29 [==============================] - 0s 2ms/step - loss: 69.2097 - root_mean_squared_error: 8.3192 - val_loss: 51.0341 - val_root_mean_squared_error: 7.1438\n",
            "Epoch 97/200\n",
            "29/29 [==============================] - 0s 3ms/step - loss: 68.5128 - root_mean_squared_error: 8.2772 - val_loss: 51.0452 - val_root_mean_squared_error: 7.1446\n",
            "Epoch 98/200\n",
            "29/29 [==============================] - 0s 3ms/step - loss: 68.9182 - root_mean_squared_error: 8.3017 - val_loss: 45.0493 - val_root_mean_squared_error: 6.7119\n",
            "Epoch 99/200\n",
            "29/29 [==============================] - 0s 3ms/step - loss: 68.8405 - root_mean_squared_error: 8.2970 - val_loss: 49.3457 - val_root_mean_squared_error: 7.0247\n",
            "Epoch 100/200\n",
            "29/29 [==============================] - 0s 2ms/step - loss: 67.5780 - root_mean_squared_error: 8.2206 - val_loss: 45.4348 - val_root_mean_squared_error: 6.7405\n",
            "Epoch 101/200\n",
            "29/29 [==============================] - 0s 2ms/step - loss: 66.6597 - root_mean_squared_error: 8.1645 - val_loss: 51.0608 - val_root_mean_squared_error: 7.1457\n",
            "Epoch 102/200\n",
            "29/29 [==============================] - 0s 3ms/step - loss: 67.3299 - root_mean_squared_error: 8.2055 - val_loss: 49.0572 - val_root_mean_squared_error: 7.0041\n",
            "Epoch 103/200\n",
            "29/29 [==============================] - 0s 3ms/step - loss: 66.4829 - root_mean_squared_error: 8.1537 - val_loss: 46.3939 - val_root_mean_squared_error: 6.8113\n",
            "Epoch 104/200\n",
            "29/29 [==============================] - 0s 3ms/step - loss: 67.1968 - root_mean_squared_error: 8.1974 - val_loss: 51.2334 - val_root_mean_squared_error: 7.1577\n",
            "Epoch 105/200\n",
            "29/29 [==============================] - 0s 2ms/step - loss: 67.4546 - root_mean_squared_error: 8.2131 - val_loss: 49.6170 - val_root_mean_squared_error: 7.0439\n",
            "Epoch 106/200\n",
            "29/29 [==============================] - 0s 4ms/step - loss: 67.2811 - root_mean_squared_error: 8.2025 - val_loss: 48.3696 - val_root_mean_squared_error: 6.9548\n",
            "Epoch 107/200\n",
            "29/29 [==============================] - 0s 3ms/step - loss: 68.6290 - root_mean_squared_error: 8.2843 - val_loss: 50.1844 - val_root_mean_squared_error: 7.0841\n",
            "Epoch 108/200\n",
            "29/29 [==============================] - 0s 3ms/step - loss: 66.3154 - root_mean_squared_error: 8.1434 - val_loss: 44.7721 - val_root_mean_squared_error: 6.6912\n",
            "Epoch 109/200\n",
            "29/29 [==============================] - 0s 3ms/step - loss: 69.1096 - root_mean_squared_error: 8.3132 - val_loss: 47.9965 - val_root_mean_squared_error: 6.9280\n",
            "Epoch 110/200\n",
            "29/29 [==============================] - 0s 3ms/step - loss: 66.3043 - root_mean_squared_error: 8.1427 - val_loss: 46.3597 - val_root_mean_squared_error: 6.8088\n",
            "Epoch 111/200\n",
            "29/29 [==============================] - 0s 3ms/step - loss: 67.0520 - root_mean_squared_error: 8.1885 - val_loss: 45.0061 - val_root_mean_squared_error: 6.7087\n",
            "Epoch 112/200\n",
            "29/29 [==============================] - 0s 3ms/step - loss: 68.2565 - root_mean_squared_error: 8.2617 - val_loss: 46.6196 - val_root_mean_squared_error: 6.8279\n",
            "Epoch 113/200\n",
            "29/29 [==============================] - 0s 3ms/step - loss: 68.3693 - root_mean_squared_error: 8.2686 - val_loss: 46.7785 - val_root_mean_squared_error: 6.8395\n",
            "Epoch 114/200\n",
            "29/29 [==============================] - 0s 3ms/step - loss: 67.2111 - root_mean_squared_error: 8.1982 - val_loss: 46.6291 - val_root_mean_squared_error: 6.8285\n",
            "Epoch 115/200\n",
            "29/29 [==============================] - 0s 3ms/step - loss: 66.8708 - root_mean_squared_error: 8.1775 - val_loss: 50.3052 - val_root_mean_squared_error: 7.0926\n",
            "Epoch 116/200\n",
            "29/29 [==============================] - 0s 4ms/step - loss: 68.6529 - root_mean_squared_error: 8.2857 - val_loss: 46.9154 - val_root_mean_squared_error: 6.8495\n",
            "Epoch 117/200\n",
            "29/29 [==============================] - 0s 3ms/step - loss: 68.2523 - root_mean_squared_error: 8.2615 - val_loss: 45.6218 - val_root_mean_squared_error: 6.7544\n",
            "Epoch 118/200\n",
            "29/29 [==============================] - 0s 2ms/step - loss: 68.3109 - root_mean_squared_error: 8.2650 - val_loss: 45.5051 - val_root_mean_squared_error: 6.7457\n",
            "Epoch 119/200\n",
            "29/29 [==============================] - 0s 3ms/step - loss: 69.4905 - root_mean_squared_error: 8.3361 - val_loss: 49.0970 - val_root_mean_squared_error: 7.0069\n",
            "Epoch 120/200\n",
            "29/29 [==============================] - 0s 3ms/step - loss: 67.9136 - root_mean_squared_error: 8.2410 - val_loss: 48.3522 - val_root_mean_squared_error: 6.9536\n",
            "Epoch 121/200\n",
            "29/29 [==============================] - 0s 4ms/step - loss: 68.1715 - root_mean_squared_error: 8.2566 - val_loss: 50.5042 - val_root_mean_squared_error: 7.1066\n",
            "Epoch 122/200\n",
            "29/29 [==============================] - 0s 4ms/step - loss: 68.2647 - root_mean_squared_error: 8.2622 - val_loss: 46.1032 - val_root_mean_squared_error: 6.7899\n",
            "Epoch 123/200\n",
            "29/29 [==============================] - 0s 3ms/step - loss: 67.4178 - root_mean_squared_error: 8.2108 - val_loss: 46.3877 - val_root_mean_squared_error: 6.8108\n",
            "Epoch 124/200\n",
            "29/29 [==============================] - 0s 2ms/step - loss: 67.0428 - root_mean_squared_error: 8.1880 - val_loss: 49.1585 - val_root_mean_squared_error: 7.0113\n",
            "Epoch 125/200\n",
            "29/29 [==============================] - 0s 3ms/step - loss: 67.8102 - root_mean_squared_error: 8.2347 - val_loss: 51.3766 - val_root_mean_squared_error: 7.1677\n",
            "Epoch 126/200\n",
            "29/29 [==============================] - 0s 3ms/step - loss: 67.3229 - root_mean_squared_error: 8.2051 - val_loss: 44.9639 - val_root_mean_squared_error: 6.7055\n",
            "Epoch 127/200\n",
            "29/29 [==============================] - 0s 3ms/step - loss: 67.2861 - root_mean_squared_error: 8.2028 - val_loss: 47.8075 - val_root_mean_squared_error: 6.9143\n",
            "Epoch 128/200\n",
            "29/29 [==============================] - 0s 3ms/step - loss: 66.0913 - root_mean_squared_error: 8.1297 - val_loss: 46.4412 - val_root_mean_squared_error: 6.8148\n",
            "Epoch 129/200\n",
            "29/29 [==============================] - 0s 3ms/step - loss: 67.7361 - root_mean_squared_error: 8.2302 - val_loss: 45.4930 - val_root_mean_squared_error: 6.7448\n",
            "Epoch 130/200\n",
            "29/29 [==============================] - 0s 3ms/step - loss: 65.7911 - root_mean_squared_error: 8.1112 - val_loss: 57.1325 - val_root_mean_squared_error: 7.5586\n",
            "Epoch 131/200\n",
            "29/29 [==============================] - 0s 2ms/step - loss: 67.4092 - root_mean_squared_error: 8.2103 - val_loss: 46.9512 - val_root_mean_squared_error: 6.8521\n",
            "Epoch 132/200\n",
            "29/29 [==============================] - 0s 3ms/step - loss: 70.0461 - root_mean_squared_error: 8.3694 - val_loss: 50.9766 - val_root_mean_squared_error: 7.1398\n",
            "Epoch 133/200\n",
            "29/29 [==============================] - 0s 2ms/step - loss: 68.3025 - root_mean_squared_error: 8.2645 - val_loss: 44.7238 - val_root_mean_squared_error: 6.6876\n",
            "Epoch 134/200\n",
            "29/29 [==============================] - 0s 3ms/step - loss: 68.4713 - root_mean_squared_error: 8.2747 - val_loss: 44.2704 - val_root_mean_squared_error: 6.6536\n",
            "Epoch 135/200\n",
            "29/29 [==============================] - 0s 3ms/step - loss: 68.2788 - root_mean_squared_error: 8.2631 - val_loss: 49.5040 - val_root_mean_squared_error: 7.0359\n",
            "Epoch 136/200\n",
            "29/29 [==============================] - 0s 3ms/step - loss: 69.9705 - root_mean_squared_error: 8.3648 - val_loss: 46.5794 - val_root_mean_squared_error: 6.8249\n",
            "Epoch 137/200\n",
            "29/29 [==============================] - 0s 3ms/step - loss: 69.2011 - root_mean_squared_error: 8.3187 - val_loss: 51.8841 - val_root_mean_squared_error: 7.2031\n",
            "Epoch 138/200\n",
            "29/29 [==============================] - 0s 3ms/step - loss: 70.1566 - root_mean_squared_error: 8.3760 - val_loss: 47.0308 - val_root_mean_squared_error: 6.8579\n",
            "Epoch 139/200\n",
            "29/29 [==============================] - 0s 3ms/step - loss: 69.6518 - root_mean_squared_error: 8.3458 - val_loss: 49.6671 - val_root_mean_squared_error: 7.0475\n",
            "Epoch 140/200\n",
            "29/29 [==============================] - 0s 3ms/step - loss: 69.0242 - root_mean_squared_error: 8.3081 - val_loss: 45.8028 - val_root_mean_squared_error: 6.7678\n",
            "Epoch 141/200\n",
            "29/29 [==============================] - 0s 4ms/step - loss: 69.0822 - root_mean_squared_error: 8.3116 - val_loss: 44.3497 - val_root_mean_squared_error: 6.6596\n",
            "Epoch 142/200\n",
            "29/29 [==============================] - 0s 3ms/step - loss: 71.3675 - root_mean_squared_error: 8.4479 - val_loss: 45.3284 - val_root_mean_squared_error: 6.7326\n",
            "Epoch 143/200\n",
            "29/29 [==============================] - 0s 3ms/step - loss: 71.8271 - root_mean_squared_error: 8.4751 - val_loss: 44.3641 - val_root_mean_squared_error: 6.6606\n",
            "Epoch 144/200\n",
            "29/29 [==============================] - 0s 3ms/step - loss: 72.6120 - root_mean_squared_error: 8.5213 - val_loss: 44.3310 - val_root_mean_squared_error: 6.6582\n",
            "Epoch 145/200\n",
            "29/29 [==============================] - 0s 3ms/step - loss: 70.6179 - root_mean_squared_error: 8.4034 - val_loss: 44.7407 - val_root_mean_squared_error: 6.6889\n",
            "Epoch 146/200\n",
            "29/29 [==============================] - 0s 3ms/step - loss: 71.6336 - root_mean_squared_error: 8.4637 - val_loss: 47.2573 - val_root_mean_squared_error: 6.8744\n",
            "Epoch 147/200\n",
            "29/29 [==============================] - 0s 3ms/step - loss: 71.5556 - root_mean_squared_error: 8.4591 - val_loss: 45.2363 - val_root_mean_squared_error: 6.7258\n",
            "Epoch 148/200\n",
            "29/29 [==============================] - 0s 4ms/step - loss: 72.6516 - root_mean_squared_error: 8.5236 - val_loss: 44.8940 - val_root_mean_squared_error: 6.7003\n",
            "Epoch 149/200\n",
            "29/29 [==============================] - 0s 3ms/step - loss: 73.1170 - root_mean_squared_error: 8.5508 - val_loss: 44.3238 - val_root_mean_squared_error: 6.6576\n",
            "Epoch 150/200\n",
            "29/29 [==============================] - 0s 3ms/step - loss: 73.0812 - root_mean_squared_error: 8.5488 - val_loss: 46.1733 - val_root_mean_squared_error: 6.7951\n",
            "Epoch 151/200\n",
            "29/29 [==============================] - 0s 3ms/step - loss: 72.4324 - root_mean_squared_error: 8.5107 - val_loss: 45.2803 - val_root_mean_squared_error: 6.7291\n",
            "Epoch 152/200\n",
            "29/29 [==============================] - 0s 2ms/step - loss: 69.4511 - root_mean_squared_error: 8.3337 - val_loss: 50.0001 - val_root_mean_squared_error: 7.0711\n",
            "Epoch 153/200\n",
            "29/29 [==============================] - 0s 3ms/step - loss: 68.4953 - root_mean_squared_error: 8.2762 - val_loss: 47.3997 - val_root_mean_squared_error: 6.8847\n",
            "Epoch 154/200\n",
            "29/29 [==============================] - 0s 3ms/step - loss: 68.5702 - root_mean_squared_error: 8.2807 - val_loss: 44.8514 - val_root_mean_squared_error: 6.6971\n",
            "Epoch 155/200\n",
            "29/29 [==============================] - 0s 3ms/step - loss: 68.4026 - root_mean_squared_error: 8.2706 - val_loss: 45.0021 - val_root_mean_squared_error: 6.7084\n",
            "Epoch 156/200\n",
            "29/29 [==============================] - 0s 3ms/step - loss: 70.0741 - root_mean_squared_error: 8.3710 - val_loss: 46.2189 - val_root_mean_squared_error: 6.7985\n",
            "Epoch 157/200\n",
            "29/29 [==============================] - 0s 3ms/step - loss: 71.1383 - root_mean_squared_error: 8.4344 - val_loss: 44.1744 - val_root_mean_squared_error: 6.6464\n",
            "Epoch 158/200\n",
            "29/29 [==============================] - 0s 3ms/step - loss: 72.4935 - root_mean_squared_error: 8.5143 - val_loss: 45.7712 - val_root_mean_squared_error: 6.7654\n",
            "Epoch 159/200\n",
            "29/29 [==============================] - 0s 3ms/step - loss: 70.9685 - root_mean_squared_error: 8.4243 - val_loss: 47.7249 - val_root_mean_squared_error: 6.9083\n",
            "Epoch 160/200\n",
            "29/29 [==============================] - 0s 4ms/step - loss: 72.4560 - root_mean_squared_error: 8.5121 - val_loss: 44.4674 - val_root_mean_squared_error: 6.6684\n",
            "Epoch 161/200\n",
            "29/29 [==============================] - 0s 3ms/step - loss: 74.5584 - root_mean_squared_error: 8.6347 - val_loss: 45.7705 - val_root_mean_squared_error: 6.7654\n",
            "Epoch 162/200\n",
            "29/29 [==============================] - 0s 3ms/step - loss: 74.9818 - root_mean_squared_error: 8.6592 - val_loss: 44.8844 - val_root_mean_squared_error: 6.6996\n",
            "Epoch 163/200\n",
            "29/29 [==============================] - 0s 3ms/step - loss: 73.8799 - root_mean_squared_error: 8.5953 - val_loss: 44.5518 - val_root_mean_squared_error: 6.6747\n",
            "Epoch 164/200\n",
            "29/29 [==============================] - 0s 3ms/step - loss: 74.3899 - root_mean_squared_error: 8.6250 - val_loss: 44.0774 - val_root_mean_squared_error: 6.6391\n",
            "Epoch 165/200\n",
            "29/29 [==============================] - 0s 3ms/step - loss: 74.0992 - root_mean_squared_error: 8.6081 - val_loss: 47.0446 - val_root_mean_squared_error: 6.8589\n",
            "Epoch 166/200\n",
            "29/29 [==============================] - 0s 3ms/step - loss: 74.4791 - root_mean_squared_error: 8.6301 - val_loss: 44.1225 - val_root_mean_squared_error: 6.6425\n",
            "Epoch 167/200\n",
            "29/29 [==============================] - 0s 2ms/step - loss: 74.0638 - root_mean_squared_error: 8.6060 - val_loss: 44.4231 - val_root_mean_squared_error: 6.6651\n",
            "Epoch 168/200\n",
            "29/29 [==============================] - 0s 3ms/step - loss: 74.3798 - root_mean_squared_error: 8.6244 - val_loss: 44.1148 - val_root_mean_squared_error: 6.6419\n",
            "Epoch 169/200\n",
            "29/29 [==============================] - 0s 2ms/step - loss: 73.6738 - root_mean_squared_error: 8.5833 - val_loss: 44.2330 - val_root_mean_squared_error: 6.6508\n",
            "Epoch 170/200\n",
            "29/29 [==============================] - 0s 3ms/step - loss: 73.2530 - root_mean_squared_error: 8.5588 - val_loss: 45.4002 - val_root_mean_squared_error: 6.7380\n",
            "Epoch 171/200\n",
            "29/29 [==============================] - 0s 3ms/step - loss: 75.3007 - root_mean_squared_error: 8.6776 - val_loss: 46.4176 - val_root_mean_squared_error: 6.8130\n",
            "Epoch 172/200\n",
            "29/29 [==============================] - 0s 3ms/step - loss: 81.2471 - root_mean_squared_error: 9.0137 - val_loss: 50.2265 - val_root_mean_squared_error: 7.0871\n",
            "Epoch 173/200\n",
            "29/29 [==============================] - 0s 3ms/step - loss: 80.0685 - root_mean_squared_error: 8.9481 - val_loss: 54.6999 - val_root_mean_squared_error: 7.3959\n",
            "Epoch 174/200\n",
            "29/29 [==============================] - 0s 3ms/step - loss: 80.5662 - root_mean_squared_error: 8.9759 - val_loss: 50.4415 - val_root_mean_squared_error: 7.1022\n",
            "Epoch 175/200\n",
            "29/29 [==============================] - 0s 3ms/step - loss: 80.9590 - root_mean_squared_error: 8.9977 - val_loss: 54.1183 - val_root_mean_squared_error: 7.3565\n",
            "Epoch 176/200\n",
            "29/29 [==============================] - 0s 3ms/step - loss: 81.4522 - root_mean_squared_error: 9.0251 - val_loss: 46.3238 - val_root_mean_squared_error: 6.8062\n",
            "Epoch 177/200\n",
            "29/29 [==============================] - 0s 2ms/step - loss: 80.4692 - root_mean_squared_error: 8.9705 - val_loss: 45.8306 - val_root_mean_squared_error: 6.7698\n",
            "Epoch 178/200\n",
            "29/29 [==============================] - 0s 3ms/step - loss: 80.7512 - root_mean_squared_error: 8.9862 - val_loss: 45.5319 - val_root_mean_squared_error: 6.7477\n",
            "Epoch 179/200\n",
            "29/29 [==============================] - 0s 2ms/step - loss: 81.2462 - root_mean_squared_error: 9.0137 - val_loss: 45.7144 - val_root_mean_squared_error: 6.7612\n",
            "Epoch 180/200\n",
            "29/29 [==============================] - 0s 3ms/step - loss: 80.6072 - root_mean_squared_error: 8.9782 - val_loss: 46.6231 - val_root_mean_squared_error: 6.8281\n",
            "Epoch 181/200\n",
            "29/29 [==============================] - 0s 2ms/step - loss: 80.1103 - root_mean_squared_error: 8.9504 - val_loss: 44.6855 - val_root_mean_squared_error: 6.6847\n",
            "Epoch 182/200\n",
            "29/29 [==============================] - 0s 4ms/step - loss: 79.5172 - root_mean_squared_error: 8.9172 - val_loss: 46.8241 - val_root_mean_squared_error: 6.8428\n",
            "Epoch 183/200\n",
            "29/29 [==============================] - 0s 3ms/step - loss: 80.3753 - root_mean_squared_error: 8.9652 - val_loss: 44.9790 - val_root_mean_squared_error: 6.7066\n",
            "Epoch 184/200\n",
            "29/29 [==============================] - 0s 4ms/step - loss: 74.7975 - root_mean_squared_error: 8.6486 - val_loss: 44.9816 - val_root_mean_squared_error: 6.7068\n",
            "Epoch 185/200\n",
            "29/29 [==============================] - 0s 3ms/step - loss: 75.4731 - root_mean_squared_error: 8.6875 - val_loss: 49.0864 - val_root_mean_squared_error: 7.0062\n",
            "Epoch 186/200\n",
            "29/29 [==============================] - 0s 2ms/step - loss: 74.8404 - root_mean_squared_error: 8.6510 - val_loss: 46.6804 - val_root_mean_squared_error: 6.8323\n",
            "Epoch 187/200\n",
            "29/29 [==============================] - 0s 3ms/step - loss: 75.0280 - root_mean_squared_error: 8.6619 - val_loss: 44.8780 - val_root_mean_squared_error: 6.6991\n",
            "Epoch 188/200\n",
            "29/29 [==============================] - 0s 2ms/step - loss: 74.4147 - root_mean_squared_error: 8.6264 - val_loss: 44.1314 - val_root_mean_squared_error: 6.6431\n",
            "Epoch 189/200\n",
            "29/29 [==============================] - 0s 3ms/step - loss: 74.0795 - root_mean_squared_error: 8.6069 - val_loss: 45.6682 - val_root_mean_squared_error: 6.7578\n",
            "Epoch 190/200\n",
            "29/29 [==============================] - 0s 3ms/step - loss: 74.1238 - root_mean_squared_error: 8.6095 - val_loss: 50.3244 - val_root_mean_squared_error: 7.0940\n",
            "Epoch 191/200\n",
            "29/29 [==============================] - 0s 3ms/step - loss: 74.0591 - root_mean_squared_error: 8.6058 - val_loss: 54.4780 - val_root_mean_squared_error: 7.3809\n",
            "Epoch 192/200\n",
            "29/29 [==============================] - 0s 3ms/step - loss: 74.9493 - root_mean_squared_error: 8.6573 - val_loss: 44.3266 - val_root_mean_squared_error: 6.6578\n",
            "Epoch 193/200\n",
            "29/29 [==============================] - 0s 3ms/step - loss: 74.2531 - root_mean_squared_error: 8.6170 - val_loss: 45.9544 - val_root_mean_squared_error: 6.7790\n",
            "Epoch 194/200\n",
            "29/29 [==============================] - 0s 3ms/step - loss: 73.7400 - root_mean_squared_error: 8.5872 - val_loss: 45.7651 - val_root_mean_squared_error: 6.7650\n",
            "Epoch 195/200\n",
            "29/29 [==============================] - 0s 3ms/step - loss: 73.4539 - root_mean_squared_error: 8.5705 - val_loss: 44.1684 - val_root_mean_squared_error: 6.6459\n",
            "Epoch 196/200\n",
            "29/29 [==============================] - 0s 4ms/step - loss: 74.0612 - root_mean_squared_error: 8.6059 - val_loss: 44.2557 - val_root_mean_squared_error: 6.6525\n",
            "Epoch 197/200\n",
            "29/29 [==============================] - 0s 2ms/step - loss: 73.7146 - root_mean_squared_error: 8.5857 - val_loss: 56.1395 - val_root_mean_squared_error: 7.4926\n",
            "Epoch 198/200\n",
            "29/29 [==============================] - 0s 3ms/step - loss: 74.9764 - root_mean_squared_error: 8.6589 - val_loss: 46.1527 - val_root_mean_squared_error: 6.7936\n",
            "Epoch 199/200\n",
            "29/29 [==============================] - 0s 4ms/step - loss: 71.3720 - root_mean_squared_error: 8.4482 - val_loss: 44.8201 - val_root_mean_squared_error: 6.6948\n",
            "Epoch 200/200\n",
            "29/29 [==============================] - 0s 4ms/step - loss: 70.5268 - root_mean_squared_error: 8.3980 - val_loss: 46.4840 - val_root_mean_squared_error: 6.8179\n"
          ]
        }
      ]
    },
    {
      "cell_type": "code",
      "metadata": {
        "colab": {
          "base_uri": "https://localhost:8080/"
        },
        "id": "RRcQ9nM346PT",
        "outputId": "fb1a92d3-0752-408b-da3e-36aa637a39dc"
      },
      "source": [
        "print(result.history.keys())"
      ],
      "execution_count": null,
      "outputs": [
        {
          "output_type": "stream",
          "name": "stdout",
          "text": [
            "dict_keys(['loss', 'root_mean_squared_error', 'val_loss', 'val_root_mean_squared_error'])\n"
          ]
        }
      ]
    },
    {
      "cell_type": "code",
      "metadata": {
        "id": "D8LeUBJ846Lw"
      },
      "source": [
        "loss = result.history['loss']\n",
        "val_loss = result.history['val_loss']"
      ],
      "execution_count": null,
      "outputs": []
    },
    {
      "cell_type": "code",
      "metadata": {
        "colab": {
          "base_uri": "https://localhost:8080/",
          "height": 348
        },
        "id": "LPI8XeE846Cm",
        "outputId": "b180a4e4-bed5-442c-efa5-fe7c98393b62"
      },
      "source": [
        "import matplotlib.pyplot as plt\n",
        "\n",
        "\n",
        "### loss와 val_loss를 그래프화\n",
        "epochs = range(1, len(loss) + 1)\n",
        "plt.subplot(211)  ## 2x1 개의 그래프 중에 1번째\n",
        "plt.plot(epochs, loss, 'b-', label='Training loss')\n",
        "plt.plot(epochs, val_loss, 'r', label='Validation loss')\n",
        "plt.title('Training and validation loss')\n",
        "plt.xlabel('Epochs')\n",
        "plt.ylabel('Loss')\n",
        "plt.legend()\n",
        "\n",
        "### history에서 mean_absolute_error val_mean_absolute_error key를 가지는 값들만 추출\n",
        "rmse = result.history['root_mean_squared_error']\n",
        "val_rmse = result.history['val_root_mean_squared_error']\n",
        "epochs = range(1, len(rmse) + 1)\n",
        "### mean_absolute_error val_mean_absolute_error key를 그래프화\n",
        "plt.subplot(212)  ## 2x1 개의 그래프 중에 2번째\n",
        "plt.plot(epochs, rmse, 'b-', label='Training rmse')\n",
        "plt.plot(epochs, val_rmse, 'r', label='Validation rmse')\n",
        "plt.title('Training and validation rmse')\n",
        "plt.xlabel('Epochs')\n",
        "plt.ylabel('rmse')\n",
        "plt.legend()\n",
        "\n",
        "print(\"\\n Test rmse: %.4f\" % (model.evaluate(x_test, y_test)[1]))\n",
        "\n",
        "plt.show()"
      ],
      "execution_count": null,
      "outputs": [
        {
          "output_type": "stream",
          "name": "stdout",
          "text": [
            "5/5 [==============================] - 0s 2ms/step - loss: 68.3463 - root_mean_squared_error: 8.2672\n",
            "\n",
            " Test rmse: 8.2672\n"
          ]
        },
        {
          "output_type": "display_data",
          "data": {
            "image/png": "[encoded data removed]",
            "text/plain": [
              "<Figure size 432x288 with 2 Axes>"
            ]
          },
          "metadata": {
            "needs_background": "light"
          }
        }
      ]
    },
    {
      "cell_type": "markdown",
      "metadata": {
        "id": "uuD0ci15B5Ce"
      },
      "source": [
        "### One_hot_Encoding"
      ]
    },
    {
      "cell_type": "code",
      "metadata": {
        "id": "YYr7ip0s45qi"
      },
      "source": [
        "import tensorflow as tf\n",
        "import pandas as pd\n",
        "from sklearn.preprocessing import LabelEncoder\n",
        "import numpy as np"
      ],
      "execution_count": null,
      "outputs": []
    },
    {
      "cell_type": "code",
      "metadata": {
        "colab": {
          "resources": {
            "http://localhost:8080/nbextensions/google.colab/files.js": {
              "data": "Ly8gQ29weXJpZ2h0IDIwMTcgR29vZ2xlIExMQwovLwovLyBMaWNlbnNlZCB1bmRlciB0aGUgQXBhY2hlIExpY2Vuc2UsIFZlcnNpb24gMi4wICh0aGUgIkxpY2Vuc2UiKTsKLy8geW91IG1heSBub3QgdXNlIHRoaXMgZmlsZSBleGNlcHQgaW4gY29tcGxpYW5jZSB3aXRoIHRoZSBMaWNlbnNlLgovLyBZb3UgbWF5IG9idGFpbiBhIGNvcHkgb2YgdGhlIExpY2Vuc2UgYXQKLy8KLy8gICAgICBodHRwOi8vd3d3LmFwYWNoZS5vcmcvbGljZW5zZXMvTElDRU5TRS0yLjAKLy8KLy8gVW5sZXNzIHJlcXVpcmVkIGJ5IGFwcGxpY2FibGUgbGF3IG9yIGFncmVlZCB0byBpbiB3cml0aW5nLCBzb2Z0d2FyZQovLyBkaXN0cmlidXRlZCB1bmRlciB0aGUgTGljZW5zZSBpcyBkaXN0cmlidXRlZCBvbiBhbiAiQVMgSVMiIEJBU0lTLAovLyBXSVRIT1VUIFdBUlJBTlRJRVMgT1IgQ09ORElUSU9OUyBPRiBBTlkgS0lORCwgZWl0aGVyIGV4cHJlc3Mgb3IgaW1wbGllZC4KLy8gU2VlIHRoZSBMaWNlbnNlIGZvciB0aGUgc3BlY2lmaWMgbGFuZ3VhZ2UgZ292ZXJuaW5nIHBlcm1pc3Npb25zIGFuZAovLyBsaW1pdGF0aW9ucyB1bmRlciB0aGUgTGljZW5zZS4KCi8qKgogKiBAZmlsZW92ZXJ2aWV3IEhlbHBlcnMgZm9yIGdvb2dsZS5jb2xhYiBQeXRob24gbW9kdWxlLgogKi8KKGZ1bmN0aW9uKHNjb3BlKSB7CmZ1bmN0aW9uIHNwYW4odGV4dCwgc3R5bGVBdHRyaWJ1dGVzID0ge30pIHsKICBjb25zdCBlbGVtZW50ID0gZG9jdW1lbnQuY3JlYXRlRWxlbWVudCgnc3BhbicpOwogIGVsZW1lbnQudGV4dENvbnRlbnQgPSB0ZXh0OwogIGZvciAoY29uc3Qga2V5IG9mIE9iamVjdC5rZXlzKHN0eWxlQXR0cmlidXRlcykpIHsKICAgIGVsZW1lbnQuc3R5bGVba2V5XSA9IHN0eWxlQXR0cmlidXRlc1trZXldOwogIH0KICByZXR1cm4gZWxlbWVudDsKfQoKLy8gTWF4IG51bWJlciBvZiBieXRlcyB3aGljaCB3aWxsIGJlIHVwbG9hZGVkIGF0IGEgdGltZS4KY29uc3QgTUFYX1BBWUxPQURfU0laRSA9IDEwMCAqIDEwMjQ7CgpmdW5jdGlvbiBfdXBsb2FkRmlsZXMoaW5wdXRJZCwgb3V0cHV0SWQpIHsKICBjb25zdCBzdGVwcyA9IHVwbG9hZEZpbGVzU3RlcChpbnB1dElkLCBvdXRwdXRJZCk7CiAgY29uc3Qgb3V0cHV0RWxlbWVudCA9IGRvY3VtZW50LmdldEVsZW1lbnRCeUlkKG91dHB1dElkKTsKICAvLyBDYWNoZSBzdGVwcyBvbiB0aGUgb3V0cHV0RWxlbWVudCB0byBtYWtlIGl0IGF2YWlsYWJsZSBmb3IgdGhlIG5leHQgY2FsbAogIC8vIHRvIHVwbG9hZEZpbGVzQ29udGludWUgZnJvbSBQeXRob24uCiAgb3V0cHV0RWxlbWVudC5zdGVwcyA9IHN0ZXBzOwoKICByZXR1cm4gX3VwbG9hZEZpbGVzQ29udGludWUob3V0cHV0SWQpOwp9CgovLyBUaGlzIGlzIHJvdWdobHkgYW4gYXN5bmMgZ2VuZXJhdG9yIChub3Qgc3VwcG9ydGVkIGluIHRoZSBicm93c2VyIHlldCksCi8vIHdoZXJlIHRoZXJlIGFyZSBtdWx0aXBsZSBhc3luY2hyb25vdXMgc3RlcHMgYW5kIHRoZSBQeXRob24gc2lkZSBpcyBnb2luZwovLyB0byBwb2xsIGZvciBjb21wbGV0aW9uIG9mIGVhY2ggc3RlcC4KLy8gVGhpcyB1c2VzIGEgUHJvbWlzZSB0byBibG9jayB0aGUgcHl0aG9uIHNpZGUgb24gY29tcGxldGlvbiBvZiBlYWNoIHN0ZXAsCi8vIHRoZW4gcGFzc2VzIHRoZSByZXN1bHQgb2YgdGhlIHByZXZpb3VzIHN0ZXAgYXMgdGhlIGlucHV0IHRvIHRoZSBuZXh0IHN0ZXAuCmZ1bmN0aW9uIF91cGxvYWRGaWxlc0NvbnRpbnVlKG91dHB1dElkKSB7CiAgY29uc3Qgb3V0cHV0RWxlbWVudCA9IGRvY3VtZW50LmdldEVsZW1lbnRCeUlkKG91dHB1dElkKTsKICBjb25zdCBzdGVwcyA9IG91dHB1dEVsZW1lbnQuc3RlcHM7CgogIGNvbnN0IG5leHQgPSBzdGVwcy5uZXh0KG91dHB1dEVsZW1lbnQubGFzdFByb21pc2VWYWx1ZSk7CiAgcmV0dXJuIFByb21pc2UucmVzb2x2ZShuZXh0LnZhbHVlLnByb21pc2UpLnRoZW4oKHZhbHVlKSA9PiB7CiAgICAvLyBDYWNoZSB0aGUgbGFzdCBwcm9taXNlIHZhbHVlIHRvIG1ha2UgaXQgYXZhaWxhYmxlIHRvIHRoZSBuZXh0CiAgICAvLyBzdGVwIG9mIHRoZSBnZW5lcmF0b3IuCiAgICBvdXRwdXRFbGVtZW50Lmxhc3RQcm9taXNlVmFsdWUgPSB2YWx1ZTsKICAgIHJldHVybiBuZXh0LnZhbHVlLnJlc3BvbnNlOwogIH0pOwp9CgovKioKICogR2VuZXJhdG9yIGZ1bmN0aW9uIHdoaWNoIGlzIGNhbGxlZCBiZXR3ZWVuIGVhY2ggYXN5bmMgc3RlcCBvZiB0aGUgdXBsb2FkCiAqIHByb2Nlc3MuCiAqIEBwYXJhbSB7c3RyaW5nfSBpbnB1dElkIEVsZW1lbnQgSUQgb2YgdGhlIGlucHV0IGZpbGUgcGlja2VyIGVsZW1lbnQuCiAqIEBwYXJhbSB7c3RyaW5nfSBvdXRwdXRJZCBFbGVtZW50IElEIG9mIHRoZSBvdXRwdXQgZGlzcGxheS4KICogQHJldHVybiB7IUl0ZXJhYmxlPCFPYmplY3Q+fSBJdGVyYWJsZSBvZiBuZXh0IHN0ZXBzLgogKi8KZnVuY3Rpb24qIHVwbG9hZEZpbGVzU3RlcChpbnB1dElkLCBvdXRwdXRJZCkgewogIGNvbnN0IGlucHV0RWxlbWVudCA9IGRvY3VtZW50LmdldEVsZW1lbnRCeUlkKGlucHV0SWQpOwogIGlucHV0RWxlbWVudC5kaXNhYmxlZCA9IGZhbHNlOwoKICBjb25zdCBvdXRwdXRFbGVtZW50ID0gZG9jdW1lbnQuZ2V0RWxlbWVudEJ5SWQob3V0cHV0SWQpOwogIG91dHB1dEVsZW1lbnQuaW5uZXJIVE1MID0gJyc7CgogIGNvbnN0IHBpY2tlZFByb21pc2UgPSBuZXcgUHJvbWlzZSgocmVzb2x2ZSkgPT4gewogICAgaW5wdXRFbGVtZW50LmFkZEV2ZW50TGlzdGVuZXIoJ2NoYW5nZScsIChlKSA9PiB7CiAgICAgIHJlc29sdmUoZS50YXJnZXQuZmlsZXMpOwogICAgfSk7CiAgfSk7CgogIGNvbnN0IGNhbmNlbCA9IGRvY3VtZW50LmNyZWF0ZUVsZW1lbnQoJ2J1dHRvbicpOwogIGlucHV0RWxlbWVudC5wYXJlbnRFbGVtZW50LmFwcGVuZENoaWxkKGNhbmNlbCk7CiAgY2FuY2VsLnRleHRDb250ZW50ID0gJ0NhbmNlbCB1cGxvYWQnOwogIGNvbnN0IGNhbmNlbFByb21pc2UgPSBuZXcgUHJvbWlzZSgocmVzb2x2ZSkgPT4gewogICAgY2FuY2VsLm9uY2xpY2sgPSAoKSA9PiB7CiAgICAgIHJlc29sdmUobnVsbCk7CiAgICB9OwogIH0pOwoKICAvLyBXYWl0IGZvciB0aGUgdXNlciB0byBwaWNrIHRoZSBmaWxlcy4KICBjb25zdCBmaWxlcyA9IHlpZWxkIHsKICAgIHByb21pc2U6IFByb21pc2UucmFjZShbcGlja2VkUHJvbWlzZSwgY2FuY2VsUHJvbWlzZV0pLAogICAgcmVzcG9uc2U6IHsKICAgICAgYWN0aW9uOiAnc3RhcnRpbmcnLAogICAgfQogIH07CgogIGNhbmNlbC5yZW1vdmUoKTsKCiAgLy8gRGlzYWJsZSB0aGUgaW5wdXQgZWxlbWVudCBzaW5jZSBmdXJ0aGVyIHBpY2tzIGFyZSBub3QgYWxsb3dlZC4KICBpbnB1dEVsZW1lbnQuZGlzYWJsZWQgPSB0cnVlOwoKICBpZiAoIWZpbGVzKSB7CiAgICByZXR1cm4gewogICAgICByZXNwb25zZTogewogICAgICAgIGFjdGlvbjogJ2NvbXBsZXRlJywKICAgICAgfQogICAgfTsKICB9CgogIGZvciAoY29uc3QgZmlsZSBvZiBmaWxlcykgewogICAgY29uc3QgbGkgPSBkb2N1bWVudC5jcmVhdGVFbGVtZW50KCdsaScpOwogICAgbGkuYXBwZW5kKHNwYW4oZmlsZS5uYW1lLCB7Zm9udFdlaWdodDogJ2JvbGQnfSkpOwogICAgbGkuYXBwZW5kKHNwYW4oCiAgICAgICAgYCgke2ZpbGUudHlwZSB8fCAnbi9hJ30pIC0gJHtmaWxlLnNpemV9IGJ5dGVzLCBgICsKICAgICAgICBgbGFzdCBtb2RpZmllZDogJHsKICAgICAgICAgICAgZmlsZS5sYXN0TW9kaWZpZWREYXRlID8gZmlsZS5sYXN0TW9kaWZpZWREYXRlLnRvTG9jYWxlRGF0ZVN0cmluZygpIDoKICAgICAgICAgICAgICAgICAgICAgICAgICAgICAgICAgICAgJ24vYSd9IC0gYCkpOwogICAgY29uc3QgcGVyY2VudCA9IHNwYW4oJzAlIGRvbmUnKTsKICAgIGxpLmFwcGVuZENoaWxkKHBlcmNlbnQpOwoKICAgIG91dHB1dEVsZW1lbnQuYXBwZW5kQ2hpbGQobGkpOwoKICAgIGNvbnN0IGZpbGVEYXRhUHJvbWlzZSA9IG5ldyBQcm9taXNlKChyZXNvbHZlKSA9PiB7CiAgICAgIGNvbnN0IHJlYWRlciA9IG5ldyBGaWxlUmVhZGVyKCk7CiAgICAgIHJlYWRlci5vbmxvYWQgPSAoZSkgPT4gewogICAgICAgIHJlc29sdmUoZS50YXJnZXQucmVzdWx0KTsKICAgICAgfTsKICAgICAgcmVhZGVyLnJlYWRBc0FycmF5QnVmZmVyKGZpbGUpOwogICAgfSk7CiAgICAvLyBXYWl0IGZvciB0aGUgZGF0YSB0byBiZSByZWFkeS4KICAgIGxldCBmaWxlRGF0YSA9IHlpZWxkIHsKICAgICAgcHJvbWlzZTogZmlsZURhdGFQcm9taXNlLAogICAgICByZXNwb25zZTogewogICAgICAgIGFjdGlvbjogJ2NvbnRpbnVlJywKICAgICAgfQogICAgfTsKCiAgICAvLyBVc2UgYSBjaHVua2VkIHNlbmRpbmcgdG8gYXZvaWQgbWVzc2FnZSBzaXplIGxpbWl0cy4gU2VlIGIvNjIxMTU2NjAuCiAgICBsZXQgcG9zaXRpb24gPSAwOwogICAgZG8gewogICAgICBjb25zdCBsZW5ndGggPSBNYXRoLm1pbihmaWxlRGF0YS5ieXRlTGVuZ3RoIC0gcG9zaXRpb24sIE1BWF9QQVlMT0FEX1NJWkUpOwogICAgICBjb25zdCBjaHVuayA9IG5ldyBVaW50OEFycmF5KGZpbGVEYXRhLCBwb3NpdGlvbiwgbGVuZ3RoKTsKICAgICAgcG9zaXRpb24gKz0gbGVuZ3RoOwoKICAgICAgY29uc3QgYmFzZTY0ID0gYnRvYShTdHJpbmcuZnJvbUNoYXJDb2RlLmFwcGx5KG51bGwsIGNodW5rKSk7CiAgICAgIHlpZWxkIHsKICAgICAgICByZXNwb25zZTogewogICAgICAgICAgYWN0aW9uOiAnYXBwZW5kJywKICAgICAgICAgIGZpbGU6IGZpbGUubmFtZSwKICAgICAgICAgIGRhdGE6IGJhc2U2NCwKICAgICAgICB9LAogICAgICB9OwoKICAgICAgbGV0IHBlcmNlbnREb25lID0gZmlsZURhdGEuYnl0ZUxlbmd0aCA9PT0gMCA/CiAgICAgICAgICAxMDAgOgogICAgICAgICAgTWF0aC5yb3VuZCgocG9zaXRpb24gLyBmaWxlRGF0YS5ieXRlTGVuZ3RoKSAqIDEwMCk7CiAgICAgIHBlcmNlbnQudGV4dENvbnRlbnQgPSBgJHtwZXJjZW50RG9uZX0lIGRvbmVgOwoKICAgIH0gd2hpbGUgKHBvc2l0aW9uIDwgZmlsZURhdGEuYnl0ZUxlbmd0aCk7CiAgfQoKICAvLyBBbGwgZG9uZS4KICB5aWVsZCB7CiAgICByZXNwb25zZTogewogICAgICBhY3Rpb246ICdjb21wbGV0ZScsCiAgICB9CiAgfTsKfQoKc2NvcGUuZ29vZ2xlID0gc2NvcGUuZ29vZ2xlIHx8IHt9OwpzY29wZS5nb29nbGUuY29sYWIgPSBzY29wZS5nb29nbGUuY29sYWIgfHwge307CnNjb3BlLmdvb2dsZS5jb2xhYi5fZmlsZXMgPSB7CiAgX3VwbG9hZEZpbGVzLAogIF91cGxvYWRGaWxlc0NvbnRpbnVlLAp9Owp9KShzZWxmKTsK",
              "ok": true,
              "headers": [
                [
                  "content-type",
                  "application/javascript"
                ]
              ],
              "status": 200,
              "status_text": ""
            }
          },
          "base_uri": "https://localhost:8080/",
          "height": 76
        },
        "id": "xDkkP-vqCbT3",
        "outputId": "17539d9b-c24e-4f76-9676-3667feaacea2"
      },
      "source": [
        "from google.colab import files\n",
        "file_uploaded = files.upload()"
      ],
      "execution_count": null,
      "outputs": [
        {
          "output_type": "display_data",
          "data": {
            "text/html": [
              "\n",
              "     <input type=\"file\" id=\"files-5143d49d-8c39-49f2-b3cd-de5feb26b731\" name=\"files[]\" multiple disabled\n",
              "        style=\"border:none\" />\n",
              "     <output id=\"result-5143d49d-8c39-49f2-b3cd-de5feb26b731\">\n",
              "      Upload widget is only available when the cell has been executed in the\n",
              "      current browser session. Please rerun this cell to enable.\n",
              "      </output>\n",
              "      <script src=\"/nbextensions/google.colab/files.js\"></script> "
            ],
            "text/plain": [
              "<IPython.core.display.HTML object>"
            ]
          },
          "metadata": {}
        },
        {
          "output_type": "stream",
          "name": "stdout",
          "text": [
            "Saving one_hot_encording_test.csv to one_hot_encording_test (1).csv\n"
          ]
        }
      ]
    },
    {
      "cell_type": "code",
      "metadata": {
        "id": "JlJuFhZ3DQdb"
      },
      "source": [
        "data = pd.read_csv('./one_hot_encording_test.csv', names = [\"length\", \"width\", \"height\", \"volume\", \"class_name\"])"
      ],
      "execution_count": null,
      "outputs": []
    },
    {
      "cell_type": "code",
      "metadata": {
        "colab": {
          "base_uri": "https://localhost:8080/"
        },
        "id": "ddS7T-qEDfrt",
        "outputId": "81601f5f-c492-4639-80bc-106cc7044ad0"
      },
      "source": [
        "x_data = data.copy()\n",
        "y_data = x_data.pop('class_name')\n",
        "\n",
        "print(\"data value : {}\".format(x_data))\n",
        "print(\"data Label : {}\".format(y_data))"
      ],
      "execution_count": null,
      "outputs": [
        {
          "output_type": "stream",
          "name": "stdout",
          "text": [
            "data value :     length  width  height  volume\n",
            "0      5.1    0.5     1.4    0.02\n",
            "1      4.9    0.2     1.4    0.03\n",
            "2      4.7    0.2     1.3    0.04\n",
            "3      4.6    0.1     1.5    0.05\n",
            "4      5.0    0.6     1.4    0.02\n",
            "5      5.4    0.9     1.7    0.03\n",
            "6      4.6    0.4     1.4    0.33\n",
            "7      5.0    0.4     1.5    0.12\n",
            "8      4.4    0.9     1.4    0.12\n",
            "9      3.9    0.1     1.5    0.21\n",
            "10     2.2    0.5     1.4    0.03\n",
            "11     4.2    0.0     1.4    0.02\n",
            "12     5.1    0.2     1.3    0.05\n",
            "13     4.2    0.1     1.5    0.06\n",
            "14     2.0    0.6     1.4    0.07\n",
            "15     4.4    0.9     1.7    0.08\n",
            "16     7.6    0.4     1.4    0.02\n",
            "17     8.0    0.4     1.5    0.09\n",
            "18     6.4    0.9     1.4    0.04\n",
            "19     5.9    0.1     1.5    0.02\n",
            "data Label : 0        car\n",
            "1        car\n",
            "2        car\n",
            "3      truck\n",
            "4      truck\n",
            "5      truck\n",
            "6        bus\n",
            "7     person\n",
            "8     person\n",
            "9        bus\n",
            "10       car\n",
            "11       car\n",
            "12       car\n",
            "13     truck\n",
            "14     truck\n",
            "15     truck\n",
            "16       bus\n",
            "17    person\n",
            "18    person\n",
            "19       bus\n",
            "Name: class_name, dtype: object\n"
          ]
        }
      ]
    },
    {
      "cell_type": "code",
      "metadata": {
        "colab": {
          "base_uri": "https://localhost:8080/"
        },
        "id": "6IXXEXyXElsl",
        "outputId": "4496a812-5fbf-43ac-969e-7cd7e71a6463"
      },
      "source": [
        "# case 1) sklearn\n",
        "# Label Encoder는 독립 변수가 아닌 종속 변수(라벨)에 대해 사용한다. \n",
        "# 문자열이나 정수로된 라벨 값을  0  ~  K−1 까지의 정수로 변환.\n",
        "\n",
        "e = LabelEncoder()\n",
        "e.fit(y_data)\n",
        "print(\"Label Class String : {}\".format(e.classes_))\n",
        "\n",
        "Y = e.transform(y_data)\n",
        "print(\"Label Class int : {}\".format(Y))\n",
        "\n",
        "y_encoded = tf.keras.utils.to_categorical(Y)\n",
        "print(\"case 1 One hot label class : {}\".format(y_encoded))\n",
        "\n",
        "print(np.argmax(y_encoded, axis=1).reshape(-1,1)) \n",
        "print(y_encoded.shape)"
      ],
      "execution_count": null,
      "outputs": [
        {
          "output_type": "stream",
          "name": "stdout",
          "text": [
            "Label Class String : ['bus' 'car' 'person' 'truck']\n",
            "Label Class int : [1 1 1 3 3 3 0 2 2 0 1 1 1 3 3 3 0 2 2 0]\n",
            "case 1 One hot label class : [[0. 1. 0. 0.]\n",
            " [0. 1. 0. 0.]\n",
            " [0. 1. 0. 0.]\n",
            " [0. 0. 0. 1.]\n",
            " [0. 0. 0. 1.]\n",
            " [0. 0. 0. 1.]\n",
            " [1. 0. 0. 0.]\n",
            " [0. 0. 1. 0.]\n",
            " [0. 0. 1. 0.]\n",
            " [1. 0. 0. 0.]\n",
            " [0. 1. 0. 0.]\n",
            " [0. 1. 0. 0.]\n",
            " [0. 1. 0. 0.]\n",
            " [0. 0. 0. 1.]\n",
            " [0. 0. 0. 1.]\n",
            " [0. 0. 0. 1.]\n",
            " [1. 0. 0. 0.]\n",
            " [0. 0. 1. 0.]\n",
            " [0. 0. 1. 0.]\n",
            " [1. 0. 0. 0.]]\n",
            "[[1]\n",
            " [1]\n",
            " [1]\n",
            " [3]\n",
            " [3]\n",
            " [3]\n",
            " [0]\n",
            " [2]\n",
            " [2]\n",
            " [0]\n",
            " [1]\n",
            " [1]\n",
            " [1]\n",
            " [3]\n",
            " [3]\n",
            " [3]\n",
            " [0]\n",
            " [2]\n",
            " [2]\n",
            " [0]]\n",
            "(20, 4)\n"
          ]
        }
      ]
    },
    {
      "cell_type": "code",
      "metadata": {
        "colab": {
          "base_uri": "https://localhost:8080/"
        },
        "id": "m4ZqXnvUIkZ7",
        "outputId": "8a5b2272-7c4f-484c-b74f-2a67cf22a807"
      },
      "source": [
        "# case 2) pandas\n",
        "one_hot_label = pd.get_dummies(y_data)\n",
        "print(\"case2 one_hot_label : \", one_hot_label)\n",
        "print(one_hot_label.shape)"
      ],
      "execution_count": null,
      "outputs": [
        {
          "output_type": "stream",
          "name": "stdout",
          "text": [
            "case2 one_hot_label :      bus  car  person  truck\n",
            "0     0    1       0      0\n",
            "1     0    1       0      0\n",
            "2     0    1       0      0\n",
            "3     0    0       0      1\n",
            "4     0    0       0      1\n",
            "5     0    0       0      1\n",
            "6     1    0       0      0\n",
            "7     0    0       1      0\n",
            "8     0    0       1      0\n",
            "9     1    0       0      0\n",
            "10    0    1       0      0\n",
            "11    0    1       0      0\n",
            "12    0    1       0      0\n",
            "13    0    0       0      1\n",
            "14    0    0       0      1\n",
            "15    0    0       0      1\n",
            "16    1    0       0      0\n",
            "17    0    0       1      0\n",
            "18    0    0       1      0\n",
            "19    1    0       0      0\n",
            "(20, 4)\n"
          ]
        }
      ]
    },
    {
      "cell_type": "markdown",
      "metadata": {
        "id": "USN41GA4InKX"
      },
      "source": [
        "### Iris multi classification"
      ]
    },
    {
      "cell_type": "code",
      "metadata": {
        "id": "on_yshnnYUyY"
      },
      "source": [
        "import tensorflow as tf\n",
        "\n",
        "import matplotlib.pyplot as plt\n",
        "from sklearn.model_selection import train_test_split\n",
        "from sklearn.preprocessing import LabelEncoder\n",
        "\n",
        "import pandas as pd"
      ],
      "execution_count": null,
      "outputs": []
    },
    {
      "cell_type": "code",
      "metadata": {
        "id": "t3DdSiWmYUqw"
      },
      "source": [
        "# csv read\n",
        "data = pd.read_csv('./iris.csv', names = [\"sepal_length\", \"sepal_width\", \"petal_length\", \"petal_width\", \"species\"])"
      ],
      "execution_count": null,
      "outputs": []
    },
    {
      "cell_type": "code",
      "metadata": {
        "id": "n2QMOEeUYUnq"
      },
      "source": [
        "x_data = data.copy()\n",
        "y_data = x_data.pop(\"species\")\n",
        "X = x_data.copy()"
      ],
      "execution_count": null,
      "outputs": []
    },
    {
      "cell_type": "code",
      "metadata": {
        "colab": {
          "base_uri": "https://localhost:8080/"
        },
        "id": "G4hceDSxYUky",
        "outputId": "a800efd4-45ce-464e-d464-2d546141573c"
      },
      "source": [
        "print(y_data)"
      ],
      "execution_count": null,
      "outputs": [
        {
          "output_type": "stream",
          "name": "stdout",
          "text": [
            "0         Iris-setosa\n",
            "1         Iris-setosa\n",
            "2         Iris-setosa\n",
            "3         Iris-setosa\n",
            "4         Iris-setosa\n",
            "            ...      \n",
            "145    Iris-virginica\n",
            "146    Iris-virginica\n",
            "147    Iris-virginica\n",
            "148    Iris-virginica\n",
            "149    Iris-virginica\n",
            "Name: species, Length: 150, dtype: object\n"
          ]
        }
      ]
    },
    {
      "cell_type": "code",
      "metadata": {
        "id": "fwV-GO7iYUil"
      },
      "source": [
        "# 문자열을 숫자로 변환\n",
        "e = LabelEncoder()\n",
        "e.fit(y_data)\n",
        "y = e.transform(y_data)\n",
        "y_encoded = tf.keras.utils.to_categorical(y)"
      ],
      "execution_count": null,
      "outputs": []
    },
    {
      "cell_type": "code",
      "metadata": {
        "id": "daYXWTNPYUf8"
      },
      "source": [
        "# train과 test를 분리\n",
        "x_train1, x_test, y_train1, y_test = train_test_split(X, y_encoded, test_size=0.1, shuffle=True) \n",
        "# train set에서 train과 validation 분리\n",
        "x_train, x_valid, y_train, y_valid = train_test_split(x_train1, y_train1, test_size=0.2, shuffle=True)"
      ],
      "execution_count": null,
      "outputs": []
    },
    {
      "cell_type": "code",
      "metadata": {
        "colab": {
          "base_uri": "https://localhost:8080/"
        },
        "id": "GvsamX9gYUdf",
        "outputId": "ad04d868-dcad-459b-ff50-14a021d5a1f3"
      },
      "source": [
        "print(x_train.shape)\n",
        "print(y_train.shape)"
      ],
      "execution_count": null,
      "outputs": [
        {
          "output_type": "stream",
          "name": "stdout",
          "text": [
            "(108, 4)\n",
            "(108, 3)\n"
          ]
        }
      ]
    },
    {
      "cell_type": "code",
      "metadata": {
        "colab": {
          "base_uri": "https://localhost:8080/"
        },
        "id": "hvGUe0jLYUa5",
        "outputId": "a77b1ac7-49c5-4827-f7e6-2b1d8e4aa67a"
      },
      "source": [
        "input_layer = tf.keras.layers.Input(shape=(4,))\n",
        "x = tf.keras.layers.Dense(16, activation='sigmoid')(input_layer)\n",
        "x = tf.keras.layers.Dense(32, activation='sigmoid')(x)\n",
        "output_layer = tf.keras.layers.Dense(3, activation='softmax')(x)\n",
        "\n",
        "model = tf.keras.models.Model(inputs=[input_layer], outputs = [output_layer])\n",
        "model.summary()"
      ],
      "execution_count": null,
      "outputs": [
        {
          "output_type": "stream",
          "name": "stdout",
          "text": [
            "Model: \"model\"\n",
            "_________________________________________________________________\n",
            "Layer (type)                 Output Shape              Param #   \n",
            "=================================================================\n",
            "input_1 (InputLayer)         [(None, 4)]               0         \n",
            "_________________________________________________________________\n",
            "dense_9 (Dense)              (None, 16)                80        \n",
            "_________________________________________________________________\n",
            "dense_10 (Dense)             (None, 32)                544       \n",
            "_________________________________________________________________\n",
            "dense_11 (Dense)             (None, 3)                 99        \n",
            "=================================================================\n",
            "Total params: 723\n",
            "Trainable params: 723\n",
            "Non-trainable params: 0\n",
            "_________________________________________________________________\n"
          ]
        }
      ]
    },
    {
      "cell_type": "code",
      "metadata": {
        "id": "SAneMumxYUYS"
      },
      "source": [
        "loss = tf.keras.losses.categorical_crossentropy\n",
        "optimizer = tf.keras.optimizers.SGD(learning_rate=0.04)\n",
        "metrics = tf.keras.metrics.categorical_accuracy\n",
        "model.compile(loss=loss, optimizer=optimizer, metrics=[metrics])"
      ],
      "execution_count": null,
      "outputs": []
    },
    {
      "cell_type": "code",
      "metadata": {
        "colab": {
          "base_uri": "https://localhost:8080/"
        },
        "id": "j0PmIie2YUVq",
        "outputId": "8ee4e1eb-a6a5-47a3-e9fd-266a0e0a5124"
      },
      "source": [
        "history = model.fit(x_train, y_train, epochs=200, batch_size=50, validation_data=(x_valid, y_valid))"
      ],
      "execution_count": null,
      "outputs": [
        {
          "output_type": "stream",
          "name": "stdout",
          "text": [
            "Epoch 1/200\n",
            "3/3 [==============================] - 1s 104ms/step - loss: 1.1225 - categorical_accuracy: 0.3333 - val_loss: 1.1248 - val_categorical_accuracy: 0.1481\n",
            "Epoch 2/200\n",
            "3/3 [==============================] - 0s 13ms/step - loss: 1.1216 - categorical_accuracy: 0.1111 - val_loss: 1.1273 - val_categorical_accuracy: 0.2963\n",
            "Epoch 3/200\n",
            "3/3 [==============================] - 0s 11ms/step - loss: 1.1196 - categorical_accuracy: 0.3426 - val_loss: 1.1206 - val_categorical_accuracy: 0.1481\n",
            "Epoch 4/200\n",
            "3/3 [==============================] - 0s 11ms/step - loss: 1.1214 - categorical_accuracy: 0.0926 - val_loss: 1.1192 - val_categorical_accuracy: 0.1481\n",
            "Epoch 5/200\n",
            "3/3 [==============================] - 0s 12ms/step - loss: 1.1197 - categorical_accuracy: 0.2407 - val_loss: 1.1018 - val_categorical_accuracy: 0.4444\n",
            "Epoch 6/200\n",
            "3/3 [==============================] - 0s 11ms/step - loss: 1.1211 - categorical_accuracy: 0.3333 - val_loss: 1.1157 - val_categorical_accuracy: 0.0000e+00\n",
            "Epoch 7/200\n",
            "3/3 [==============================] - 0s 14ms/step - loss: 1.1152 - categorical_accuracy: 0.1204 - val_loss: 1.1185 - val_categorical_accuracy: 0.2222\n",
            "Epoch 8/200\n",
            "3/3 [==============================] - 0s 14ms/step - loss: 1.1126 - categorical_accuracy: 0.2963 - val_loss: 1.1221 - val_categorical_accuracy: 0.2963\n",
            "Epoch 9/200\n",
            "3/3 [==============================] - 0s 11ms/step - loss: 1.1133 - categorical_accuracy: 0.3426 - val_loss: 1.1269 - val_categorical_accuracy: 0.2593\n",
            "Epoch 10/200\n",
            "3/3 [==============================] - 0s 12ms/step - loss: 1.1131 - categorical_accuracy: 0.3241 - val_loss: 1.1296 - val_categorical_accuracy: 0.2593\n",
            "Epoch 11/200\n",
            "3/3 [==============================] - 0s 14ms/step - loss: 1.1155 - categorical_accuracy: 0.3241 - val_loss: 1.1319 - val_categorical_accuracy: 0.2593\n",
            "Epoch 12/200\n",
            "3/3 [==============================] - 0s 12ms/step - loss: 1.1138 - categorical_accuracy: 0.3241 - val_loss: 1.1325 - val_categorical_accuracy: 0.2593\n",
            "Epoch 13/200\n",
            "3/3 [==============================] - 0s 12ms/step - loss: 1.1147 - categorical_accuracy: 0.3241 - val_loss: 1.1202 - val_categorical_accuracy: 0.2593\n",
            "Epoch 14/200\n",
            "3/3 [==============================] - 0s 12ms/step - loss: 1.1099 - categorical_accuracy: 0.3241 - val_loss: 1.1313 - val_categorical_accuracy: 0.2593\n",
            "Epoch 15/200\n",
            "3/3 [==============================] - 0s 11ms/step - loss: 1.1101 - categorical_accuracy: 0.3241 - val_loss: 1.1277 - val_categorical_accuracy: 0.2963\n",
            "Epoch 16/200\n",
            "3/3 [==============================] - 0s 12ms/step - loss: 1.1082 - categorical_accuracy: 0.3426 - val_loss: 1.1263 - val_categorical_accuracy: 0.2963\n",
            "Epoch 17/200\n",
            "3/3 [==============================] - 0s 24ms/step - loss: 1.1072 - categorical_accuracy: 0.3426 - val_loss: 1.1094 - val_categorical_accuracy: 0.2963\n",
            "Epoch 18/200\n",
            "3/3 [==============================] - 0s 11ms/step - loss: 1.1084 - categorical_accuracy: 0.3426 - val_loss: 1.1314 - val_categorical_accuracy: 0.2593\n",
            "Epoch 19/200\n",
            "3/3 [==============================] - 0s 13ms/step - loss: 1.1105 - categorical_accuracy: 0.3519 - val_loss: 1.1263 - val_categorical_accuracy: 0.2963\n",
            "Epoch 20/200\n",
            "3/3 [==============================] - 0s 12ms/step - loss: 1.1078 - categorical_accuracy: 0.3426 - val_loss: 1.1338 - val_categorical_accuracy: 0.2963\n",
            "Epoch 21/200\n",
            "3/3 [==============================] - 0s 11ms/step - loss: 1.1089 - categorical_accuracy: 0.3426 - val_loss: 1.1312 - val_categorical_accuracy: 0.2593\n",
            "Epoch 22/200\n",
            "3/3 [==============================] - 0s 11ms/step - loss: 1.1066 - categorical_accuracy: 0.3241 - val_loss: 1.1354 - val_categorical_accuracy: 0.2963\n",
            "Epoch 23/200\n",
            "3/3 [==============================] - 0s 12ms/step - loss: 1.1091 - categorical_accuracy: 0.3426 - val_loss: 1.1208 - val_categorical_accuracy: 0.2593\n",
            "Epoch 24/200\n",
            "3/3 [==============================] - 0s 13ms/step - loss: 1.1041 - categorical_accuracy: 0.3333 - val_loss: 1.1129 - val_categorical_accuracy: 0.2593\n",
            "Epoch 25/200\n",
            "3/3 [==============================] - 0s 14ms/step - loss: 1.1032 - categorical_accuracy: 0.2778 - val_loss: 1.1233 - val_categorical_accuracy: 0.2593\n",
            "Epoch 26/200\n",
            "3/3 [==============================] - 0s 13ms/step - loss: 1.1054 - categorical_accuracy: 0.3241 - val_loss: 1.1295 - val_categorical_accuracy: 0.2963\n",
            "Epoch 27/200\n",
            "3/3 [==============================] - 0s 12ms/step - loss: 1.1055 - categorical_accuracy: 0.3426 - val_loss: 1.1529 - val_categorical_accuracy: 0.2593\n",
            "Epoch 28/200\n",
            "3/3 [==============================] - 0s 11ms/step - loss: 1.1127 - categorical_accuracy: 0.3241 - val_loss: 1.1350 - val_categorical_accuracy: 0.2593\n",
            "Epoch 29/200\n",
            "3/3 [==============================] - 0s 14ms/step - loss: 1.1044 - categorical_accuracy: 0.3704 - val_loss: 1.1226 - val_categorical_accuracy: 0.2593\n",
            "Epoch 30/200\n",
            "3/3 [==============================] - 0s 13ms/step - loss: 1.1045 - categorical_accuracy: 0.3241 - val_loss: 1.1357 - val_categorical_accuracy: 0.3333\n",
            "Epoch 31/200\n",
            "3/3 [==============================] - 0s 12ms/step - loss: 1.1045 - categorical_accuracy: 0.3611 - val_loss: 1.1291 - val_categorical_accuracy: 0.2593\n",
            "Epoch 32/200\n",
            "3/3 [==============================] - 0s 12ms/step - loss: 1.1036 - categorical_accuracy: 0.3241 - val_loss: 1.1299 - val_categorical_accuracy: 0.2963\n",
            "Epoch 33/200\n",
            "3/3 [==============================] - 0s 11ms/step - loss: 1.1024 - categorical_accuracy: 0.3426 - val_loss: 1.1333 - val_categorical_accuracy: 0.2963\n",
            "Epoch 34/200\n",
            "3/3 [==============================] - 0s 13ms/step - loss: 1.1034 - categorical_accuracy: 0.3426 - val_loss: 1.1345 - val_categorical_accuracy: 0.2963\n",
            "Epoch 35/200\n",
            "3/3 [==============================] - 0s 12ms/step - loss: 1.1037 - categorical_accuracy: 0.3426 - val_loss: 1.1380 - val_categorical_accuracy: 0.2963\n",
            "Epoch 36/200\n",
            "3/3 [==============================] - 0s 11ms/step - loss: 1.1072 - categorical_accuracy: 0.3426 - val_loss: 1.1106 - val_categorical_accuracy: 0.2963\n",
            "Epoch 37/200\n",
            "3/3 [==============================] - 0s 11ms/step - loss: 1.0978 - categorical_accuracy: 0.3426 - val_loss: 1.1078 - val_categorical_accuracy: 0.2963\n",
            "Epoch 38/200\n",
            "3/3 [==============================] - 0s 12ms/step - loss: 1.0979 - categorical_accuracy: 0.3426 - val_loss: 1.1185 - val_categorical_accuracy: 0.2593\n",
            "Epoch 39/200\n",
            "3/3 [==============================] - 0s 11ms/step - loss: 1.0959 - categorical_accuracy: 0.3241 - val_loss: 1.0979 - val_categorical_accuracy: 0.2593\n",
            "Epoch 40/200\n",
            "3/3 [==============================] - 0s 11ms/step - loss: 1.0916 - categorical_accuracy: 0.3333 - val_loss: 1.0935 - val_categorical_accuracy: 0.2593\n",
            "Epoch 41/200\n",
            "3/3 [==============================] - 0s 11ms/step - loss: 1.0945 - categorical_accuracy: 0.3241 - val_loss: 1.1101 - val_categorical_accuracy: 0.2963\n",
            "Epoch 42/200\n",
            "3/3 [==============================] - 0s 13ms/step - loss: 1.0949 - categorical_accuracy: 0.3426 - val_loss: 1.1000 - val_categorical_accuracy: 0.2963\n",
            "Epoch 43/200\n",
            "3/3 [==============================] - 0s 13ms/step - loss: 1.0904 - categorical_accuracy: 0.3426 - val_loss: 1.1006 - val_categorical_accuracy: 0.2963\n",
            "Epoch 44/200\n",
            "3/3 [==============================] - 0s 13ms/step - loss: 1.0895 - categorical_accuracy: 0.3426 - val_loss: 1.0926 - val_categorical_accuracy: 0.2963\n",
            "Epoch 45/200\n",
            "3/3 [==============================] - 0s 14ms/step - loss: 1.0881 - categorical_accuracy: 0.3426 - val_loss: 1.0946 - val_categorical_accuracy: 0.2963\n",
            "Epoch 46/200\n",
            "3/3 [==============================] - 0s 12ms/step - loss: 1.0883 - categorical_accuracy: 0.3426 - val_loss: 1.0901 - val_categorical_accuracy: 0.2963\n",
            "Epoch 47/200\n",
            "3/3 [==============================] - 0s 11ms/step - loss: 1.0915 - categorical_accuracy: 0.3426 - val_loss: 1.0936 - val_categorical_accuracy: 0.2963\n",
            "Epoch 48/200\n",
            "3/3 [==============================] - 0s 12ms/step - loss: 1.0938 - categorical_accuracy: 0.3426 - val_loss: 1.0886 - val_categorical_accuracy: 0.2963\n",
            "Epoch 49/200\n",
            "3/3 [==============================] - 0s 20ms/step - loss: 1.0912 - categorical_accuracy: 0.3426 - val_loss: 1.0959 - val_categorical_accuracy: 0.2963\n",
            "Epoch 50/200\n",
            "3/3 [==============================] - 0s 11ms/step - loss: 1.0924 - categorical_accuracy: 0.3426 - val_loss: 1.0890 - val_categorical_accuracy: 0.2963\n",
            "Epoch 51/200\n",
            "3/3 [==============================] - 0s 12ms/step - loss: 1.0875 - categorical_accuracy: 0.3426 - val_loss: 1.0893 - val_categorical_accuracy: 0.2963\n",
            "Epoch 52/200\n",
            "3/3 [==============================] - 0s 12ms/step - loss: 1.0867 - categorical_accuracy: 0.3426 - val_loss: 1.0838 - val_categorical_accuracy: 0.2963\n",
            "Epoch 53/200\n",
            "3/3 [==============================] - 0s 13ms/step - loss: 1.0842 - categorical_accuracy: 0.3426 - val_loss: 1.0804 - val_categorical_accuracy: 0.7407\n",
            "Epoch 54/200\n",
            "3/3 [==============================] - 0s 12ms/step - loss: 1.0836 - categorical_accuracy: 0.6667 - val_loss: 1.0770 - val_categorical_accuracy: 0.2963\n",
            "Epoch 55/200\n",
            "3/3 [==============================] - 0s 11ms/step - loss: 1.0828 - categorical_accuracy: 0.4630 - val_loss: 1.0750 - val_categorical_accuracy: 0.7407\n",
            "Epoch 56/200\n",
            "3/3 [==============================] - 0s 12ms/step - loss: 1.0822 - categorical_accuracy: 0.6574 - val_loss: 1.0793 - val_categorical_accuracy: 0.2963\n",
            "Epoch 57/200\n",
            "3/3 [==============================] - 0s 14ms/step - loss: 1.0811 - categorical_accuracy: 0.3426 - val_loss: 1.0823 - val_categorical_accuracy: 0.2963\n",
            "Epoch 58/200\n",
            "3/3 [==============================] - 0s 13ms/step - loss: 1.0809 - categorical_accuracy: 0.3426 - val_loss: 1.0846 - val_categorical_accuracy: 0.2963\n",
            "Epoch 59/200\n",
            "3/3 [==============================] - 0s 13ms/step - loss: 1.0810 - categorical_accuracy: 0.3426 - val_loss: 1.0846 - val_categorical_accuracy: 0.2963\n",
            "Epoch 60/200\n",
            "3/3 [==============================] - 0s 12ms/step - loss: 1.0843 - categorical_accuracy: 0.4167 - val_loss: 1.0859 - val_categorical_accuracy: 0.2963\n",
            "Epoch 61/200\n",
            "3/3 [==============================] - 0s 11ms/step - loss: 1.0807 - categorical_accuracy: 0.3426 - val_loss: 1.0956 - val_categorical_accuracy: 0.2593\n",
            "Epoch 62/200\n",
            "3/3 [==============================] - 0s 12ms/step - loss: 1.0809 - categorical_accuracy: 0.3241 - val_loss: 1.0763 - val_categorical_accuracy: 0.8519\n",
            "Epoch 63/200\n",
            "3/3 [==============================] - 0s 11ms/step - loss: 1.0776 - categorical_accuracy: 0.5185 - val_loss: 1.0749 - val_categorical_accuracy: 0.3333\n",
            "Epoch 64/200\n",
            "3/3 [==============================] - 0s 13ms/step - loss: 1.0803 - categorical_accuracy: 0.3611 - val_loss: 1.0672 - val_categorical_accuracy: 0.7407\n",
            "Epoch 65/200\n",
            "3/3 [==============================] - 0s 14ms/step - loss: 1.0743 - categorical_accuracy: 0.6759 - val_loss: 1.0651 - val_categorical_accuracy: 0.7407\n",
            "Epoch 66/200\n",
            "3/3 [==============================] - 0s 12ms/step - loss: 1.0745 - categorical_accuracy: 0.6296 - val_loss: 1.0582 - val_categorical_accuracy: 0.7407\n",
            "Epoch 67/200\n",
            "3/3 [==============================] - 0s 13ms/step - loss: 1.0769 - categorical_accuracy: 0.6481 - val_loss: 1.0641 - val_categorical_accuracy: 0.7407\n",
            "Epoch 68/200\n",
            "3/3 [==============================] - 0s 13ms/step - loss: 1.0745 - categorical_accuracy: 0.6481 - val_loss: 1.0843 - val_categorical_accuracy: 0.2963\n",
            "Epoch 69/200\n",
            "3/3 [==============================] - 0s 14ms/step - loss: 1.0744 - categorical_accuracy: 0.3426 - val_loss: 1.0816 - val_categorical_accuracy: 0.2963\n",
            "Epoch 70/200\n",
            "3/3 [==============================] - 0s 12ms/step - loss: 1.0729 - categorical_accuracy: 0.3426 - val_loss: 1.0655 - val_categorical_accuracy: 0.6296\n",
            "Epoch 71/200\n",
            "3/3 [==============================] - 0s 15ms/step - loss: 1.0698 - categorical_accuracy: 0.4722 - val_loss: 1.0618 - val_categorical_accuracy: 0.7407\n",
            "Epoch 72/200\n",
            "3/3 [==============================] - 0s 13ms/step - loss: 1.0688 - categorical_accuracy: 0.6667 - val_loss: 1.0655 - val_categorical_accuracy: 0.5185\n",
            "Epoch 73/200\n",
            "3/3 [==============================] - 0s 13ms/step - loss: 1.0684 - categorical_accuracy: 0.4074 - val_loss: 1.0616 - val_categorical_accuracy: 0.7407\n",
            "Epoch 74/200\n",
            "3/3 [==============================] - 0s 13ms/step - loss: 1.0675 - categorical_accuracy: 0.6759 - val_loss: 1.0664 - val_categorical_accuracy: 0.7037\n",
            "Epoch 75/200\n",
            "3/3 [==============================] - 0s 11ms/step - loss: 1.0670 - categorical_accuracy: 0.6111 - val_loss: 1.0663 - val_categorical_accuracy: 0.2963\n",
            "Epoch 76/200\n",
            "3/3 [==============================] - 0s 24ms/step - loss: 1.0672 - categorical_accuracy: 0.3426 - val_loss: 1.0489 - val_categorical_accuracy: 0.7407\n",
            "Epoch 77/200\n",
            "3/3 [==============================] - 0s 11ms/step - loss: 1.0689 - categorical_accuracy: 0.6759 - val_loss: 1.0440 - val_categorical_accuracy: 0.7407\n",
            "Epoch 78/200\n",
            "3/3 [==============================] - 0s 17ms/step - loss: 1.0671 - categorical_accuracy: 0.5556 - val_loss: 1.0416 - val_categorical_accuracy: 0.4444\n",
            "Epoch 79/200\n",
            "3/3 [==============================] - 0s 13ms/step - loss: 1.0666 - categorical_accuracy: 0.4167 - val_loss: 1.0566 - val_categorical_accuracy: 0.7037\n",
            "Epoch 80/200\n",
            "3/3 [==============================] - 0s 12ms/step - loss: 1.0652 - categorical_accuracy: 0.6574 - val_loss: 1.0454 - val_categorical_accuracy: 0.7407\n",
            "Epoch 81/200\n",
            "3/3 [==============================] - 0s 11ms/step - loss: 1.0616 - categorical_accuracy: 0.6481 - val_loss: 1.0395 - val_categorical_accuracy: 0.7407\n",
            "Epoch 82/200\n",
            "3/3 [==============================] - 0s 11ms/step - loss: 1.0647 - categorical_accuracy: 0.6481 - val_loss: 1.0356 - val_categorical_accuracy: 0.7037\n",
            "Epoch 83/200\n",
            "3/3 [==============================] - 0s 14ms/step - loss: 1.0631 - categorical_accuracy: 0.6574 - val_loss: 1.0422 - val_categorical_accuracy: 0.7407\n",
            "Epoch 84/200\n",
            "3/3 [==============================] - 0s 16ms/step - loss: 1.0584 - categorical_accuracy: 0.6759 - val_loss: 1.0367 - val_categorical_accuracy: 0.6667\n",
            "Epoch 85/200\n",
            "3/3 [==============================] - 0s 13ms/step - loss: 1.0595 - categorical_accuracy: 0.5926 - val_loss: 1.0299 - val_categorical_accuracy: 0.4444\n",
            "Epoch 86/200\n",
            "3/3 [==============================] - 0s 12ms/step - loss: 1.0612 - categorical_accuracy: 0.3333 - val_loss: 1.0382 - val_categorical_accuracy: 0.4444\n",
            "Epoch 87/200\n",
            "3/3 [==============================] - 0s 12ms/step - loss: 1.0574 - categorical_accuracy: 0.3333 - val_loss: 1.0412 - val_categorical_accuracy: 0.7407\n",
            "Epoch 88/200\n",
            "3/3 [==============================] - 0s 15ms/step - loss: 1.0543 - categorical_accuracy: 0.6759 - val_loss: 1.0455 - val_categorical_accuracy: 0.7407\n",
            "Epoch 89/200\n",
            "3/3 [==============================] - 0s 12ms/step - loss: 1.0554 - categorical_accuracy: 0.6759 - val_loss: 1.0310 - val_categorical_accuracy: 0.7407\n",
            "Epoch 90/200\n",
            "3/3 [==============================] - 0s 11ms/step - loss: 1.0531 - categorical_accuracy: 0.6759 - val_loss: 1.0313 - val_categorical_accuracy: 0.7407\n",
            "Epoch 91/200\n",
            "3/3 [==============================] - 0s 12ms/step - loss: 1.0521 - categorical_accuracy: 0.6759 - val_loss: 1.0351 - val_categorical_accuracy: 0.6296\n",
            "Epoch 92/200\n",
            "3/3 [==============================] - 0s 15ms/step - loss: 1.0519 - categorical_accuracy: 0.6111 - val_loss: 1.0265 - val_categorical_accuracy: 0.7037\n",
            "Epoch 93/200\n",
            "3/3 [==============================] - 0s 13ms/step - loss: 1.0512 - categorical_accuracy: 0.5000 - val_loss: 1.0420 - val_categorical_accuracy: 0.7037\n",
            "Epoch 94/200\n",
            "3/3 [==============================] - 0s 13ms/step - loss: 1.0486 - categorical_accuracy: 0.6574 - val_loss: 1.0415 - val_categorical_accuracy: 0.7407\n",
            "Epoch 95/200\n",
            "3/3 [==============================] - 0s 13ms/step - loss: 1.0463 - categorical_accuracy: 0.6759 - val_loss: 1.0367 - val_categorical_accuracy: 0.8519\n",
            "Epoch 96/200\n",
            "3/3 [==============================] - 0s 12ms/step - loss: 1.0464 - categorical_accuracy: 0.6944 - val_loss: 1.0333 - val_categorical_accuracy: 0.8148\n",
            "Epoch 97/200\n",
            "3/3 [==============================] - 0s 12ms/step - loss: 1.0443 - categorical_accuracy: 0.8426 - val_loss: 1.0290 - val_categorical_accuracy: 0.7407\n",
            "Epoch 98/200\n",
            "3/3 [==============================] - 0s 16ms/step - loss: 1.0442 - categorical_accuracy: 0.7685 - val_loss: 1.0163 - val_categorical_accuracy: 0.7407\n",
            "Epoch 99/200\n",
            "3/3 [==============================] - 0s 11ms/step - loss: 1.0447 - categorical_accuracy: 0.6667 - val_loss: 1.0095 - val_categorical_accuracy: 0.7037\n",
            "Epoch 100/200\n",
            "3/3 [==============================] - 0s 12ms/step - loss: 1.0503 - categorical_accuracy: 0.4259 - val_loss: 1.0208 - val_categorical_accuracy: 0.7407\n",
            "Epoch 101/200\n",
            "3/3 [==============================] - 0s 16ms/step - loss: 1.0401 - categorical_accuracy: 0.6759 - val_loss: 1.0190 - val_categorical_accuracy: 0.7407\n",
            "Epoch 102/200\n",
            "3/3 [==============================] - 0s 14ms/step - loss: 1.0392 - categorical_accuracy: 0.6759 - val_loss: 1.0243 - val_categorical_accuracy: 0.7407\n",
            "Epoch 103/200\n",
            "3/3 [==============================] - 0s 12ms/step - loss: 1.0391 - categorical_accuracy: 0.6759 - val_loss: 1.0215 - val_categorical_accuracy: 0.7407\n",
            "Epoch 104/200\n",
            "3/3 [==============================] - 0s 12ms/step - loss: 1.0438 - categorical_accuracy: 0.6759 - val_loss: 1.0099 - val_categorical_accuracy: 0.7407\n",
            "Epoch 105/200\n",
            "3/3 [==============================] - 0s 13ms/step - loss: 1.0433 - categorical_accuracy: 0.6759 - val_loss: 1.0055 - val_categorical_accuracy: 0.7407\n",
            "Epoch 106/200\n",
            "3/3 [==============================] - 0s 14ms/step - loss: 1.0421 - categorical_accuracy: 0.6759 - val_loss: 0.9987 - val_categorical_accuracy: 0.7407\n",
            "Epoch 107/200\n",
            "3/3 [==============================] - 0s 15ms/step - loss: 1.0436 - categorical_accuracy: 0.6759 - val_loss: 0.9996 - val_categorical_accuracy: 0.7407\n",
            "Epoch 108/200\n",
            "3/3 [==============================] - 0s 12ms/step - loss: 1.0356 - categorical_accuracy: 0.6759 - val_loss: 1.0043 - val_categorical_accuracy: 0.7407\n",
            "Epoch 109/200\n",
            "3/3 [==============================] - 0s 11ms/step - loss: 1.0318 - categorical_accuracy: 0.6759 - val_loss: 0.9989 - val_categorical_accuracy: 0.7407\n",
            "Epoch 110/200\n",
            "3/3 [==============================] - 0s 12ms/step - loss: 1.0297 - categorical_accuracy: 0.6759 - val_loss: 0.9914 - val_categorical_accuracy: 0.7407\n",
            "Epoch 111/200\n",
            "3/3 [==============================] - 0s 13ms/step - loss: 1.0330 - categorical_accuracy: 0.5278 - val_loss: 0.9978 - val_categorical_accuracy: 0.7407\n",
            "Epoch 112/200\n",
            "3/3 [==============================] - 0s 13ms/step - loss: 1.0255 - categorical_accuracy: 0.6759 - val_loss: 0.9975 - val_categorical_accuracy: 0.7407\n",
            "Epoch 113/200\n",
            "3/3 [==============================] - 0s 16ms/step - loss: 1.0240 - categorical_accuracy: 0.6759 - val_loss: 1.0021 - val_categorical_accuracy: 0.7407\n",
            "Epoch 114/200\n",
            "3/3 [==============================] - 0s 12ms/step - loss: 1.0238 - categorical_accuracy: 0.6759 - val_loss: 1.0102 - val_categorical_accuracy: 0.7407\n",
            "Epoch 115/200\n",
            "3/3 [==============================] - 0s 12ms/step - loss: 1.0192 - categorical_accuracy: 0.6759 - val_loss: 1.0029 - val_categorical_accuracy: 0.7407\n",
            "Epoch 116/200\n",
            "3/3 [==============================] - 0s 12ms/step - loss: 1.0182 - categorical_accuracy: 0.6759 - val_loss: 1.0125 - val_categorical_accuracy: 0.8519\n",
            "Epoch 117/200\n",
            "3/3 [==============================] - 0s 14ms/step - loss: 1.0170 - categorical_accuracy: 0.7778 - val_loss: 0.9992 - val_categorical_accuracy: 0.7037\n",
            "Epoch 118/200\n",
            "3/3 [==============================] - 0s 14ms/step - loss: 1.0147 - categorical_accuracy: 0.6574 - val_loss: 0.9986 - val_categorical_accuracy: 0.7407\n",
            "Epoch 119/200\n",
            "3/3 [==============================] - 0s 12ms/step - loss: 1.0135 - categorical_accuracy: 0.6759 - val_loss: 0.9988 - val_categorical_accuracy: 0.7407\n",
            "Epoch 120/200\n",
            "3/3 [==============================] - 0s 14ms/step - loss: 1.0106 - categorical_accuracy: 0.6759 - val_loss: 0.9989 - val_categorical_accuracy: 0.7407\n",
            "Epoch 121/200\n",
            "3/3 [==============================] - 0s 11ms/step - loss: 1.0110 - categorical_accuracy: 0.6759 - val_loss: 0.9976 - val_categorical_accuracy: 0.7407\n",
            "Epoch 122/200\n",
            "3/3 [==============================] - 0s 13ms/step - loss: 1.0081 - categorical_accuracy: 0.6944 - val_loss: 0.9962 - val_categorical_accuracy: 0.7407\n",
            "Epoch 123/200\n",
            "3/3 [==============================] - 0s 13ms/step - loss: 1.0074 - categorical_accuracy: 0.6759 - val_loss: 0.9953 - val_categorical_accuracy: 0.7407\n",
            "Epoch 124/200\n",
            "3/3 [==============================] - 0s 13ms/step - loss: 1.0078 - categorical_accuracy: 0.6759 - val_loss: 0.9696 - val_categorical_accuracy: 0.7407\n",
            "Epoch 125/200\n",
            "3/3 [==============================] - 0s 12ms/step - loss: 1.0038 - categorical_accuracy: 0.6759 - val_loss: 0.9743 - val_categorical_accuracy: 0.7407\n",
            "Epoch 126/200\n",
            "3/3 [==============================] - 0s 13ms/step - loss: 0.9997 - categorical_accuracy: 0.6759 - val_loss: 0.9748 - val_categorical_accuracy: 0.7407\n",
            "Epoch 127/200\n",
            "3/3 [==============================] - 0s 15ms/step - loss: 1.0005 - categorical_accuracy: 0.7315 - val_loss: 0.9689 - val_categorical_accuracy: 0.7407\n",
            "Epoch 128/200\n",
            "3/3 [==============================] - 0s 12ms/step - loss: 0.9959 - categorical_accuracy: 0.6759 - val_loss: 0.9618 - val_categorical_accuracy: 0.7407\n",
            "Epoch 129/200\n",
            "3/3 [==============================] - 0s 14ms/step - loss: 0.9967 - categorical_accuracy: 0.6759 - val_loss: 0.9617 - val_categorical_accuracy: 0.7407\n",
            "Epoch 130/200\n",
            "3/3 [==============================] - 0s 13ms/step - loss: 0.9921 - categorical_accuracy: 0.6852 - val_loss: 0.9645 - val_categorical_accuracy: 0.7407\n",
            "Epoch 131/200\n",
            "3/3 [==============================] - 0s 18ms/step - loss: 0.9908 - categorical_accuracy: 0.6759 - val_loss: 0.9725 - val_categorical_accuracy: 0.7407\n",
            "Epoch 132/200\n",
            "3/3 [==============================] - 0s 17ms/step - loss: 0.9889 - categorical_accuracy: 0.6759 - val_loss: 0.9713 - val_categorical_accuracy: 0.7407\n",
            "Epoch 133/200\n",
            "3/3 [==============================] - 0s 12ms/step - loss: 0.9860 - categorical_accuracy: 0.6759 - val_loss: 0.9629 - val_categorical_accuracy: 0.7407\n",
            "Epoch 134/200\n",
            "3/3 [==============================] - 0s 13ms/step - loss: 0.9834 - categorical_accuracy: 0.6759 - val_loss: 0.9630 - val_categorical_accuracy: 0.7407\n",
            "Epoch 135/200\n",
            "3/3 [==============================] - 0s 14ms/step - loss: 0.9819 - categorical_accuracy: 0.6759 - val_loss: 0.9566 - val_categorical_accuracy: 0.7407\n",
            "Epoch 136/200\n",
            "3/3 [==============================] - 0s 17ms/step - loss: 0.9794 - categorical_accuracy: 0.6759 - val_loss: 0.9631 - val_categorical_accuracy: 0.7407\n",
            "Epoch 137/200\n",
            "3/3 [==============================] - 0s 13ms/step - loss: 0.9783 - categorical_accuracy: 0.6759 - val_loss: 0.9668 - val_categorical_accuracy: 0.7407\n",
            "Epoch 138/200\n",
            "3/3 [==============================] - 0s 13ms/step - loss: 0.9774 - categorical_accuracy: 0.6759 - val_loss: 0.9552 - val_categorical_accuracy: 0.7407\n",
            "Epoch 139/200\n",
            "3/3 [==============================] - 0s 12ms/step - loss: 0.9731 - categorical_accuracy: 0.6759 - val_loss: 0.9531 - val_categorical_accuracy: 0.7407\n",
            "Epoch 140/200\n",
            "3/3 [==============================] - 0s 15ms/step - loss: 0.9699 - categorical_accuracy: 0.6759 - val_loss: 0.9450 - val_categorical_accuracy: 0.7778\n",
            "Epoch 141/200\n",
            "3/3 [==============================] - 0s 12ms/step - loss: 0.9687 - categorical_accuracy: 0.7500 - val_loss: 0.9591 - val_categorical_accuracy: 0.7407\n",
            "Epoch 142/200\n",
            "3/3 [==============================] - 0s 14ms/step - loss: 0.9692 - categorical_accuracy: 0.6759 - val_loss: 0.9688 - val_categorical_accuracy: 0.7407\n",
            "Epoch 143/200\n",
            "3/3 [==============================] - 0s 13ms/step - loss: 0.9716 - categorical_accuracy: 0.6759 - val_loss: 0.9601 - val_categorical_accuracy: 0.8519\n",
            "Epoch 144/200\n",
            "3/3 [==============================] - 0s 13ms/step - loss: 0.9664 - categorical_accuracy: 0.8148 - val_loss: 0.9587 - val_categorical_accuracy: 0.7407\n",
            "Epoch 145/200\n",
            "3/3 [==============================] - 0s 13ms/step - loss: 0.9652 - categorical_accuracy: 0.6759 - val_loss: 0.9356 - val_categorical_accuracy: 0.7407\n",
            "Epoch 146/200\n",
            "3/3 [==============================] - 0s 16ms/step - loss: 0.9571 - categorical_accuracy: 0.6759 - val_loss: 0.9305 - val_categorical_accuracy: 0.7037\n",
            "Epoch 147/200\n",
            "3/3 [==============================] - 0s 11ms/step - loss: 0.9565 - categorical_accuracy: 0.6481 - val_loss: 0.9315 - val_categorical_accuracy: 0.7037\n",
            "Epoch 148/200\n",
            "3/3 [==============================] - 0s 14ms/step - loss: 0.9564 - categorical_accuracy: 0.6574 - val_loss: 0.9191 - val_categorical_accuracy: 0.7037\n",
            "Epoch 149/200\n",
            "3/3 [==============================] - 0s 11ms/step - loss: 0.9527 - categorical_accuracy: 0.6574 - val_loss: 0.9077 - val_categorical_accuracy: 0.8148\n",
            "Epoch 150/200\n",
            "3/3 [==============================] - 0s 12ms/step - loss: 0.9458 - categorical_accuracy: 0.9074 - val_loss: 0.9094 - val_categorical_accuracy: 0.8889\n",
            "Epoch 151/200\n",
            "3/3 [==============================] - 0s 12ms/step - loss: 0.9423 - categorical_accuracy: 0.8611 - val_loss: 0.9075 - val_categorical_accuracy: 0.7407\n",
            "Epoch 152/200\n",
            "3/3 [==============================] - 0s 12ms/step - loss: 0.9380 - categorical_accuracy: 0.6759 - val_loss: 0.8933 - val_categorical_accuracy: 0.7407\n",
            "Epoch 153/200\n",
            "3/3 [==============================] - 0s 11ms/step - loss: 0.9402 - categorical_accuracy: 0.6759 - val_loss: 0.8983 - val_categorical_accuracy: 1.0000\n",
            "Epoch 154/200\n",
            "3/3 [==============================] - 0s 11ms/step - loss: 0.9340 - categorical_accuracy: 0.9259 - val_loss: 0.8944 - val_categorical_accuracy: 0.9259\n",
            "Epoch 155/200\n",
            "3/3 [==============================] - 0s 15ms/step - loss: 0.9303 - categorical_accuracy: 0.9167 - val_loss: 0.8875 - val_categorical_accuracy: 0.7037\n",
            "Epoch 156/200\n",
            "3/3 [==============================] - 0s 12ms/step - loss: 0.9283 - categorical_accuracy: 0.6944 - val_loss: 0.8802 - val_categorical_accuracy: 0.7407\n",
            "Epoch 157/200\n",
            "3/3 [==============================] - 0s 16ms/step - loss: 0.9238 - categorical_accuracy: 0.6759 - val_loss: 0.8804 - val_categorical_accuracy: 0.7407\n",
            "Epoch 158/200\n",
            "3/3 [==============================] - 0s 15ms/step - loss: 0.9236 - categorical_accuracy: 0.6759 - val_loss: 0.8812 - val_categorical_accuracy: 0.7407\n",
            "Epoch 159/200\n",
            "3/3 [==============================] - 0s 14ms/step - loss: 0.9203 - categorical_accuracy: 0.6759 - val_loss: 0.8767 - val_categorical_accuracy: 0.7407\n",
            "Epoch 160/200\n",
            "3/3 [==============================] - 0s 13ms/step - loss: 0.9176 - categorical_accuracy: 0.6759 - val_loss: 0.8646 - val_categorical_accuracy: 0.7407\n",
            "Epoch 161/200\n",
            "3/3 [==============================] - 0s 14ms/step - loss: 0.9122 - categorical_accuracy: 0.6759 - val_loss: 0.8569 - val_categorical_accuracy: 0.7407\n",
            "Epoch 162/200\n",
            "3/3 [==============================] - 0s 14ms/step - loss: 0.9082 - categorical_accuracy: 0.6759 - val_loss: 0.8627 - val_categorical_accuracy: 0.7407\n",
            "Epoch 163/200\n",
            "3/3 [==============================] - 0s 12ms/step - loss: 0.9028 - categorical_accuracy: 0.6759 - val_loss: 0.8664 - val_categorical_accuracy: 0.8519\n",
            "Epoch 164/200\n",
            "3/3 [==============================] - 0s 13ms/step - loss: 0.9000 - categorical_accuracy: 0.9259 - val_loss: 0.8661 - val_categorical_accuracy: 0.7037\n",
            "Epoch 165/200\n",
            "3/3 [==============================] - 0s 15ms/step - loss: 0.8978 - categorical_accuracy: 0.7407 - val_loss: 0.8655 - val_categorical_accuracy: 0.8519\n",
            "Epoch 166/200\n",
            "3/3 [==============================] - 0s 13ms/step - loss: 0.8942 - categorical_accuracy: 0.9074 - val_loss: 0.8547 - val_categorical_accuracy: 0.9259\n",
            "Epoch 167/200\n",
            "3/3 [==============================] - 0s 14ms/step - loss: 0.8913 - categorical_accuracy: 0.9352 - val_loss: 0.8480 - val_categorical_accuracy: 0.7037\n",
            "Epoch 168/200\n",
            "3/3 [==============================] - 0s 12ms/step - loss: 0.8895 - categorical_accuracy: 0.6574 - val_loss: 0.8367 - val_categorical_accuracy: 0.7778\n",
            "Epoch 169/200\n",
            "3/3 [==============================] - 0s 14ms/step - loss: 0.8799 - categorical_accuracy: 0.6944 - val_loss: 0.8341 - val_categorical_accuracy: 0.7407\n",
            "Epoch 170/200\n",
            "3/3 [==============================] - 0s 12ms/step - loss: 0.8763 - categorical_accuracy: 0.6759 - val_loss: 0.8230 - val_categorical_accuracy: 0.7407\n",
            "Epoch 171/200\n",
            "3/3 [==============================] - 0s 12ms/step - loss: 0.8737 - categorical_accuracy: 0.6759 - val_loss: 0.8234 - val_categorical_accuracy: 0.7407\n",
            "Epoch 172/200\n",
            "3/3 [==============================] - 0s 13ms/step - loss: 0.8704 - categorical_accuracy: 0.6759 - val_loss: 0.8173 - val_categorical_accuracy: 0.7407\n",
            "Epoch 173/200\n",
            "3/3 [==============================] - 0s 14ms/step - loss: 0.8674 - categorical_accuracy: 0.6759 - val_loss: 0.8170 - val_categorical_accuracy: 0.7407\n",
            "Epoch 174/200\n",
            "3/3 [==============================] - 0s 13ms/step - loss: 0.8612 - categorical_accuracy: 0.6759 - val_loss: 0.8092 - val_categorical_accuracy: 0.7407\n",
            "Epoch 175/200\n",
            "3/3 [==============================] - 0s 16ms/step - loss: 0.8572 - categorical_accuracy: 0.6759 - val_loss: 0.8050 - val_categorical_accuracy: 0.8148\n",
            "Epoch 176/200\n",
            "3/3 [==============================] - 0s 12ms/step - loss: 0.8538 - categorical_accuracy: 0.8148 - val_loss: 0.8066 - val_categorical_accuracy: 0.7407\n",
            "Epoch 177/200\n",
            "3/3 [==============================] - 0s 12ms/step - loss: 0.8496 - categorical_accuracy: 0.6759 - val_loss: 0.8026 - val_categorical_accuracy: 0.7407\n",
            "Epoch 178/200\n",
            "3/3 [==============================] - 0s 12ms/step - loss: 0.8457 - categorical_accuracy: 0.6759 - val_loss: 0.7945 - val_categorical_accuracy: 0.7407\n",
            "Epoch 179/200\n",
            "3/3 [==============================] - 0s 13ms/step - loss: 0.8411 - categorical_accuracy: 0.6759 - val_loss: 0.7824 - val_categorical_accuracy: 0.7407\n",
            "Epoch 180/200\n",
            "3/3 [==============================] - 0s 14ms/step - loss: 0.8369 - categorical_accuracy: 0.6759 - val_loss: 0.7861 - val_categorical_accuracy: 0.7407\n",
            "Epoch 181/200\n",
            "3/3 [==============================] - 0s 12ms/step - loss: 0.8339 - categorical_accuracy: 0.6759 - val_loss: 0.7833 - val_categorical_accuracy: 0.7407\n",
            "Epoch 182/200\n",
            "3/3 [==============================] - 0s 14ms/step - loss: 0.8284 - categorical_accuracy: 0.6759 - val_loss: 0.7669 - val_categorical_accuracy: 0.7407\n",
            "Epoch 183/200\n",
            "3/3 [==============================] - 0s 13ms/step - loss: 0.8239 - categorical_accuracy: 0.6759 - val_loss: 0.7623 - val_categorical_accuracy: 0.7407\n",
            "Epoch 184/200\n",
            "3/3 [==============================] - 0s 17ms/step - loss: 0.8206 - categorical_accuracy: 0.6759 - val_loss: 0.7590 - val_categorical_accuracy: 0.7407\n",
            "Epoch 185/200\n",
            "3/3 [==============================] - 0s 14ms/step - loss: 0.8150 - categorical_accuracy: 0.6759 - val_loss: 0.7549 - val_categorical_accuracy: 0.8148\n",
            "Epoch 186/200\n",
            "3/3 [==============================] - 0s 14ms/step - loss: 0.8121 - categorical_accuracy: 0.6944 - val_loss: 0.7515 - val_categorical_accuracy: 0.8148\n",
            "Epoch 187/200\n",
            "3/3 [==============================] - 0s 15ms/step - loss: 0.8074 - categorical_accuracy: 0.8241 - val_loss: 0.7453 - val_categorical_accuracy: 0.7778\n",
            "Epoch 188/200\n",
            "3/3 [==============================] - 0s 16ms/step - loss: 0.8032 - categorical_accuracy: 0.6759 - val_loss: 0.7427 - val_categorical_accuracy: 0.7407\n",
            "Epoch 189/200\n",
            "3/3 [==============================] - 0s 17ms/step - loss: 0.7992 - categorical_accuracy: 0.6759 - val_loss: 0.7422 - val_categorical_accuracy: 0.7407\n",
            "Epoch 190/200\n",
            "3/3 [==============================] - 0s 14ms/step - loss: 0.8009 - categorical_accuracy: 0.6759 - val_loss: 0.7294 - val_categorical_accuracy: 0.7407\n",
            "Epoch 191/200\n",
            "3/3 [==============================] - 0s 14ms/step - loss: 0.7922 - categorical_accuracy: 0.6759 - val_loss: 0.7257 - val_categorical_accuracy: 0.7407\n",
            "Epoch 192/200\n",
            "3/3 [==============================] - 0s 21ms/step - loss: 0.7912 - categorical_accuracy: 0.6759 - val_loss: 0.7230 - val_categorical_accuracy: 0.7407\n",
            "Epoch 193/200\n",
            "3/3 [==============================] - 0s 14ms/step - loss: 0.7827 - categorical_accuracy: 0.6759 - val_loss: 0.7242 - val_categorical_accuracy: 0.7407\n",
            "Epoch 194/200\n",
            "3/3 [==============================] - 0s 14ms/step - loss: 0.7793 - categorical_accuracy: 0.6759 - val_loss: 0.7165 - val_categorical_accuracy: 0.7407\n",
            "Epoch 195/200\n",
            "3/3 [==============================] - 0s 17ms/step - loss: 0.7755 - categorical_accuracy: 0.6759 - val_loss: 0.7167 - val_categorical_accuracy: 0.7407\n",
            "Epoch 196/200\n",
            "3/3 [==============================] - 0s 15ms/step - loss: 0.7707 - categorical_accuracy: 0.6759 - val_loss: 0.7105 - val_categorical_accuracy: 0.8148\n",
            "Epoch 197/200\n",
            "3/3 [==============================] - 0s 15ms/step - loss: 0.7653 - categorical_accuracy: 0.7222 - val_loss: 0.7071 - val_categorical_accuracy: 0.8148\n",
            "Epoch 198/200\n",
            "3/3 [==============================] - 0s 14ms/step - loss: 0.7615 - categorical_accuracy: 0.7130 - val_loss: 0.7028 - val_categorical_accuracy: 0.8148\n",
            "Epoch 199/200\n",
            "3/3 [==============================] - 0s 15ms/step - loss: 0.7590 - categorical_accuracy: 0.7037 - val_loss: 0.7042 - val_categorical_accuracy: 0.9630\n",
            "Epoch 200/200\n",
            "3/3 [==============================] - 0s 24ms/step - loss: 0.7559 - categorical_accuracy: 0.9352 - val_loss: 0.6908 - val_categorical_accuracy: 0.7778\n"
          ]
        }
      ]
    },
    {
      "cell_type": "code",
      "metadata": {
        "colab": {
          "base_uri": "https://localhost:8080/"
        },
        "id": "6ZgDm31wYUSy",
        "outputId": "d5958c98-a3e6-4dc2-bf48-ae9293309b4e"
      },
      "source": [
        "print(history.history.keys())"
      ],
      "execution_count": null,
      "outputs": [
        {
          "output_type": "stream",
          "name": "stdout",
          "text": [
            "dict_keys(['loss', 'categorical_accuracy', 'val_loss', 'val_categorical_accuracy'])\n"
          ]
        }
      ]
    },
    {
      "cell_type": "code",
      "metadata": {
        "colab": {
          "base_uri": "https://localhost:8080/",
          "height": 194
        },
        "id": "03x0LIA9YUOn",
        "outputId": "6d73139a-b4e9-468e-c638-aa83edf2ec39"
      },
      "source": [
        "loss = history.history['loss']\n",
        "val_loss = history.history['val_loss']\n",
        "\n",
        "# loss와 val_loss를 그래프\n",
        "epochs = range(1, len(loss)+1)\n",
        "plt.subplot(211)\n",
        "plt.plot(epochs, loss, 'b-', label='Training loss')\n",
        "plt.plot(epochs, val_loss, 'r', label='Validation loss')\n",
        "plt.title('Training and validation loss')\n",
        "plt.xlabel('Epochs')\n",
        "plt.ylabel('Loss')\n",
        "plt.legend()"
      ],
      "execution_count": null,
      "outputs": [
        {
          "output_type": "execute_result",
          "data": {
            "text/plain": [
              "<matplotlib.legend.Legend at 0x7f2b1da62850>"
            ]
          },
          "metadata": {},
          "execution_count": 83
        },
        {
          "output_type": "display_data",
          "data": {
            "image/png": "[encoded data removed]",
            "text/plain": [
              "<Figure size 432x288 with 1 Axes>"
            ]
          },
          "metadata": {
            "needs_background": "light"
          }
        }
      ]
    },
    {
      "cell_type": "code",
      "metadata": {
        "colab": {
          "base_uri": "https://localhost:8080/",
          "height": 194
        },
        "id": "1B2Bk1wcY1ir",
        "outputId": "0c6f9e2f-ce2e-43aa-f47e-4e089c525b09"
      },
      "source": [
        "acc = history.history['categorical_accuracy']\n",
        "val_acc = history.history['val_categorical_accuracy']\n",
        "\n",
        "plt.subplot(212)  ## 2x1 개의 그래프 중에 2번째\n",
        "plt.plot(epochs, acc, 'b-', label='Training acc')\n",
        "plt.plot(epochs, val_acc, 'r', label='Validation acc')\n",
        "plt.title('Training and validation accuracy')\n",
        "plt.xlabel('Epochs')\n",
        "plt.ylabel('Accuracy')\n",
        "plt.legend()"
      ],
      "execution_count": null,
      "outputs": [
        {
          "output_type": "execute_result",
          "data": {
            "text/plain": [
              "<matplotlib.legend.Legend at 0x7f2b1c9e9110>"
            ]
          },
          "metadata": {},
          "execution_count": 84
        },
        {
          "output_type": "display_data",
          "data": {
            "image/png": "[encoded data removed]",
            "text/plain": [
              "<Figure size 432x288 with 1 Axes>"
            ]
          },
          "metadata": {
            "needs_background": "light"
          }
        }
      ]
    },
    {
      "cell_type": "code",
      "metadata": {
        "colab": {
          "base_uri": "https://localhost:8080/"
        },
        "id": "tNHlwU6HY1e3",
        "outputId": "d4057ca1-f439-4c88-b7f9-9b245d700416"
      },
      "source": [
        "print(\"\\n Test Accuracy : %.4f\" %(model.evaluate(x_test, y_test)[1]))"
      ],
      "execution_count": null,
      "outputs": [
        {
          "output_type": "stream",
          "name": "stdout",
          "text": [
            "1/1 [==============================] - 0s 17ms/step - loss: 0.8508 - categorical_accuracy: 0.4667\n",
            "\n",
            " Test Accuracy : 0.4667\n"
          ]
        }
      ]
    },
    {
      "cell_type": "code",
      "metadata": {
        "id": "EENbZ8j5Y1cU"
      },
      "source": [
        "model.save('iris_multi_model.h5')"
      ],
      "execution_count": null,
      "outputs": []
    },
    {
      "cell_type": "markdown",
      "metadata": {
        "id": "Fe6tSFPjY7Cu"
      },
      "source": [
        "### 모델 불러오기"
      ]
    },
    {
      "cell_type": "code",
      "metadata": {
        "id": "nTQpMgWsY1Zh"
      },
      "source": [
        "import tensorflow as tf\n",
        "\n",
        "import matplotlib.pyplot as plt\n",
        "from sklearn.model_selection import train_test_split\n",
        "from sklearn.preprocessing import LabelEncoder\n",
        "\n",
        "import pandas as pd"
      ],
      "execution_count": null,
      "outputs": []
    },
    {
      "cell_type": "code",
      "metadata": {
        "id": "N0rw4tb7Y1TA"
      },
      "source": [
        "# csv read\n",
        "data = pd.read_csv('./iris.csv', names = [\"sepal_length\", \"sepal_width\", \"petal_length\", \"petal_width\", \"species\"])"
      ],
      "execution_count": null,
      "outputs": []
    },
    {
      "cell_type": "code",
      "metadata": {
        "id": "VI-hjj4yY1QL"
      },
      "source": [
        "x_data = data.copy()\n",
        "y_data = x_data.pop(\"species\")\n",
        "X = x_data.copy()"
      ],
      "execution_count": null,
      "outputs": []
    },
    {
      "cell_type": "code",
      "metadata": {
        "id": "R09G8eeYZZsF"
      },
      "source": [
        "# 문자열을 숫자로 변환\n",
        "e = LabelEncoder()\n",
        "e.fit(y_data)\n",
        "y = e.transform(y_data)\n",
        "y_encoded = tf.keras.utils.to_categorical(y)"
      ],
      "execution_count": null,
      "outputs": []
    },
    {
      "cell_type": "code",
      "metadata": {
        "id": "5hLV55D7ZZZy"
      },
      "source": [
        "# train과 test를 분리\n",
        "x_train1, x_test, y_train1, y_test = train_test_split(X, y_encoded, test_size=0.1, shuffle=True) \n",
        "# train set에서 train과 validation 분리\n",
        "x_train, x_valid, y_train, y_valid = train_test_split(x_train1, y_train1, test_size=0.2, shuffle=True)"
      ],
      "execution_count": null,
      "outputs": []
    },
    {
      "cell_type": "code",
      "metadata": {
        "id": "_Uj-v19HZZV1"
      },
      "source": [
        "model_path = \"./{epoch:02d}-{val_loss:.4f}.h5\"\n",
        "\n",
        "model = tf.keras.models.load_model('iris_multi_model.h5')"
      ],
      "execution_count": null,
      "outputs": []
    },
    {
      "cell_type": "code",
      "metadata": {
        "id": "mPEkmKWfZZSm"
      },
      "source": [
        "print('\\n Test Accuracy: %.4f' % (model.evaluate(x_test, y_test)[1]))"
      ],
      "execution_count": null,
      "outputs": []
    },
    {
      "cell_type": "code",
      "metadata": {
        "id": "lTXv-8fAZZOx"
      },
      "source": [
        ""
      ],
      "execution_count": null,
      "outputs": []
    },
    {
      "cell_type": "code",
      "metadata": {
        "id": "drpvSYN9ZY_O"
      },
      "source": [
        ""
      ],
      "execution_count": null,
      "outputs": []
    },
    {
      "cell_type": "markdown",
      "metadata": {
        "id": "SM_nkWUFdFzs"
      },
      "source": [
        "### 모델 중단됐을때, retrain"
      ]
    },
    {
      "cell_type": "code",
      "metadata": {
        "id": "ZGTgkEkQdI0_"
      },
      "source": [
        "# csv read\n",
        "data = pd.read_csv('./iris.csv', names = [\"sepal_length\", \"sepal_width\", \"petal_length\", \"petal_width\", \"species\"])"
      ],
      "execution_count": null,
      "outputs": []
    },
    {
      "cell_type": "code",
      "metadata": {
        "id": "hzzBZZzgdJ7C"
      },
      "source": [
        "x_data = data.copy()\n",
        "y_data = x_data.pop(\"species\")\n",
        "X = x_data.copy()"
      ],
      "execution_count": null,
      "outputs": []
    },
    {
      "cell_type": "code",
      "metadata": {
        "id": "AibmnyqQdJ1O"
      },
      "source": [
        "# 문자열을 숫자로 변환\n",
        "e = LabelEncoder()\n",
        "e.fit(y_data)\n",
        "y = e.transform(y_data)\n",
        "y_encoded = tf.keras.utils.to_categorical(y)"
      ],
      "execution_count": null,
      "outputs": []
    },
    {
      "cell_type": "code",
      "metadata": {
        "id": "9Gg79rI5dJvu"
      },
      "source": [
        "# train과 test를 분리\n",
        "x_train1, x_test, y_train1, y_test = train_test_split(X, y_encoded, test_size=0.1, shuffle=True) \n",
        "# train set에서 train과 validation 분리\n",
        "x_train, x_valid, y_train, y_valid = train_test_split(x_train1, y_train1, test_size=0.2, shuffle=True)"
      ],
      "execution_count": null,
      "outputs": []
    },
    {
      "cell_type": "code",
      "metadata": {
        "id": "rNiNg_CqdJs3"
      },
      "source": [
        "model = tf.keras.models.load_model('iris_multi_model.h5')\n",
        "model.summary()"
      ],
      "execution_count": null,
      "outputs": []
    },
    {
      "cell_type": "code",
      "metadata": {
        "id": "_KtGCzEndJqS"
      },
      "source": [
        "# 모델 컴파일\n",
        "loss=tf.keras.losses.categorical_crossentropy\n",
        "optimizer = tf.keras.optimizers.SGD(learning_rate=0.01)\n",
        "model.compile(loss=loss,\n",
        "             optimizer=optimizer,\n",
        "             metrics=[tf.keras.metrics.categorical_accuracy])"
      ],
      "execution_count": null,
      "outputs": []
    },
    {
      "cell_type": "code",
      "metadata": {
        "id": "UA5FTYxEloPV"
      },
      "source": [
        "modelpath = \"./{epoch:02d}-{val_loss:.4f}.h5\"\n",
        "callback_list = [tf.keras.callbacks.EarlyStopping(monitor='val_loss', patience=20),\n",
        "                 tf.keras.callbacks.ModelCheckpoint(filepath=modelpath, monitor='val_loss', verbose=1, save_best_only=True),\n",
        "                 tf.keras.callbacks.LearningRateScheduler(step_decay, verbose=1)]\n",
        "                  # ModelCheckpoint\n",
        "                  # LearningRateScheduler"
      ],
      "execution_count": null,
      "outputs": []
    },
    {
      "cell_type": "code",
      "metadata": {
        "id": "eZZDEN-ddJnx"
      },
      "source": [
        "result = model.fit(x_train, y_train, epochs=200, batch_size= 50, validation_data = (x_valid, y_valid), callbacks=callback_list)\n",
        "#model.save('iris_multi_model2.h5')"
      ],
      "execution_count": null,
      "outputs": []
    },
    {
      "cell_type": "code",
      "metadata": {
        "id": "GAnBIG5cdJkk"
      },
      "source": [
        "print(result.history.keys())"
      ],
      "execution_count": null,
      "outputs": []
    },
    {
      "cell_type": "code",
      "metadata": {
        "id": "NE_HXt8fdJi5"
      },
      "source": [
        "### history에서 loss와 val_loss의 key를 가지는 값들만 추출\n",
        "loss = result.history['loss']\n",
        "val_loss = result.history['val_loss']\n",
        "### loss와 val_loss를 그래프화\n",
        "epochs = range(1, len(loss) + 1)\n",
        "plt.subplot(211)  ## 2x1 개의 그래프 중에 1번째\n",
        "plt.plot(epochs, loss, 'r-', label='Training loss')\n",
        "plt.plot(epochs, val_loss, 'b', label='Validation loss')\n",
        "plt.title('Training and validation loss')\n",
        "plt.xlabel('Epochs')\n",
        "plt.ylabel('Loss')\n",
        "plt.legend()\n",
        "\n",
        "### history에서 binary_accuracy와 val_binary_accuracy key를 가지는 값들만 추출\n",
        "acc = result.history['categorical_accuracy']\n",
        "val_acc = result.history['val_categorical_accuracy']\n",
        "\n",
        "### binary_accuracy와 val_binary_accuracy key를 그래프화\n",
        "plt.subplot(212)  ## 2x1 개의 그래프 중에 2번째\n",
        "plt.plot(epochs, acc, 'b-', label='Training acc')\n",
        "plt.plot(epochs, val_acc, 'r', label='Validation acc')\n",
        "plt.title('Training and validation accuracy')\n",
        "plt.xlabel('Epochs')\n",
        "plt.ylabel('Accuracy')\n",
        "plt.legend()"
      ],
      "execution_count": null,
      "outputs": []
    },
    {
      "cell_type": "code",
      "metadata": {
        "id": "nJg3dGkhdJgP"
      },
      "source": [
        "print(\"\\n Test Accuracy: %.4f\" % (model.evaluate(x_test, y_test)[1]))"
      ],
      "execution_count": null,
      "outputs": []
    },
    {
      "cell_type": "code",
      "metadata": {
        "id": "SVs6c2xVdJdp"
      },
      "source": [
        "def step_decay(epoch) : \n",
        "  initial_lrate = 0.001\n",
        "  drop = 0.98\n",
        "  epochs_drop = 50.0\n",
        "  lrate = initial_lrate * math.pow(drop, math.floor((1+epoch)/ epochs_drop))\n",
        "  return lrate"
      ],
      "execution_count": null,
      "outputs": []
    },
    {
      "cell_type": "code",
      "metadata": {
        "id": "lXqVVt4odJat"
      },
      "source": [
        "# model path = './best_model/{epoch:02d}-{val_loss : .4f}.h5\"\n",
        "# callback list = EarlyStopping\n",
        "                  # ModelCheckpoint\n",
        "                  # LearningRateScheduler"
      ],
      "execution_count": null,
      "outputs": []
    },
    {
      "cell_type": "code",
      "metadata": {
        "id": "g1znY4yLdJX4"
      },
      "source": [
        ""
      ],
      "execution_count": null,
      "outputs": []
    },
    {
      "cell_type": "code",
      "metadata": {
        "id": "Jg0KEJR5dJUK"
      },
      "source": [
        ""
      ],
      "execution_count": null,
      "outputs": []
    },
    {
      "cell_type": "code",
      "metadata": {
        "id": "-WmLFhULdJQg"
      },
      "source": [
        ""
      ],
      "execution_count": null,
      "outputs": []
    }
  ]
}