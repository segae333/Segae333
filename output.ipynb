{
 "cells": [
  {
   "cell_type": "code",
   "execution_count": 6,
   "metadata": {},
   "outputs": [
    {
     "name": "stdout",
     "output_type": "stream",
     "text": [
      "#하나만 출력 합니다.\n",
      "Hello Python Programming\n",
      "\n",
      "#여러 개를 출력합니다.\n",
      "10 20 30 40 50\n",
      "안녕하세요. 저의  이름은  파이썬입니당ㅇ\n",
      "\n"
     ]
    }
   ],
   "source": [
    "# 하나만 출력해보세요. !\n",
    "print(\"#하나만 출력 합니다.\")\n",
    "print(\"Hello Python Programming\")\n",
    "print()\n",
    "\n",
    "# 여러 개 출력 \n",
    "print(\"#여러 개를 출력합니다.\")\n",
    "print(10,20,30,40,50)\n",
    "print(\"안녕하세요.\",\"저의 \", \"이름은\", \" 파이썬입니당ㅇ\")\n",
    "print(\"Hello\")"
   ]
  },
  {
   "cell_type": "markdown",
   "metadata": {},
   "source": [
    "chap 02 \n",
    "01. 자료형"
   ]
  },
  {
   "cell_type": "code",
   "execution_count": 8,
   "metadata": {},
   "outputs": [
    {
     "name": "stdout",
     "output_type": "stream",
     "text": [
      "<class 'int'>\n",
      "<class 'str'>\n",
      "<class 'bool'>\n"
     ]
    }
   ],
   "source": [
    "print(type(1))\n",
    "print(type(\"Hello\"))\n",
    "print(type(True))"
   ]
  },
  {
   "cell_type": "code",
   "execution_count": 12,
   "metadata": {},
   "outputs": [
    {
     "name": "stdout",
     "output_type": "stream",
     "text": [
      "\"안녕하세요\" 라고 말했습니다.\n",
      "'배가 고픕니다' 라고 생각했습니다.\n",
      "'안녕하세요' 라고 말했습니다.\n",
      "'배가 고픕니다' 라고 \n",
      "생각했습니다.\n"
     ]
    }
   ],
   "source": [
    "print('\"안녕하세요\" 라고 말했습니다.')\n",
    "print(\"'배가 고픕니다' 라고 생각했습니다.\")\n",
    "\n",
    "print(\"\\'안녕하세요\\' 라고 말했습니다.\")\n",
    "print(\"\\'배가 고픕니다\\' 라고 \\n생각했습니다.\")"
   ]
  },
  {
   "cell_type": "code",
   "execution_count": 16,
   "metadata": {},
   "outputs": [
    {
     "name": "stdout",
     "output_type": "stream",
     "text": [
      "안녕하세요\n",
      "안녕하세요\n",
      "안녕하세요\t안녕하세요\n"
     ]
    }
   ],
   "source": [
    "print(\"안녕하세요\\n안녕하세요\")\n",
    "\n",
    "print(\"안녕하세요\\t안녕하세요\")\n"
   ]
  },
  {
   "cell_type": "code",
   "execution_count": 20,
   "metadata": {},
   "outputs": [
    {
     "name": "stdout",
     "output_type": "stream",
     "text": [
      "하늘\n",
      "python\n",
      "data\n",
      "data\n",
      "하늘\n",
      "python\n",
      "data\n",
      "\n"
     ]
    }
   ],
   "source": [
    "# 여러 라인으로 출력\n",
    "print('''하늘\n",
    "python\n",
    "data''')\n",
    "\n",
    "print(\"\"\"data\n",
    "하늘\n",
    "python\n",
    "data\n",
    "\"\"\")    #newline 출력 안함 "
   ]
  },
  {
   "cell_type": "code",
   "execution_count": 24,
   "metadata": {},
   "outputs": [
    {
     "name": "stdout",
     "output_type": "stream",
     "text": [
      "abcddef\n",
      "********************\n",
      "abdd1\n"
     ]
    }
   ],
   "source": [
    "print(\"abcd\"+\"def\")\n",
    "print(\"*\"*20)\n",
    "#print(\"abcd\" + 1) #type error\n",
    "print(\"abdd\"+\"1\")"
   ]
  },
  {
   "cell_type": "code",
   "execution_count": 26,
   "metadata": {},
   "outputs": [
    {
     "name": "stdout",
     "output_type": "stream",
     "text": [
      "H \t H\n"
     ]
    }
   ],
   "source": [
    "# 문자열 인덱스\n",
    "a = \"Hello\"\n",
    "\n",
    "print(a[0],\"\\t\", \"Hello\"[0])"
   ]
  },
  {
   "cell_type": "code",
   "execution_count": 29,
   "metadata": {},
   "outputs": [
    {
     "name": "stdout",
     "output_type": "stream",
     "text": [
      "a[1:3] : el \t Hello[:3] :  Hel\n",
      "Hello\n",
      "He\n",
      "Hel\n"
     ]
    }
   ],
   "source": [
    "# 문자열자르기 [시작:끝] - > 시작은 포함, 끝은 포함하지 않음\n",
    "print(\"a[1:3] :\" , a[1:3], \"\\t\" , \"Hello[:3] : \", \"Hello\"[:3])\n",
    "print(a[:]) # 전체문자열\n",
    "print(a[:2]) # 2번째 인덱스부터 끝까지 \n",
    "print(a[:3]) # 처음부터 3번째 인덱스 전까지 \n",
    "#print(a[:5])"
   ]
  },
  {
   "cell_type": "markdown",
   "metadata": {},
   "source": [
    "숫자형"
   ]
  },
  {
   "cell_type": "code",
   "execution_count": 32,
   "metadata": {},
   "outputs": [
    {
     "name": "stdout",
     "output_type": "stream",
     "text": [
      "a + b = 7\n",
      "a - b = 3\n",
      "a/b =  2.5\n",
      "a//b =  2\n",
      "a%b =  1\n",
      "a*b =  10\n",
      "a**b =  25\n",
      "a^b =  7\n"
     ]
    }
   ],
   "source": [
    "# 숫자형 연산 : +, -, *, /, //(몫), %(나머지 값)\n",
    "\n",
    "a = 5\n",
    "b = 2\n",
    "print(\"a + b =\", a + b)\n",
    "print(\"a - b =\", a- b)\n",
    "print(\"a/b = \", a/b)\n",
    "print(\"a//b = \", a//b)\n",
    "print(\"a%b = \", a%b)\n",
    "print(\"a*b = \", a*b)\n",
    "print(\"a**b = \", a**b) "
   ]
  },
  {
   "cell_type": "code",
   "execution_count": 34,
   "metadata": {},
   "outputs": [
    {
     "name": "stdout",
     "output_type": "stream",
     "text": [
      "26.0\n",
      "Hello!1\n",
      "Hello!1Hello!1Hello!1\n"
     ]
    }
   ],
   "source": [
    "# 복합 대입연산자 +=, -=, *=, **=\n",
    "number = 100 \n",
    "number += 30 \n",
    "number *= 2\n",
    "number /= 10 \n",
    "print(number)\n",
    "\n",
    "string = \"Hello\"; string += '!'; string += \"1\"; print(string)\n",
    "string *= 3; print(string)"
   ]
  },
  {
   "cell_type": "code",
   "execution_count": 42,
   "metadata": {},
   "outputs": [
    {
     "name": "stdout",
     "output_type": "stream",
     "text": [
      "10\n",
      "string\n",
      "stringstringstringstringstringstringstringstringstringstring\n"
     ]
    }
   ],
   "source": [
    "# 대입연산자 = : 변수 = 값 => 값을 변수에 입력함\n",
    "# 문1) 숫자 변수와 문자열 변수를 선언하여 숫자변수에 10을, 문자열변수에 string을 입력하여 \n",
    "# )2 두 변수의 값을 출력하세요\n",
    "# 3) 문자열 변수를 숫자 변수의 수만큼 반복해서 출력하세요 \n",
    "\n",
    "# 문1\n",
    "number = 10\n",
    "string = \"string\"\n",
    "\n",
    "# 문2\n",
    "print(number)\n",
    "print(string)\n",
    "\n",
    "# 문3\n",
    "print(string * number)"
   ]
  },
  {
   "cell_type": "code",
   "execution_count": 54,
   "metadata": {},
   "outputs": [
    {
     "name": "stdout",
     "output_type": "stream",
     "text": [
      "abcd\n",
      "abcd2\n"
     ]
    },
    {
     "data": {
      "text/plain": [
       "'abcd2'"
      ]
     },
     "execution_count": 54,
     "metadata": {},
     "output_type": "execute_result"
    }
   ],
   "source": [
    "# input() : 입력을 받아 변수에 저장해서 사용\n",
    "input()\n",
    "i_str = input()\n",
    "i_str"
   ]
  },
  {
   "cell_type": "code",
   "execution_count": 57,
   "metadata": {},
   "outputs": [
    {
     "name": "stdout",
     "output_type": "stream",
     "text": [
      "안녕하세요 9\n",
      "안녕하세요안녕하세요안녕하세요안녕하세요안녕하세요안녕하세요안녕하세요안녕하세요안녕하세요\n"
     ]
    }
   ],
   "source": [
    "# 문 : input() 함수를 사용하여 키보드에서 문자열 (5자리), blank(1), 숫자(1) 을 입력받아 \n",
    "# 문자와 숫자를 각각 변수에 저장한 후 입력된 문자열을 입력한 숫자만큼 반복해서 출력\n",
    "# 문자를 청므부터 -2 인덱스까지 저장, 숫자는 (-1)로 잘라서 각각의 변수에 저장한 후 실행 \n",
    "# 숫자가 문자로 인식 int(숫자형변수) -> int로 변환됨\n",
    "\n",
    "a = input()\n",
    "a1 = a[:-2] \n",
    "a2 = int(a[-1]) # 마지막 입력한 숫자를 \n",
    "print(a1 * a2)\n",
    "\n"
   ]
  },
  {
   "cell_type": "code",
   "execution_count": 63,
   "metadata": {},
   "outputs": [
    {
     "name": "stdout",
     "output_type": "stream",
     "text": [
      "10\n",
      "5\n",
      "<class 'str'> <class 'str'>\n",
      "10 5\n",
      "------------------------------\n",
      "+연산은 =  15 \n",
      " *연산은 =  50 \n",
      " /연산은 =  2.0 \n",
      " -연산은 =  5\n"
     ]
    }
   ],
   "source": [
    "# 두 개의 숫자를 입력받아 변수에 저장 한 후\n",
    "# 1. 입력을 두번 받아 2. 타입 변환 후 실행\n",
    "# 두 숫자의 +, *, /, - 의 결과를 출력\n",
    "\n",
    "num1 = input()\n",
    "num2 = input()\n",
    "print(type(num1), type(num2))\n",
    "print(int(num1), int(num2))\n",
    "i_num1 = int(num1)\n",
    "i_num2 = int(num2)\n",
    "print(\"------------------------------\")\n",
    "print(\"+연산은 = \", i_num1 + i_num2 ,\"\\n\",\n",
    "      \"*연산은 = \", i_num1 * i_num2, \"\\n\", \n",
    "      \"/연산은 = \", i_num1 / i_num2, \"\\n\",\n",
    "      \"-연산은 = \", i_num1 - i_num2)"
   ]
  },
  {
   "cell_type": "code",
   "execution_count": 67,
   "metadata": {},
   "outputs": [
    {
     "name": "stdout",
     "output_type": "stream",
     "text": [
      "<class 'str'>\n",
      "<class 'int'>\n"
     ]
    }
   ],
   "source": [
    "print(type(str(1234)))\n",
    "print(type(1234))\n"
   ]
  },
  {
   "cell_type": "code",
   "execution_count": 72,
   "metadata": {},
   "outputs": [
    {
     "name": "stdout",
     "output_type": "stream",
     "text": [
      "원의 반지름을 입력하세용!33.5\n",
      "\n",
      "반지름 :  33.5\n",
      "둘레 :  210.38\n",
      "넓이 :  3523.8650000000002\n"
     ]
    }
   ],
   "source": [
    "\n",
    "str_input = input(\"원의 반지름을 입력하세용!\") #원의 반지름 입력\n",
    "num_input = float(str_input) \n",
    "print()\n",
    "print(\"반지름 : \", num_input)\n",
    "print(\"둘레 : \", 2 * 3.14 * num_input )\n",
    "print(\"넓이 : \", 3.14 * num_input **2)"
   ]
  },
  {
   "cell_type": "code",
   "execution_count": null,
   "metadata": {},
   "outputs": [],
   "source": []
  }
 ],
 "metadata": {
  "kernelspec": {
   "display_name": "Python 3",
   "language": "python",
   "name": "python3"
  },
  "language_info": {
   "codemirror_mode": {
    "name": "ipython",
    "version": 3
   },
   "file_extension": ".py",
   "mimetype": "text/x-python",
   "name": "python",
   "nbconvert_exporter": "python",
   "pygments_lexer": "ipython3",
   "version": "3.7.5"
  }
 },
 "nbformat": 4,
 "nbformat_minor": 5
}
