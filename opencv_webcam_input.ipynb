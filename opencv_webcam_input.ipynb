{
 "cells": [
  {
   "cell_type": "code",
   "execution_count": 1,
   "metadata": {},
   "outputs": [
    {
     "data": {
      "text/plain": [
       "'4.5.4-dev'"
      ]
     },
     "execution_count": 1,
     "metadata": {},
     "output_type": "execute_result"
    }
   ],
   "source": [
    "import numpy as np\n",
    "import sys\n",
    "import cv2\n",
    "\n",
    "cv2.__version__"
   ]
  },
  {
   "cell_type": "code",
   "execution_count": 5,
   "metadata": {},
   "outputs": [],
   "source": [
    "img = cv2.imread('./fig/puppy.bmp', cv2.IMREAD_COLOR)\n",
    "\n",
    "# print(type(img))\n",
    "# print(img.shape)\n",
    "# print(img.dtype)\n",
    "height, width = img.shape[:2]"
   ]
  },
  {
   "cell_type": "code",
   "execution_count": 6,
   "metadata": {},
   "outputs": [],
   "source": [
    "img1 = np.zeros((640, 640, 3),dtype = np.uint8)\n",
    "img2 = np.ones((640, 640, ),dtype = np.uint8) * 255\n",
    "img3 = np.full((640, 640, 3),(0,0,255), dtype = np.uint8)\n",
    "\n",
    "cv2.imshow('img1', img1)\n",
    "cv2.imshow('img2', img2)\n",
    "cv2.imshow('img3', img3)\n",
    "\n",
    "cv2.waitKey()\n",
    "cv2.destroyAllWindows()\n"
   ]
  },
  {
   "cell_type": "code",
   "execution_count": 7,
   "metadata": {},
   "outputs": [],
   "source": [
    "img1 = cv2.imread('./fig/puppy.bmp', cv2.IMREAD_COLOR)\n",
    "\n",
    "img2 = img1\n",
    "img3 = img1.copy()\n",
    "\n",
    "img1[200:300, 200:300]\n",
    "\n",
    "\n",
    "cv2.imshow('img1', img1)\n",
    "cv2.imshow('img2', img2)\n",
    "cv2.imshow('img3', img3)\n",
    "cv2.waitKey()\n",
    "cv2.destroyAllWindows()"
   ]
  },
  {
   "cell_type": "code",
   "execution_count": 9,
   "metadata": {},
   "outputs": [],
   "source": [
    "src = cv2.imread('./fig/fig/airplane.bmp')\n",
    "mask = cv2.imread('./fig/fig/mask_plane.bmp', cv2.IMREAD_GRAYSCALE)\n",
    "dst = cv2.imread('./fig/fig/field.bmp')\n",
    "\n",
    "cv2.copyTo(src, mask, dst)\n",
    "\n",
    "\n",
    "cv2.imshow('src', src)\n",
    "cv2.imshow('mask', mask)\n",
    "cv2.imshow('dst', dst)\n",
    "\n",
    "cv2.waitKey()\n",
    "cv2.destroyAllWindows()\n"
   ]
  },
  {
   "cell_type": "code",
   "execution_count": null,
   "metadata": {},
   "outputs": [],
   "source": []
  },
  {
   "cell_type": "code",
   "execution_count": 52,
   "metadata": {},
   "outputs": [],
   "source": [
    "# cv2.line(img, pt1, pt2, color, thickenss = None,\n",
    "# lineType = None, shift = None) -> img\n",
    "# flags \n",
    "#img :그림을 그릴영상 \n",
    "#pt1, pt2, 직선의 시작접, 끝점\n",
    "img = np.ones((600, 1200, 3), dtype = np.uint8)*255\n",
    "\n",
    "cv2.line(img, (50, 50), (300 , 50), (0, 0, 255), 6, cv2.LINE_8)\n",
    "cv2.line(img, (300, 50), (150 , 300), (0, 0, 255), 6, cv2.LINE_AA)\n",
    "cv2.line(img, (400, 50), (400 , 300), (0, 0, 250), 6, cv2.LINE_8)\n",
    "\n",
    "\n",
    "cv2.rectangle(img, (50, 400),(400,500), (0,255,0),-1) # ㅁ\n",
    "\n",
    "cv2.circle(img , (600,200), 100, (0, 0, 255), 5, cv2.LINE_8)\n",
    "\n",
    "\n",
    "text = 'opencv version' + cv2.__version__\n",
    "#print(text)\n",
    "cv2.putText(img, text,(800, 100), cv2.FONT_HERSHEY_SIMPLEX, 0.8, (255, 0, 0),2 , \n",
    "           cv2.LINE_AA)\n",
    "\n",
    "\n",
    "cv2.imshow('canvas1', img)\n",
    "\n",
    "cv2.waitKey()\n",
    "cv2.destroyAllWindows()\n",
    "\n"
   ]
  },
  {
   "cell_type": "code",
   "execution_count": 95,
   "metadata": {},
   "outputs": [],
   "source": [
    "# cv2.line(img, pt1, pt2, color, thickenss = None,\n",
    "# lineType = None, shift = None) -> img\n",
    "# flags \n",
    "#img :그림을 그릴영상 \n",
    "#pt1, pt2, 직선의 시작접, 끝점\n",
    "img1 = np.ones((600, 1200, 3), dtype = np.uint8)*255\n",
    "\n",
    "cv2.circle(img1 , (200,200), 100, (0, 0, 255), 5, cv2.LINE_AA)\n",
    "cv2.line(img1, (400, 50), (400 , 400), (0, 0, 255), 6, cv2.LINE_8)\n",
    "cv2.line(img1, (80, 350), (80 , 500), (0, 0, 255), 6, cv2.LINE_8)\n",
    "cv2.line(img1, (80, 500), (400 , 500), (0, 0, 255), 6, cv2.LINE_8)\n",
    "\n",
    "cv2.line(img1, (700, 50), (600 , 300), (0, 0, 255), 6, cv2.LINE_AA)\n",
    "cv2.line(img1, (700, 50), (800 , 300), (0, 0, 255), 6, cv2.LINE_AA)\n",
    "cv2.line(img1, (900, 50), (900 , 400), (0, 0, 255), 6, cv2.LINE_8)\n",
    "cv2.line(img1, (900, 275), (950, 275), (0, 0, 255), 6, cv2.LINE_8)\n",
    "\n",
    "cv2.rectangle(img1, (950,450),(450,550), (0,0,255), cv2.LINE_8)\n",
    "# cv2.line(img1, (50, 50), (300 , 50), (0, 0, 255), 6, cv2.LINE_8)\n",
    "# cv2.line(img1, (300, 50), (150 , 300), (0, 0, 255), 6, cv2.LINE_AA)\n",
    "# cv2.line(img1, (400, 50), (400 , 300), (0, 0, 250), 6, cv2.LINE_8)\n",
    "\n",
    "\n",
    "#cv2.rectangle(img1, (50, 400),(400,500), (0,255,0),-1) # ㅁ\n",
    "\n",
    "\n",
    "\n",
    "cv2.imshow('canvas', img1)\n",
    "\n",
    "cv2.waitKey()\n",
    "cv2.destroyAllWindows()\n",
    "\n"
   ]
  },
  {
   "cell_type": "code",
   "execution_count": 106,
   "metadata": {},
   "outputs": [
    {
     "name": "stdout",
     "output_type": "stream",
     "text": [
      "<class 'int'>\n",
      "width and height = 640, 480\n",
      "30.0\n"
     ]
    }
   ],
   "source": [
    "cap = cv2.VideoCapture(0) # 0번이 기본 \n",
    "\n",
    "if not cap.isOpened :\n",
    "    print('Video open failed')\n",
    "    cap.release()\n",
    "    sys.exit()\n",
    "\n",
    "# a = 'DIVX'\n",
    "# print(a)\n",
    "# print(*a)\n",
    "\n",
    "width = int(cap.get(cv2.CAP_PROP_FRAME_WIDTH))\n",
    "height = int(cap.get(cv2.CAP_PROP_FRAME_HEIGHT))\n",
    "fps = cap.get(cv2.CAP_PROP_FPS)\n",
    "fourcc =cv2.VideoWriter_fourcc(*'DIVX')\n",
    "\n",
    "out = cv2.VideoWriter('edge_record.avi', fourcc, fps, (width, height))\n",
    "\n",
    "print(type(width))\n",
    "print('width and height = {}, {}'.format(width, height))\n",
    "print(fps)\n",
    "\n",
    "# cv2.VideoWriter(filename, fourcc, fps, framesize, isCOlor=None)\n",
    "\n",
    "while True :\n",
    "    # cv2.VideoCapture.read(image=None) -> retval, image\n",
    "    # retval : True or False\n",
    "    # image : Frame\n",
    "    ret, frame = cap.read()\n",
    "    \n",
    "    if not ret :\n",
    "        print('video read failed')\n",
    "        break\n",
    "    frame = cv2.Canny(frame, 50, 150)\n",
    "        \n",
    "    cv2.imshow('cap', frame)\n",
    "    out.write(frame)\n",
    "    if cv2.waitKey(10) == 27 :\n",
    "        break\n",
    "        \n",
    "\n",
    "cap.release()\n",
    "out.release()\n",
    "cv2.destroyAllWindows()"
   ]
  },
  {
   "cell_type": "code",
   "execution_count": null,
   "metadata": {},
   "outputs": [],
   "source": []
  }
 ],
 "metadata": {
  "kernelspec": {
   "display_name": "Python 3",
   "language": "python",
   "name": "python3"
  },
  "language_info": {
   "codemirror_mode": {
    "name": "ipython",
    "version": 3
   },
   "file_extension": ".py",
   "mimetype": "text/x-python",
   "name": "python",
   "nbconvert_exporter": "python",
   "pygments_lexer": "ipython3",
   "version": "3.7.5"
  }
 },
 "nbformat": 4,
 "nbformat_minor": 2
}
