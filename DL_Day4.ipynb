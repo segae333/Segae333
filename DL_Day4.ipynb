{
  "nbformat": 4,
  "nbformat_minor": 0,
  "metadata": {
    "colab": {
      "name": "DL_Day4.ipynb",
      "provenance": [],
      "collapsed_sections": [
        "CNcibWBoAV4-"
      ]
    },
    "kernelspec": {
      "name": "python3",
      "display_name": "Python 3"
    },
    "language_info": {
      "name": "python"
    }
  },
  "cells": [
    {
      "cell_type": "markdown",
      "metadata": {
        "id": "CNcibWBoAV4-"
      },
      "source": [
        "### 내가한거 깔짝"
      ]
    },
    {
      "cell_type": "code",
      "metadata": {
        "id": "M8ROwZi7RIIs"
      },
      "source": [
        "# 필요한 라이브러리를 불러 옵니다. \n",
        "import pandas as pd\n",
        "import tensorflow as tf\n",
        "from sklearn.model_selection import train_test_split\n",
        "\n",
        "import matplotlib.pyplot as plt\n"
      ],
      "execution_count": null,
      "outputs": []
    },
    {
      "cell_type": "code",
      "metadata": {
        "id": "Dgosn1DlSOfu"
      },
      "source": [
        "# 1. 데이터 불러오기\n",
        "# 2. 데이터 확인하기 \n",
        "# 3. 데이터 "
      ],
      "execution_count": null,
      "outputs": []
    },
    {
      "cell_type": "code",
      "metadata": {
        "id": "FeiItavOSOcw"
      },
      "source": [
        "data = pd.read_csv(\"/content/ThoraricSurgery.csv\")"
      ],
      "execution_count": null,
      "outputs": []
    },
    {
      "cell_type": "code",
      "metadata": {
        "colab": {
          "base_uri": "https://localhost:8080/",
          "height": 643
        },
        "id": "hXn07Om_SOZV",
        "outputId": "a21a279e-e710-4c12-dab3-b0c35d91c340"
      },
      "source": [
        "data.info()\n",
        "data.head()"
      ],
      "execution_count": null,
      "outputs": [
        {
          "output_type": "stream",
          "name": "stdout",
          "text": [
            "<class 'pandas.core.frame.DataFrame'>\n",
            "RangeIndex: 469 entries, 0 to 468\n",
            "Data columns (total 18 columns):\n",
            " #   Column  Non-Null Count  Dtype  \n",
            "---  ------  --------------  -----  \n",
            " 0   293     469 non-null    int64  \n",
            " 1   1       469 non-null    int64  \n",
            " 2   3.8     469 non-null    float64\n",
            " 3   2.8     469 non-null    float64\n",
            " 4   0       469 non-null    int64  \n",
            " 5   0.1     469 non-null    int64  \n",
            " 6   0.2     469 non-null    int64  \n",
            " 7   0.3     469 non-null    int64  \n",
            " 8   0.4     469 non-null    int64  \n",
            " 9   0.5     469 non-null    int64  \n",
            " 10  12      469 non-null    float64\n",
            " 11  0.6     469 non-null    int64  \n",
            " 12  0.7     469 non-null    int64  \n",
            " 13  0.8     469 non-null    int64  \n",
            " 14  1.1     469 non-null    int64  \n",
            " 15  0.9     469 non-null    int64  \n",
            " 16  62      469 non-null    int64  \n",
            " 17  0.10    469 non-null    int64  \n",
            "dtypes: float64(3), int64(15)\n",
            "memory usage: 66.1 KB\n"
          ]
        },
        {
          "output_type": "execute_result",
          "data": {
            "text/html": [
              "<div>\n",
              "<style scoped>\n",
              "    .dataframe tbody tr th:only-of-type {\n",
              "        vertical-align: middle;\n",
              "    }\n",
              "\n",
              "    .dataframe tbody tr th {\n",
              "        vertical-align: top;\n",
              "    }\n",
              "\n",
              "    .dataframe thead th {\n",
              "        text-align: right;\n",
              "    }\n",
              "</style>\n",
              "<table border=\"1\" class=\"dataframe\">\n",
              "  <thead>\n",
              "    <tr style=\"text-align: right;\">\n",
              "      <th></th>\n",
              "      <th>293</th>\n",
              "      <th>1</th>\n",
              "      <th>3.8</th>\n",
              "      <th>2.8</th>\n",
              "      <th>0</th>\n",
              "      <th>0.1</th>\n",
              "      <th>0.2</th>\n",
              "      <th>0.3</th>\n",
              "      <th>0.4</th>\n",
              "      <th>0.5</th>\n",
              "      <th>12</th>\n",
              "      <th>0.6</th>\n",
              "      <th>0.7</th>\n",
              "      <th>0.8</th>\n",
              "      <th>1.1</th>\n",
              "      <th>0.9</th>\n",
              "      <th>62</th>\n",
              "      <th>0.10</th>\n",
              "    </tr>\n",
              "  </thead>\n",
              "  <tbody>\n",
              "    <tr>\n",
              "      <th>0</th>\n",
              "      <td>1</td>\n",
              "      <td>2</td>\n",
              "      <td>2.88</td>\n",
              "      <td>2.16</td>\n",
              "      <td>1</td>\n",
              "      <td>0</td>\n",
              "      <td>0</td>\n",
              "      <td>0</td>\n",
              "      <td>1</td>\n",
              "      <td>1</td>\n",
              "      <td>14.000</td>\n",
              "      <td>0</td>\n",
              "      <td>0</td>\n",
              "      <td>0</td>\n",
              "      <td>1</td>\n",
              "      <td>0</td>\n",
              "      <td>60</td>\n",
              "      <td>0</td>\n",
              "    </tr>\n",
              "    <tr>\n",
              "      <th>1</th>\n",
              "      <td>8</td>\n",
              "      <td>2</td>\n",
              "      <td>3.19</td>\n",
              "      <td>2.50</td>\n",
              "      <td>1</td>\n",
              "      <td>0</td>\n",
              "      <td>0</td>\n",
              "      <td>0</td>\n",
              "      <td>1</td>\n",
              "      <td>0</td>\n",
              "      <td>11.000</td>\n",
              "      <td>0</td>\n",
              "      <td>0</td>\n",
              "      <td>1</td>\n",
              "      <td>1</td>\n",
              "      <td>0</td>\n",
              "      <td>66</td>\n",
              "      <td>1</td>\n",
              "    </tr>\n",
              "    <tr>\n",
              "      <th>2</th>\n",
              "      <td>14</td>\n",
              "      <td>2</td>\n",
              "      <td>3.98</td>\n",
              "      <td>3.06</td>\n",
              "      <td>2</td>\n",
              "      <td>0</td>\n",
              "      <td>0</td>\n",
              "      <td>0</td>\n",
              "      <td>1</td>\n",
              "      <td>1</td>\n",
              "      <td>11.444</td>\n",
              "      <td>0</td>\n",
              "      <td>0</td>\n",
              "      <td>0</td>\n",
              "      <td>1</td>\n",
              "      <td>0</td>\n",
              "      <td>80</td>\n",
              "      <td>1</td>\n",
              "    </tr>\n",
              "    <tr>\n",
              "      <th>3</th>\n",
              "      <td>17</td>\n",
              "      <td>2</td>\n",
              "      <td>2.21</td>\n",
              "      <td>1.88</td>\n",
              "      <td>0</td>\n",
              "      <td>0</td>\n",
              "      <td>1</td>\n",
              "      <td>0</td>\n",
              "      <td>0</td>\n",
              "      <td>0</td>\n",
              "      <td>12.000</td>\n",
              "      <td>0</td>\n",
              "      <td>0</td>\n",
              "      <td>0</td>\n",
              "      <td>1</td>\n",
              "      <td>0</td>\n",
              "      <td>56</td>\n",
              "      <td>0</td>\n",
              "    </tr>\n",
              "    <tr>\n",
              "      <th>4</th>\n",
              "      <td>18</td>\n",
              "      <td>2</td>\n",
              "      <td>2.96</td>\n",
              "      <td>1.67</td>\n",
              "      <td>0</td>\n",
              "      <td>0</td>\n",
              "      <td>0</td>\n",
              "      <td>0</td>\n",
              "      <td>0</td>\n",
              "      <td>0</td>\n",
              "      <td>12.000</td>\n",
              "      <td>0</td>\n",
              "      <td>0</td>\n",
              "      <td>0</td>\n",
              "      <td>1</td>\n",
              "      <td>0</td>\n",
              "      <td>61</td>\n",
              "      <td>0</td>\n",
              "    </tr>\n",
              "  </tbody>\n",
              "</table>\n",
              "</div>"
            ],
            "text/plain": [
              "   293  1   3.8   2.8  0  0.1  0.2  ...  0.6  0.7  0.8  1.1  0.9  62  0.10\n",
              "0    1  2  2.88  2.16  1    0    0  ...    0    0    0    1    0  60     0\n",
              "1    8  2  3.19  2.50  1    0    0  ...    0    0    1    1    0  66     1\n",
              "2   14  2  3.98  3.06  2    0    0  ...    0    0    0    1    0  80     1\n",
              "3   17  2  2.21  1.88  0    0    1  ...    0    0    0    1    0  56     0\n",
              "4   18  2  2.96  1.67  0    0    0  ...    0    0    0    1    0  61     0\n",
              "\n",
              "[5 rows x 18 columns]"
            ]
          },
          "metadata": {},
          "execution_count": 7
        }
      ]
    },
    {
      "cell_type": "code",
      "metadata": {
        "id": "baYYmviGSOWS"
      },
      "source": [
        "x_data = data.copy()\n",
        "y_data = x_data.pop(\"0.10\")\n",
        "X = x_data.copy()"
      ],
      "execution_count": null,
      "outputs": []
    },
    {
      "cell_type": "code",
      "metadata": {
        "colab": {
          "base_uri": "https://localhost:8080/"
        },
        "id": "0QGH8MK4SOSF",
        "outputId": "75711dfe-2af7-40ef-ee60-234dfb2fd1b7"
      },
      "source": [
        "print(x_data.head())\n",
        "print(y_data.head())\n",
        "y_data.unique()"
      ],
      "execution_count": null,
      "outputs": [
        {
          "output_type": "stream",
          "name": "stdout",
          "text": [
            "   293  1   3.8   2.8  0  0.1  0.2  ...      12  0.6  0.7  0.8  1.1  0.9  62\n",
            "0    1  2  2.88  2.16  1    0    0  ...  14.000    0    0    0    1    0  60\n",
            "1    8  2  3.19  2.50  1    0    0  ...  11.000    0    0    1    1    0  66\n",
            "2   14  2  3.98  3.06  2    0    0  ...  11.444    0    0    0    1    0  80\n",
            "3   17  2  2.21  1.88  0    0    1  ...  12.000    0    0    0    1    0  56\n",
            "4   18  2  2.96  1.67  0    0    0  ...  12.000    0    0    0    1    0  61\n",
            "\n",
            "[5 rows x 17 columns]\n",
            "0    0\n",
            "1    1\n",
            "2    1\n",
            "3    0\n",
            "4    0\n",
            "Name: 0.10, dtype: int64\n"
          ]
        },
        {
          "output_type": "execute_result",
          "data": {
            "text/plain": [
              "array([0, 1])"
            ]
          },
          "metadata": {},
          "execution_count": 12
        }
      ]
    },
    {
      "cell_type": "code",
      "metadata": {
        "colab": {
          "base_uri": "https://localhost:8080/"
        },
        "id": "aDZ1w2TZSOO7",
        "outputId": "42ac95bb-e963-41c1-d3f9-9bf12d9c3ecc"
      },
      "source": [
        "# normarization\n",
        "X_stats = X.describe()\n",
        "X_stats = X_stats.transpose()\n",
        "print(X.describe())\n",
        "print(X_stats)"
      ],
      "execution_count": null,
      "outputs": [
        {
          "output_type": "stream",
          "name": "stdout",
          "text": [
            "              293           1         3.8  ...         1.1         0.9          62\n",
            "count  469.000000  469.000000  469.000000  ...  469.000000  469.000000  469.000000\n",
            "mean   235.377399    3.100213    3.280533  ...    0.820896    0.004264   62.535181\n",
            "std    135.940568    0.716547    0.871996  ...    0.383849    0.065233    8.716164\n",
            "min      1.000000    2.000000    1.440000  ...    0.000000    0.000000   21.000000\n",
            "25%    118.000000    3.000000    2.600000  ...    1.000000    0.000000   57.000000\n",
            "50%    235.000000    3.000000    3.160000  ...    1.000000    0.000000   62.000000\n",
            "75%    353.000000    3.000000    3.810000  ...    1.000000    0.000000   69.000000\n",
            "max    470.000000    8.000000    6.300000  ...    1.000000    1.000000   87.000000\n",
            "\n",
            "[8 rows x 17 columns]\n",
            "     count        mean         std    min     25%     50%     75%    max\n",
            "293  469.0  235.377399  135.940568   1.00  118.00  235.00  353.00  470.0\n",
            "1    469.0    3.100213    0.716547   2.00    3.00    3.00    3.00    8.0\n",
            "3.8  469.0    3.280533    0.871996   1.44    2.60    3.16    3.81    6.3\n",
            "2.8  469.0    4.572473   11.780139   0.96    1.96    2.40    3.08   86.3\n",
            "0    469.0    0.782516    0.534727   0.00    0.00    1.00    1.00    2.0\n",
            "0.1  469.0    0.066098    0.248719   0.00    0.00    0.00    0.00    1.0\n",
            "0.2  469.0    0.144989    0.352466   0.00    0.00    0.00    0.00    1.0\n",
            "0.3  469.0    0.066098    0.248719   0.00    0.00    0.00    0.00    1.0\n",
            "0.4  469.0    0.688699    0.463520   0.00    0.00    1.00    1.00    1.0\n",
            "0.5  469.0    0.166311    0.372757   0.00    0.00    0.00    0.00    1.0\n",
            "12   469.0   11.730158    0.695159  11.00   11.00   12.00   12.00   14.0\n",
            "0.6  469.0    0.074627    0.263069   0.00    0.00    0.00    0.00    1.0\n",
            "0.7  469.0    0.004264    0.065233   0.00    0.00    0.00    0.00    1.0\n",
            "0.8  469.0    0.017058    0.129624   0.00    0.00    0.00    0.00    1.0\n",
            "1.1  469.0    0.820896    0.383849   0.00    1.00    1.00    1.00    1.0\n",
            "0.9  469.0    0.004264    0.065233   0.00    0.00    0.00    0.00    1.0\n",
            "62   469.0   62.535181    8.716164  21.00   57.00   62.00   69.00   87.0\n"
          ]
        }
      ]
    },
    {
      "cell_type": "code",
      "metadata": {
        "id": "cxEX9lu1SOIr"
      },
      "source": [
        "def min_max_norm(x):\n",
        "  return (x - X_stats['min']) / (X_stats['max'] - X_stats['min'])\n",
        "\n",
        "def standard_norm(x):\n",
        "  return (x - X_stats['mean']) / X_stats['std']"
      ],
      "execution_count": null,
      "outputs": []
    },
    {
      "cell_type": "code",
      "metadata": {
        "id": "jNNUZ1fRYQXz"
      },
      "source": [
        "# 표준화 한 데이터 셋\n",
        "min_max_norm_train_data = min_max_norm(X)\n",
        "standard_norm_train_data = standard_norm(X)"
      ],
      "execution_count": null,
      "outputs": []
    },
    {
      "cell_type": "code",
      "metadata": {
        "id": "3Df7ZugLYQKZ"
      },
      "source": [
        "# 데이터 나누기\n"
      ],
      "execution_count": null,
      "outputs": []
    },
    {
      "cell_type": "code",
      "metadata": {
        "id": "VzZsGH4PYQHB"
      },
      "source": [
        ""
      ],
      "execution_count": null,
      "outputs": []
    },
    {
      "cell_type": "code",
      "metadata": {
        "id": "NX3oaxvsYQD5"
      },
      "source": [
        ""
      ],
      "execution_count": null,
      "outputs": []
    },
    {
      "cell_type": "markdown",
      "metadata": {
        "id": "Z8J8T-Z7Aba1"
      },
      "source": [
        "### 환자의 수술후 생존율 예측"
      ]
    },
    {
      "cell_type": "code",
      "metadata": {
        "id": "JC0LFM7PAesl"
      },
      "source": [
        "# 필요한 라이브러리를 불러옵니다.\n",
        "import pandas as pd\n",
        "import tensorflow as tf\n",
        "from sklearn.model_selection import train_test_split\n",
        "\n",
        "import matplotlib.pyplot as plt"
      ],
      "execution_count": null,
      "outputs": []
    },
    {
      "cell_type": "code",
      "metadata": {
        "id": "-JltswwFAl2a"
      },
      "source": [
        "# csv read\n",
        "data = pd.read_csv('/content/drive/MyDrive/Colab Notebooks/영우_4기_딥러닝/dataset/ThoraricSurgery.csv')"
      ],
      "execution_count": null,
      "outputs": []
    },
    {
      "cell_type": "code",
      "metadata": {
        "id": "KuH6sLpMAlzx"
      },
      "source": [
        "data.head()"
      ],
      "execution_count": null,
      "outputs": []
    },
    {
      "cell_type": "code",
      "metadata": {
        "id": "JCvDVjWvAlxx"
      },
      "source": [
        "data = data.values"
      ],
      "execution_count": null,
      "outputs": []
    },
    {
      "cell_type": "code",
      "metadata": {
        "id": "Gl8_6kz_AlvL"
      },
      "source": [
        "x = data[:,0:17]\n",
        "y = data[:,17]"
      ],
      "execution_count": null,
      "outputs": []
    },
    {
      "cell_type": "code",
      "metadata": {
        "id": "0Ia8fHq2Alss"
      },
      "source": [
        "type(x)\n",
        "type(y)"
      ],
      "execution_count": null,
      "outputs": []
    },
    {
      "cell_type": "code",
      "metadata": {
        "id": "ToafwBrZAlp_"
      },
      "source": [
        "# 전체 데이터에서 학습데이터와 테스트 데이터 구분\n",
        "x_train1, x_test, y_train1, y_test = train_test_split(x, y, test_size=0.2)\n",
        "x_train, x_valid, y_train, y_valid = train_test_split(x_train1, y_train1, test_size=0.3)"
      ],
      "execution_count": null,
      "outputs": []
    },
    {
      "cell_type": "code",
      "metadata": {
        "id": "XjxOxTzqAlnc"
      },
      "source": [
        "input_layer = tf.keras.layers.Input(shape=(17,))\n",
        "x = tf.keras.layers.Dense(10, activation='sigmoid', kernel_initializer=tf.keras.initializers.he_normal())(input_layer) # he 초기화 방법\n",
        "x = tf.keras.layers.Dense(10, activation='sigmoid', kernel_initializer=tf.keras.initializers.glorot_uniform)(x) # xavier초기화 방법\n",
        "output_layer = tf.keras.layers.Dense(1, activation='sigmoid')(x)\n",
        "model = tf.keras.models.Model(inputs=[input_layer], outputs=[output_layer])\n",
        "model.summary()"
      ],
      "execution_count": null,
      "outputs": []
    },
    {
      "cell_type": "code",
      "metadata": {
        "id": "R4iTdkF7Awn-"
      },
      "source": [
        "loss = tf.keras.losses.binary_crossentropy\n",
        "optimizer = tf.keras.optimizers.SGD(learning_rate=0.4)\n",
        "metrics = tf.keras.metrics.binary_accuracy\n",
        "model.compile(loss=loss, optimizer=optimizer, metrics=[metrics])"
      ],
      "execution_count": null,
      "outputs": []
    },
    {
      "cell_type": "code",
      "metadata": {
        "id": "Ao6311zZAwlP"
      },
      "source": [
        "history = model.fit(x_train, y_train, epochs=100, batch_size=10, validation_data=(x_valid, y_valid))"
      ],
      "execution_count": null,
      "outputs": []
    },
    {
      "cell_type": "code",
      "metadata": {
        "id": "VMjIhh-iAwic"
      },
      "source": [
        "print(history.history.keys())"
      ],
      "execution_count": null,
      "outputs": []
    },
    {
      "cell_type": "code",
      "metadata": {
        "id": "GyAPhggCAwfu"
      },
      "source": [
        "## history에서 loss와 val_loss의 key를 가지는 값들만 추출\n",
        "loss = history.history['loss']\n",
        "val_loss = history.history['val_loss']\n",
        "### loss와 val_loss를 그래프화\n",
        "epochs = range(1, len(loss) + 1)\n",
        "plt.subplot(211)  ## 2x1 개의 그래프 중에 1번째\n",
        "plt.plot(epochs, loss, 'bo', label='Training loss')\n",
        "plt.plot(epochs, val_loss, 'b', label='Validation loss')\n",
        "plt.title('Training and validation loss')\n",
        "plt.xlabel('Epochs')\n",
        "plt.ylabel('Loss')\n",
        "plt.legend()\n",
        "\n",
        "### history에서 binary_accuracy와 val_binary_accuracy key를 가지는 값들만 추출\n",
        "rmse = history.history['binary_accuracy']\n",
        "val_rmse = history.history['val_binary_accuracy']\n",
        "epochs = range(1, len(rmse) + 1)\n",
        "### binary_accuracy와 val_binary_accuracy key를 그래프화\n",
        "plt.subplot(212)  ## 2x1 개의 그래프 중에 2번째\n",
        "plt.plot(epochs, rmse, 'ro', label='Training binary_accuracy')\n",
        "plt.plot(epochs, val_rmse, 'r', label='Validation binary_accuracy')\n",
        "plt.title('Training and validation binary_accuracy')\n",
        "plt.xlabel('Epochs')\n",
        "plt.ylabel('binary_accuracy')\n",
        "plt.legend()"
      ],
      "execution_count": null,
      "outputs": []
    },
    {
      "cell_type": "code",
      "metadata": {
        "id": "7QdgWqhqAwdN"
      },
      "source": [
        "# 결과를 출력합니다.\n",
        "print(\"-----\")\n",
        "print(model.evaluate(x_test, y_test))\n",
        "print(\"\\n Accuracy: %.4f\" % (model.evaluate(x, y)[1]))\n",
        "\n",
        "plt.show()"
      ],
      "execution_count": null,
      "outputs": []
    },
    {
      "cell_type": "code",
      "metadata": {
        "id": "V-uvAGdIAwap"
      },
      "source": [
        "# 1. 데이터 불러오기\n",
        "# 2. 데이터 확인하기\n",
        "# 3. x,y 나누기\n",
        "# 4. 전체 데이터에서 학습데이터와 테스터데이터(0.2) 구분\n",
        "# 5. 딥러닝 설계  ---> kernel_initializer = tf.keras.initializers.he_normal(), tf.keras.initializers.glorot_uniform()\n",
        "# 6. model.complie\n",
        "# 7. model.fit\n",
        "# 8. 그래프 결과 확인\n",
        "# 9. test 정확도 확인"
      ],
      "execution_count": null,
      "outputs": []
    },
    {
      "cell_type": "markdown",
      "metadata": {
        "id": "NEmx_jGOA97s"
      },
      "source": [
        "NN-MNIST"
      ]
    },
    {
      "cell_type": "code",
      "metadata": {
        "id": "eexKv6M8BCqz"
      },
      "source": [
        "import tensorflow as tf\n",
        "import matplotlib.pyplot as plt\n",
        "import numpy\n",
        "import os"
      ],
      "execution_count": null,
      "outputs": []
    },
    {
      "cell_type": "code",
      "metadata": {
        "id": "jMND0rxLBCoE"
      },
      "source": [
        "(x_train, y_train), (x_test, y_test) = tf.keras.datasets.mnist.load_data()"
      ],
      "execution_count": null,
      "outputs": []
    },
    {
      "cell_type": "code",
      "metadata": {
        "id": "_EbXUUo9BCmB"
      },
      "source": [
        "print(len(x_train))"
      ],
      "execution_count": null,
      "outputs": []
    },
    {
      "cell_type": "code",
      "metadata": {
        "id": "ketWL9lgBCjT"
      },
      "source": [
        "print(len(x_train))\n",
        "print(len(y_train))\n",
        "print(x_train.shape)\n",
        "print(y_train.shape)"
      ],
      "execution_count": null,
      "outputs": []
    },
    {
      "cell_type": "code",
      "metadata": {
        "id": "e6XBgJCKBCg8"
      },
      "source": [
        "plt.imshow(x_train[500], cmap=plt.cm.binary)"
      ],
      "execution_count": null,
      "outputs": []
    },
    {
      "cell_type": "code",
      "metadata": {
        "id": "7GUxzvYcBCeD"
      },
      "source": [
        "print(y_train[500])"
      ],
      "execution_count": null,
      "outputs": []
    },
    {
      "cell_type": "code",
      "metadata": {
        "id": "0-xTZH7OBCRY"
      },
      "source": [
        "# index에 0에서 59999사이의 숫자를 지정해보세요.\n",
        "index = 387\n",
        "plt.imshow(x_train[index], cmap=plt.cm.binary)\n",
        "plt.show()\n",
        "print((index+1), \"번째 이미지의 숫자는 바로 \", y_train[index],'입니다.')"
      ],
      "execution_count": null,
      "outputs": []
    },
    {
      "cell_type": "code",
      "metadata": {
        "id": "hgqo1JvEBCP-"
      },
      "source": [
        "print(x_train.shape)\n",
        "print(x_test.shape)\n",
        "print(y_train.shape)\n",
        "print(y_test.shape)"
      ],
      "execution_count": null,
      "outputs": []
    },
    {
      "cell_type": "code",
      "metadata": {
        "id": "HVEAQgYWBCOq"
      },
      "source": [
        "import numpy as np\n",
        "print('최소값:', np.min(x_train), '최대값:', np.max(x_train))"
      ],
      "execution_count": null,
      "outputs": []
    },
    {
      "cell_type": "code",
      "metadata": {
        "id": "aTAtTMWIBCL7"
      },
      "source": [
        "# 정규화\n",
        "x_train_norm = x_train / 255.0\n",
        "x_test_norm = x_test / 255.0\n",
        "print('최소값:', np.min(x_train_norm), '최대값:', np.max(x_test_norm))"
      ],
      "execution_count": null,
      "outputs": []
    },
    {
      "cell_type": "code",
      "metadata": {
        "id": "LHcITAzCBTQB"
      },
      "source": [
        "x_train_norm.shape"
      ],
      "execution_count": null,
      "outputs": []
    },
    {
      "cell_type": "code",
      "metadata": {
        "id": "KHH89rEEBTNO"
      },
      "source": [
        "# reshape 28 * 28 --> 784,1변환\n",
        "x_train = x_train_norm.reshape(x_train.shape[0], 784).astype('float32')\n",
        "x_test = x_test_norm.reshape(x_test.shape[0], 784).astype('float32')\n",
        "\n",
        "y_train = tf.keras.utils.to_categorical(y_train, 10)\n",
        "y_test = tf.keras.utils.to_categorical(y_test, 10)"
      ],
      "execution_count": null,
      "outputs": []
    },
    {
      "cell_type": "code",
      "metadata": {
        "id": "oLJmf0JDBTKO"
      },
      "source": [
        "print(y_train[0])"
      ],
      "execution_count": null,
      "outputs": []
    },
    {
      "cell_type": "code",
      "metadata": {
        "id": "BgBXXiIOBTH1"
      },
      "source": [
        "from tensorflow import keras\n",
        "model = keras.models.Sequential()\n",
        "model.add(keras.layers.Dense(16, activation='relu', input_shape=(784,))\n",
        "model.add(keras.layers.Dense(32, activation='relu'))\n",
        "model.add(keras.layers.Dense(10, activation='softmax'))\n",
        "\n",
        "model.summary()"
      ],
      "execution_count": null,
      "outputs": []
    },
    {
      "cell_type": "code",
      "metadata": {
        "id": "6ZGRg2qUBTFM"
      },
      "source": [
        "print(len(model.layers))"
      ],
      "execution_count": null,
      "outputs": []
    },
    {
      "cell_type": "code",
      "metadata": {
        "id": "N0P8VWZFBbZq"
      },
      "source": [
        "model.compile(optimizer='adam',\n",
        "              loss = 'categorical_crossentropy',\n",
        "              metrics = ['accuracy'])\n",
        "\n",
        "history = model.fit(x_train, y_train, validation_split=0.1, epochs=10, batch_size=200, verbose=1)"
      ],
      "execution_count": null,
      "outputs": []
    },
    {
      "cell_type": "code",
      "metadata": {
        "id": "0freaSh-BbWX"
      },
      "source": [
        "test_loss, test_accuracy = model.evaluate(x_test, y_test, verbose=2)\n",
        "print('test loss : {}'.format(test_loss))\n",
        "print('test_accuracy: {}'.format(test_accuracy))"
      ],
      "execution_count": null,
      "outputs": []
    },
    {
      "cell_type": "code",
      "metadata": {
        "id": "JIxnCs1OBbUc"
      },
      "source": [
        "# 예측\n",
        "\n",
        "predicted_result = model.predict(x_test)\n",
        "predicted_labels = np.argmax(predicted_result,axis=1)"
      ],
      "execution_count": null,
      "outputs": []
    },
    {
      "cell_type": "code",
      "metadata": {
        "id": "90aLUZsnBbRV"
      },
      "source": [
        "idx = 0\n",
        "print('model.predict() 결과 :',predicted_result[idx])\n",
        "print('model이 추론한 가장 가능성이 높은 결과 : ',predicted_labels[idx])\n",
        "print('실제 데이터의 라벨 :',y_test[idx])"
      ],
      "execution_count": null,
      "outputs": []
    },
    {
      "cell_type": "code",
      "metadata": {
        "id": "VrLmcaKCBbOw"
      },
      "source": [
        "x_test.shape"
      ],
      "execution_count": null,
      "outputs": []
    },
    {
      "cell_type": "code",
      "metadata": {
        "id": "5HKL6my7BbMC"
      },
      "source": [
        "x_test_result = x_test.reshape(x_test.shape[0], 28, 28)"
      ],
      "execution_count": null,
      "outputs": []
    },
    {
      "cell_type": "code",
      "metadata": {
        "id": "7fDgG85YBkJA"
      },
      "source": [
        "x_test_result.shape"
      ],
      "execution_count": null,
      "outputs": []
    },
    {
      "cell_type": "code",
      "metadata": {
        "id": "T6eMs3IeBkGY"
      },
      "source": [
        "plt.imshow(x_test_result[idx], cmap=plt.cm.binary)\n",
        "plt.show()"
      ],
      "execution_count": null,
      "outputs": []
    },
    {
      "cell_type": "code",
      "metadata": {
        "id": "t738m8tcBkDg"
      },
      "source": [
        "\n",
        "# 테스트 셋의 오차\n",
        "y_vloss = history.history['val_loss']\n",
        "\n",
        "# 학습셋의 오차\n",
        "y_loss = history.history['loss']\n",
        "\n",
        "# 그래프로 표현\n",
        "x_len = numpy.arange(len(y_loss))\n",
        "plt.plot(x_len, y_vloss, marker='.', c=\"red\", label='Testset_loss')\n",
        "plt.plot(x_len, y_loss, marker='.', c=\"blue\", label='Trainset_loss')\n",
        "\n",
        "# 그래프에 그리드를 주고 레이블을 표시\n",
        "plt.legend(loc='upper right')\n",
        "# plt.axis([0, 20, 0, 0.35])\n",
        "plt.grid()\n",
        "plt.xlabel('epoch')\n",
        "plt.ylabel('loss')\n",
        "plt.show()"
      ],
      "execution_count": null,
      "outputs": []
    },
    {
      "cell_type": "code",
      "metadata": {
        "id": "fRuT3Nw4BkBS"
      },
      "source": [
        ""
      ],
      "execution_count": null,
      "outputs": []
    },
    {
      "cell_type": "code",
      "metadata": {
        "id": "kSLLqbV9Bj-J"
      },
      "source": [
        ""
      ],
      "execution_count": null,
      "outputs": []
    }
  ]
}