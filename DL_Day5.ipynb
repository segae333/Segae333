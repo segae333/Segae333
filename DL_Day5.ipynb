{
  "nbformat": 4,
  "nbformat_minor": 0,
  "metadata": {
    "colab": {
      "name": "DL_Day5.ipynb",
      "provenance": [],
      "collapsed_sections": []
    },
    "kernelspec": {
      "name": "python3",
      "display_name": "Python 3"
    },
    "language_info": {
      "name": "python"
    }
  },
  "cells": [
    {
      "cell_type": "markdown",
      "metadata": {
        "id": "fV5Vlj2yoPE4"
      },
      "source": [
        "NN_TEST"
      ]
    },
    {
      "cell_type": "code",
      "metadata": {
        "id": "B6ACSt-pWejz"
      },
      "source": [
        "import tensorflow as tf\n",
        "import matplotlib.pyplot as plt\n",
        "import numpy as np"
      ],
      "execution_count": null,
      "outputs": []
    },
    {
      "cell_type": "code",
      "metadata": {
        "id": "I5HI2StKWeWn"
      },
      "source": [
        "(x_train, y_train), (x_test, y_test) = tf.keras.datasets.mnist.load_data()"
      ],
      "execution_count": null,
      "outputs": []
    },
    {
      "cell_type": "code",
      "metadata": {
        "id": "Z2hotbS5WeD7"
      },
      "source": [
        "test_image = x_test[0]\n",
        "\n",
        "test_image_reshape = test_image.reshape(1, 784).astype('float64')\n",
        "# 28 * 28이미지를 784개로 reshape하고, 1--> 데이터가 1개다. batchsize"
      ],
      "execution_count": null,
      "outputs": []
    },
    {
      "cell_type": "code",
      "metadata": {
        "id": "bJJC3RDjqHW5"
      },
      "source": [
        "model = tf.keras.models.load_model('/content/drive/MyDrive/Colab Notebooks/영우_4기_딥러닝/dataset/my_NN_Test.h5')"
      ],
      "execution_count": null,
      "outputs": []
    },
    {
      "cell_type": "code",
      "metadata": {
        "id": "raaJ2n62qHT-"
      },
      "source": [
        "y_pred = model.predict(test_image_reshape)"
      ],
      "execution_count": null,
      "outputs": []
    },
    {
      "cell_type": "code",
      "metadata": {
        "id": "hvSEgTHpqHRh"
      },
      "source": [
        "print(y_pred)"
      ],
      "execution_count": null,
      "outputs": []
    },
    {
      "cell_type": "code",
      "metadata": {
        "id": "7cljzak-qHO_"
      },
      "source": [
        "index = np.argmax(y_pred)\n",
        "print(index)"
      ],
      "execution_count": null,
      "outputs": []
    },
    {
      "cell_type": "code",
      "metadata": {
        "id": "1GTZM4l_qHMd"
      },
      "source": [
        "index = np.argmax(y_pred)\n",
        "value = y_pred[:, index]\n",
        "plt.imshow(test_image, cmap='Greys')\n",
        "plt.xlabel(str(index)+\"   \"+str(value))\n",
        "plt.show()"
      ],
      "execution_count": null,
      "outputs": []
    },
    {
      "cell_type": "markdown",
      "metadata": {
        "id": "eHsu4ABjqSP0"
      },
      "source": [
        "NN-Test-Rotation"
      ]
    },
    {
      "cell_type": "code",
      "metadata": {
        "id": "QopTZSuRqHJ5"
      },
      "source": [
        "import tensorflow as tf\n",
        "import matplotlib.pyplot as plt\n",
        "import numpy as np\n",
        "import cv2"
      ],
      "execution_count": null,
      "outputs": []
    },
    {
      "cell_type": "code",
      "metadata": {
        "id": "cFujbP_4qHHi"
      },
      "source": [
        "(x_train, y_train), (x_test, y_test) = tf.keras.datasets.mnist.load_data()"
      ],
      "execution_count": null,
      "outputs": []
    },
    {
      "cell_type": "code",
      "metadata": {
        "id": "XYYzUs_5qHE2"
      },
      "source": [
        "# 이미지 회전 변환 매트릭스 구하기\n",
        "M = cv2.getRotationMatrix2D((28/2, 28/2), 0, 1) # Matrix생성\n",
        "\n",
        "# 이미지 이동 변환 매트릭스 구하기\n",
        "M[0, 2] = M[0, 2] +3\n",
        "M[1, 2] = M[1, 2] +3\n",
        "\n",
        "# 이미지 변환 매트릭스 적용\n",
        "test_image = cv2.warpAffine(x_train[5], M, (28, 28)) #image에 matrix곱"
      ],
      "execution_count": null,
      "outputs": []
    },
    {
      "cell_type": "code",
      "metadata": {
        "id": "T9X6LcS3qHCT"
      },
      "source": [
        "plt.imshow(test_image, cmap=\"Greys\")"
      ],
      "execution_count": null,
      "outputs": []
    },
    {
      "cell_type": "code",
      "metadata": {
        "id": "ZTJ4PGWRqcWJ"
      },
      "source": [
        "test_image_reshape = test_image.reshape(1,784).astype('float64')"
      ],
      "execution_count": null,
      "outputs": []
    },
    {
      "cell_type": "code",
      "metadata": {
        "id": "oE_1u2S9qcTm"
      },
      "source": [
        "model = tf.keras.models.load_model('/content/drive/MyDrive/Colab Notebooks/영우_4기_딥러닝/dataset/my_NN_Test.h5')"
      ],
      "execution_count": null,
      "outputs": []
    },
    {
      "cell_type": "code",
      "metadata": {
        "id": "i6ZDNP7hqcRK"
      },
      "source": [
        "y_pred = model.predict(test_image_reshape)"
      ],
      "execution_count": null,
      "outputs": []
    },
    {
      "cell_type": "code",
      "metadata": {
        "id": "aVSUOlUHqcOa"
      },
      "source": [
        "index = np.argmax(y_pred)\n",
        "value = y_pred[:, index]\n",
        "plt.imshow(test_image, cmap='Greys')\n",
        "plt.xlabel(str(index)+\"   \"+str(value))\n",
        "plt.show()"
      ],
      "execution_count": null,
      "outputs": []
    },
    {
      "cell_type": "code",
      "metadata": {
        "id": "ck7S4ZcLqcLw"
      },
      "source": [
        "print(value)"
      ],
      "execution_count": null,
      "outputs": []
    },
    {
      "cell_type": "code",
      "metadata": {
        "id": "wk0fUrX5qied"
      },
      "source": [
        "plt.imshow(x_train[5], cmap='Greys')"
      ],
      "execution_count": null,
      "outputs": []
    },
    {
      "cell_type": "code",
      "metadata": {
        "colab": {
          "base_uri": "https://localhost:8080/"
        },
        "id": "BiRxaLbe4h9p",
        "outputId": "ccdc2bc0-005b-4da7-f043-3bfbab3ec521"
      },
      "source": [
        "(32+(2*2)-5)/1 +1 # input volume ; 32*32*3 , 10 5*5 filters with stride 1, pad2 => output volume size?"
      ],
      "execution_count": 53,
      "outputs": [
        {
          "output_type": "execute_result",
          "data": {
            "text/plain": [
              "32.0"
            ]
          },
          "metadata": {},
          "execution_count": 53
        }
      ]
    },
    {
      "cell_type": "markdown",
      "metadata": {
        "id": "hPaRcNccT0SL"
      },
      "source": [
        "### CNN_MNIST 분류 "
      ]
    },
    {
      "cell_type": "code",
      "metadata": {
        "id": "Q9nP7sfsT6Pf"
      },
      "source": [
        "import matplotlib.pyplot as plt\n",
        "import os\n",
        "import tensorflow as tf\n",
        "import numpy as np"
      ],
      "execution_count": 1,
      "outputs": []
    },
    {
      "cell_type": "code",
      "metadata": {
        "id": "LvmjpNT3T69B"
      },
      "source": [
        "(x_train, y_train), (x_test, y_test) = tf.keras.datasets.mnist.load_data()"
      ],
      "execution_count": null,
      "outputs": []
    },
    {
      "cell_type": "code",
      "metadata": {
        "id": "b08yr--vT66P"
      },
      "source": [
        "# 데이터 (배치사이즈 x 28 x 28 x 1)로 이미지로 변환 --> 그레이스케일 채널은 1\n",
        "x_train = x_train.reshape(x_train.shape[0], 28, 28, 1).astype('float32')\n",
        "x_test = x_test.reshape(x_test.shape[0], 28, 28, 1).astype('float32')"
      ],
      "execution_count": null,
      "outputs": []
    },
    {
      "cell_type": "code",
      "metadata": {
        "id": "FC1ssMlYia9X"
      },
      "source": [
        "y_train = tf.keras.utils.to_categorical(y_train)\n",
        "y_test = tf.keras.utils.to_categorical(y_test)"
      ],
      "execution_count": null,
      "outputs": []
    },
    {
      "cell_type": "code",
      "metadata": {
        "id": "q2qUE4rPia7D"
      },
      "source": [
        "# CNN 모델 설계\n",
        "input_layer = tf.keras.layers.Input(shape=(28, 28, 1))\n",
        "x = tf.keras.layers.Conv2D(32, (3, 3), strides =1, activation='relu', padding='same')(input_layer)\n",
        "x = tf.keras.layers.MaxPool2D((2, 2))(x)\n",
        "x = tf.keras.layers.Conv2D(64, (3, 3), strides=1, activation='relu')(x)\n",
        "x = tf.keras.layers.MaxPool2D((2, 2))(x)\n",
        "x = tf.keras.layers.Flatten()(x)\n",
        "output_layer = tf.keras.layers.Dense(10, activation='softmax')(x)\n",
        "\n",
        "model = tf.keras.Model(inputs=[input_layer], outputs=[output_layer])\n",
        "model.summary()"
      ],
      "execution_count": null,
      "outputs": []
    },
    {
      "cell_type": "code",
      "metadata": {
        "id": "MYQQ_EBuia4b"
      },
      "source": [
        "loss = tf.keras.losses.categorical_crossentropy\n",
        "optimizer = tf.keras.optimizers.RMSprop(learning_rate=0.0001)\n",
        "metrics = tf.keras.metrics.categorical_accuracy\n",
        "model.compile(loss=loss,\n",
        "              optimizer = optimizer,\n",
        "              metrics= [metrics])"
      ],
      "execution_count": null,
      "outputs": []
    },
    {
      "cell_type": "code",
      "metadata": {
        "id": "JOz6msU0ia2F"
      },
      "source": [
        "model_dir = './cnn_mnist_model/'\n",
        "if not os.path.exists(model_dir):\n",
        "    os.mkdir(model_dir)\n",
        "\n",
        "model_path='./cnn_mnist_model/{epoch:02d}-{val_loss:.4f}.hdf5'\n",
        "callback_list = [tf.keras.callbacks.ModelCheckpoint(filepath=model_path, monitor='val_loss', verbose=1, save_best_only=True),\n",
        "                 tf.keras.callbacks.EarlyStopping(monitor='val_loss', patience=10)]\n",
        "         "
      ],
      "execution_count": null,
      "outputs": []
    },
    {
      "cell_type": "code",
      "metadata": {
        "id": "78UG0WjsiazU"
      },
      "source": [
        "history = model.fit(x_train, y_train, validation_split=0.2, epochs=5, batch_size=200, verbose=1, callbacks=callback_list)"
      ],
      "execution_count": null,
      "outputs": []
    },
    {
      "cell_type": "code",
      "metadata": {
        "id": "EFWR2qtRiatM"
      },
      "source": [
        "# 테스트 정확도 출력\n",
        "print(\"\\n Test Accuracy: %.4f\" % (model.evaluate(x_test, y_test)[1]))"
      ],
      "execution_count": null,
      "outputs": []
    },
    {
      "cell_type": "code",
      "metadata": {
        "id": "Z5Xa8RaOimGK"
      },
      "source": [
        "# 테스트 셋의 오차\n",
        "y_vloss = history.history['val_loss']\n",
        "\n",
        "# 학습셋의 오차\n",
        "y_loss = history.history['loss']\n",
        "\n",
        "# 그래프로 표현\n",
        "x_len = np.arange(len(y_loss))\n",
        "plt.plot(x_len, y_vloss, marker='.', c=\"red\", label='Testset_loss')\n",
        "plt.plot(x_len, y_loss, marker='.', c=\"blue\", label='Trainset_loss')\n",
        "\n",
        "# 그래프에 그리드를 주고 레이블을 표시\n",
        "plt.legend(loc='upper right')\n",
        "plt.grid()\n",
        "plt.xlabel('epoch')\n",
        "plt.ylabel('loss')\n",
        "plt.show()"
      ],
      "execution_count": null,
      "outputs": []
    },
    {
      "cell_type": "markdown",
      "metadata": {
        "id": "Cj7kklNPio8s"
      },
      "source": [
        "### Fashion MNIST"
      ]
    },
    {
      "cell_type": "code",
      "metadata": {
        "id": "tyOdroq6i5ac"
      },
      "source": [
        "import matplotlib.pyplot as plt\n",
        "import os\n",
        "import tensorflow as tf\n",
        "import numpy as np"
      ],
      "execution_count": 30,
      "outputs": []
    },
    {
      "cell_type": "code",
      "metadata": {
        "id": "Zsgy2oWzjMjT"
      },
      "source": [
        "# 데이터 불러오기\n",
        "(x_train, y_train), (x_test, y_test) = tf.keras.datasets.fashion_mnist.load_data()\n"
      ],
      "execution_count": 33,
      "outputs": []
    },
    {
      "cell_type": "code",
      "metadata": {
        "id": "Fwk5nQuqi57t"
      },
      "source": [
        "\n",
        "## 데이터를 (배치사이즈 x 28 x 28 x 1)로 이미지를 변환해줌. -> 그레이스케일이므로 채널은 1 \n",
        "x_train = x_train.reshape(x_train.shape[0], 28, 28, 1).astype('float32')\n",
        "x_test = x_test.reshape(x_test.shape[0], 28, 28, 1).astype('float32')\n",
        "\n",
        "## 정답을 바이너리화 함. \n",
        "y_train = tf.keras.utils.to_categorical(y_train)\n",
        "y_test = tf.keras.utils.to_categorical(y_test)"
      ],
      "execution_count": 34,
      "outputs": []
    },
    {
      "cell_type": "code",
      "metadata": {
        "colab": {
          "base_uri": "https://localhost:8080/"
        },
        "id": "QmE02_ubi55A",
        "outputId": "a39ef3ee-8ccf-478d-d89a-ba98555bb8cb"
      },
      "source": [
        "# CNN 모델 설계.\n",
        "## 모델\n",
        "\n",
        "input_layer = tf.keras.layers.Input(shape=(28, 28, 1))\n",
        "x = tf.keras.layers.Conv2D(32, (3, 3), strides =1, activation='relu', padding='same')(input_layer)\n",
        "x = tf.keras.layers.MaxPool2D((2, 2))(x)\n",
        "x = tf.keras.layers.Conv2D(64, (3, 3), strides=1, activation='relu')(x)\n",
        "x = tf.keras.layers.MaxPool2D((2, 2))(x)\n",
        "x = tf.keras.layers.Flatten()(x)\n",
        "output_layer = tf.keras.layers.Dense(10, activation='softmax')(x)\n",
        "\n",
        "model = tf.keras.Model(inputs=[input_layer], outputs=[output_layer])\n",
        "model.summary()"
      ],
      "execution_count": 35,
      "outputs": [
        {
          "output_type": "stream",
          "name": "stdout",
          "text": [
            "Model: \"model_1\"\n",
            "_________________________________________________________________\n",
            "Layer (type)                 Output Shape              Param #   \n",
            "=================================================================\n",
            "input_3 (InputLayer)         [(None, 28, 28, 1)]       0         \n",
            "_________________________________________________________________\n",
            "conv2d_4 (Conv2D)            (None, 28, 28, 32)        320       \n",
            "_________________________________________________________________\n",
            "max_pooling2d_4 (MaxPooling2 (None, 14, 14, 32)        0         \n",
            "_________________________________________________________________\n",
            "conv2d_5 (Conv2D)            (None, 12, 12, 64)        18496     \n",
            "_________________________________________________________________\n",
            "max_pooling2d_5 (MaxPooling2 (None, 6, 6, 64)          0         \n",
            "_________________________________________________________________\n",
            "flatten_2 (Flatten)          (None, 2304)              0         \n",
            "_________________________________________________________________\n",
            "dense_3 (Dense)              (None, 10)                23050     \n",
            "=================================================================\n",
            "Total params: 41,866\n",
            "Trainable params: 41,866\n",
            "Non-trainable params: 0\n",
            "_________________________________________________________________\n"
          ]
        }
      ]
    },
    {
      "cell_type": "code",
      "metadata": {
        "id": "KHDS-Gj_i52r"
      },
      "source": [
        "loss = tf.keras.losses.categorical_crossentropy\n",
        "optimizer = tf.keras.optimizers.RMSprop(learning_rate=0.0001)\n",
        "metrics = tf.keras.metrics.categorical_accuracy\n",
        "model.compile(loss=loss,\n",
        "              optimizer = optimizer,\n",
        "              metrics= [metrics])"
      ],
      "execution_count": 36,
      "outputs": []
    },
    {
      "cell_type": "code",
      "metadata": {
        "id": "CkDcEiaHi50Q"
      },
      "source": [
        "# 모델 최적화 설정\n",
        "model_dir = './CNN_Fasion_MNIST_model/'\n",
        "if not os.path.exists(model_dir):\n",
        "    os.mkdir(model_dir)\n",
        "\n",
        "model_path=\"./CNN_Fasion_MNIST_model/{epoch:02d}-{val_loss:.4f}.hdf5\"\n",
        "callback_list = [tf.keras.callbacks.ModelCheckpoint(filepath=model_path, monitor='val_loss', verbose=1, save_best_only=True),\n",
        "                 tf.keras.callbacks.EarlyStopping(monitor='val_loss', patience=10)]"
      ],
      "execution_count": 37,
      "outputs": []
    },
    {
      "cell_type": "code",
      "metadata": {
        "colab": {
          "base_uri": "https://localhost:8080/"
        },
        "id": "HUrBZRyPi5xu",
        "outputId": "1a4be647-abe1-4df9-d5c9-980cd6f53628"
      },
      "source": [
        "# 모델의 실행\n",
        "history = model.fit(x_train, y_train, validation_split=0.2, epochs=10, batch_size=200, verbose=1, callbacks=callback_list)\n",
        "# 테스트 정확도 출력\n",
        "\n"
      ],
      "execution_count": 40,
      "outputs": [
        {
          "output_type": "stream",
          "name": "stdout",
          "text": [
            "Epoch 1/10\n",
            "240/240 [==============================] - 38s 158ms/step - loss: 0.4135 - categorical_accuracy: 0.8705 - val_loss: 0.4328 - val_categorical_accuracy: 0.8674\n",
            "\n",
            "Epoch 00001: val_loss improved from 0.49340 to 0.43281, saving model to ./CNN_Fasion_MNIST_model/01-0.4328.hdf5\n",
            "Epoch 2/10\n",
            "240/240 [==============================] - 38s 158ms/step - loss: 0.3727 - categorical_accuracy: 0.8783 - val_loss: 0.4106 - val_categorical_accuracy: 0.8725\n",
            "\n",
            "Epoch 00002: val_loss improved from 0.43281 to 0.41064, saving model to ./CNN_Fasion_MNIST_model/02-0.4106.hdf5\n",
            "Epoch 3/10\n",
            "240/240 [==============================] - 38s 158ms/step - loss: 0.3398 - categorical_accuracy: 0.8881 - val_loss: 0.3952 - val_categorical_accuracy: 0.8748\n",
            "\n",
            "Epoch 00003: val_loss improved from 0.41064 to 0.39520, saving model to ./CNN_Fasion_MNIST_model/03-0.3952.hdf5\n",
            "Epoch 4/10\n",
            "240/240 [==============================] - 38s 158ms/step - loss: 0.3114 - categorical_accuracy: 0.8945 - val_loss: 0.3840 - val_categorical_accuracy: 0.8771\n",
            "\n",
            "Epoch 00004: val_loss improved from 0.39520 to 0.38399, saving model to ./CNN_Fasion_MNIST_model/04-0.3840.hdf5\n",
            "Epoch 5/10\n",
            "240/240 [==============================] - 38s 159ms/step - loss: 0.2913 - categorical_accuracy: 0.8991 - val_loss: 0.3704 - val_categorical_accuracy: 0.8784\n",
            "\n",
            "Epoch 00005: val_loss improved from 0.38399 to 0.37038, saving model to ./CNN_Fasion_MNIST_model/05-0.3704.hdf5\n",
            "Epoch 6/10\n",
            "240/240 [==============================] - 38s 158ms/step - loss: 0.2737 - categorical_accuracy: 0.9060 - val_loss: 0.3814 - val_categorical_accuracy: 0.8739\n",
            "\n",
            "Epoch 00006: val_loss did not improve from 0.37038\n",
            "Epoch 7/10\n",
            "240/240 [==============================] - 38s 158ms/step - loss: 0.2568 - categorical_accuracy: 0.9114 - val_loss: 0.3433 - val_categorical_accuracy: 0.8873\n",
            "\n",
            "Epoch 00007: val_loss improved from 0.37038 to 0.34329, saving model to ./CNN_Fasion_MNIST_model/07-0.3433.hdf5\n",
            "Epoch 8/10\n",
            "240/240 [==============================] - 38s 159ms/step - loss: 0.2442 - categorical_accuracy: 0.9148 - val_loss: 0.3441 - val_categorical_accuracy: 0.8846\n",
            "\n",
            "Epoch 00008: val_loss did not improve from 0.34329\n",
            "Epoch 9/10\n",
            "240/240 [==============================] - 38s 159ms/step - loss: 0.2326 - categorical_accuracy: 0.9194 - val_loss: 0.3355 - val_categorical_accuracy: 0.8877\n",
            "\n",
            "Epoch 00009: val_loss improved from 0.34329 to 0.33549, saving model to ./CNN_Fasion_MNIST_model/09-0.3355.hdf5\n",
            "Epoch 10/10\n",
            "240/240 [==============================] - 38s 158ms/step - loss: 0.2219 - categorical_accuracy: 0.9235 - val_loss: 0.3509 - val_categorical_accuracy: 0.8842\n",
            "\n",
            "Epoch 00010: val_loss did not improve from 0.33549\n"
          ]
        }
      ]
    },
    {
      "cell_type": "code",
      "metadata": {
        "colab": {
          "base_uri": "https://localhost:8080/",
          "height": 279
        },
        "id": "MAFEybcKi5vX",
        "outputId": "01016a7c-5ddd-4395-c19e-aef8d324d096"
      },
      "source": [
        "# 테스트 셋의 오차\n",
        "y_vloss = history.history['val_loss']\n",
        "\n",
        "# 학습셋의 오차\n",
        "y_loss = history.history['loss']\n",
        "\n",
        "# 그래프로 표현\n",
        "x_len = np.arange(len(y_loss))\n",
        "plt.plot(x_len, y_vloss, marker='.', c=\"red\", label='Testset_loss')\n",
        "plt.plot(x_len, y_loss, marker='.', c=\"blue\", label='Trainset_loss')\n",
        "\n",
        "# 그래프에 그리드를 주고 레이블을 표시\n",
        "plt.legend(loc='upper right')\n",
        "plt.grid()\n",
        "plt.xlabel('epoch')\n",
        "plt.ylabel('loss')\n",
        "plt.show()\n"
      ],
      "execution_count": 41,
      "outputs": [
        {
          "output_type": "display_data",
          "data": {
            "image/png": "[encoded data removed]",
            "text/plain": [
              "<Figure size 432x288 with 1 Axes>"
            ]
          },
          "metadata": {
            "needs_background": "light"
          }
        }
      ]
    },
    {
      "cell_type": "code",
      "metadata": {
        "colab": {
          "base_uri": "https://localhost:8080/"
        },
        "id": "ZPewcbppoJn6",
        "outputId": "ec7aab40-e517-4b09-c879-e3f08519922d"
      },
      "source": [
        "test_loss, test_acc = model.evaluate(x_test,  y_test, verbose=2)\n",
        "\n",
        "print('\\nTest accuracy:', test_acc)"
      ],
      "execution_count": 43,
      "outputs": [
        {
          "output_type": "stream",
          "name": "stdout",
          "text": [
            "313/313 - 2s - loss: 0.3756 - categorical_accuracy: 0.8830\n",
            "\n",
            "Test accuracy: 0.8830000162124634\n"
          ]
        }
      ]
    },
    {
      "cell_type": "markdown",
      "metadata": {
        "id": "tC8ecBuQvc2c"
      },
      "source": [
        "### 10far10 data set "
      ]
    },
    {
      "cell_type": "code",
      "metadata": {
        "id": "22AKuBMiv5zy"
      },
      "source": [
        "import numpy as np\n",
        "import tensorflow as tf\n",
        "from tensorflow import keras\n",
        "\n",
        "import matplotlib.pyplot as plt\n",
        "from tensorflow.keras.datasets import cifar10"
      ],
      "execution_count": 45,
      "outputs": []
    },
    {
      "cell_type": "code",
      "metadata": {
        "colab": {
          "base_uri": "https://localhost:8080/"
        },
        "id": "KhA2O8e3i5s4",
        "outputId": "9d8ab6eb-4c03-4ba5-da58-fd0f7cdb4309"
      },
      "source": [
        "# 데이터 불러오기\n",
        "(x_train, y_train), (x_test, y_test) = cifar10.load_data()"
      ],
      "execution_count": 46,
      "outputs": [
        {
          "output_type": "stream",
          "name": "stdout",
          "text": [
            "Downloading data from https://www.cs.toronto.edu/~kriz/cifar-10-python.tar.gz\n",
            "170500096/170498071 [==============================] - 2s 0us/step\n",
            "170508288/170498071 [==============================] - 2s 0us/step\n"
          ]
        }
      ]
    },
    {
      "cell_type": "code",
      "metadata": {
        "id": "KKgi0JY1i5qO"
      },
      "source": [
        "# 데이터 shape 확인하기 "
      ],
      "execution_count": 47,
      "outputs": []
    },
    {
      "cell_type": "code",
      "metadata": {
        "colab": {
          "base_uri": "https://localhost:8080/",
          "height": 468
        },
        "id": "B9XZUs8VwAaQ",
        "outputId": "cc555e56-4eb0-456e-9b51-b4544d018d84"
      },
      "source": [
        "# 데이터 시각화\n",
        "plt.figure(figsize=(10, 10))\n",
        "for i, img in enumerate(x_train[:8]):\n",
        "    plt.subplot(2,4,i+1)\n",
        "    plt.imshow(x_train[i])\n",
        "plt.show()\n"
      ],
      "execution_count": 48,
      "outputs": [
        {
          "output_type": "display_data",
          "data": {
            "image/png": "[encoded data removed]",
            "text/plain": [
              "<Figure size 720x720 with 8 Axes>"
            ]
          },
          "metadata": {
            "needs_background": "light"
          }
        }
      ]
    },
    {
      "cell_type": "code",
      "metadata": {
        "colab": {
          "base_uri": "https://localhost:8080/"
        },
        "id": "_3oxo4zMwAVN",
        "outputId": "dbc3c485-26fd-47f3-a52d-0ed420a1f46e"
      },
      "source": [
        "# Y라벨 one hot encording 수행\n",
        "# Sklearn의 case1\n",
        "from sklearn.preprocessing import LabelEncoder \n",
        "e = LabelEncoder()\n",
        "e.fit(y_train)\n",
        "print(\"Label Class String : {}\".format(e.classes_))\n",
        "\n",
        "Y = e.fit_transform(y_train)\n",
        "print(\"Label Class int : {}\".format(Y))\n",
        "\n",
        "y_encoded = tf.keras.utils.to_categorical(Y)\n",
        "print(\"case 1 One hot Label class: {}\". format(y_encoded) )\n",
        "\n"
      ],
      "execution_count": 59,
      "outputs": [
        {
          "output_type": "stream",
          "name": "stdout",
          "text": [
            "Label Class String : [0 1 2 3 4 5 6 7 8 9]\n",
            "Label Class int : [6 9 9 ... 9 1 1]\n",
            "case 1 One hot Label class: [[0. 0. 0. ... 0. 0. 0.]\n",
            " [0. 0. 0. ... 0. 0. 1.]\n",
            " [0. 0. 0. ... 0. 0. 1.]\n",
            " ...\n",
            " [0. 0. 0. ... 0. 0. 1.]\n",
            " [0. 1. 0. ... 0. 0. 0.]\n",
            " [0. 1. 0. ... 0. 0. 0.]]\n"
          ]
        },
        {
          "output_type": "stream",
          "name": "stderr",
          "text": [
            "/usr/local/lib/python3.7/dist-packages/sklearn/preprocessing/_label.py:235: DataConversionWarning: A column-vector y was passed when a 1d array was expected. Please change the shape of y to (n_samples, ), for example using ravel().\n",
            "  y = column_or_1d(y, warn=True)\n",
            "/usr/local/lib/python3.7/dist-packages/sklearn/preprocessing/_label.py:251: DataConversionWarning: A column-vector y was passed when a 1d array was expected. Please change the shape of y to (n_samples, ), for example using ravel().\n",
            "  y = column_or_1d(y, warn=True)\n"
          ]
        }
      ]
    },
    {
      "cell_type": "code",
      "metadata": {
        "colab": {
          "base_uri": "https://localhost:8080/"
        },
        "id": "yy3KxlYZ1QIT",
        "outputId": "8959a213-519a-4f85-dea1-284b7f3636d8"
      },
      "source": [
        "import pandas as pd\n",
        "# Pandas의 case2\n",
        "#one_hot_label = pd.get_dummies(y_train)\n",
        "#print(\"case2 one_hot_label : \", one_hot_label)\n",
        "#print(one_hot_label.shape)\n",
        "print(x_train_norm.shape)\n",
        "print(x_test_norm.shape)"
      ],
      "execution_count": 65,
      "outputs": [
        {
          "output_type": "stream",
          "name": "stdout",
          "text": [
            "(50000, 32, 32, 3)\n",
            "(10000, 32, 32, 3)\n"
          ]
        }
      ]
    },
    {
      "cell_type": "code",
      "metadata": {
        "colab": {
          "base_uri": "https://localhost:8080/"
        },
        "id": "1780OjkvwAL-",
        "outputId": "ab2c7d1a-7851-42a4-ce23-9ce4afffb94c"
      },
      "source": [
        "# 정규화 \n",
        "print('최소값', np.min(x_train), '최대값:', np.max(x_train))\n",
        "x_train_norm = x_train / 255.0\n",
        "x_test_norm = x_test / 255.0\n",
        "print('최소값:', np.min(x_train_norm), '최대값:', np.max(x_test_norm))\n",
        "x_train_norm.shape"
      ],
      "execution_count": 52,
      "outputs": [
        {
          "output_type": "stream",
          "name": "stdout",
          "text": [
            "최소값 0 최대값: 255\n",
            "최소값: 0.0 최대값: 1.0\n"
          ]
        },
        {
          "output_type": "execute_result",
          "data": {
            "text/plain": [
              "(50000, 32, 32, 3)"
            ]
          },
          "metadata": {},
          "execution_count": 52
        }
      ]
    },
    {
      "cell_type": "code",
      "metadata": {
        "colab": {
          "base_uri": "https://localhost:8080/",
          "height": 443
        },
        "id": "-OOojpuowPJy",
        "outputId": "ce0d1d25-dfde-4624-b947-6ddee43528ec"
      },
      "source": [
        "# 모델1 설계(kernel_initialzer, callback, Dropout)\n",
        "\n",
        "# 32채널 커널 사이즈 3 Conv2D, relu\n",
        "# 32\n",
        "input_layer = tf.keras.layers.Input(shape=(32, 32, 3))\n",
        "x = tf.keras.layers.Conv2D(32, (3, 3), strides =1, activation='relu', padding='same')(input_layer)\n",
        "\n",
        "# 64채널\n",
        "# 64채널\n",
        "x = tf.keras.layers.MaxPool2D((3, 3))(x)\n",
        "x = tf.keras.layers.Conv2D(64, (3, 3), strides=1, activation='relu')(x)\n",
        "\n",
        "\n",
        "#128채널\n",
        "#128채널\n",
        "\n",
        "x = tf.keras.layers.MaxPool2D((128, (3,3)))(x)\n",
        "\n",
        "# FCL\n",
        "# Flatten()\n",
        "x = tf.keras.layers.Flatten()(x)\n",
        "\n",
        "# Dense() #512채널 \n",
        "output_layer = tf.keras.layers.Dense(512, activation='softmax')(x)\n",
        "\n",
        "# 마지막 분류 \n",
        "model = tf.keras.Model(inputs=[input_layer], outputs=[output_layer])\n",
        "model.summary()\n"
      ],
      "execution_count": 67,
      "outputs": [
        {
          "output_type": "error",
          "ename": "ValueError",
          "evalue": "ignored",
          "traceback": [
            "\u001b[0;31m---------------------------------------------------------------------------\u001b[0m",
            "\u001b[0;31mTypeError\u001b[0m                                 Traceback (most recent call last)",
            "\u001b[0;32m/usr/local/lib/python3.7/dist-packages/keras/utils/conv_utils.py\u001b[0m in \u001b[0;36mnormalize_tuple\u001b[0;34m(value, n, name)\u001b[0m\n\u001b[1;32m     77\u001b[0m       \u001b[0;32mtry\u001b[0m\u001b[0;34m:\u001b[0m\u001b[0;34m\u001b[0m\u001b[0;34m\u001b[0m\u001b[0m\n\u001b[0;32m---> 78\u001b[0;31m         \u001b[0mint\u001b[0m\u001b[0;34m(\u001b[0m\u001b[0msingle_value\u001b[0m\u001b[0;34m)\u001b[0m\u001b[0;34m\u001b[0m\u001b[0;34m\u001b[0m\u001b[0m\n\u001b[0m\u001b[1;32m     79\u001b[0m       \u001b[0;32mexcept\u001b[0m \u001b[0;34m(\u001b[0m\u001b[0mValueError\u001b[0m\u001b[0;34m,\u001b[0m \u001b[0mTypeError\u001b[0m\u001b[0;34m)\u001b[0m\u001b[0;34m:\u001b[0m\u001b[0;34m\u001b[0m\u001b[0;34m\u001b[0m\u001b[0m\n",
            "\u001b[0;31mTypeError\u001b[0m: int() argument must be a string, a bytes-like object or a number, not 'tuple'",
            "\nDuring handling of the above exception, another exception occurred:\n",
            "\u001b[0;31mValueError\u001b[0m                                Traceback (most recent call last)",
            "\u001b[0;32m<ipython-input-67-fcdd7aaa0168>\u001b[0m in \u001b[0;36m<module>\u001b[0;34m()\u001b[0m\n\u001b[1;32m     20\u001b[0m \u001b[0;31m#128채널\u001b[0m\u001b[0;34m\u001b[0m\u001b[0;34m\u001b[0m\u001b[0;34m\u001b[0m\u001b[0m\n\u001b[1;32m     21\u001b[0m \u001b[0;34m\u001b[0m\u001b[0m\n\u001b[0;32m---> 22\u001b[0;31m \u001b[0mx\u001b[0m \u001b[0;34m=\u001b[0m \u001b[0mtf\u001b[0m\u001b[0;34m.\u001b[0m\u001b[0mkeras\u001b[0m\u001b[0;34m.\u001b[0m\u001b[0mlayers\u001b[0m\u001b[0;34m.\u001b[0m\u001b[0mMaxPool2D\u001b[0m\u001b[0;34m(\u001b[0m\u001b[0;34m(\u001b[0m\u001b[0;36m128\u001b[0m\u001b[0;34m,\u001b[0m \u001b[0;34m(\u001b[0m\u001b[0;36m3\u001b[0m\u001b[0;34m,\u001b[0m\u001b[0;36m3\u001b[0m\u001b[0;34m)\u001b[0m\u001b[0;34m)\u001b[0m\u001b[0;34m)\u001b[0m\u001b[0;34m(\u001b[0m\u001b[0mx\u001b[0m\u001b[0;34m)\u001b[0m\u001b[0;34m\u001b[0m\u001b[0;34m\u001b[0m\u001b[0m\n\u001b[0m\u001b[1;32m     23\u001b[0m \u001b[0;34m\u001b[0m\u001b[0m\n\u001b[1;32m     24\u001b[0m \u001b[0;31m# FCL\u001b[0m\u001b[0;34m\u001b[0m\u001b[0;34m\u001b[0m\u001b[0;34m\u001b[0m\u001b[0m\n",
            "\u001b[0;32m/usr/local/lib/python3.7/dist-packages/keras/layers/pooling.py\u001b[0m in \u001b[0;36m__init__\u001b[0;34m(self, pool_size, strides, padding, data_format, **kwargs)\u001b[0m\n\u001b[1;32m    525\u001b[0m         \u001b[0mtf\u001b[0m\u001b[0;34m.\u001b[0m\u001b[0mcompat\u001b[0m\u001b[0;34m.\u001b[0m\u001b[0mv1\u001b[0m\u001b[0;34m.\u001b[0m\u001b[0mnn\u001b[0m\u001b[0;34m.\u001b[0m\u001b[0mmax_pool\u001b[0m\u001b[0;34m,\u001b[0m\u001b[0;34m\u001b[0m\u001b[0;34m\u001b[0m\u001b[0m\n\u001b[1;32m    526\u001b[0m         \u001b[0mpool_size\u001b[0m\u001b[0;34m=\u001b[0m\u001b[0mpool_size\u001b[0m\u001b[0;34m,\u001b[0m \u001b[0mstrides\u001b[0m\u001b[0;34m=\u001b[0m\u001b[0mstrides\u001b[0m\u001b[0;34m,\u001b[0m\u001b[0;34m\u001b[0m\u001b[0;34m\u001b[0m\u001b[0m\n\u001b[0;32m--> 527\u001b[0;31m         padding=padding, data_format=data_format, **kwargs)\n\u001b[0m\u001b[1;32m    528\u001b[0m \u001b[0;34m\u001b[0m\u001b[0m\n\u001b[1;32m    529\u001b[0m \u001b[0;34m\u001b[0m\u001b[0m\n",
            "\u001b[0;32m/usr/local/lib/python3.7/dist-packages/keras/layers/pooling.py\u001b[0m in \u001b[0;36m__init__\u001b[0;34m(self, pool_function, pool_size, strides, padding, data_format, name, **kwargs)\u001b[0m\n\u001b[1;32m    340\u001b[0m       \u001b[0mstrides\u001b[0m \u001b[0;34m=\u001b[0m \u001b[0mpool_size\u001b[0m\u001b[0;34m\u001b[0m\u001b[0;34m\u001b[0m\u001b[0m\n\u001b[1;32m    341\u001b[0m     \u001b[0mself\u001b[0m\u001b[0;34m.\u001b[0m\u001b[0mpool_function\u001b[0m \u001b[0;34m=\u001b[0m \u001b[0mpool_function\u001b[0m\u001b[0;34m\u001b[0m\u001b[0;34m\u001b[0m\u001b[0m\n\u001b[0;32m--> 342\u001b[0;31m     \u001b[0mself\u001b[0m\u001b[0;34m.\u001b[0m\u001b[0mpool_size\u001b[0m \u001b[0;34m=\u001b[0m \u001b[0mconv_utils\u001b[0m\u001b[0;34m.\u001b[0m\u001b[0mnormalize_tuple\u001b[0m\u001b[0;34m(\u001b[0m\u001b[0mpool_size\u001b[0m\u001b[0;34m,\u001b[0m \u001b[0;36m2\u001b[0m\u001b[0;34m,\u001b[0m \u001b[0;34m'pool_size'\u001b[0m\u001b[0;34m)\u001b[0m\u001b[0;34m\u001b[0m\u001b[0;34m\u001b[0m\u001b[0m\n\u001b[0m\u001b[1;32m    343\u001b[0m     \u001b[0mself\u001b[0m\u001b[0;34m.\u001b[0m\u001b[0mstrides\u001b[0m \u001b[0;34m=\u001b[0m \u001b[0mconv_utils\u001b[0m\u001b[0;34m.\u001b[0m\u001b[0mnormalize_tuple\u001b[0m\u001b[0;34m(\u001b[0m\u001b[0mstrides\u001b[0m\u001b[0;34m,\u001b[0m \u001b[0;36m2\u001b[0m\u001b[0;34m,\u001b[0m \u001b[0;34m'strides'\u001b[0m\u001b[0;34m)\u001b[0m\u001b[0;34m\u001b[0m\u001b[0;34m\u001b[0m\u001b[0m\n\u001b[1;32m    344\u001b[0m     \u001b[0mself\u001b[0m\u001b[0;34m.\u001b[0m\u001b[0mpadding\u001b[0m \u001b[0;34m=\u001b[0m \u001b[0mconv_utils\u001b[0m\u001b[0;34m.\u001b[0m\u001b[0mnormalize_padding\u001b[0m\u001b[0;34m(\u001b[0m\u001b[0mpadding\u001b[0m\u001b[0;34m)\u001b[0m\u001b[0;34m\u001b[0m\u001b[0;34m\u001b[0m\u001b[0m\n",
            "\u001b[0;32m/usr/local/lib/python3.7/dist-packages/keras/utils/conv_utils.py\u001b[0m in \u001b[0;36mnormalize_tuple\u001b[0;34m(value, n, name)\u001b[0m\n\u001b[1;32m     81\u001b[0m                          \u001b[0mstr\u001b[0m\u001b[0;34m(\u001b[0m\u001b[0mn\u001b[0m\u001b[0;34m)\u001b[0m \u001b[0;34m+\u001b[0m \u001b[0;34m' integers. Received: '\u001b[0m \u001b[0;34m+\u001b[0m \u001b[0mstr\u001b[0m\u001b[0;34m(\u001b[0m\u001b[0mvalue\u001b[0m\u001b[0;34m)\u001b[0m \u001b[0;34m+\u001b[0m \u001b[0;34m' '\u001b[0m\u001b[0;34m\u001b[0m\u001b[0;34m\u001b[0m\u001b[0m\n\u001b[1;32m     82\u001b[0m                          \u001b[0;34m'including element '\u001b[0m \u001b[0;34m+\u001b[0m \u001b[0mstr\u001b[0m\u001b[0;34m(\u001b[0m\u001b[0msingle_value\u001b[0m\u001b[0;34m)\u001b[0m \u001b[0;34m+\u001b[0m \u001b[0;34m' of type'\u001b[0m \u001b[0;34m+\u001b[0m\u001b[0;34m\u001b[0m\u001b[0;34m\u001b[0m\u001b[0m\n\u001b[0;32m---> 83\u001b[0;31m                          ' ' + str(type(single_value)))\n\u001b[0m\u001b[1;32m     84\u001b[0m     \u001b[0;32mreturn\u001b[0m \u001b[0mvalue_tuple\u001b[0m\u001b[0;34m\u001b[0m\u001b[0;34m\u001b[0m\u001b[0m\n\u001b[1;32m     85\u001b[0m \u001b[0;34m\u001b[0m\u001b[0m\n",
            "\u001b[0;31mValueError\u001b[0m: The `pool_size` argument must be a tuple of 2 integers. Received: (128, (3, 3)) including element (3, 3) of type <class 'tuple'>"
          ]
        }
      ]
    },
    {
      "cell_type": "code",
      "metadata": {
        "id": "Bdv0Vn9iwo5y"
      },
      "source": [
        "# model1.summary()\n",
        "# model.compile()\n",
        "loss = tf.keras.losses.categorical_crossentropy\n",
        "optimizer = tf.keras.optimizers.RMSprop(learning_rate=0.0001)\n",
        "metrics = tf.keras.metrics.categorical_accuracy\n",
        "model.compile(loss=loss,\n",
        "              optimizer = optimizer,\n",
        "              metrics= [metrics])\n"
      ],
      "execution_count": null,
      "outputs": []
    },
    {
      "cell_type": "code",
      "metadata": {
        "id": "XbRQZslf3Wpi"
      },
      "source": [
        "# 모델 최적화 설정\n",
        "model_dir = './CNN_Fasion_MNIST_model/'\n",
        "if not os.path.exists(model_dir):\n",
        "    os.mkdir(model_dir)\n",
        "\n",
        "model_path=\"./CNN_Fasion_MNIST_model/{epoch:02d}-{val_loss:.4f}.hdf5\"\n",
        "callback_list = [tf.keras.callbacks.ModelCheckpoint(filepath=model_path, monitor='val_loss', verbose=1, save_best_only=True),\n",
        "                 tf.keras.callbacks.EarlyStopping(monitor='val_loss', patience=10)]"
      ],
      "execution_count": null,
      "outputs": []
    },
    {
      "cell_type": "code",
      "metadata": {
        "id": "IPp_vKHN3MXY"
      },
      "source": [
        "# model.fit() # EarlyStopping 적용 patience = 7\n",
        "# 모델의 실행\n",
        "history = model.fit(x_train_norm, y_encoded, validation_split=0.2, epochs=10, batch_size=200, verbose=1, callbacks=callback_list)\n",
        "# 테스트 정확도 출력\n"
      ],
      "execution_count": null,
      "outputs": []
    },
    {
      "cell_type": "code",
      "metadata": {
        "id": "rnMPCUC9wo3U"
      },
      "source": [
        "# 모델 2 설계 (kernel_initialzer, callback, BatchNormalization)\n",
        "\n",
        "# 32채널 커널 사이즈 3 Conv2D, relu\n",
        "# 32\n",
        "input_layer = tf.keras.layers.Input(shape=(32, 32, 3))\n",
        "x = tf.keras.layers.Conv2D(32, (3, 3), strides =1, activation='relu', padding='same')(input_layer)\n",
        "\n",
        "# 64채널\n",
        "# 64채널\n",
        "x = tf.keras.layers.MaxPool2D((3, 3))(x)\n",
        "x = tf.keras.layers.Conv2D(64, (3, 3), strides=1, activation='relu')(x)\n",
        "\n",
        "\n",
        "#128채널\n",
        "#128채널\n",
        "\n",
        "x = tf.keras.layers.MaxPool2D((128, (3,3)))(x)\n",
        "\n",
        "# FCL\n",
        "# Flatten()\n",
        "x = tf.keras.layers.Flatten()(x)\n",
        "\n",
        "# Dense() #512채널 \n",
        "output_layer = tf.keras.layers.Dense(512, activation='softmax')(x)\n",
        "\n",
        "# 마지막 분류 \n",
        "model = tf.keras.Model(inputs=[input_layer], outputs=[output_layer])\n",
        "model.summary()\n"
      ],
      "execution_count": null,
      "outputs": []
    },
    {
      "cell_type": "code",
      "metadata": {
        "id": "GzVlN5NEwo0j"
      },
      "source": [
        ""
      ],
      "execution_count": null,
      "outputs": []
    },
    {
      "cell_type": "code",
      "metadata": {
        "id": "RmBwHSjywoxg"
      },
      "source": [
        ""
      ],
      "execution_count": null,
      "outputs": []
    }
  ]
}