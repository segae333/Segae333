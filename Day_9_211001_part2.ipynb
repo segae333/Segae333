{
 "cells": [
  {
   "cell_type": "markdown",
   "metadata": {},
   "source": [
    "## 4. 범주형(카테고리) 데이터 처리"
   ]
  },
  {
   "cell_type": "code",
   "execution_count": null,
   "metadata": {},
   "outputs": [],
   "source": [
    "import pandas as pd\n",
    "import numpy as np\n",
    "\n",
    "df = pd.read_csv('./auto-mpg.csv')\n",
    "\n",
    "df.columns = ['mpg','cylinders','displacement','horsepower','weight',\n",
    "             'acceleration','model year','origin','name']"
   ]
  },
  {
   "cell_type": "code",
   "execution_count": null,
   "metadata": {},
   "outputs": [],
   "source": [
    "# horsepower 열의 누락 데이터 처리('?' 삭제 후 실수형으로 변경)\n",
    "df['horsepower'].replace('?', np.nan, inplace=True)\n",
    "df.dropna(subset=['horsepower'], axis=0, inplace=True)\n",
    "df['horsepower'] = df['horsepower'].astype('float')"
   ]
  },
  {
   "cell_type": "code",
   "execution_count": null,
   "metadata": {},
   "outputs": [],
   "source": [
    "# 3개의 구간(bin)으로 나누어서 범위로 처리를 하려고 함 \n",
    "count, bin_div = np.histogram(df['horsepower'], bins=3)\n",
    "print(bin_div)\n",
    "\n",
    "bin_names = ['저출력','보통출력','고출력']"
   ]
  },
  {
   "cell_type": "code",
   "execution_count": null,
   "metadata": {},
   "outputs": [],
   "source": [
    "df['hp_bin'] = pd.cut( x = df['horsepower'], # 첫번째 인자 => 데이터 배열\n",
    "                     bins = bin_div, # 두번째 인자 => 경계 리스트 \n",
    "                     labels = bin_names, # bin의 이름 \n",
    "                     include_lowest = True\n",
    "                     )\n",
    "df[['horsepower', 'hp_bin']].head()\n"
   ]
  },
  {
   "cell_type": "code",
   "execution_count": null,
   "metadata": {},
   "outputs": [],
   "source": [
    "# 타이타닉을 로드하여 처리 \n",
    "# 'age'컬럼으로 데이터 처리 bin을 4 로['유아기', '청소년', '청년', '장년']\n",
    "\n",
    "import seaborn as sns\n",
    "titanic = sns.load_dataset('titanic')\n",
    "\n",
    "print(titanic['age'].dtypes) # float 64 형식\n",
    "\n",
    "\n",
    "\"\"\"print(titanic.head())\n",
    "count, bin_div = np.histogram(titanic['age'], bins=4)\n",
    "\n",
    "print(bin_div)\"\"\""
   ]
  },
  {
   "cell_type": "code",
   "execution_count": null,
   "metadata": {},
   "outputs": [],
   "source": [
    "titanic.info()  \n",
    "print(titanic['age'].isnull().sum()) # age 칼럼에는 177개의 결측치가 있음"
   ]
  },
  {
   "cell_type": "code",
   "execution_count": null,
   "metadata": {},
   "outputs": [],
   "source": [
    "# 결측치를 평균 나이로 채움 \n",
    "mean_age = titanic['age'].mean(axis=0)\n",
    "titanic['age'] = titanic['age'].fillna(mean_age) \n",
    "titanic['age'] = titanic['age'].round().astype('int') # float을 int로 \n"
   ]
  },
  {
   "cell_type": "code",
   "execution_count": null,
   "metadata": {},
   "outputs": [],
   "source": [
    "titanic['age'].isnull().sum(axis=0) # NaN 데이터를 처리 평균 나이로 대체\n",
    "age_avg = (titanic['age'].sum() / titanic['age'].countt()).round()\n",
    "\n",
    "titanic['age'].fillna(value= age_avg, axis=0, inplace=True)"
   ]
  },
  {
   "cell_type": "code",
   "execution_count": null,
   "metadata": {},
   "outputs": [],
   "source": [
    "titanic.info() # 714개의 값에서 891개의 관측값으로 변경됨 "
   ]
  },
  {
   "cell_type": "code",
   "execution_count": null,
   "metadata": {},
   "outputs": [],
   "source": [
    "bin_names = ['유아기','청소년','청년','장년']\n",
    "bin_values = [0,20,40,60,100]\n",
    "\n",
    "titanic['age_bin'] = pd.cut( x = titanic['age'],  # 데이터 배열\n",
    "                       bins = bin_values,      # 경계 리스트\n",
    "                       labels = bin_names,     # 빈 이름\n",
    "                       include_lowest = True)"
   ]
  },
  {
   "cell_type": "code",
   "execution_count": null,
   "metadata": {},
   "outputs": [],
   "source": [
    "titanic[['age', 'age_bin']].head(10)"
   ]
  },
  {
   "cell_type": "code",
   "execution_count": null,
   "metadata": {},
   "outputs": [],
   "source": [
    "horse_dummies = pd.get_dummies(df['hp_bin'])\n",
    "horse_dummies.head(10)\n",
    "pd.get_dummies(df['hp_bin'], prefix=)"
   ]
  },
  {
   "cell_type": "code",
   "execution_count": null,
   "metadata": {},
   "outputs": [],
   "source": [
    "from sklearn import preprocessing\n",
    "\n",
    "# 전처리를 위한 encoder 객체 만들기\n",
    "label_encoder = preprocessing.LabelEncoder() # label encoder 생성 \n",
    "onhot_encoder = preprocessing.OneHotEncoder() # Onehot encoder 생성\n"
   ]
  },
  {
   "cell_type": "code",
   "execution_count": null,
   "metadata": {},
   "outputs": [],
   "source": [
    "# label encoder로 문자열 범주를 숫자형 범주로 변환\n",
    "onehot_labeled = label_encoder.fit_transform(df['hp_bin'].head(15))\n",
    "print(onehot_labeled)\n",
    "print(type(onehot_labeled))"
   ]
  },
  {
   "cell_type": "markdown",
   "metadata": {},
   "source": [
    "# 넘파이 기초"
   ]
  },
  {
   "cell_type": "code",
   "execution_count": null,
   "metadata": {},
   "outputs": [],
   "source": [
    "import numpy as np"
   ]
  },
  {
   "cell_type": "code",
   "execution_count": null,
   "metadata": {},
   "outputs": [],
   "source": [
    "arr = np.arange(24)\n",
    "print(arr, type(arr),\":\", arr.shape, arr.size, arr.dtype)\n",
    "\n",
    "arr = arr.reshape(3,4,2)\n",
    "#print(arr, type(arr),\":\", arr.shape, arr.size, arr.dtype)\n",
    "print(arr)\n",
    "arr.sum(axis=2)"
   ]
  },
  {
   "cell_type": "code",
   "execution_count": null,
   "metadata": {},
   "outputs": [],
   "source": [
    "a_list = [1.0, 2.0, 3.0]\n",
    "print(type(a_list))\n",
    "arr_list = np.array(a_list)\n",
    "type(arr_list)\n"
   ]
  },
  {
   "cell_type": "code",
   "execution_count": null,
   "metadata": {},
   "outputs": [],
   "source": [
    "x1 = np.array([1.0, 2.0, 3.0])\n",
    "y1 = np.array([5.0, 10.0, 15.0])\n",
    "x2 = np.array([[1.0, 2.0],[ 3.0, 4.0]]) \n",
    "y2 = np.array([[5.0,10.0],[15.0,20.0]]) \n",
    "z1 = np.array([-1.0, -2.0])\n",
    "z2 = np.array([[5.0],[10.0],[15.0]])\n",
    "\n",
    "# ndarray basic operation  \n",
    "print(x1 + y1) \n",
    "print(x1 - y1) \n",
    "print(x1 * y1) \n",
    "print(x1 / y1) \n",
    "print(x2 + y2) \n",
    "print(x2 * y2)\n",
    "# ndarray broadcast \n",
    "print(x2 + z1) \n",
    "print(x2 * z1) \n",
    "print(x1 + z2) \n",
    "print(x1**2) \n",
    "print(x1>=2)\n",
    "\n",
    "# shape manipulation\n",
    "print(x2.flatten()) \n",
    "print(x2.reshape(2,2))"
   ]
  },
  {
   "cell_type": "code",
   "execution_count": null,
   "metadata": {},
   "outputs": [],
   "source": [
    "x = np.array([1, 2, 3, 4, 5, 6, 7, 8, 9, 10, 11, 12, 13, 14, 15, 16, 17, 18, 19, 20])\n",
    "\n",
    "# 이 배열에서 3의배수를 찾아라 \n",
    "for i in x :\n",
    "    if i % 3 == 0 :\n",
    "        print(i)\n",
    "# 이 배열에서 4로 나누면 1이 남는 수를 찾아라.\n",
    "print(\"--------------------------------\")\n",
    "for i in x :\n",
    "    if i % 4 == 1 :\n",
    "        print(i)\n",
    "# 이 배열에서 3으로 나누면나누어지고 4로 나누면 1이 남는수를 찾아라.\n",
    "print(\"--------------------------------\")\n",
    "for i in x :\n",
    "    if (i % 3 == 0) and (i % 4 == 1) :\n",
    "        print(i)"
   ]
  },
  {
   "cell_type": "code",
   "execution_count": null,
   "metadata": {},
   "outputs": [],
   "source": [
    "import pandas as pd\n",
    "import seaborn as sns\n",
    "\n",
    "titanic = sns.load_dataset('titanic')\n",
    "titanic.columns"
   ]
  },
  {
   "cell_type": "code",
   "execution_count": null,
   "metadata": {},
   "outputs": [],
   "source": [
    "df = titanic.loc[ : ,['age','fare']]\n",
    "df['ten'] = 10\n",
    "df.head()\n",
    "\n",
    "# 매핑 함수를 이용하여 각 원소에 동일한 함수 실행 \n",
    "def add_10(n) : \n",
    "    return n + 10\n",
    "\n",
    "add_10(20)"
   ]
  },
  {
   "cell_type": "code",
   "execution_count": null,
   "metadata": {},
   "outputs": [],
   "source": [
    "# apply() 매서드를 활용하여 시리즈의 각 원소에 동일한 함수 실행\n",
    "ar = df['age'].apply(add_10)"
   ]
  },
  {
   "cell_type": "code",
   "execution_count": null,
   "metadata": {},
   "outputs": [],
   "source": [
    "df['ten_10'] = df['age'].apply(add_10) \n",
    "# aplly매소드는 add_10의 매개변수로 'age'칼럼의 데이터를 차례로 받아옴\n",
    "df.head()"
   ]
  },
  {
   "cell_type": "code",
   "execution_count": null,
   "metadata": {},
   "outputs": [],
   "source": [
    "df_map = df.applymap(add_10) # applymap 은 데이터프레임 모든 데이터를 함수의 매개변수로 사용\n",
    "df_map.head()"
   ]
  },
  {
   "cell_type": "code",
   "execution_count": null,
   "metadata": {},
   "outputs": [],
   "source": [
    "df['age_lamb'] = df['age'].apply(lambda x: add_10(x))\n",
    "df.head()"
   ]
  },
  {
   "cell_type": "code",
   "execution_count": null,
   "metadata": {},
   "outputs": [],
   "source": [
    "# titanic 데이터를 load\n",
    "# age와 fare 컬럼만추출 \n",
    "# age에서 평균 나이를 차감한 나이를 'age_avg' 컬럼으로 추가 integer타입으로\n",
    "# 나이의 구간을 4단계로 나누어서( 0~20 청소년 21~70 장년 71~ 노년)으로 컬럼 추가 \n",
    "# one_hot_encoding"
   ]
  },
  {
   "cell_type": "code",
   "execution_count": 12,
   "metadata": {},
   "outputs": [
    {
     "data": {
      "text/html": [
       "<div>\n",
       "<style scoped>\n",
       "    .dataframe tbody tr th:only-of-type {\n",
       "        vertical-align: middle;\n",
       "    }\n",
       "\n",
       "    .dataframe tbody tr th {\n",
       "        vertical-align: top;\n",
       "    }\n",
       "\n",
       "    .dataframe thead th {\n",
       "        text-align: right;\n",
       "    }\n",
       "</style>\n",
       "<table border=\"1\" class=\"dataframe\">\n",
       "  <thead>\n",
       "    <tr style=\"text-align: right;\">\n",
       "      <th></th>\n",
       "      <th>age</th>\n",
       "      <th>fare</th>\n",
       "      <th>age_m</th>\n",
       "      <th>age_bin</th>\n",
       "      <th>청소년</th>\n",
       "      <th>장년</th>\n",
       "      <th>노년</th>\n",
       "    </tr>\n",
       "  </thead>\n",
       "  <tbody>\n",
       "    <tr>\n",
       "      <th>0</th>\n",
       "      <td>22</td>\n",
       "      <td>7.2500</td>\n",
       "      <td>-2</td>\n",
       "      <td>장년</td>\n",
       "      <td>0</td>\n",
       "      <td>1</td>\n",
       "      <td>0</td>\n",
       "    </tr>\n",
       "    <tr>\n",
       "      <th>1</th>\n",
       "      <td>38</td>\n",
       "      <td>71.2833</td>\n",
       "      <td>14</td>\n",
       "      <td>장년</td>\n",
       "      <td>0</td>\n",
       "      <td>1</td>\n",
       "      <td>0</td>\n",
       "    </tr>\n",
       "    <tr>\n",
       "      <th>2</th>\n",
       "      <td>26</td>\n",
       "      <td>7.9250</td>\n",
       "      <td>2</td>\n",
       "      <td>장년</td>\n",
       "      <td>0</td>\n",
       "      <td>1</td>\n",
       "      <td>0</td>\n",
       "    </tr>\n",
       "    <tr>\n",
       "      <th>3</th>\n",
       "      <td>35</td>\n",
       "      <td>53.1000</td>\n",
       "      <td>11</td>\n",
       "      <td>장년</td>\n",
       "      <td>0</td>\n",
       "      <td>1</td>\n",
       "      <td>0</td>\n",
       "    </tr>\n",
       "    <tr>\n",
       "      <th>4</th>\n",
       "      <td>35</td>\n",
       "      <td>8.0500</td>\n",
       "      <td>11</td>\n",
       "      <td>장년</td>\n",
       "      <td>0</td>\n",
       "      <td>1</td>\n",
       "      <td>0</td>\n",
       "    </tr>\n",
       "    <tr>\n",
       "      <th>5</th>\n",
       "      <td>0</td>\n",
       "      <td>8.4583</td>\n",
       "      <td>-24</td>\n",
       "      <td>청소년</td>\n",
       "      <td>1</td>\n",
       "      <td>0</td>\n",
       "      <td>0</td>\n",
       "    </tr>\n",
       "    <tr>\n",
       "      <th>6</th>\n",
       "      <td>54</td>\n",
       "      <td>51.8625</td>\n",
       "      <td>30</td>\n",
       "      <td>장년</td>\n",
       "      <td>0</td>\n",
       "      <td>1</td>\n",
       "      <td>0</td>\n",
       "    </tr>\n",
       "    <tr>\n",
       "      <th>7</th>\n",
       "      <td>2</td>\n",
       "      <td>21.0750</td>\n",
       "      <td>-22</td>\n",
       "      <td>청소년</td>\n",
       "      <td>1</td>\n",
       "      <td>0</td>\n",
       "      <td>0</td>\n",
       "    </tr>\n",
       "    <tr>\n",
       "      <th>8</th>\n",
       "      <td>27</td>\n",
       "      <td>11.1333</td>\n",
       "      <td>3</td>\n",
       "      <td>장년</td>\n",
       "      <td>0</td>\n",
       "      <td>1</td>\n",
       "      <td>0</td>\n",
       "    </tr>\n",
       "    <tr>\n",
       "      <th>9</th>\n",
       "      <td>14</td>\n",
       "      <td>30.0708</td>\n",
       "      <td>-10</td>\n",
       "      <td>청소년</td>\n",
       "      <td>1</td>\n",
       "      <td>0</td>\n",
       "      <td>0</td>\n",
       "    </tr>\n",
       "  </tbody>\n",
       "</table>\n",
       "</div>"
      ],
      "text/plain": [
       "   age     fare  age_m age_bin  청소년  장년  노년\n",
       "0   22   7.2500     -2      장년    0   1   0\n",
       "1   38  71.2833     14      장년    0   1   0\n",
       "2   26   7.9250      2      장년    0   1   0\n",
       "3   35  53.1000     11      장년    0   1   0\n",
       "4   35   8.0500     11      장년    0   1   0\n",
       "5    0   8.4583    -24     청소년    1   0   0\n",
       "6   54  51.8625     30      장년    0   1   0\n",
       "7    2  21.0750    -22     청소년    1   0   0\n",
       "8   27  11.1333      3      장년    0   1   0\n",
       "9   14  30.0708    -10     청소년    1   0   0"
      ]
     },
     "execution_count": 12,
     "metadata": {},
     "output_type": "execute_result"
    }
   ],
   "source": [
    "import pandas as pd\n",
    "import seaborn as sns\n",
    "import numpy as np\n",
    "\n",
    "titanic = sns.load_dataset('titanic')\n",
    "df = titanic.loc[:,['age','fare']]\n",
    "null_cnt = df['age'].isnull().sum() # age의 결측치 갯수\n",
    "\n",
    "if null_cnt :\n",
    "    df['age'].fillna(value=0, axis=0, inplace=True)\n",
    "\n",
    "def age_minus(age, avg_age) :\n",
    "    return age - avg_age\n",
    "avg_age = np.array(df['age']).mean().round()\n",
    "\n",
    "df['age_m'] = df['age'].apply(age_minus, avg_age=avg_age) # 나이의 차를 구함\n",
    "\n",
    "\n",
    "\n",
    "\n",
    "bin_labels = ['청소년', '장년', '노년']\n",
    "bin_values = [0, 21, 71, 100]\n",
    "df['age_bin'] = pd.cut( x = df['age'],\n",
    "                      bins = bin_values,\n",
    "                      labels = bin_labels,\n",
    "                      include_lowest = True)\n",
    "\n",
    "df[bin_labels] = pd.get_dummies(df['age_bin'])\n",
    "df[['age', 'age_m']] = df[['age', 'age_m']].astype('int')\n",
    "\n",
    "df.head(10)"
   ]
  },
  {
   "cell_type": "code",
   "execution_count": 13,
   "metadata": {},
   "outputs": [
    {
     "name": "stdout",
     "output_type": "stream",
     "text": [
      "u_age : ['노년' '장년' '청소년'], cnt : [  2 508 381]\n"
     ]
    }
   ],
   "source": [
    "u_age, cnt = np.unique(df['age_bin'],return_counts=True)\n",
    "print(\"u_age : {}, cnt : {}\".format(u_age, cnt))"
   ]
  },
  {
   "cell_type": "code",
   "execution_count": 14,
   "metadata": {},
   "outputs": [
    {
     "data": {
      "image/png": "[encoded data removed]",
      "text/plain": [
       "<Figure size 432x288 with 1 Axes>"
      ]
     },
     "metadata": {
      "needs_background": "light"
     },
     "output_type": "display_data"
    }
   ],
   "source": [
    "import matplotlib.pyplot as plt\n",
    "\n",
    "plt.rcParams['font.family'] = 'Malgun Gothic'\n",
    "plt.rcParams['axes.unicode_minus'] = False\n",
    "\n",
    "plt.title(\"타이타닉 승선자 연령\")\n",
    "plt.plot(u_age, cnt)\n",
    "plt.show()"
   ]
  }
 ],
 "metadata": {
  "kernelspec": {
   "display_name": "Python 3",
   "language": "python",
   "name": "python3"
  },
  "language_info": {
   "codemirror_mode": {
    "name": "ipython",
    "version": 3
   },
   "file_extension": ".py",
   "mimetype": "text/x-python",
   "name": "python",
   "nbconvert_exporter": "python",
   "pygments_lexer": "ipython3",
   "version": "3.7.5"
  }
 },
 "nbformat": 4,
 "nbformat_minor": 2
}
