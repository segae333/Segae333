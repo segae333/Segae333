{
 "cells": [
  {
   "cell_type": "code",
   "execution_count": 1,
   "id": "26a0cb67",
   "metadata": {},
   "outputs": [],
   "source": [
    "# class 와 object\n",
    "\n",
    "# 학생 리스트를 선언 합니다.\n",
    "students = [\n",
    "    { \"name\": \"윤인성\", \"korean\": 87, \"math\": 98, \"english\": 88, \"science\": 95 },\n",
    "    { \"name\": \"연하진\", \"korean\": 92, \"math\": 98, \"english\": 96, \"science\": 98 },\n",
    "    { \"name\": \"구지연\", \"korean\": 76, \"math\": 96, \"english\": 94, \"science\": 90 },\n",
    "    { \"name\": \"나선주\", \"korean\": 98, \"math\": 92, \"english\": 96, \"science\": 92 },\n",
    "    { \"name\": \"윤아린\", \"korean\": 95, \"math\": 98, \"english\": 98, \"science\": 98 },\n",
    "    { \"name\": \"윤명월\", \"korean\": 64, \"math\": 88, \"english\": 92, \"science\": 92 }\n",
    "]"
   ]
  },
  {
   "cell_type": "code",
   "execution_count": 28,
   "id": "6c644f8e",
   "metadata": {},
   "outputs": [],
   "source": [
    "# 딕셔너리를 리턴하는 함수를 선언\n",
    "def create_student(name,korean,math,english,scince) :\n",
    "    return {\n",
    "        \"name\" : name,\n",
    "        \"korean\" : korean,\n",
    "        \"english\" : english,\n",
    "        \"math\" : math,\n",
    "        \"science\" : scince        \n",
    "    }\n",
    "\n",
    "# 학생 점수의 합을 구하는 함수 \n",
    "def student_get_sum(student) : \n",
    "    return student['korean'] + student['math'] + student['english'] + student['science']\n",
    "\n",
    "# 평균을 구하는 함수\n",
    "def student_get_avg(student) :\n",
    "    return student_get_sum(student) / 4\n",
    "\n",
    "# 출력하는 함수 \n",
    "def student_to_string(student) : \n",
    "    return \"{}\\t{}\\t{}\".format(student[\"name\"], student_get_sum(student), student_get_avg(student))"
   ]
  },
  {
   "cell_type": "code",
   "execution_count": 55,
   "id": "83b93619",
   "metadata": {},
   "outputs": [
    {
     "name": "stdout",
     "output_type": "stream",
     "text": [
      "이름\t총점\t평균\n",
      "윤인성\t368\t92.0\n",
      "연하진\t384\t96.0\n",
      "구지연\t356\t89.0\n",
      "나선주\t378\t94.5\n",
      "윤아린\t389\t97.25\n",
      "윤명월\t336\t84.0\n"
     ]
    }
   ],
   "source": [
    "students = [\n",
    "    create_student(\"윤인성\", 87, 98, 88, 95),\n",
    "    create_student(\"연하진\", 92, 98, 96, 98),\n",
    "    create_student(\"구지연\", 76, 96, 94, 90),\n",
    "    create_student(\"나선주\", 98, 92, 96, 92),\n",
    "    create_student(\"윤아린\", 95, 98, 98, 98),\n",
    "    create_student(\"윤명월\", 64, 88, 92, 92)\n",
    "]\n",
    "print(\"이름\", \"총점\", \"평균\", sep = \"\\t\")\n",
    "for student in students :\n",
    "    print(student_to_string(student))"
   ]
  },
  {
   "cell_type": "code",
   "execution_count": 5,
   "id": "10c0a0cc",
   "metadata": {},
   "outputs": [
    {
     "name": "stdout",
     "output_type": "stream",
     "text": [
      "이름\t총점\t평균\n",
      "윤인성\t368\t92.0\n",
      "연하진\t384\t96.0\n",
      "구지연\t356\t89.0\n",
      "나선주\t378\t94.5\n",
      "윤아린\t389\t97.25\n",
      "윤명월\t336\t84.0\n"
     ]
    }
   ],
   "source": [
    "# 학생을 한 명씩 반복 합니다.\n",
    "print(\"이름\", \"총점\", \"평균\", sep = \"\\t\")\n",
    "for student in students :\n",
    "    # 점수의 총합과 평균을 구합니다.\n",
    "    score_sum = student['korean'] + student['math'] + student['english'] + student['science']\n",
    "    score_avg = score_sum / 4\n",
    "    print(student['name'],score_sum,score_avg, sep=\"\\t\")                                                                                       \n",
    "                                                                                   "
   ]
  },
  {
   "cell_type": "markdown",
   "id": "1e1e46cf",
   "metadata": {},
   "source": [
    "클래스\n",
    "객체를 조금 더 효육적으로 생성하기 위해 만들어진 구문(일반적으로 카멜 케이스로 작명)\n",
    "class 클래스 이름 : \n",
    "    클래스 내용\n",
    "    \n",
    "생성자\n",
    "클래스이름과 같은 함수\n",
    "class 클래스 이름 :\n",
    "    def __init__(self,추가적인 매개변수) :\n",
    "        pass\n",
    "        \n",
    "클래스 내부의 함수는 첫 번째 매개변수로 반드시 self 입력해야 함\n",
    "self : '자기자신' 나타내는 딕셔너리\n",
    "self.<식별자>형태로 접근"
   ]
  },
  {
   "cell_type": "code",
   "execution_count": 64,
   "id": "730e0a63",
   "metadata": {},
   "outputs": [],
   "source": [
    "#class 로 생성하여 object를 관리\n",
    "class Student : # 함수가 아니기 때문에 뒤에 괄호가 필요 없음\n",
    "    def __init__(self,name,korean,math,english,science) : # 생성자 \n",
    "        self.name = name\n",
    "        self.korean = korean\n",
    "        self.math = math\n",
    "        self.english = english\n",
    "        self.science = science\n",
    "\n",
    "    def get_sum(self) : \n",
    "        return self.korean + self.math + self.english + self.science\n",
    "    def get_avg(self) :\n",
    "        return self.get_sum / 4\n",
    "    def __str__(self) :\n",
    "        return \"{}\\t{}\\t{}\".format(self.name, self.get_sum, self.get_avg)\n",
    "    \n",
    "    def __eq__(self, value): \n",
    "        return self.get_sum() == value.get_sum()\n",
    "    def __ne__(self, value): \n",
    "        return self.get_sum() != value.get_sum()\n",
    "    def __gt__(self, value):\n",
    "        return self.get_sum() > value.get_sum()\n",
    "    def __ge__(self, value):\n",
    "        return self.get_sum() >= value.get_sum()\n",
    "    def __lt__(self, value):\n",
    "        return self.get_sum() < value.get_sum()\n",
    "    def __le__(self, value):\n",
    "        return self.get_sum() <= value.get_sum()\n",
    "#a_class  =Student(\"윤인성\", 87, 98, 88, 95)        \n",
    "# Student 클래스 , a_class 인스턴스, 데이터\n",
    "#print(a_class.name, a_class.korean, a_class.math)\n"
   ]
  },
  {
   "cell_type": "code",
   "execution_count": 66,
   "id": "efab0fc6",
   "metadata": {},
   "outputs": [
    {
     "name": "stdout",
     "output_type": "stream",
     "text": [
      "이름\t총점\t평균\n",
      "윤인성\t<bound method Student.get_sum of <__main__.Student object at 0x0000021B66771A00>>\t<bound method Student.get_avg of <__main__.Student object at 0x0000021B66771A00>>\n",
      "연하진\t<bound method Student.get_sum of <__main__.Student object at 0x0000021B66771F70>>\t<bound method Student.get_avg of <__main__.Student object at 0x0000021B66771F70>>\n",
      "구지연\t<bound method Student.get_sum of <__main__.Student object at 0x0000021B66771D90>>\t<bound method Student.get_avg of <__main__.Student object at 0x0000021B66771D90>>\n",
      "나선주\t<bound method Student.get_sum of <__main__.Student object at 0x0000021B66771AF0>>\t<bound method Student.get_avg of <__main__.Student object at 0x0000021B66771AF0>>\n",
      "윤아린\t<bound method Student.get_sum of <__main__.Student object at 0x0000021B66771040>>\t<bound method Student.get_avg of <__main__.Student object at 0x0000021B66771040>>\n",
      "윤명월\t<bound method Student.get_sum of <__main__.Student object at 0x0000021B66771B80>>\t<bound method Student.get_avg of <__main__.Student object at 0x0000021B66771B80>>\n",
      "students[0] == students[1] =  True\n"
     ]
    }
   ],
   "source": [
    "students = [\n",
    "    Student(\"윤인성\", 87, 98, 88, 95),\n",
    "    Student(\"연하진\", 92, 98, 96, 98),\n",
    "    Student(\"구지연\", 76, 96, 94, 90),\n",
    "    Student(\"나선주\", 98, 92, 96, 92),\n",
    "    Student(\"윤아린\", 95, 98, 98, 98),\n",
    "    Student(\"윤명월\", 64, 88, 92, 92)\n",
    "]\n",
    "print(\"이름\", \"총점\", \"평균\", sep=\"\\t\")\n",
    "for student in students:\n",
    "    print(str(student))   # student의 __str__() 함수가 실행 됨\n",
    "print(\"students[0] == students[1] = \", students[0] != students[1])"
   ]
  },
  {
   "cell_type": "code",
   "execution_count": 58,
   "id": "c22c0d26",
   "metadata": {},
   "outputs": [
    {
     "name": "stdout",
     "output_type": "stream",
     "text": [
      "students의 데이터 갯수 :  6\n"
     ]
    },
    {
     "data": {
      "text/plain": [
       "'연하진'"
      ]
     },
     "execution_count": 58,
     "metadata": {},
     "output_type": "execute_result"
    }
   ],
   "source": [
    "students = [\n",
    "    Student(\"윤인성\", 87, 98, 88, 95),\n",
    "    Student(\"연하진\", 92, 98, 96, 98),\n",
    "    Student(\"구지연\", 76, 96, 94, 90),\n",
    "    Student(\"나선주\", 98, 92, 96, 92),\n",
    "    Student(\"윤아린\", 95, 98, 98, 98),\n",
    "    Student(\"윤명월\", 64, 88, 92, 92)\n",
    "]\n",
    "\n",
    "print(\"students의 데이터 갯수 : \", len(students))\n",
    "students[1].name"
   ]
  },
  {
   "cell_type": "code",
   "execution_count": null,
   "id": "094ee6f2",
   "metadata": {},
   "outputs": [],
   "source": [
    "상속 어떤 클래스를 기반으로 그 속성과 기능을 물려받아 새로운 클래스 만드는것\n"
   ]
  },
  {
   "cell_type": "code",
   "execution_count": 62,
   "id": "2972caf2",
   "metadata": {},
   "outputs": [
    {
     "name": "stdout",
     "output_type": "stream",
     "text": [
      "isinstance(student, Human) :  True\n",
      "type(student)==Human False\n",
      "isinstance(human, Student) :  False\n",
      "type(human) == Human  True\n"
     ]
    }
   ],
   "source": [
    "# instance(인스턴스, 클래스)\n",
    "class Human : \n",
    "    def __init__(self) :\n",
    "        pass\n",
    "    \n",
    "class Student(Human) : \n",
    "    def __init__(self) :\n",
    "        pass\n",
    "    \n",
    "student= Student()\n",
    "# instance 확인\n",
    "print(\"isinstance(student, Human) : \", isinstance(student,Human))\n",
    "print(\"type(student)==Human\" , type(student) == Human)\n",
    "\n",
    "human = Human()\n",
    "print(\"isinstance(human, Student) : \", isinstance(human, Student))\n",
    "print(\"type(human) == Human \", type(human) == Human)"
   ]
  },
  {
   "cell_type": "markdown",
   "id": "8b94f374",
   "metadata": {},
   "source": [
    "__str__ 함수는 외부에서 str() 을 실행해도 된다."
   ]
  },
  {
   "cell_type": "code",
   "execution_count": 67,
   "id": "cf1b38c3",
   "metadata": {},
   "outputs": [
    {
     "name": "stdout",
     "output_type": "stream",
     "text": [
      "1번째 학생이 생성되었습니다.\n",
      "2번째 학생이 생성되었습니다.\n",
      "3번째 학생이 생성되었습니다.\n",
      "4번째 학생이 생성되었습니다.\n",
      "5번째 학생이 생성되었습니다.\n",
      "6번째 학생이 생성되었습니다.\n",
      "\n",
      "현재 생성된 총 학생 수는 6명입니다.\n"
     ]
    }
   ],
   "source": [
    "class Student:\n",
    "    count = 0\n",
    "\n",
    "    def __init__(self, name, korean, math, english, science):\n",
    "        # 인스턴스 변수 초기화\n",
    "        self.name = name\n",
    "        self.korean = korean\n",
    "        self.math = math\n",
    "        self.english = english\n",
    "        self.science = science\n",
    "        \n",
    "        # 클래스 변수 설정\n",
    "        Student.count += 1\n",
    "        print(\"{}번째 학생이 생성되었습니다.\".format(Student.count))\n",
    "    \n",
    "\n",
    "# 학생 리스트를 선언합니다.\n",
    "students = [\n",
    "    Student(\"윤인성\", 87, 98, 88, 95),\n",
    "    Student(\"연하진\", 92, 98, 96, 98),\n",
    "    Student(\"구지연\", 76, 96, 94, 90),\n",
    "    Student(\"나선주\", 98, 92, 96, 92),\n",
    "    Student(\"윤아린\", 95, 98, 98, 98),\n",
    "    Student(\"윤명월\", 64, 88, 92, 92)\n",
    "]\n",
    "\n",
    "# 출력합니다.\n",
    "print()\n",
    "print(\"현재 생성된 총 학생 수는 {}명입니다.\".format(Student.count))"
   ]
  },
  {
   "cell_type": "markdown",
   "id": "3294fa3a",
   "metadata": {},
   "source": [
    "클래스 함수 \n",
    "클래스가 가진 함수\n",
    "'클래스가 가진 기능' 명시적으로 나타냄\n",
    "데코레이터(decorator) : @classmethod\n",
    "    \n",
    "    "
   ]
  },
  {
   "cell_type": "code",
   "execution_count": null,
   "id": "cbf8d5fa",
   "metadata": {},
   "outputs": [],
   "source": [
    "# 클래스를 선언합니다.\n",
    "class Student:\n",
    "    # 클래스 변수\n",
    "    count = 0\n",
    "    students = []\n",
    "\n",
    "    # 클래스 함수\n",
    "    @classmethod\n",
    "    def print(cls):\n",
    "        print(\"------ 학생 목록 ------\")\n",
    "        print(\"이름\\t총점\\t평균\")\n",
    "        for student in cls.students:\n",
    "            print(str(student))\n",
    "        print(\"------- ------- -------\")\n",
    "\n",
    "    # 인스턴스 함수\n",
    "    def __init__(self, name, korean, math, english, science):\n",
    "        self.name = name\n",
    "        self.korean = korean\n",
    "        self.math = math\n",
    "        self.english = english\n",
    "        self.science = science\n",
    "        Student.count += 1\n",
    "        Student.students.append(self)\n",
    "\n",
    "    def get_sum(self):\n",
    "        return self.korean + self.math +\\\n",
    "            self.english + self.science\n",
    "\n",
    "    def get_average(self):\n",
    "        return self.get_sum() / 4\n",
    "\n",
    "    def __str__(self):\n",
    "        return \"{}\\t{}\\t{}\".format(\\\n",
    "            self.name,\\\n",
    "            self.get_sum(),\\\n",
    "            self.get_average())"
   ]
  },
  {
   "cell_type": "code",
   "execution_count": null,
   "id": "ada1d5a9",
   "metadata": {},
   "outputs": [],
   "source": [
    "# 파이빗 변수\n",
    "# 클래스 내에서 __두개로 <변수이름>형태로 인스턴스 변수 선언\n"
   ]
  },
  {
   "cell_type": "code",
   "execution_count": 69,
   "id": "1b4eaf06",
   "metadata": {},
   "outputs": [
    {
     "name": "stdout",
     "output_type": "stream",
     "text": [
      "# 원의 둘레와 넓이를 구합니다.\n",
      "원의 둘레: 62.83185307179586\n",
      "원의 넓이: 314.1592653589793\n",
      "\n",
      "# __radius에 접근합니다.\n",
      "<bound method Circle.get_radius of <__main__.Circle object at 0x0000021B667711C0>>\n"
     ]
    }
   ],
   "source": [
    "# 원의 둘레와 넓이를 구합니다\n",
    "# 모듈을 가져옵니다.\n",
    "import math\n",
    "\n",
    "# 클래스를 선언합니다.\n",
    "class Circle:\n",
    "    def __init__(self, radius):\n",
    "        self.__radius = radius\n",
    "    def get_circumference(self):\n",
    "        return 2 * math.pi *  self.__radius\n",
    "    def get_area(self):\n",
    "        return math.pi * (self.__radius ** 2)\n",
    "                                            \n",
    "    def get_radius(self) :     # getter\n",
    "        return self.__radius\n",
    "    def set_radius(self, value) :      # setter\n",
    "        self.__radius = value\n",
    "                                                       \n",
    "# 원의 둘레와 넓이를 구합니다.\n",
    "circle = Circle(10)\n",
    "print(\"# 원의 둘레와 넓이를 구합니다.\")\n",
    "print(\"원의 둘레:\", circle.get_circumference())\n",
    "print(\"원의 넓이:\", circle.get_area())\n",
    "print()\n",
    "\n",
    "# __radius에 접근합니다.\n",
    "print(\"# __radius에 접근합니다.\")\n",
    "print(circle.get_radius)\n"
   ]
  },
  {
   "cell_type": "code",
   "execution_count": 70,
   "id": "95c41721",
   "metadata": {},
   "outputs": [
    {
     "name": "stdout",
     "output_type": "stream",
     "text": [
      "<class 'dict'>\n",
      "<class 'pandas.core.series.Series'>\n"
     ]
    }
   ],
   "source": [
    "# pandas를 활용하여 데이터 처리\n",
    "import pandas as pd\n",
    "\n",
    "dict_data = {'a' : 1, 'b':2, 'c':3}\n",
    "\n",
    "ar = pd.Series(dict_data)\n",
    "\n",
    "print(type(dict_data))\n",
    "print(type(ar))"
   ]
  },
  {
   "cell_type": "code",
   "execution_count": 72,
   "id": "bc4e5459",
   "metadata": {},
   "outputs": [
    {
     "name": "stdout",
     "output_type": "stream",
     "text": [
      "{'a': 1, 'b': 2, 'c': 3}\n",
      "a    1\n",
      "b    2\n",
      "c    3\n",
      "dtype: int64\n",
      "1 : 1\n",
      "a    1\n",
      "c    3\n",
      "dtype: int64\n"
     ]
    },
    {
     "data": {
      "text/plain": [
       "b    2\n",
       "c    3\n",
       "dtype: int64"
      ]
     },
     "execution_count": 72,
     "metadata": {},
     "output_type": "execute_result"
    }
   ],
   "source": [
    "print(dict_data)\n",
    "print(ar)\n",
    "\n",
    "print(dict_data['a'], \":\", ar[0]) ## ar에서 'a' 인덱스명\n",
    "print(ar[['a','c']])\n",
    "ar[1:2] # 인덱스 첨자로 접근하면 자미작 첨자 위치 데이터 불포함\n",
    "ar['b' : 'c'] # 인덱스명으로 접근하면 마지막 데이터 포함\n",
    "# 딕셔너리를 시리즈로 변경 : 딕셔너리의 키가 시리즈의 인덱스명이 됨\n",
    "# 접근은 인덱스명 또는 인덱스 첨자로 접근 가능\n"
   ]
  },
  {
   "cell_type": "code",
   "execution_count": 82,
   "id": "f42f9c94",
   "metadata": {},
   "outputs": [
    {
     "data": {
      "text/html": [
       "<div>\n",
       "<style scoped>\n",
       "    .dataframe tbody tr th:only-of-type {\n",
       "        vertical-align: middle;\n",
       "    }\n",
       "\n",
       "    .dataframe tbody tr th {\n",
       "        vertical-align: top;\n",
       "    }\n",
       "\n",
       "    .dataframe thead th {\n",
       "        text-align: right;\n",
       "    }\n",
       "</style>\n",
       "<table border=\"1\" class=\"dataframe\">\n",
       "  <thead>\n",
       "    <tr style=\"text-align: right;\">\n",
       "      <th></th>\n",
       "      <th>c1</th>\n",
       "      <th>c2</th>\n",
       "      <th>c3</th>\n",
       "    </tr>\n",
       "  </thead>\n",
       "  <tbody>\n",
       "    <tr>\n",
       "      <th>ida</th>\n",
       "      <td>1</td>\n",
       "      <td>2</td>\n",
       "      <td>3</td>\n",
       "    </tr>\n",
       "    <tr>\n",
       "      <th>idb</th>\n",
       "      <td>4</td>\n",
       "      <td>5</td>\n",
       "      <td>6</td>\n",
       "    </tr>\n",
       "    <tr>\n",
       "      <th>c</th>\n",
       "      <td>7</td>\n",
       "      <td>8</td>\n",
       "      <td>9</td>\n",
       "    </tr>\n",
       "  </tbody>\n",
       "</table>\n",
       "</div>"
      ],
      "text/plain": [
       "     c1  c2  c3\n",
       "ida   1   2   3\n",
       "idb   4   5   6\n",
       "c     7   8   9"
      ]
     },
     "execution_count": 82,
     "metadata": {},
     "output_type": "execute_result"
    }
   ],
   "source": [
    "a_var = [[1,2,3,],[4,5,6],[7,8,9]]\n",
    "df = pd.DataFrame(a_var)\n",
    "df\n",
    "\n",
    "df.index = ['a','b','c']\n",
    "df.columns = ['c1','c2','c3']\n",
    "df1 = df\n",
    "df1.rename(index = {'a' : 'ida', 'b' : 'idb'}, inplace=True)\n",
    "df1"
   ]
  },
  {
   "cell_type": "code",
   "execution_count": 83,
   "id": "0a1bdab2",
   "metadata": {},
   "outputs": [
    {
     "ename": "KeyError",
     "evalue": "'[0] not found in axis'",
     "output_type": "error",
     "traceback": [
      "\u001b[1;31m---------------------------------------------------------------------------\u001b[0m",
      "\u001b[1;31mKeyError\u001b[0m                                  Traceback (most recent call last)",
      "\u001b[1;32m<ipython-input-83-b8aa054cf9e8>\u001b[0m in \u001b[0;36m<module>\u001b[1;34m\u001b[0m\n\u001b[0;32m      1\u001b[0m \u001b[0mdf1\u001b[0m \u001b[1;33m=\u001b[0m \u001b[0mdf\u001b[0m \u001b[1;31m# df의 주소를 복사, df의 값이 변하면 df1도 변함\u001b[0m\u001b[1;33m\u001b[0m\u001b[1;33m\u001b[0m\u001b[0m\n\u001b[0;32m      2\u001b[0m \u001b[0mdf2\u001b[0m \u001b[1;33m=\u001b[0m \u001b[0mdf\u001b[0m\u001b[1;33m[\u001b[0m\u001b[1;33m:\u001b[0m\u001b[1;33m]\u001b[0m \u001b[1;31m# df의 값을 복사, df와 df2가 각기 다른 자료로 처리 가능\u001b[0m\u001b[1;33m\u001b[0m\u001b[1;33m\u001b[0m\u001b[0m\n\u001b[1;32m----> 3\u001b[1;33m \u001b[0mdf\u001b[0m\u001b[1;33m.\u001b[0m\u001b[0mdrop\u001b[0m\u001b[1;33m(\u001b[0m\u001b[1;36m0\u001b[0m\u001b[1;33m,\u001b[0m \u001b[0maxis\u001b[0m \u001b[1;33m=\u001b[0m \u001b[1;36m0\u001b[0m\u001b[1;33m,\u001b[0m \u001b[0minplace\u001b[0m\u001b[1;33m=\u001b[0m\u001b[1;32mTrue\u001b[0m\u001b[1;33m)\u001b[0m\u001b[1;33m\u001b[0m\u001b[1;33m\u001b[0m\u001b[0m\n\u001b[0m\u001b[0;32m      4\u001b[0m \u001b[0mdf\u001b[0m\u001b[1;33m\u001b[0m\u001b[1;33m\u001b[0m\u001b[0m\n",
      "\u001b[1;32m~\\anaconda3\\lib\\site-packages\\pandas\\core\\frame.py\u001b[0m in \u001b[0;36mdrop\u001b[1;34m(self, labels, axis, index, columns, level, inplace, errors)\u001b[0m\n\u001b[0;32m   4306\u001b[0m                 \u001b[0mweight\u001b[0m  \u001b[1;36m1.0\u001b[0m     \u001b[1;36m0.8\u001b[0m\u001b[1;33m\u001b[0m\u001b[1;33m\u001b[0m\u001b[0m\n\u001b[0;32m   4307\u001b[0m         \"\"\"\n\u001b[1;32m-> 4308\u001b[1;33m         return super().drop(\n\u001b[0m\u001b[0;32m   4309\u001b[0m             \u001b[0mlabels\u001b[0m\u001b[1;33m=\u001b[0m\u001b[0mlabels\u001b[0m\u001b[1;33m,\u001b[0m\u001b[1;33m\u001b[0m\u001b[1;33m\u001b[0m\u001b[0m\n\u001b[0;32m   4310\u001b[0m             \u001b[0maxis\u001b[0m\u001b[1;33m=\u001b[0m\u001b[0maxis\u001b[0m\u001b[1;33m,\u001b[0m\u001b[1;33m\u001b[0m\u001b[1;33m\u001b[0m\u001b[0m\n",
      "\u001b[1;32m~\\anaconda3\\lib\\site-packages\\pandas\\core\\generic.py\u001b[0m in \u001b[0;36mdrop\u001b[1;34m(self, labels, axis, index, columns, level, inplace, errors)\u001b[0m\n\u001b[0;32m   4151\u001b[0m         \u001b[1;32mfor\u001b[0m \u001b[0maxis\u001b[0m\u001b[1;33m,\u001b[0m \u001b[0mlabels\u001b[0m \u001b[1;32min\u001b[0m \u001b[0maxes\u001b[0m\u001b[1;33m.\u001b[0m\u001b[0mitems\u001b[0m\u001b[1;33m(\u001b[0m\u001b[1;33m)\u001b[0m\u001b[1;33m:\u001b[0m\u001b[1;33m\u001b[0m\u001b[1;33m\u001b[0m\u001b[0m\n\u001b[0;32m   4152\u001b[0m             \u001b[1;32mif\u001b[0m \u001b[0mlabels\u001b[0m \u001b[1;32mis\u001b[0m \u001b[1;32mnot\u001b[0m \u001b[1;32mNone\u001b[0m\u001b[1;33m:\u001b[0m\u001b[1;33m\u001b[0m\u001b[1;33m\u001b[0m\u001b[0m\n\u001b[1;32m-> 4153\u001b[1;33m                 \u001b[0mobj\u001b[0m \u001b[1;33m=\u001b[0m \u001b[0mobj\u001b[0m\u001b[1;33m.\u001b[0m\u001b[0m_drop_axis\u001b[0m\u001b[1;33m(\u001b[0m\u001b[0mlabels\u001b[0m\u001b[1;33m,\u001b[0m \u001b[0maxis\u001b[0m\u001b[1;33m,\u001b[0m \u001b[0mlevel\u001b[0m\u001b[1;33m=\u001b[0m\u001b[0mlevel\u001b[0m\u001b[1;33m,\u001b[0m \u001b[0merrors\u001b[0m\u001b[1;33m=\u001b[0m\u001b[0merrors\u001b[0m\u001b[1;33m)\u001b[0m\u001b[1;33m\u001b[0m\u001b[1;33m\u001b[0m\u001b[0m\n\u001b[0m\u001b[0;32m   4154\u001b[0m \u001b[1;33m\u001b[0m\u001b[0m\n\u001b[0;32m   4155\u001b[0m         \u001b[1;32mif\u001b[0m \u001b[0minplace\u001b[0m\u001b[1;33m:\u001b[0m\u001b[1;33m\u001b[0m\u001b[1;33m\u001b[0m\u001b[0m\n",
      "\u001b[1;32m~\\anaconda3\\lib\\site-packages\\pandas\\core\\generic.py\u001b[0m in \u001b[0;36m_drop_axis\u001b[1;34m(self, labels, axis, level, errors)\u001b[0m\n\u001b[0;32m   4186\u001b[0m                 \u001b[0mnew_axis\u001b[0m \u001b[1;33m=\u001b[0m \u001b[0maxis\u001b[0m\u001b[1;33m.\u001b[0m\u001b[0mdrop\u001b[0m\u001b[1;33m(\u001b[0m\u001b[0mlabels\u001b[0m\u001b[1;33m,\u001b[0m \u001b[0mlevel\u001b[0m\u001b[1;33m=\u001b[0m\u001b[0mlevel\u001b[0m\u001b[1;33m,\u001b[0m \u001b[0merrors\u001b[0m\u001b[1;33m=\u001b[0m\u001b[0merrors\u001b[0m\u001b[1;33m)\u001b[0m\u001b[1;33m\u001b[0m\u001b[1;33m\u001b[0m\u001b[0m\n\u001b[0;32m   4187\u001b[0m             \u001b[1;32melse\u001b[0m\u001b[1;33m:\u001b[0m\u001b[1;33m\u001b[0m\u001b[1;33m\u001b[0m\u001b[0m\n\u001b[1;32m-> 4188\u001b[1;33m                 \u001b[0mnew_axis\u001b[0m \u001b[1;33m=\u001b[0m \u001b[0maxis\u001b[0m\u001b[1;33m.\u001b[0m\u001b[0mdrop\u001b[0m\u001b[1;33m(\u001b[0m\u001b[0mlabels\u001b[0m\u001b[1;33m,\u001b[0m \u001b[0merrors\u001b[0m\u001b[1;33m=\u001b[0m\u001b[0merrors\u001b[0m\u001b[1;33m)\u001b[0m\u001b[1;33m\u001b[0m\u001b[1;33m\u001b[0m\u001b[0m\n\u001b[0m\u001b[0;32m   4189\u001b[0m             \u001b[0mresult\u001b[0m \u001b[1;33m=\u001b[0m \u001b[0mself\u001b[0m\u001b[1;33m.\u001b[0m\u001b[0mreindex\u001b[0m\u001b[1;33m(\u001b[0m\u001b[1;33m**\u001b[0m\u001b[1;33m{\u001b[0m\u001b[0maxis_name\u001b[0m\u001b[1;33m:\u001b[0m \u001b[0mnew_axis\u001b[0m\u001b[1;33m}\u001b[0m\u001b[1;33m)\u001b[0m\u001b[1;33m\u001b[0m\u001b[1;33m\u001b[0m\u001b[0m\n\u001b[0;32m   4190\u001b[0m \u001b[1;33m\u001b[0m\u001b[0m\n",
      "\u001b[1;32m~\\anaconda3\\lib\\site-packages\\pandas\\core\\indexes\\base.py\u001b[0m in \u001b[0;36mdrop\u001b[1;34m(self, labels, errors)\u001b[0m\n\u001b[0;32m   5589\u001b[0m         \u001b[1;32mif\u001b[0m \u001b[0mmask\u001b[0m\u001b[1;33m.\u001b[0m\u001b[0many\u001b[0m\u001b[1;33m(\u001b[0m\u001b[1;33m)\u001b[0m\u001b[1;33m:\u001b[0m\u001b[1;33m\u001b[0m\u001b[1;33m\u001b[0m\u001b[0m\n\u001b[0;32m   5590\u001b[0m             \u001b[1;32mif\u001b[0m \u001b[0merrors\u001b[0m \u001b[1;33m!=\u001b[0m \u001b[1;34m\"ignore\"\u001b[0m\u001b[1;33m:\u001b[0m\u001b[1;33m\u001b[0m\u001b[1;33m\u001b[0m\u001b[0m\n\u001b[1;32m-> 5591\u001b[1;33m                 \u001b[1;32mraise\u001b[0m \u001b[0mKeyError\u001b[0m\u001b[1;33m(\u001b[0m\u001b[1;34mf\"{labels[mask]} not found in axis\"\u001b[0m\u001b[1;33m)\u001b[0m\u001b[1;33m\u001b[0m\u001b[1;33m\u001b[0m\u001b[0m\n\u001b[0m\u001b[0;32m   5592\u001b[0m             \u001b[0mindexer\u001b[0m \u001b[1;33m=\u001b[0m \u001b[0mindexer\u001b[0m\u001b[1;33m[\u001b[0m\u001b[1;33m~\u001b[0m\u001b[0mmask\u001b[0m\u001b[1;33m]\u001b[0m\u001b[1;33m\u001b[0m\u001b[1;33m\u001b[0m\u001b[0m\n\u001b[0;32m   5593\u001b[0m         \u001b[1;32mreturn\u001b[0m \u001b[0mself\u001b[0m\u001b[1;33m.\u001b[0m\u001b[0mdelete\u001b[0m\u001b[1;33m(\u001b[0m\u001b[0mindexer\u001b[0m\u001b[1;33m)\u001b[0m\u001b[1;33m\u001b[0m\u001b[1;33m\u001b[0m\u001b[0m\n",
      "\u001b[1;31mKeyError\u001b[0m: '[0] not found in axis'"
     ]
    }
   ],
   "source": [
    "df1 = df # df의 주소를 복사, df의 값이 변하면 df1도 변함\n",
    "df2 = df[:] # df의 값을 복사, df와 df2가 각기 다른 자료로 처리 가능\n",
    "df.drop(0, axis = 0, inplace=True) \n",
    "df"
   ]
  },
  {
   "cell_type": "code",
   "execution_count": null,
   "id": "322985d9",
   "metadata": {},
   "outputs": [],
   "source": [
    "exam_data = {'수학':[90, 80, 70], '영어':[98,89,95], '음악':[]}"
   ]
  },
  {
   "cell_type": "code",
   "execution_count": 78,
   "id": "2a01cce6",
   "metadata": {},
   "outputs": [],
   "source": [
    "def input_score() :\n",
    "    scores = input(\"국어 영어 수학 점수 입력>\").split()\n",
    "    for i, score in enumerate(scores) :\n",
    "        scores[i] = int(score) # 데이터 타입 변환\n",
    "    return scores"
   ]
  },
  {
   "cell_type": "code",
   "execution_count": 80,
   "id": "d28ee5e4",
   "metadata": {},
   "outputs": [
    {
     "name": "stdout",
     "output_type": "stream",
     "text": [
      "이름 입력 quit 종료 >신세개\n",
      "국어 영어 수학 점수 입력>100 50 50\n",
      "이름 입력 quit 종료 >강민정\n",
      "국어 영어 수학 점수 입력>50 80 50\n",
      "이름 입력 quit 종료 >나채연\n",
      "국어 영어 수학 점수 입력>80 80 80\n",
      "이름 입력 quit 종료 >quit\n"
     ]
    },
    {
     "data": {
      "text/html": [
       "<div>\n",
       "<style scoped>\n",
       "    .dataframe tbody tr th:only-of-type {\n",
       "        vertical-align: middle;\n",
       "    }\n",
       "\n",
       "    .dataframe tbody tr th {\n",
       "        vertical-align: top;\n",
       "    }\n",
       "\n",
       "    .dataframe thead th {\n",
       "        text-align: right;\n",
       "    }\n",
       "</style>\n",
       "<table border=\"1\" class=\"dataframe\">\n",
       "  <thead>\n",
       "    <tr style=\"text-align: right;\">\n",
       "      <th></th>\n",
       "      <th>국어</th>\n",
       "      <th>영어</th>\n",
       "      <th>수학</th>\n",
       "    </tr>\n",
       "  </thead>\n",
       "  <tbody>\n",
       "    <tr>\n",
       "      <th>신세개</th>\n",
       "      <td>100</td>\n",
       "      <td>50</td>\n",
       "      <td>50</td>\n",
       "    </tr>\n",
       "    <tr>\n",
       "      <th>강민정</th>\n",
       "      <td>50</td>\n",
       "      <td>80</td>\n",
       "      <td>50</td>\n",
       "    </tr>\n",
       "    <tr>\n",
       "      <th>나채연</th>\n",
       "      <td>80</td>\n",
       "      <td>80</td>\n",
       "      <td>80</td>\n",
       "    </tr>\n",
       "  </tbody>\n",
       "</table>\n",
       "</div>"
      ],
      "text/plain": [
       "      국어  영어  수학\n",
       "신세개  100  50  50\n",
       "강민정   50  80  50\n",
       "나채연   80  80  80"
      ]
     },
     "execution_count": 80,
     "metadata": {},
     "output_type": "execute_result"
    }
   ],
   "source": [
    "# 성적 입력 프로그램 작성\n",
    "import pandas as pd\n",
    "df = pd.DataFrame(columns=[\"국어\",'영어','수학']) # 컬럼명만 부여한 데이터프레임 생성\n",
    "\n",
    "while True : \n",
    "    name = input(\"이름 입력 quit 종료 >\")\n",
    "    if name == \"quit\" :\n",
    "        break\n",
    "        \n",
    "    score = input_score()\n",
    "    df.loc[name] = score # 입력된 name 인덱스로 점수 추가\n",
    "    \n",
    "df # 데이터 출력\n",
    "# 컬럼을 접근하는 방법 df.컬럼명 또는 df.[컬럼명]\n",
    "# row(행)을 접근하는 방법 df.iloc[인덱스], df.iloc[[1,3,5]]\n",
    "\n"
   ]
  },
  {
   "cell_type": "code",
   "execution_count": 85,
   "id": "f0ae8b20",
   "metadata": {},
   "outputs": [
    {
     "data": {
      "text/html": [
       "<div>\n",
       "<style scoped>\n",
       "    .dataframe tbody tr th:only-of-type {\n",
       "        vertical-align: middle;\n",
       "    }\n",
       "\n",
       "    .dataframe tbody tr th {\n",
       "        vertical-align: top;\n",
       "    }\n",
       "\n",
       "    .dataframe thead th {\n",
       "        text-align: right;\n",
       "    }\n",
       "</style>\n",
       "<table border=\"1\" class=\"dataframe\">\n",
       "  <thead>\n",
       "    <tr style=\"text-align: right;\">\n",
       "      <th></th>\n",
       "      <th>이름</th>\n",
       "      <th>수학</th>\n",
       "      <th>영어</th>\n",
       "      <th>음악</th>\n",
       "      <th>체육</th>\n",
       "    </tr>\n",
       "  </thead>\n",
       "  <tbody>\n",
       "    <tr>\n",
       "      <th>0</th>\n",
       "      <td>서준</td>\n",
       "      <td>90</td>\n",
       "      <td>98</td>\n",
       "      <td>85</td>\n",
       "      <td>100</td>\n",
       "    </tr>\n",
       "    <tr>\n",
       "      <th>1</th>\n",
       "      <td>우현</td>\n",
       "      <td>80</td>\n",
       "      <td>89</td>\n",
       "      <td>95</td>\n",
       "      <td>90</td>\n",
       "    </tr>\n",
       "    <tr>\n",
       "      <th>2</th>\n",
       "      <td>인아</td>\n",
       "      <td>70</td>\n",
       "      <td>95</td>\n",
       "      <td>100</td>\n",
       "      <td>90</td>\n",
       "    </tr>\n",
       "  </tbody>\n",
       "</table>\n",
       "</div>"
      ],
      "text/plain": [
       "   이름  수학  영어   음악   체육\n",
       "0  서준  90  98   85  100\n",
       "1  우현  80  89   95   90\n",
       "2  인아  70  95  100   90"
      ]
     },
     "execution_count": 85,
     "metadata": {},
     "output_type": "execute_result"
    }
   ],
   "source": [
    "import pandas as pd\n",
    "\n",
    "# DataFrame() 함수로 데이터프레임 변환. 변수 df에 저장 \n",
    "exam_data = {'이름' : [ '서준', '우현', '인아'],\n",
    "             '수학' : [ 90, 80, 70],\n",
    "             '영어' : [ 98, 89, 95],\n",
    "             '음악' : [ 85, 95, 100],\n",
    "             '체육' : [ 100, 90, 90]}\n",
    "df = pd.DataFrame(exam_data)\n",
    "df"
   ]
  },
  {
   "cell_type": "code",
   "execution_count": 86,
   "id": "5667cdd5",
   "metadata": {},
   "outputs": [
    {
     "name": "stdout",
     "output_type": "stream",
     "text": [
      "    수학  영어   음악   체육\n",
      "이름                  \n",
      "서준  90  98   85  100\n",
      "우현  80  89   95   90\n",
      "인아  70  95  100   90\n",
      "\n",
      "\n"
     ]
    }
   ],
   "source": [
    "# '이름' 열을 새로운 인덱스로 지정하고, df 객체에 변경사항 반영\n",
    "df.set_index('이름', inplace=True)\n",
    "print(df)\n",
    "print('\\n')"
   ]
  },
  {
   "cell_type": "code",
   "execution_count": 87,
   "id": "ab2f6497",
   "metadata": {},
   "outputs": [
    {
     "name": "stdout",
     "output_type": "stream",
     "text": [
      "85\n",
      "85\n",
      "\n",
      "\n"
     ]
    }
   ],
   "source": [
    "\n",
    "# 데이터프레임 df의 특정 원소 1개 선택 ('서준'의 '음악' 점수)\n",
    "a = df.loc['서준','음악']\n",
    "print(a)\n",
    "b = df.iloc[0,2] # iloc로 검색\n",
    "print(b)\n",
    "print('\\n')\n"
   ]
  },
  {
   "cell_type": "code",
   "execution_count": 90,
   "id": "8a8a9507",
   "metadata": {},
   "outputs": [
    {
     "name": "stdout",
     "output_type": "stream",
     "text": [
      "음악     85\n",
      "체육    100\n",
      "Name: 서준, dtype: int64\n",
      "음악     85\n",
      "체육    100\n",
      "Name: 서준, dtype: int64\n",
      "음악     85\n",
      "체육    100\n",
      "Name: 서준, dtype: int64\n",
      "음악     85\n",
      "체육    100\n",
      "Name: 서준, dtype: int64\n",
      "\n",
      "\n"
     ]
    }
   ],
   "source": [
    "\n",
    "# 데이터프레임 df의 특정 원소 2개 이상 선택 ('서준'의 '음악', '체육' 점수) \n",
    "c = df.loc['서준',['음악','체육']]\n",
    "print(c)\n",
    "d = df.iloc[0,[2,3]]\n",
    "print(d)\n",
    "e = df.iloc[0,2:] \n",
    "print(e)\n",
    "f = df.loc['서준','음악':'체육'] # 음악부터 체육까지 \n",
    "print(f)\n",
    "print('\\n')\n"
   ]
  },
  {
   "cell_type": "code",
   "execution_count": null,
   "id": "0783968c",
   "metadata": {},
   "outputs": [],
   "source": [
    "\n",
    "# df의 2개 이상의 행과 열로부터 원소 선택 ('서준', '우현'의 '음악', '체육' 점수) \n",
    "g = \n",
    "print(g)\n",
    "h = \n",
    "print(h)\n",
    "i = \n",
    "print(i)\n",
    "j = \n",
    "print(j)"
   ]
  },
  {
   "cell_type": "markdown",
   "id": "e7da120a",
   "metadata": {},
   "source": [
    "문) 1.이름을 입력받아 데이터 프레임에 인덱스로 저장하고\n",
    "키와 몸무게를 입력 받아 저장합니다.\n",
    "키와 몸무게가 float 이 입력되지 않으면 다시 입력하시고 이름에 'q' 가 입력되면 입력 종료\n",
    "\n",
    "2. 찾고자 하는 이름을 입력받아 키와 몸무게를 출력하고 \n",
    "키와 몸무게를 다시 입력 받아 기존의 값을 변경 하세요.\n",
    "\n",
    "3. 평균보다 적은 키를 가진 사람의 이름과 키를 출력하세요."
   ]
  },
  {
   "cell_type": "code",
   "execution_count": 107,
   "id": "dbf350a8",
   "metadata": {},
   "outputs": [
    {
     "name": "stdout",
     "output_type": "stream",
     "text": [
      "이름 입력 q  종료신세개 158 70\n",
      "이름 입력 q  종료q\n"
     ]
    }
   ],
   "source": [
    "import pandas as pd\n",
    "df = pd.DataFrame(columns = ['이름', '키', '몸무게'])\n",
    "\n",
    "def input_name() : \n",
    "    return \n",
    "    input_names = input(\"이름과 키 몸무게를 입력하세요. \\n\").split()\n",
    "    for i, name in enumerate(input_names) :\n",
    "            input_names[i] = name\n",
    "    return input_names\n",
    "        \n",
    "while True :\n",
    "    namess = input(\"이름 입력 q  종료\")\n",
    "    if namess == \"q\" :\n",
    "        break\n",
    "\n",
    "\n",
    "        \n",
    " #   score = input_score()\n",
    " #   df.loc[name] = score\n",
    "        "
   ]
  },
  {
   "cell_type": "code",
   "execution_count": null,
   "id": "e971993b",
   "metadata": {},
   "outputs": [],
   "source": [
    "def input_dataframe(df):\n",
    "    while True:\n",
    "        name = input(\"이름 입력 quit 종료 >  \")\n",
    "        if name == \"quit\":\n",
    "            break\n",
    "\n",
    "        data = input_data()\n",
    "        df.loc[name] = data  # 입력된 name 인덱스로 데이터 추가\n"
   ]
  },
  {
   "cell_type": "code",
   "execution_count": null,
   "id": "2858c503",
   "metadata": {},
   "outputs": [],
   "source": [
    "def input_data():\n",
    "    while True:\n",
    "        values = input(\"키와 몸무게 ex) 170 51.2 > \").split()\n",
    "        if len(values) == 2:\n",
    "           break\n",
    "        else:\n",
    "            print(\"키와 몸무게를 형식에 맞게 입력하세요 \")\n",
    "           \n",
    "    for i, value in enumerate(values):\n",
    "        values[i] = float(value)\n",
    "    return values\n"
   ]
  },
  {
   "cell_type": "code",
   "execution_count": null,
   "id": "2a0e5bef",
   "metadata": {},
   "outputs": [],
   "source": [
    "def search_data(name, df):\n",
    "    for i, idx_name in enumerate(list(df.index)):\n",
    "        if name == idx_name:\n",
    "            return i\n",
    "\n",
    "def print_data(idx, df):\n",
    "    print(\"{} : {}, {}\".format(df.iloc[idx], df.iloc[idx,0], df.iloc[idx,1]))\n",
    "import pandas as pd\n",
    "\n",
    "df = pd.DataFrame(columns=[\"키\",\"몸무게\"])\n",
    "\n",
    "input_dataframe(df)  # 자료 입력\n",
    "print(\"1 : \")\n",
    "print(df)\n"
   ]
  },
  {
   "cell_type": "code",
   "execution_count": 109,
   "id": "6a9b7063",
   "metadata": {},
   "outputs": [
    {
     "name": "stdout",
     "output_type": "stream",
     "text": [
      "이름 입력 quit 종료 >  신세개 175 85\n",
      "키와 몸무게 ex) 170 51.2 > 신세개 185 75.2\n",
      "키와 몸무게를 형식에 맞게 입력하세요 \n",
      "키와 몸무게 ex) 170 51.2 > quit\n",
      "키와 몸무게를 형식에 맞게 입력하세요 \n",
      "키와 몸무게 ex) 170 51.2 > quit\n",
      "키와 몸무게를 형식에 맞게 입력하세요 \n",
      "키와 몸무게 ex) 170 51.2 > q\n",
      "키와 몸무게를 형식에 맞게 입력하세요 \n",
      "키와 몸무게 ex) 170 51.2 > quit\n",
      "키와 몸무게를 형식에 맞게 입력하세요 \n",
      "키와 몸무게 ex) 170 51.2 > quit quit quit\n",
      "키와 몸무게를 형식에 맞게 입력하세요 \n"
     ]
    },
    {
     "ename": "KeyboardInterrupt",
     "evalue": "Interrupted by user",
     "output_type": "error",
     "traceback": [
      "\u001b[1;31m---------------------------------------------------------------------------\u001b[0m",
      "\u001b[1;31mKeyboardInterrupt\u001b[0m                         Traceback (most recent call last)",
      "\u001b[1;32m<ipython-input-109-d8b6f40731c5>\u001b[0m in \u001b[0;36m<module>\u001b[1;34m\u001b[0m\n\u001b[0;32m     31\u001b[0m \u001b[0mdf\u001b[0m \u001b[1;33m=\u001b[0m \u001b[0mpd\u001b[0m\u001b[1;33m.\u001b[0m\u001b[0mDataFrame\u001b[0m\u001b[1;33m(\u001b[0m\u001b[0mcolumns\u001b[0m\u001b[1;33m=\u001b[0m\u001b[1;33m[\u001b[0m\u001b[1;34m\"키\"\u001b[0m\u001b[1;33m,\u001b[0m\u001b[1;34m\"몸무게\"\u001b[0m\u001b[1;33m]\u001b[0m\u001b[1;33m)\u001b[0m\u001b[1;33m\u001b[0m\u001b[1;33m\u001b[0m\u001b[0m\n\u001b[0;32m     32\u001b[0m \u001b[1;33m\u001b[0m\u001b[0m\n\u001b[1;32m---> 33\u001b[1;33m \u001b[0minput_dataframe\u001b[0m\u001b[1;33m(\u001b[0m\u001b[0mdf\u001b[0m\u001b[1;33m)\u001b[0m  \u001b[1;31m# 자료 입력\u001b[0m\u001b[1;33m\u001b[0m\u001b[1;33m\u001b[0m\u001b[0m\n\u001b[0m\u001b[0;32m     34\u001b[0m \u001b[0mprint\u001b[0m\u001b[1;33m(\u001b[0m\u001b[1;34m\"1 : \"\u001b[0m\u001b[1;33m)\u001b[0m\u001b[1;33m\u001b[0m\u001b[1;33m\u001b[0m\u001b[0m\n\u001b[0;32m     35\u001b[0m \u001b[0mprint\u001b[0m\u001b[1;33m(\u001b[0m\u001b[0mdf\u001b[0m\u001b[1;33m)\u001b[0m\u001b[1;33m\u001b[0m\u001b[1;33m\u001b[0m\u001b[0m\n",
      "\u001b[1;32m<ipython-input-109-d8b6f40731c5>\u001b[0m in \u001b[0;36minput_dataframe\u001b[1;34m(df)\u001b[0m\n\u001b[0;32m      5\u001b[0m             \u001b[1;32mbreak\u001b[0m\u001b[1;33m\u001b[0m\u001b[1;33m\u001b[0m\u001b[0m\n\u001b[0;32m      6\u001b[0m \u001b[1;33m\u001b[0m\u001b[0m\n\u001b[1;32m----> 7\u001b[1;33m         \u001b[0mdata\u001b[0m \u001b[1;33m=\u001b[0m \u001b[0minput_data\u001b[0m\u001b[1;33m(\u001b[0m\u001b[1;33m)\u001b[0m\u001b[1;33m\u001b[0m\u001b[1;33m\u001b[0m\u001b[0m\n\u001b[0m\u001b[0;32m      8\u001b[0m         \u001b[0mdf\u001b[0m\u001b[1;33m.\u001b[0m\u001b[0mloc\u001b[0m\u001b[1;33m[\u001b[0m\u001b[0mname\u001b[0m\u001b[1;33m]\u001b[0m \u001b[1;33m=\u001b[0m \u001b[0mdata\u001b[0m  \u001b[1;31m# 입력된 name 인덱스로 데이터 추가\u001b[0m\u001b[1;33m\u001b[0m\u001b[1;33m\u001b[0m\u001b[0m\n\u001b[0;32m      9\u001b[0m \u001b[1;33m\u001b[0m\u001b[0m\n",
      "\u001b[1;32m<ipython-input-109-d8b6f40731c5>\u001b[0m in \u001b[0;36minput_data\u001b[1;34m()\u001b[0m\n\u001b[0;32m     10\u001b[0m \u001b[1;32mdef\u001b[0m \u001b[0minput_data\u001b[0m\u001b[1;33m(\u001b[0m\u001b[1;33m)\u001b[0m\u001b[1;33m:\u001b[0m\u001b[1;33m\u001b[0m\u001b[1;33m\u001b[0m\u001b[0m\n\u001b[0;32m     11\u001b[0m     \u001b[1;32mwhile\u001b[0m \u001b[1;32mTrue\u001b[0m\u001b[1;33m:\u001b[0m\u001b[1;33m\u001b[0m\u001b[1;33m\u001b[0m\u001b[0m\n\u001b[1;32m---> 12\u001b[1;33m         \u001b[0mvalues\u001b[0m \u001b[1;33m=\u001b[0m \u001b[0minput\u001b[0m\u001b[1;33m(\u001b[0m\u001b[1;34m\"키와 몸무게 ex) 170 51.2 > \"\u001b[0m\u001b[1;33m)\u001b[0m\u001b[1;33m.\u001b[0m\u001b[0msplit\u001b[0m\u001b[1;33m(\u001b[0m\u001b[1;33m)\u001b[0m\u001b[1;33m\u001b[0m\u001b[1;33m\u001b[0m\u001b[0m\n\u001b[0m\u001b[0;32m     13\u001b[0m         \u001b[1;32mif\u001b[0m \u001b[0mlen\u001b[0m\u001b[1;33m(\u001b[0m\u001b[0mvalues\u001b[0m\u001b[1;33m)\u001b[0m \u001b[1;33m==\u001b[0m \u001b[1;36m2\u001b[0m\u001b[1;33m:\u001b[0m\u001b[1;33m\u001b[0m\u001b[1;33m\u001b[0m\u001b[0m\n\u001b[0;32m     14\u001b[0m            \u001b[1;32mbreak\u001b[0m\u001b[1;33m\u001b[0m\u001b[1;33m\u001b[0m\u001b[0m\n",
      "\u001b[1;32m~\\anaconda3\\lib\\site-packages\\ipykernel\\kernelbase.py\u001b[0m in \u001b[0;36mraw_input\u001b[1;34m(self, prompt)\u001b[0m\n\u001b[0;32m    858\u001b[0m                 \u001b[1;34m\"raw_input was called, but this frontend does not support input requests.\"\u001b[0m\u001b[1;33m\u001b[0m\u001b[1;33m\u001b[0m\u001b[0m\n\u001b[0;32m    859\u001b[0m             )\n\u001b[1;32m--> 860\u001b[1;33m         return self._input_request(str(prompt),\n\u001b[0m\u001b[0;32m    861\u001b[0m             \u001b[0mself\u001b[0m\u001b[1;33m.\u001b[0m\u001b[0m_parent_ident\u001b[0m\u001b[1;33m,\u001b[0m\u001b[1;33m\u001b[0m\u001b[1;33m\u001b[0m\u001b[0m\n\u001b[0;32m    862\u001b[0m             \u001b[0mself\u001b[0m\u001b[1;33m.\u001b[0m\u001b[0m_parent_header\u001b[0m\u001b[1;33m,\u001b[0m\u001b[1;33m\u001b[0m\u001b[1;33m\u001b[0m\u001b[0m\n",
      "\u001b[1;32m~\\anaconda3\\lib\\site-packages\\ipykernel\\kernelbase.py\u001b[0m in \u001b[0;36m_input_request\u001b[1;34m(self, prompt, ident, parent, password)\u001b[0m\n\u001b[0;32m    902\u001b[0m             \u001b[1;32mexcept\u001b[0m \u001b[0mKeyboardInterrupt\u001b[0m\u001b[1;33m:\u001b[0m\u001b[1;33m\u001b[0m\u001b[1;33m\u001b[0m\u001b[0m\n\u001b[0;32m    903\u001b[0m                 \u001b[1;31m# re-raise KeyboardInterrupt, to truncate traceback\u001b[0m\u001b[1;33m\u001b[0m\u001b[1;33m\u001b[0m\u001b[1;33m\u001b[0m\u001b[0m\n\u001b[1;32m--> 904\u001b[1;33m                 \u001b[1;32mraise\u001b[0m \u001b[0mKeyboardInterrupt\u001b[0m\u001b[1;33m(\u001b[0m\u001b[1;34m\"Interrupted by user\"\u001b[0m\u001b[1;33m)\u001b[0m \u001b[1;32mfrom\u001b[0m \u001b[1;32mNone\u001b[0m\u001b[1;33m\u001b[0m\u001b[1;33m\u001b[0m\u001b[0m\n\u001b[0m\u001b[0;32m    905\u001b[0m             \u001b[1;32mexcept\u001b[0m \u001b[0mException\u001b[0m \u001b[1;32mas\u001b[0m \u001b[0me\u001b[0m\u001b[1;33m:\u001b[0m\u001b[1;33m\u001b[0m\u001b[1;33m\u001b[0m\u001b[0m\n\u001b[0;32m    906\u001b[0m                 \u001b[0mself\u001b[0m\u001b[1;33m.\u001b[0m\u001b[0mlog\u001b[0m\u001b[1;33m.\u001b[0m\u001b[0mwarning\u001b[0m\u001b[1;33m(\u001b[0m\u001b[1;34m\"Invalid Message:\"\u001b[0m\u001b[1;33m,\u001b[0m \u001b[0mexc_info\u001b[0m\u001b[1;33m=\u001b[0m\u001b[1;32mTrue\u001b[0m\u001b[1;33m)\u001b[0m\u001b[1;33m\u001b[0m\u001b[1;33m\u001b[0m\u001b[0m\n",
      "\u001b[1;31mKeyboardInterrupt\u001b[0m: Interrupted by user"
     ]
    }
   ],
   "source": [
    "\n",
    "# 검색하고자 하는 이름 입력\n",
    "search_name = input(\"검색할 이름 입력 : \")\n",
    "idx = search_data(search_name, df)\n",
    "if idx < len(df):\n",
    "    print_data(idx, df)\n",
    "    value = input_data() #  키와 몸무게 입력\n",
    "    df.iloc[idx] = value\n",
    "print(\"2 : \")\n",
    "df\n",
    "\n",
    "#평균키보다 검적은 키를 가진 사람의 이름과 키를 출력\n",
    "\n",
    "avg_height = sum(df.키)/len(df.키)\n",
    "print(avg_height)\n",
    "for i, height in enumerate(df.키):\n",
    "    if height < avg_height:\n",
    "        print(\"3 => {} : {}\".format(df.iloc[i], df.iloc[i,0]))"
   ]
  },
  {
   "cell_type": "code",
   "execution_count": null,
   "id": "1edf3c8b",
   "metadata": {},
   "outputs": [],
   "source": []
  },
  {
   "cell_type": "code",
   "execution_count": null,
   "id": "9bda43ba",
   "metadata": {},
   "outputs": [],
   "source": []
  },
  {
   "cell_type": "code",
   "execution_count": null,
   "id": "a8f088f8",
   "metadata": {},
   "outputs": [],
   "source": []
  },
  {
   "cell_type": "code",
   "execution_count": null,
   "id": "3ff0c43b",
   "metadata": {},
   "outputs": [],
   "source": []
  }
 ],
 "metadata": {
  "kernelspec": {
   "display_name": "Python 3",
   "language": "python",
   "name": "python3"
  },
  "language_info": {
   "codemirror_mode": {
    "name": "ipython",
    "version": 3
   },
   "file_extension": ".py",
   "mimetype": "text/x-python",
   "name": "python",
   "nbconvert_exporter": "python",
   "pygments_lexer": "ipython3",
   "version": "3.8.8"
  },
  "widgets": {
   "application/vnd.jupyter.widget-state+json": {
    "state": {},
    "version_major": 2,
    "version_minor": 0
   }
  }
 },
 "nbformat": 4,
 "nbformat_minor": 5
}
