{
 "cells": [
  {
   "cell_type": "code",
   "execution_count": 1,
   "id": "951a6957",
   "metadata": {},
   "outputs": [],
   "source": [
    "import numpy as np\n",
    "import pandas as pd\n",
    "import matplotlib.pyplot as plt"
   ]
  },
  {
   "cell_type": "code",
   "execution_count": null,
   "id": "629a7a48",
   "metadata": {},
   "outputs": [],
   "source": [
    "## http://bit.ly/hg-03-2"
   ]
  },
  {
   "cell_type": "code",
   "execution_count": 2,
   "id": "58b09cbf",
   "metadata": {},
   "outputs": [],
   "source": [
    "perch_length = np.array(\n",
    "    [8.4, 13.7, 15.0, 16.2, 17.4, 18.0, 18.7, 19.0, 19.6, 20.0, \n",
    "     21.0, 21.0, 21.0, 21.3, 22.0, 22.0, 22.0, 22.0, 22.0, 22.5, \n",
    "     22.5, 22.7, 23.0, 23.5, 24.0, 24.0, 24.6, 25.0, 25.6, 26.5, \n",
    "     27.3, 27.5, 27.5, 27.5, 28.0, 28.7, 30.0, 32.8, 34.5, 35.0, \n",
    "     36.5, 36.0, 37.0, 37.0, 39.0, 39.0, 39.0, 40.0, 40.0, 40.0, \n",
    "     40.0, 42.0, 43.0, 43.0, 43.5, 44.0]\n",
    "     )\n",
    "perch_weight = np.array(\n",
    "    [5.9, 32.0, 40.0, 51.5, 70.0, 100.0, 78.0, 80.0, 85.0, 85.0, \n",
    "     110.0, 115.0, 125.0, 130.0, 120.0, 120.0, 130.0, 135.0, 110.0, \n",
    "     130.0, 150.0, 145.0, 150.0, 170.0, 225.0, 145.0, 188.0, 180.0, \n",
    "     197.0, 218.0, 300.0, 260.0, 265.0, 250.0, 250.0, 300.0, 320.0, \n",
    "     514.0, 556.0, 840.0, 685.0, 700.0, 700.0, 690.0, 900.0, 650.0, \n",
    "     820.0, 850.0, 900.0, 1015.0, 820.0, 1100.0, 1000.0, 1100.0, \n",
    "     1000.0, 1000.0]\n",
    "     )"
   ]
  },
  {
   "cell_type": "code",
   "execution_count": 3,
   "id": "0b57b78e",
   "metadata": {},
   "outputs": [],
   "source": [
    "from sklearn.model_selection import train_test_split\n",
    "\n",
    "train_input, test_input, train_target, test_target = train_test_split(perch_length, perch_weight)\n",
    "\n",
    "train_input = train_input.reshape(-1,1 )\n",
    "test_input = test_input.reshape(-1, 1)"
   ]
  },
  {
   "cell_type": "code",
   "execution_count": 4,
   "id": "b3689e14",
   "metadata": {},
   "outputs": [],
   "source": [
    "from sklearn.linear_model import LinearRegression\n",
    "lr = LinearRegression()"
   ]
  },
  {
   "cell_type": "code",
   "execution_count": 7,
   "id": "2c4e3c1d",
   "metadata": {},
   "outputs": [
    {
     "name": "stdout",
     "output_type": "stream",
     "text": [
      "0.9161396515342868\n",
      "0.9201560112497863\n"
     ]
    }
   ],
   "source": [
    "lr.fit(train_input, train_target)\n",
    "\n",
    "print(lr.score(train_input, train_target))\n",
    "print(lr.score(test_input, test_target))"
   ]
  },
  {
   "cell_type": "code",
   "execution_count": 8,
   "id": "1ad3c9b2",
   "metadata": {},
   "outputs": [
    {
     "name": "stdout",
     "output_type": "stream",
     "text": [
      "[36.51649555] -622.2790377362376\n"
     ]
    }
   ],
   "source": [
    "print(lr.coef_, lr.intercept_)\n",
    "# coef = 기울기\n",
    "# intercept = 절편 "
   ]
  },
  {
   "cell_type": "code",
   "execution_count": 10,
   "id": "3aeb9ae0",
   "metadata": {},
   "outputs": [
    {
     "data": {
      "image/png": "[encoded data removed]",
      "text/plain": [
       "<Figure size 432x288 with 1 Axes>"
      ]
     },
     "metadata": {
      "needs_background": "light"
     },
     "output_type": "display_data"
    }
   ],
   "source": [
    "x_new = np.arange(15, 51)\n",
    "y_new = x_new*37.48 - 622.27\n",
    "\n",
    "plt.scatter(train_input, train_target)\n",
    "plt.plot(x_new, y_new, color='r')\n",
    "\n",
    "plt.show()"
   ]
  },
  {
   "cell_type": "code",
   "execution_count": 17,
   "id": "049cd195",
   "metadata": {},
   "outputs": [
    {
     "data": {
      "text/plain": [
       "array([[  42.  , 1764.  ],\n",
       "       [  43.5 , 1892.25],\n",
       "       [   8.4 ,   70.56],\n",
       "       [  34.5 , 1190.25],\n",
       "       [  40.  , 1600.  ],\n",
       "       [  22.5 ,  506.25],\n",
       "       [  15.  ,  225.  ],\n",
       "       [  28.  ,  784.  ],\n",
       "       [  36.5 , 1332.25],\n",
       "       [  43.  , 1849.  ],\n",
       "       [  40.  , 1600.  ],\n",
       "       [  16.2 ,  262.44],\n",
       "       [  13.7 ,  187.69],\n",
       "       [  35.  , 1225.  ],\n",
       "       [  22.  ,  484.  ],\n",
       "       [  23.  ,  529.  ],\n",
       "       [  22.5 ,  506.25],\n",
       "       [  21.3 ,  453.69],\n",
       "       [  22.  ,  484.  ],\n",
       "       [  19.  ,  361.  ],\n",
       "       [  23.5 ,  552.25],\n",
       "       [  22.  ,  484.  ],\n",
       "       [  27.5 ,  756.25],\n",
       "       [  19.6 ,  384.16],\n",
       "       [  21.  ,  441.  ],\n",
       "       [  30.  ,  900.  ],\n",
       "       [  39.  , 1521.  ],\n",
       "       [  21.  ,  441.  ],\n",
       "       [  39.  , 1521.  ],\n",
       "       [  36.  , 1296.  ],\n",
       "       [  43.  , 1849.  ],\n",
       "       [  32.8 , 1075.84],\n",
       "       [  40.  , 1600.  ],\n",
       "       [  39.  , 1521.  ],\n",
       "       [  22.7 ,  515.29],\n",
       "       [  21.  ,  441.  ],\n",
       "       [  37.  , 1369.  ],\n",
       "       [  17.4 ,  302.76],\n",
       "       [  25.  ,  625.  ],\n",
       "       [  24.6 ,  605.16],\n",
       "       [  18.  ,  324.  ],\n",
       "       [  24.  ,  576.  ]])"
      ]
     },
     "execution_count": 17,
     "metadata": {},
     "output_type": "execute_result"
    }
   ],
   "source": [
    "train_poly = np.column_stack((train_input, train_input**2))\n",
    "test_poly = np.column_stack((test_input, test_input**2))\n",
    "\n",
    "train_poly"
   ]
  },
  {
   "cell_type": "code",
   "execution_count": 18,
   "id": "8be2da85",
   "metadata": {},
   "outputs": [
    {
     "data": {
      "text/plain": [
       "0.9767467289580112"
      ]
     },
     "execution_count": 18,
     "metadata": {},
     "output_type": "execute_result"
    }
   ],
   "source": [
    "lr = LinearRegression()\n",
    "\n",
    "lr.fit(train_poly, train_target)\n",
    "lr.score(train_poly, train_target)\n",
    "lr.score(test_poly, test_target)\n"
   ]
  },
  {
   "cell_type": "code",
   "execution_count": 19,
   "id": "0e4b84d3",
   "metadata": {},
   "outputs": [
    {
     "name": "stdout",
     "output_type": "stream",
     "text": [
      "[-23.62362025   1.04990666] 144.66846018977043\n"
     ]
    }
   ],
   "source": [
    "print(lr.coef_, lr.intercept_)"
   ]
  },
  {
   "cell_type": "code",
   "execution_count": 21,
   "id": "4afa08d2",
   "metadata": {},
   "outputs": [
    {
     "data": {
      "image/png": "[encoded data removed]",
      "text/plain": [
       "<Figure size 432x288 with 1 Axes>"
      ]
     },
     "metadata": {
      "needs_background": "light"
     },
     "output_type": "display_data"
    }
   ],
   "source": [
    "x_new = np.arange(15, 51)\n",
    "y_new = -19*x_new + 0.97*x_new**2 + 92.7\n",
    "\n",
    "plt.scatter(train_input, train_target)\n",
    "plt.plot(x_new, y_new, color='r')\n",
    "\n",
    "plt.show()"
   ]
  },
  {
   "cell_type": "code",
   "execution_count": null,
   "id": "18b7ccd2",
   "metadata": {},
   "outputs": [],
   "source": []
  },
  {
   "cell_type": "code",
   "execution_count": 22,
   "id": "e4d396a0",
   "metadata": {},
   "outputs": [],
   "source": [
    "from sklearn.preprocessing import PolynomialFeatures"
   ]
  },
  {
   "cell_type": "code",
   "execution_count": 23,
   "id": "f4fce681",
   "metadata": {},
   "outputs": [],
   "source": [
    "poly = PolynomialFeatures(include_bias=False)\n",
    "\n",
    "poly.fit(train_input)\n",
    "train_poly = poly.transform(train_input)\n",
    "test_poly = poly.transform(test_input)"
   ]
  },
  {
   "cell_type": "code",
   "execution_count": 24,
   "id": "50d20846",
   "metadata": {},
   "outputs": [
    {
     "data": {
      "text/plain": [
       "['x0', 'x0^2']"
      ]
     },
     "execution_count": 24,
     "metadata": {},
     "output_type": "execute_result"
    }
   ],
   "source": [
    "poly.get_feature_names()"
   ]
  },
  {
   "cell_type": "code",
   "execution_count": 25,
   "id": "56abb280",
   "metadata": {},
   "outputs": [],
   "source": [
    "lr = LinearRegression()"
   ]
  },
  {
   "cell_type": "code",
   "execution_count": 26,
   "id": "1e43d76c",
   "metadata": {},
   "outputs": [
    {
     "data": {
      "text/plain": [
       "0.9767467289580112"
      ]
     },
     "execution_count": 26,
     "metadata": {},
     "output_type": "execute_result"
    }
   ],
   "source": [
    "lr.fit(train_poly, train_target)\n",
    "lr.score(train_poly, train_target)\n",
    "lr.score(test_poly, test_target)"
   ]
  },
  {
   "cell_type": "code",
   "execution_count": null,
   "id": "2c9651c8",
   "metadata": {},
   "outputs": [],
   "source": []
  },
  {
   "cell_type": "code",
   "execution_count": null,
   "id": "df53631b",
   "metadata": {},
   "outputs": [],
   "source": []
  },
  {
   "cell_type": "code",
   "execution_count": null,
   "id": "b78f8793",
   "metadata": {},
   "outputs": [],
   "source": []
  }
 ],
 "metadata": {
  "kernelspec": {
   "display_name": "Python 3",
   "language": "python",
   "name": "python3"
  },
  "language_info": {
   "codemirror_mode": {
    "name": "ipython",
    "version": 3
   },
   "file_extension": ".py",
   "mimetype": "text/x-python",
   "name": "python",
   "nbconvert_exporter": "python",
   "pygments_lexer": "ipython3",
   "version": "3.8.8"
  }
 },
 "nbformat": 4,
 "nbformat_minor": 5
}
