{
  "nbformat": 4,
  "nbformat_minor": 0,
  "metadata": {
    "colab": {
      "name": "NLP_day08_211208.ipynb",
      "provenance": [],
      "collapsed_sections": []
    },
    "kernelspec": {
      "name": "python3",
      "display_name": "Python 3"
    },
    "language_info": {
      "name": "python"
    },
    "accelerator": "GPU"
  },
  "cells": [
    {
      "cell_type": "markdown",
      "source": [
        "## Bahdanau Attention"
      ],
      "metadata": {
        "id": "Se8naFO1kGx1"
      }
    },
    {
      "cell_type": "markdown",
      "source": [
        "- Bahdanau Attention\n",
        "$$ Score_{alignment} = W * tanh(W_{decoder} * H_{decoder} + W_{encoder} * H_{encoder}) $$"
      ],
      "metadata": {
        "id": "vKVegiKVkK41"
      }
    },
    {
      "cell_type": "code",
      "source": [
        "import tensorflow as tf"
      ],
      "metadata": {
        "id": "FvpmJvQsmZqm"
      },
      "execution_count": 1,
      "outputs": []
    },
    {
      "cell_type": "code",
      "execution_count": 2,
      "metadata": {
        "id": "8tbPo5otXPA6"
      },
      "outputs": [],
      "source": [
        "class BahdanauAttention(tf.keras.layers.Layer):\n",
        "    def __init__(self, units):\n",
        "        super(BahdanauAttention, self).__init__()\n",
        "        self.W_decoder = tf.keras.layers.Dense(units)\n",
        "        self.W_encoder = tf.keras.layers.Dense(units)\n",
        "        self.W_combine = tf.keras.layers.Dense(1)\n",
        "    \n",
        "    def call(self, H_encoder, H_decoder):\n",
        "        print(\"[H_encoder shape :\", H_encoder.shape)\n",
        "\n",
        "        H_encoder = self.W_encoder(H_encoder)\n",
        "        print(\"[W_encoder X H_encoder shape :\", H_encoder.shape)\n",
        "\n",
        "        print(\"\\n[H_decoder shape:\", H_decoder.shape)\n",
        "        H_decoder = tf.expand_dims(H_decoder, 1)\n",
        "        H_decoder = self.W_decoder(H_decoder)\n",
        "\n",
        "        print(\"[W_decoder X H_decoder] shape :\", H_decoder.shape)\n",
        "\n",
        "        score = self.W_combine(tf.nn.tanh(H_decoder+H_encoder))\n",
        "        print(\"[Score Alignment] shape :\", score.shape)\n",
        "\n",
        "        attention_weights = tf.nn.softmax(score, axis= 1)\n",
        "        print(\"\\n 최종 weight : \\n\", attention_weights.numpy())\n",
        "\n",
        "        context_vector = attention_weights * H_decoder\n",
        "        context_vector = tf.reduce_sum(context_vector, axis=1)\n",
        "\n",
        "        return context_vector, attention_weights"
      ]
    },
    {
      "cell_type": "code",
      "source": [
        "W_size = 100\n",
        "print(\"Hidden State를 {0}차원으로 Mapping\\n\".format(W_size))\n",
        "\n",
        "attention = BahdanauAttention(W_size)\n",
        "\n",
        "enc_state = tf.random.uniform((1, 10, 512)) # uniform의 첫 인자는 tensor의 shape를 의미함 리스트형태의 벡터로 입력받아야함\n",
        "dec_state = tf.random.uniform((1, 512))\n",
        "\n",
        "_ = attention(enc_state, dec_state)"
      ],
      "metadata": {
        "colab": {
          "base_uri": "https://localhost:8080/"
        },
        "id": "TIS3O2nrmgZm",
        "outputId": "80548394-8c60-4390-fe42-56281504a0a0"
      },
      "execution_count": 3,
      "outputs": [
        {
          "output_type": "stream",
          "name": "stdout",
          "text": [
            "Hidden State를 100차원으로 Mapping\n",
            "\n",
            "[H_encoder shape : (1, 10, 512)\n",
            "[W_encoder X H_encoder shape : (1, 10, 100)\n",
            "\n",
            "[H_decoder shape: (1, 512)\n",
            "[W_decoder X H_decoder] shape : (1, 1, 100)\n",
            "[Score Alignment] shape : (1, 10, 1)\n",
            "\n",
            " 최종 weight : \n",
            " [[[0.12213987]\n",
            "  [0.07811875]\n",
            "  [0.15621302]\n",
            "  [0.09495894]\n",
            "  [0.09898178]\n",
            "  [0.11157315]\n",
            "  [0.08931057]\n",
            "  [0.08967943]\n",
            "  [0.08020168]\n",
            "  [0.07882287]]]\n"
          ]
        }
      ]
    },
    {
      "cell_type": "markdown",
      "source": [
        "## Loung Attention"
      ],
      "metadata": {
        "id": "Azxa-TafqgBX"
      }
    },
    {
      "cell_type": "markdown",
      "source": [
        "$$ Score(H_{target},H_{source}) = H_{target}^T * W_{combine} * H_{source})$$"
      ],
      "metadata": {
        "id": "yjhGr8daqghF"
      }
    },
    {
      "cell_type": "code",
      "source": [
        "class LuongAttention(tf.keras.layers.Layer):\n",
        "    def __init__(self, units):\n",
        "        super(LuongAttention, self).__init__()\n",
        "        self.W_combine = tf.keras.layers.Dense(units)\n",
        "\n",
        "    def call(self, H_encoder, H_decoder):\n",
        "        print(\"[H_encoder] shape: \", H_encoder.shape)\n",
        "\n",
        "        WH = self.W_combine(H_encoder)\n",
        "        print(\"[W_encoder X H_encoder] shape :\", WH.shape)\n",
        "\n",
        "        H_decoder = tf.expand_dims(H_decoder, 1)\n",
        "        alignment = tf.matmul(WH, tf.transpose(H_decoder, [0, 2, 1]))\n",
        "        print(\"[Score_alignmnet] Shape :\", alignment.shape)\n",
        "\n",
        "        attention_weights = tf.nn.softmax(alignment, axis=1)\n",
        "        print(\"\\n 최종 weight : \\n\", attention_weights.numpy())\n",
        "\n",
        "        attention_weights = tf.squeeze(attention_weights, axis=-1)\n",
        "        context_vector = tf.matmul(attention_weights, H_encoder)\n",
        "\n",
        "        return context_vector, attention_weights"
      ],
      "metadata": {
        "id": "S-pBnkoFqjoP"
      },
      "execution_count": 4,
      "outputs": []
    },
    {
      "cell_type": "code",
      "source": [
        "emb_dim = 512\n",
        "\n",
        "attention = LuongAttention(emb_dim)\n",
        "\n",
        "enc_state = tf.random.uniform((1, 10, emb_dim))\n",
        "dec_state = tf.random.uniform((1, emb_dim))\n",
        " \n",
        "_ = attention(enc_state, dec_state) # def call(self, H_encoder, H_decoder):"
      ],
      "metadata": {
        "colab": {
          "base_uri": "https://localhost:8080/"
        },
        "id": "R8_f_Kt8qkM7",
        "outputId": "2b6e2d10-25e5-45eb-d75a-836bde3f2cc7"
      },
      "execution_count": 5,
      "outputs": [
        {
          "output_type": "stream",
          "name": "stdout",
          "text": [
            "[H_encoder] shape:  (1, 10, 512)\n",
            "[W_encoder X H_encoder] shape : (1, 10, 512)\n",
            "[Score_alignmnet] Shape : (1, 10, 1)\n",
            "\n",
            " 최종 weight : \n",
            " [[[2.1835112e-03]\n",
            "  [8.3757863e-05]\n",
            "  [8.0249518e-01]\n",
            "  [4.4301273e-06]\n",
            "  [9.6020168e-03]\n",
            "  [7.1907247e-04]\n",
            "  [9.5717043e-02]\n",
            "  [1.7144034e-03]\n",
            "  [8.6296022e-02]\n",
            "  [1.1846549e-03]]]\n"
          ]
        }
      ]
    },
    {
      "cell_type": "markdown",
      "source": [
        "## Softmax"
      ],
      "metadata": {
        "id": "mnyrLSuEyFfu"
      }
    },
    {
      "cell_type": "code",
      "source": [
        "import numpy as np\n",
        "import matplotlib.pyplot as plt\n"
      ],
      "metadata": {
        "id": "yc3khJmhyEMo"
      },
      "execution_count": 6,
      "outputs": []
    },
    {
      "cell_type": "code",
      "source": [
        "def softmax(x) : \n",
        "  e_x = np.exp(x - np.max(x))\n",
        "  return e_x / e_x.sum()\n"
      ],
      "metadata": {
        "id": "7cYzQRW-yEKW"
      },
      "execution_count": 7,
      "outputs": []
    },
    {
      "cell_type": "code",
      "source": [
        "predicted_logit = np.array([-2, 1.5, -1, 0.5, 2])\n",
        "predicted_prob = softmax(predicted_logit)"
      ],
      "metadata": {
        "id": "hMm0AZBoyEHY"
      },
      "execution_count": 8,
      "outputs": []
    },
    {
      "cell_type": "code",
      "source": [
        "plt.figure(figsize = [18, 3])\n",
        "plt.subplot(1, 2, 1)\n",
        "plt.title('predicted logit')\n",
        "plt.bar(np.arange(len(predicted_logit)), predicted_logit)\n",
        "plt.grid()\n",
        "\n",
        "plt.subplot(1, 2, 2)\n",
        "plt.title('predicted probility')\n",
        "plt.bar(np.arange(len(predicted_prob)), predicted_prob)\n",
        "plt.grid()\n",
        "plt.show()"
      ],
      "metadata": {
        "colab": {
          "base_uri": "https://localhost:8080/",
          "height": 227
        },
        "id": "pUq_RcXnywaO",
        "outputId": "d36b06d2-5ef1-4159-e980-77db5be243b2"
      },
      "execution_count": 9,
      "outputs": [
        {
          "output_type": "display_data",
          "data": {
            "image/png": "[encoded data removed]",
            "text/plain": [
              "<Figure size 1296x216 with 2 Axes>"
            ]
          },
          "metadata": {
            "needs_background": "light"
          }
        }
      ]
    },
    {
      "cell_type": "markdown",
      "source": [
        "## Cross-entropy"
      ],
      "metadata": {
        "id": "Z8IUvXeKzu83"
      }
    },
    {
      "cell_type": "markdown",
      "source": [
        "$$ CE(t, y) = - Σ^{k}_{k=1}t_k log y_k$$"
      ],
      "metadata": {
        "id": "GY1WRh171Utf"
      }
    },
    {
      "cell_type": "markdown",
      "source": [
        "- t: one-hot vector\n",
        "- y probabilty\n",
        "- k : 카테고리의 수"
      ],
      "metadata": {
        "id": "VKkVr5m51Vu5"
      }
    },
    {
      "cell_type": "code",
      "source": [
        "def cross_entropy(t, y) :\n",
        "  eps = 1e-8\n",
        "  ce = -np.sum(t * np.log(y + eps))\n",
        "  return ce"
      ],
      "metadata": {
        "id": "St3M0P0YywXl"
      },
      "execution_count": 10,
      "outputs": []
    },
    {
      "cell_type": "code",
      "source": [
        "predicted_logit = np.array([-2, 1.5, -1, 0.5, 2])\n",
        "predicted_prob = softmax(predicted_logit)\n",
        "target_prob = np.array([0, 0, 0, 0, 1])"
      ],
      "metadata": {
        "id": "KwUOpOPpywVM"
      },
      "execution_count": 11,
      "outputs": []
    },
    {
      "cell_type": "code",
      "source": [
        "plt.figure(figsize=[18, 3])\n",
        "plt.subplot(1, 2, 1)\n",
        "plt.title('predicted probability')\n",
        "plt.bar(np.arange(len(predicted_prob)), predicted_prob)\n",
        "plt.grid()\n",
        "plt.ylim([0, 1])\n",
        "\n",
        "plt.subplot(1, 2, 2)\n",
        "plt.title('target_probability')\n",
        "plt.bar(np.arange(len(target_prob)), target_prob)\n",
        "plt.grid()\n",
        "plt.ylim([0, 1])\n",
        "plt.show()"
      ],
      "metadata": {
        "colab": {
          "base_uri": "https://localhost:8080/",
          "height": 227
        },
        "id": "AhHViRhdywSK",
        "outputId": "ddcad3fb-d4bd-4921-a499-70819915f43e"
      },
      "execution_count": 12,
      "outputs": [
        {
          "output_type": "display_data",
          "data": {
            "image/png": "[encoded data removed]",
            "text/plain": [
              "<Figure size 1296x216 with 2 Axes>"
            ]
          },
          "metadata": {
            "needs_background": "light"
          }
        }
      ]
    },
    {
      "cell_type": "code",
      "source": [
        "print('Cross-entropy :', cross_entropy(target_prob, predicted_prob))"
      ],
      "metadata": {
        "colab": {
          "base_uri": "https://localhost:8080/"
        },
        "id": "JRceECDN1ds3",
        "outputId": "5d2741eb-d498-489f-fea1-d44325c59e1a"
      },
      "execution_count": 13,
      "outputs": [
        {
          "output_type": "stream",
          "name": "stdout",
          "text": [
            "Cross-entropy : 0.6406760828883377\n"
          ]
        }
      ]
    },
    {
      "cell_type": "code",
      "source": [
        "predicted_logit = np.array([-2, 1.5, -1, 0.5, 8])\n",
        "predicted_prob = softmax(predicted_logit)\n",
        "target_prob = np.array([0, 0, 0, 0, 1])"
      ],
      "metadata": {
        "id": "aTWI0diC1wu6"
      },
      "execution_count": 14,
      "outputs": []
    },
    {
      "cell_type": "code",
      "source": [
        "plt.figure(figsize=[18, 3])\n",
        "plt.subplot(1, 2, 1)\n",
        "plt.title('predicted probability')\n",
        "plt.bar(np.arange(len(predicted_prob)), predicted_prob)\n",
        "plt.grid()\n",
        "plt.ylim([0, 1])\n",
        "\n",
        "plt.subplot(1, 2, 2)\n",
        "plt.title('target_probability')\n",
        "plt.bar(np.arange(len(target_prob)), target_prob)\n",
        "plt.grid()\n",
        "plt.ylim([0, 1])\n",
        "plt.show()"
      ],
      "metadata": {
        "colab": {
          "base_uri": "https://localhost:8080/",
          "height": 227
        },
        "id": "SqDXdX1D17Si",
        "outputId": "34a3be4e-fa33-4d17-8800-93c2e4d45a22"
      },
      "execution_count": 15,
      "outputs": [
        {
          "output_type": "display_data",
          "data": {
            "image/png": "[encoded data removed]",
            "text/plain": [
              "<Figure size 1296x216 with 2 Axes>"
            ]
          },
          "metadata": {
            "needs_background": "light"
          }
        }
      ]
    },
    {
      "cell_type": "code",
      "source": [
        "print('Cross-entropy :', cross_entropy(target_prob, predicted_prob))"
      ],
      "metadata": {
        "colab": {
          "base_uri": "https://localhost:8080/"
        },
        "id": "nUghpUD92JQK",
        "outputId": "d6f6bd41-dcc7-4023-a16c-00807842573a"
      },
      "execution_count": 16,
      "outputs": [
        {
          "output_type": "stream",
          "name": "stdout",
          "text": [
            "Cross-entropy : 0.0022228508878237878\n"
          ]
        }
      ]
    },
    {
      "cell_type": "markdown",
      "source": [
        "## 양방향 LSTM + 어텐션 메커니즘(IMDB 리뷰데이터)"
      ],
      "metadata": {
        "id": "gqxe5z1Z2LtR"
      }
    },
    {
      "cell_type": "code",
      "source": [
        "from tensorflow.keras.datasets import imdb\n",
        "from tensorflow.keras.utils import to_categorical\n",
        "from tensorflow.keras.preprocessing.sequence import pad_sequences"
      ],
      "metadata": {
        "id": "k7XRfVEM2TDs"
      },
      "execution_count": 17,
      "outputs": []
    },
    {
      "cell_type": "code",
      "source": [
        "vocab_size = 10000\n",
        "(x_train , y_train), (x_test, y_test) = imdb.load_data(num_words = vocab_size)"
      ],
      "metadata": {
        "colab": {
          "base_uri": "https://localhost:8080/"
        },
        "id": "fR1MebU12Txy",
        "outputId": "0ea8dbfa-2273-4f92-815b-2057f2693815"
      },
      "execution_count": 18,
      "outputs": [
        {
          "output_type": "stream",
          "name": "stdout",
          "text": [
            "Downloading data from https://storage.googleapis.com/tensorflow/tf-keras-datasets/imdb.npz\n",
            "17465344/17464789 [==============================] - 0s 0us/step\n",
            "17473536/17464789 [==============================] - 0s 0us/step\n"
          ]
        }
      ]
    },
    {
      "cell_type": "code",
      "source": [
        "print('리뷰의 최대 길이 : {}'.format(max(len(l) for l in x_train)))\n",
        "print('리뷰의 최대 길이 : {}'.format(sum(map(len, x_train))/len(x_train)))"
      ],
      "metadata": {
        "colab": {
          "base_uri": "https://localhost:8080/"
        },
        "id": "vJW-OJfV2TuD",
        "outputId": "ba98526b-fba2-4d38-fe60-188e45137a2b"
      },
      "execution_count": 19,
      "outputs": [
        {
          "output_type": "stream",
          "name": "stdout",
          "text": [
            "리뷰의 최대 길이 : 2494\n",
            "리뷰의 최대 길이 : 238.71364\n"
          ]
        }
      ]
    },
    {
      "cell_type": "code",
      "source": [
        "max_len = 500\n",
        "x_train = pad_sequences(x_train, maxlen = max_len)\n",
        "x_test = pad_sequences(x_test, maxlen = max_len)"
      ],
      "metadata": {
        "id": "DOsD3sKL2TrP"
      },
      "execution_count": 20,
      "outputs": []
    },
    {
      "cell_type": "markdown",
      "source": [
        "- Bahdanau Attention\n",
        "$$ Score_{alignment} = W * tanh(W_{decoder} * H_{decoder} + W_{encoder} * H_{encoder}) $$"
      ],
      "metadata": {
        "id": "TYyM8_dY3vFn"
      }
    },
    {
      "cell_type": "code",
      "source": [
        "class BahdanauAttention(tf.keras.Model):\n",
        "    def __init__(self, units):\n",
        "        super(BahdanauAttention, self).__init__()\n",
        "        self.W1 = Dense(units)\n",
        "        self.W2 = Dense(units)\n",
        "        self.V = Dense(1)\n",
        "\n",
        "    def call(self, values, query):\n",
        "        # query size = (batch size, hidden size)\n",
        "        # hidden_with_time_axis = (batch size, 1, hidden size)\n",
        "        hidden_with_time_axis = tf.expand_dims(query, 1)\n",
        "\n",
        "        # score = (batch size, max_length, 1)\n",
        "        score = self.V(tf.nn.tanh(self.W1(values) + self.W2(hidden_with_time_axis))) ###\n",
        "\n",
        "        # attention_weights = (batch size, max_length, 1)\n",
        "        attention_weights = tf.nn.softmax(score, axis =1)\n",
        "\n",
        "        # context vector shape after sum = (batch size, hidden size)\n",
        "        context_vector = attention_weights * values\n",
        "        context_vector = tf.reduce_sum(context_vector, axis=1)\n",
        "\n",
        "        return context_vector, attention_weights"
      ],
      "metadata": {
        "id": "4GwapOAW2TmI"
      },
      "execution_count": 21,
      "outputs": []
    },
    {
      "cell_type": "code",
      "source": [
        "from tensorflow.keras.layers import Dense, Embedding, Bidirectional, LSTM, Concatenate, Dropout\n",
        "from tensorflow.keras import Input, Model\n",
        "from tensorflow.keras import optimizers\n",
        "import os"
      ],
      "metadata": {
        "id": "786zx4HP2Tjr"
      },
      "execution_count": 22,
      "outputs": []
    },
    {
      "cell_type": "code",
      "source": [
        "sequence_input = Input(shape = (max_len, ), dtype = 'int32')\n",
        "embedded_sequences = Embedding(vocab_size, 128, input_length=max_len, mask_zero=True)(sequence_input)\n",
        "lstm = Bidirectional(LSTM(64, dropout = 0.5, return_sequences = True))(embedded_sequences)\n",
        "lstm, forward_h, forward_c, backward_h, backward_c = Bidirectional(LSTM(64, dropout=0.5, return_sequences=True, return_state=True))(lstm)\n"
      ],
      "metadata": {
        "id": "hbeZQowl2Tg6"
      },
      "execution_count": 23,
      "outputs": []
    },
    {
      "cell_type": "code",
      "source": [
        "print(lstm.shape, forward_h.shape, forward_c.shape, backward_h.shape, backward_c.shape)"
      ],
      "metadata": {
        "colab": {
          "base_uri": "https://localhost:8080/"
        },
        "id": "mWT2wyt72TeH",
        "outputId": "a2716915-7c98-4536-da98-a79b5e99ee71"
      },
      "execution_count": 24,
      "outputs": [
        {
          "output_type": "stream",
          "name": "stdout",
          "text": [
            "(None, 500, 128) (None, 64) (None, 64) (None, 64) (None, 64)\n"
          ]
        }
      ]
    },
    {
      "cell_type": "code",
      "source": [
        "state_h = Concatenate()([forward_h, backward_h])\n",
        "state_c = Concatenate()([forward_c, backward_c])"
      ],
      "metadata": {
        "id": "Fv9JVq6HA8t2"
      },
      "execution_count": 25,
      "outputs": []
    },
    {
      "cell_type": "code",
      "source": [
        "attention = BahdanauAttention(64)\n",
        "context_vector, attention_weights = attention(lstm, state_h)"
      ],
      "metadata": {
        "id": "U32tAM4uA8lD"
      },
      "execution_count": 26,
      "outputs": []
    },
    {
      "cell_type": "code",
      "source": [
        "dense1 = Dense(20, activation='relu')(context_vector)\n",
        "dropout = Dropout(0.5)(dense1)\n",
        "output = Dense(1, activation='sigmoid')(dropout)\n",
        "model = Model(inputs=sequence_input, outputs=output)"
      ],
      "metadata": {
        "id": "G6B31YkYBT4o"
      },
      "execution_count": 27,
      "outputs": []
    },
    {
      "cell_type": "code",
      "source": [
        "model.compile(loss='binary_crossentropy', optimizer='adam', metrics=['accuracy'])"
      ],
      "metadata": {
        "id": "zfDablalBUkI"
      },
      "execution_count": 28,
      "outputs": []
    },
    {
      "cell_type": "code",
      "source": [
        "history = model.fit(x_train, y_train, epochs=20, batch_size  =256, validation_data=(x_test, y_test), verbose=1)"
      ],
      "metadata": {
        "colab": {
          "base_uri": "https://localhost:8080/"
        },
        "id": "3-aIMzH_BUhJ",
        "outputId": "0844b0f0-1124-44b1-bad1-10ea3f8d9d1c"
      },
      "execution_count": 29,
      "outputs": [
        {
          "output_type": "stream",
          "name": "stdout",
          "text": [
            "Epoch 1/20\n",
            "98/98 [==============================] - 712s 7s/step - loss: 0.4644 - accuracy: 0.7710 - val_loss: 0.3047 - val_accuracy: 0.8730\n",
            "Epoch 2/20\n",
            "98/98 [==============================] - 683s 7s/step - loss: 0.2421 - accuracy: 0.9136 - val_loss: 0.3047 - val_accuracy: 0.8784\n",
            "Epoch 3/20\n",
            "98/98 [==============================] - 678s 7s/step - loss: 0.1815 - accuracy: 0.9378 - val_loss: 0.2911 - val_accuracy: 0.8802\n",
            "Epoch 4/20\n",
            "98/98 [==============================] - 672s 7s/step - loss: 0.1545 - accuracy: 0.9487 - val_loss: 0.3589 - val_accuracy: 0.8698\n",
            "Epoch 5/20\n",
            "98/98 [==============================] - 667s 7s/step - loss: 0.1238 - accuracy: 0.9608 - val_loss: 0.4011 - val_accuracy: 0.8658\n",
            "Epoch 6/20\n",
            "98/98 [==============================] - 667s 7s/step - loss: 0.0989 - accuracy: 0.9686 - val_loss: 0.4845 - val_accuracy: 0.8704\n",
            "Epoch 7/20\n",
            "98/98 [==============================] - 672s 7s/step - loss: 0.0808 - accuracy: 0.9742 - val_loss: 0.5464 - val_accuracy: 0.8698\n",
            "Epoch 8/20\n",
            "98/98 [==============================] - 666s 7s/step - loss: 0.0776 - accuracy: 0.9740 - val_loss: 0.4356 - val_accuracy: 0.8692\n",
            "Epoch 9/20\n",
            "98/98 [==============================] - 669s 7s/step - loss: 0.0639 - accuracy: 0.9808 - val_loss: 0.5306 - val_accuracy: 0.8656\n",
            "Epoch 10/20\n",
            "98/98 [==============================] - 668s 7s/step - loss: 0.0456 - accuracy: 0.9860 - val_loss: 0.7087 - val_accuracy: 0.8627\n",
            "Epoch 11/20\n",
            "98/98 [==============================] - 663s 7s/step - loss: 0.0424 - accuracy: 0.9861 - val_loss: 0.6311 - val_accuracy: 0.8620\n",
            "Epoch 12/20\n",
            "98/98 [==============================] - 663s 7s/step - loss: 0.0409 - accuracy: 0.9879 - val_loss: 0.6922 - val_accuracy: 0.8648\n",
            "Epoch 13/20\n",
            "98/98 [==============================] - 670s 7s/step - loss: 0.0340 - accuracy: 0.9897 - val_loss: 0.8678 - val_accuracy: 0.8669\n",
            "Epoch 14/20\n",
            "98/98 [==============================] - 673s 7s/step - loss: 0.0283 - accuracy: 0.9919 - val_loss: 0.8342 - val_accuracy: 0.8647\n",
            "Epoch 15/20\n",
            "98/98 [==============================] - 673s 7s/step - loss: 0.0325 - accuracy: 0.9904 - val_loss: 0.9619 - val_accuracy: 0.8611\n",
            "Epoch 16/20\n",
            "98/98 [==============================] - 671s 7s/step - loss: 0.0261 - accuracy: 0.9928 - val_loss: 0.8434 - val_accuracy: 0.8633\n",
            "Epoch 17/20\n",
            "98/98 [==============================] - 672s 7s/step - loss: 0.0199 - accuracy: 0.9945 - val_loss: 1.0411 - val_accuracy: 0.8607\n",
            "Epoch 18/20\n",
            "98/98 [==============================] - 672s 7s/step - loss: 0.0154 - accuracy: 0.9953 - val_loss: 1.0891 - val_accuracy: 0.8635\n",
            "Epoch 19/20\n",
            "98/98 [==============================] - 672s 7s/step - loss: 0.0181 - accuracy: 0.9944 - val_loss: 0.9995 - val_accuracy: 0.8517\n",
            "Epoch 20/20\n",
            "98/98 [==============================] - 679s 7s/step - loss: 0.0211 - accuracy: 0.9937 - val_loss: 1.0388 - val_accuracy: 0.8629\n"
          ]
        }
      ]
    },
    {
      "cell_type": "code",
      "source": [
        "print(\"\\n 테스트 정확도 : %.4f\" % (model.evaluate(x_test, y_test)[1]))"
      ],
      "metadata": {
        "colab": {
          "base_uri": "https://localhost:8080/"
        },
        "id": "k9w4dAoQBT2A",
        "outputId": "bb515394-3626-4b72-92e4-80e4b519791a"
      },
      "execution_count": 30,
      "outputs": [
        {
          "output_type": "stream",
          "name": "stdout",
          "text": [
            "782/782 [==============================] - 452s 578ms/step - loss: 1.0388 - accuracy: 0.8629\n",
            "\n",
            " 테스트 정확도 : 0.8629\n"
          ]
        }
      ]
    },
    {
      "cell_type": "markdown",
      "source": [
        "## seq2seq with attention 스페인-영어 번역기"
      ],
      "metadata": {
        "id": "AFext6abmJ_I"
      }
    },
    {
      "cell_type": "markdown",
      "source": [
        "### 데이터 준비하기"
      ],
      "metadata": {
        "id": "VbxfQxV_mK9g"
      }
    },
    {
      "cell_type": "code",
      "source": [
        "import tensorflow as tf\n",
        "import numpy as np\n",
        "from sklearn.model_selection import train_test_split\n",
        "\n",
        "import matplotlib.ticker as ticker\n",
        "import matplotlib.pyplot as plt\n",
        "\n",
        "import time\n",
        "import re\n",
        "import os\n",
        "import io"
      ],
      "metadata": {
        "id": "LORRT1KZBTzK"
      },
      "execution_count": 1,
      "outputs": []
    },
    {
      "cell_type": "code",
      "source": [
        "path_to_zip = tf.keras.utils.get_file('spa-eng.zip', \n",
        "                                      origin='http://storage.googleapis.com/download.tensorflow.org/data/spa-eng.zip', \n",
        "                                      extract=True)"
      ],
      "metadata": {
        "colab": {
          "base_uri": "https://localhost:8080/"
        },
        "id": "tso1H-jIl7_Y",
        "outputId": "8e0e2568-1306-4784-892d-3a88084d5282"
      },
      "execution_count": 2,
      "outputs": [
        {
          "output_type": "stream",
          "name": "stdout",
          "text": [
            "Downloading data from http://storage.googleapis.com/download.tensorflow.org/data/spa-eng.zip\n",
            "2646016/2638744 [==============================] - 0s 0us/step\n",
            "2654208/2638744 [==============================] - 0s 0us/step\n"
          ]
        }
      ]
    },
    {
      "cell_type": "code",
      "source": [
        "path_to_file = os.path.dirname(path_to_zip)+\"/spa-eng/spa.txt\""
      ],
      "metadata": {
        "id": "1y9ArnbtmYzY"
      },
      "execution_count": 3,
      "outputs": []
    },
    {
      "cell_type": "code",
      "source": [
        "with open(path_to_file, \"r\") as f:\n",
        "    raw = f.read().splitlines()\n",
        "\n",
        "print(\"Data Size: \", len(raw))\n",
        "print(\"Example :\")\n",
        "\n",
        "for sen in raw[0:100][::20]: print(\">>\", sen)"
      ],
      "metadata": {
        "colab": {
          "base_uri": "https://localhost:8080/"
        },
        "id": "BdjM8BCCmYup",
        "outputId": "a175cfcd-85f3-4241-a6d6-29ca6ac4d792"
      },
      "execution_count": 4,
      "outputs": [
        {
          "output_type": "stream",
          "name": "stdout",
          "text": [
            "Data Size:  118964\n",
            "Example :\n",
            ">> Go.\tVe.\n",
            ">> Wait.\tEsperen.\n",
            ">> Hug me.\tAbrázame.\n",
            ">> No way!\t¡Ni cagando!\n",
            ">> Call me.\tLlamame.\n"
          ]
        }
      ]
    },
    {
      "cell_type": "markdown",
      "source": [
        "## 데이터 전처리 : 정제하기"
      ],
      "metadata": {
        "id": "p1WBXbqBmzWK"
      }
    },
    {
      "cell_type": "code",
      "source": [
        "def preprocess_sentence(sentence, s_token=False, e_token=False):\n",
        "    # 소문자 변경\n",
        "    sentence = sentence.lower().strip()\n",
        "\n",
        "    # 1. 문장 부호를 \\1\n",
        "    sentence = re.sub(r\"([?.!,])\", r\" \\1 \", sentence)\n",
        "    # 2. [ ] --> 공백\n",
        "    sentence = re.sub(r'[\" \"]+', \" \", sentence)\n",
        "    # 3. 모든 알파벳, 문장기호를 제외한 것들을 공백으로 바꿔주세요.\n",
        "    sentence = re.sub(r\"[^a-zA-Z?!.,]+\", \" \", sentence)\n",
        "\n",
        "    sentence = sentence.strip()\n",
        "\n",
        "    if s_token:\n",
        "        sentence = '<start> ' + sentence\n",
        "\n",
        "    if e_token:\n",
        "        sentence += ' <end>'\n",
        "\n",
        "    return sentence "
      ],
      "metadata": {
        "id": "kHO-JYylmYrt"
      },
      "execution_count": 5,
      "outputs": []
    },
    {
      "cell_type": "code",
      "source": [
        "enc_corpus = []\n",
        "dec_corpus = []\n",
        "\n",
        "num_examples = 30000\n",
        "\n",
        "for pair in raw[:num_examples]:\n",
        "    eng, spa = pair.split(\"\\t\")\n",
        "\n",
        "    enc_corpus.append(preprocess_sentence(eng))\n",
        "    dec_corpus.append(preprocess_sentence(spa, s_token=True, e_token=True))\n",
        "\n",
        "print(\"English :\", enc_corpus[100])\n",
        "print(\"Spanish :\", dec_corpus[100])"
      ],
      "metadata": {
        "colab": {
          "base_uri": "https://localhost:8080/"
        },
        "id": "lam3Xfn3mYl3",
        "outputId": "9e967fbb-c0d9-45b2-be3f-c628ff0a857e"
      },
      "execution_count": 6,
      "outputs": [
        {
          "output_type": "stream",
          "name": "stdout",
          "text": [
            "English : go away !\n",
            "Spanish : <start> salga de aqu ! <end>\n"
          ]
        }
      ]
    },
    {
      "cell_type": "markdown",
      "source": [
        "## 데이터 전처리 : 토큰화"
      ],
      "metadata": {
        "id": "jXXKLTwb6JpX"
      }
    },
    {
      "cell_type": "code",
      "source": [
        "def tokenize(corpus):\n",
        "    tokenizer = tf.keras.preprocessing.text.Tokenizer(filters='')\n",
        "    tokenizer.fit_on_texts(corpus)\n",
        "    \n",
        "    tensor = tokenizer.texts_to_sequences(corpus)\n",
        "    tensor = tf.keras.preprocessing.sequence.pad_sequences(tensor, padding='post')\n",
        "\n",
        "    return tensor, tokenizer"
      ],
      "metadata": {
        "id": "JR_Yv1ovmYi-"
      },
      "execution_count": 7,
      "outputs": []
    },
    {
      "cell_type": "code",
      "source": [
        "# 정제된 텍스트를 tokenize()함수를 사용해 토큰화해서 텐서로 변환하기!\n",
        "enc_tensor, enc_tokenizer = tokenize(enc_corpus)\n",
        "dec_tensor, dec_tokenizer = tokenize(dec_corpus)"
      ],
      "metadata": {
        "id": "91L9U71p6N1I"
      },
      "execution_count": 8,
      "outputs": []
    },
    {
      "cell_type": "code",
      "source": [
        "# Quiz 1 훈련데이터와 검증데이터를 8:2 분리하세요.\n",
        "enc_train, enc_val, dec_train, dec_val = train_test_split(enc_tensor, dec_tensor, test_size = 0.2)"
      ],
      "metadata": {
        "id": "EM5XoULh6Nyb"
      },
      "execution_count": 9,
      "outputs": []
    },
    {
      "cell_type": "code",
      "source": [
        "# Quiz 2\n",
        "# index_word를 활용하여 english vocab size 반환\n",
        "# index_word를 활용하여 spanish vocab size 반환\n",
        "\n",
        "print('English Vocab Size :', len(enc_tokenizer.index_word))\n",
        "print('Spanish Vocab Size :', len(dec_tokenizer.index_word))"
      ],
      "metadata": {
        "colab": {
          "base_uri": "https://localhost:8080/"
        },
        "id": "Pw7uEwT66NxD",
        "outputId": "b7edb15a-f9e4-47cd-bea9-e3f691a2b759"
      },
      "execution_count": 10,
      "outputs": [
        {
          "output_type": "stream",
          "name": "stdout",
          "text": [
            "English Vocab Size : 4931\n",
            "Spanish Vocab Size : 8893\n"
          ]
        }
      ]
    },
    {
      "cell_type": "markdown",
      "source": [
        "- Bahdanau Attention\n",
        "$$ Score_{alignment} = W * tanh(W_{decoder} * H_{decoder} + W_{encoder} * H_{encoder}) $$"
      ],
      "metadata": {
        "id": "XnyRXtdJ6U4p"
      }
    },
    {
      "cell_type": "code",
      "source": [
        "# 바다나우 어텐션 클래스 만들기\n",
        "class BahdanauAttention(tf.keras.layers.Layer):\n",
        "    def __init__(self, units):\n",
        "        super(BahdanauAttention, self).__init__()\n",
        "        self.w_dec = tf.keras.layers.Dense(units)\n",
        "        self.w_enc = tf.keras.layers.Dense(units)\n",
        "        self.w_com = tf.keras.layers.Dense(1)\n",
        "    \n",
        "    def call(self, h_enc, h_dec):\n",
        "        # h_enc shape : [batch x length x units]\n",
        "        # h_dec shape : [batch x units]\n",
        "\n",
        "        h_enc = self.w_enc(h_enc)\n",
        "        h_dec = tf.expand_dims(h_dec, 1)\n",
        "        h_dec = self.w_dec(h_dec)\n",
        "\n",
        "        score = self.w_com(tf.nn.tanh(h_dec + h_enc))\n",
        "\n",
        "        attn = tf.nn.softmax(score, axis = 1)\n",
        "\n",
        "        context_vec = attn * h_enc\n",
        "        context_vec = tf.reduce_sum(context_vec, axis=1)\n",
        "        \n",
        "        return context_vec, attn"
      ],
      "metadata": {
        "id": "rvYOvqjB6VeA"
      },
      "execution_count": 11,
      "outputs": []
    },
    {
      "cell_type": "code",
      "source": [
        "class Encoder(tf.keras.Model):\n",
        "    def __init__(self, vocab_size, embedding_dim, enc_units):\n",
        "        super(Encoder, self).__init__()\n",
        "        # todo\n",
        "        self.enc_units = enc_units\n",
        "        self.embedding = tf.keras.layers.Embedding(vocab_size, embedding_dim)\n",
        "        self.gru = tf.keras.layers.GRU(enc_units, return_sequences=True)\n",
        "\n",
        "    def call(self, x):\n",
        "        # todo\n",
        "        out = self.embedding(x)\n",
        "        out = self.gru(out)\n",
        "\n",
        "        return out"
      ],
      "metadata": {
        "id": "oAK718Za6Ntj"
      },
      "execution_count": 12,
      "outputs": []
    },
    {
      "cell_type": "code",
      "source": [
        "class Decoder(tf.keras.Model):\n",
        "    def __init__(self, vocab_size, embedding_dim, dec_units):\n",
        "        super(Decoder, self).__init__()\n",
        "        # todo\n",
        "        self.dec_units = dec_units\n",
        "        self.embedding = tf.keras.layers.Embedding(vocab_size, embedding_dim)\n",
        "        self.gru = tf.keras.layers.GRU(dec_units, return_sequences=True, return_state= True)\n",
        "        self.fc = tf.keras.layers.Dense(vocab_size)\n",
        "        self.attention = BahdanauAttention(self.dec_units)\n",
        "\n",
        "    def call(self, x, h_dec, enc_out):\n",
        "        # todo\n",
        "        context_vec, attn = self.attention(enc_out, h_dec)\n",
        "\n",
        "        out = self.embedding(x)\n",
        "        out = tf.concat([tf.expand_dims(context_vec, 1), out], axis=-1)\n",
        "\n",
        "        out, h_dec = self.gru(out)\n",
        "        out = tf.reshape(out, (-1, out.shape[2]))\n",
        "        out = self.fc(out)\n",
        "\n",
        "        return out, h_dec, attn"
      ],
      "metadata": {
        "id": "l8SYa4JS6NoH"
      },
      "execution_count": 13,
      "outputs": []
    },
    {
      "cell_type": "code",
      "source": [
        "BATCH_SIZE = 64\n",
        "src_vocab_size = len(enc_tokenizer.index_word)+1\n",
        "tgt_vocab_size = len(dec_tokenizer.index_word)+1\n",
        "\n",
        "units = 1024\n",
        "embedding_dim = 512\n",
        "\n",
        "encoder = Encoder(src_vocab_size, embedding_dim, units)\n",
        "decoder = Decoder(tgt_vocab_size, embedding_dim, units)\n",
        "\n",
        "# sample input\n",
        "sequence_len = 30\n",
        "\n",
        "sample_enc = tf.random.uniform((BATCH_SIZE, sequence_len))\n",
        "sample_output = encoder(sample_enc)\n",
        "\n",
        "print('Encoder Output :', sample_output.shape)\n",
        "\n",
        "sample_state = tf.random.uniform((BATCH_SIZE, units))\n",
        "sample_logits, h_dec, attn = decoder(tf.random.uniform((BATCH_SIZE, 1)), sample_state, sample_output)\n",
        "\n",
        "print('Decoder output :', sample_logits.shape)\n",
        "print('Decoder Hidden State :', h_dec.shape)\n",
        "print('Attention :', attn.shape)"
      ],
      "metadata": {
        "colab": {
          "base_uri": "https://localhost:8080/"
        },
        "id": "mke5SgMy6ihh",
        "outputId": "886d48da-e913-4918-c633-3514e57e9489"
      },
      "execution_count": 14,
      "outputs": [
        {
          "output_type": "stream",
          "name": "stdout",
          "text": [
            "Encoder Output : (64, 30, 1024)\n",
            "Decoder output : (64, 8894)\n",
            "Decoder Hidden State : (64, 1024)\n",
            "Attention : (64, 30, 1)\n"
          ]
        }
      ]
    },
    {
      "cell_type": "markdown",
      "source": [
        "## 훈련하기 loss"
      ],
      "metadata": {
        "id": "oBVAVpF1oTkn"
      }
    },
    {
      "cell_type": "code",
      "source": [
        "optimizer = tf.keras.optimizers.Adam()\n",
        "loss_object = tf.keras.losses.SparseCategoricalCrossentropy(from_logits=True, reduction='none')\n",
        "# Categorical Crossentropy()\n",
        "# [0.1 0.2 0.7] ----> one hot encoding [0, 0, 1]\n",
        "# SparseCategoricalCrossentropy\n",
        "# [0.1 0.2 0.7] ----> 정수 인덱스 2\n",
        "\n",
        "def loss_function(real, pred):\n",
        "    mask = tf.math.logical_not(tf.math.equal(real, 0))\n",
        "    loss = loss_object(real, pred)\n",
        "\n",
        "    mask = tf.cast(mask, dtype = loss.dtype)\n",
        "    loss *= mask\n",
        "\n",
        "    return tf.reduce_mean(loss)"
      ],
      "metadata": {
        "id": "-b4BrssDnNxH"
      },
      "execution_count": 15,
      "outputs": []
    },
    {
      "cell_type": "markdown",
      "source": [
        "## 훈련하기 2.train_step"
      ],
      "metadata": {
        "id": "vO24KegVoa0I"
      }
    },
    {
      "cell_type": "markdown",
      "source": [
        "train step 학습과정\n",
        "1. Encoder에 소스 문장을 전달해 컨텍스트 벡터인 enc_out을 생성\n",
        "2. Decoder에 입력으로 전달할 토큰 문장 생성\n",
        "3. t=0일 때, Decoder의 Hidden state는 Encoder의 Final state로 정의. h_dec = enc_out[:, -1]\n",
        "4. 문장과 enc_out, Hidden state를 기반으로 다음단어 (t=1)예측 pred\n",
        "5. 예측된 단어와 정답간의 loss을 구한 후, t=1의 정답 단어를 다음 입력으로 사용 (예측단어X)\n",
        "6. 반복!"
      ],
      "metadata": {
        "id": "WgFL01qXpaHr"
      }
    },
    {
      "cell_type": "code",
      "source": [
        "@tf.function\n",
        "def train_step(src, tgt, encoder, decoder, opimizer, dec_tok):\n",
        "    bsz = src.shape[0]\n",
        "    loss = 0\n",
        "\n",
        "    with tf.GradientTape() as tape:\n",
        "        enc_out = encoder(src)\n",
        "        h_dec = enc_out[:, -1]\n",
        "\n",
        "        dec_src = tf.expand_dims([dec_tok.word_index['<start>']]*bsz, 1)\n",
        "\n",
        "        for t in range(1, tgt.shape[1]):\n",
        "            pred, h_dec, _ = decoder(dec_src, h_dec, enc_out)\n",
        "            loss += loss_function(tgt[:, t], pred)\n",
        "            dec_src = tf.expand_dims(tgt[:, t], 1)\n",
        "\n",
        "    batch_loss = (loss/int(tgt.shape[1]))\n",
        "\n",
        "    variables = encoder.trainable_variables + decoder.trainable_variables\n",
        "    gradients = tape.gradient(loss, variables)\n",
        "    optimizer.apply_gradients(zip(gradients, variables))\n",
        "\n",
        "    return batch_loss"
      ],
      "metadata": {
        "id": "eyW4AJvVodIl"
      },
      "execution_count": 16,
      "outputs": []
    },
    {
      "cell_type": "code",
      "source": [
        "!pip install tqdm"
      ],
      "metadata": {
        "colab": {
          "base_uri": "https://localhost:8080/"
        },
        "id": "Q_YwTbCPofSD",
        "outputId": "d3df8ecf-f3c6-4d86-a481-94c450b71554"
      },
      "execution_count": 17,
      "outputs": [
        {
          "output_type": "stream",
          "name": "stdout",
          "text": [
            "Requirement already satisfied: tqdm in /usr/local/lib/python3.7/dist-packages (4.62.3)\n"
          ]
        }
      ]
    },
    {
      "cell_type": "code",
      "source": [
        "from tqdm import tqdm\n",
        "import random\n",
        "\n",
        "epochs = 20\n",
        "\n",
        "for epoch in range(epochs):\n",
        "    total_loss = 0\n",
        "    idx_list = list(range(0, enc_train.shape[0], BATCH_SIZE))\n",
        "    random.shuffle(idx_list)\n",
        "    t = tqdm(idx_list)\n",
        "\n",
        "    for (batch, idx) in enumerate(t):\n",
        "        batch_loss = train_step(enc_train[idx:idx+BATCH_SIZE],\n",
        "                                dec_train[idx:idx+BATCH_SIZE],\n",
        "                                encoder,\n",
        "                                decoder,\n",
        "                                optimizer,\n",
        "                                dec_tokenizer)\n",
        "        total_loss += batch_loss\n",
        "\n",
        "t.set_description_str('Epoch %2d' % (epoch+1))\n",
        "t.set_postfix_str('Loss %.4f' % (total_loss.numpy()/(batch+1)))"
      ],
      "metadata": {
        "colab": {
          "base_uri": "https://localhost:8080/"
        },
        "id": "vJ_6P_ScofPb",
        "outputId": "0cc3e0f6-b200-4974-8a60-704f2afe95a7"
      },
      "execution_count": 18,
      "outputs": [
        {
          "output_type": "stream",
          "name": "stderr",
          "text": [
            "100%|██████████| 375/375 [02:12<00:00,  2.83it/s]\n",
            "100%|██████████| 375/375 [01:43<00:00,  3.63it/s]\n",
            "100%|██████████| 375/375 [01:43<00:00,  3.64it/s]\n",
            "100%|██████████| 375/375 [01:43<00:00,  3.64it/s]\n",
            "100%|██████████| 375/375 [01:43<00:00,  3.64it/s]\n",
            "100%|██████████| 375/375 [01:43<00:00,  3.64it/s]\n",
            "100%|██████████| 375/375 [01:43<00:00,  3.64it/s]\n",
            "100%|██████████| 375/375 [01:43<00:00,  3.63it/s]\n",
            "100%|██████████| 375/375 [01:43<00:00,  3.64it/s]\n",
            "100%|██████████| 375/375 [01:43<00:00,  3.64it/s]\n",
            "100%|██████████| 375/375 [01:43<00:00,  3.64it/s]\n",
            "100%|██████████| 375/375 [01:43<00:00,  3.64it/s]\n",
            "100%|██████████| 375/375 [01:43<00:00,  3.64it/s]\n",
            "100%|██████████| 375/375 [01:43<00:00,  3.63it/s]\n",
            "100%|██████████| 375/375 [01:42<00:00,  3.65it/s]\n",
            "100%|██████████| 375/375 [01:42<00:00,  3.65it/s]\n",
            "100%|██████████| 375/375 [01:42<00:00,  3.65it/s]\n",
            "100%|██████████| 375/375 [01:42<00:00,  3.64it/s]\n",
            "100%|██████████| 375/375 [01:42<00:00,  3.65it/s]\n",
            "100%|██████████| 375/375 [01:42<00:00,  3.65it/s]\n"
          ]
        }
      ]
    },
    {
      "cell_type": "markdown",
      "source": [
        "## Evaluate step"
      ],
      "metadata": {
        "id": "iVmoIlxg7mA0"
      }
    },
    {
      "cell_type": "code",
      "source": [
        "@tf.function\n",
        "def eval_step(src, tgt, encoder, decoder, dec_tok):\n",
        "  bsz = src.shape[0]\n",
        "  loss =0\n",
        "\n",
        "  enc_out = encoder(src)\n",
        "  h_dec = enc_out[:, -1]\n",
        "\n",
        "  dec_src = tf.expand_dims([dec_tok.word_index['<start>']]* bsz, 1)\n",
        "\n",
        "  for t in range(1, tgt.shape[1]):\n",
        "    pred, h_dec, _ = decoder(dec_src, h_dec, enc_out)\n",
        "    loss += loss_function(tgt[:, t], pred)\n",
        "    dec_src = tf.expand_dims(tgt[:, t], 1)\n",
        "\n",
        "  batch_loss = (loss/int(tgt.shape[1]))\n",
        "\n",
        "  return batch_loss"
      ],
      "metadata": {
        "id": "69Fk6OVRofM9"
      },
      "execution_count": 19,
      "outputs": []
    },
    {
      "cell_type": "code",
      "source": [
        "# Training Process\n",
        "from tqdm import tqdm\n",
        "\n",
        "EPOCHS = 10\n",
        "\n",
        "for epoch in range(EPOCHS):\n",
        "  total_loss = 0\n",
        "\n",
        "  idx_list = list(range(0, enc_train.shape[0], BATCH_SIZE))\n",
        "  random.shuffle(idx_list)\n",
        "  t = tqdm(idx_list)\n",
        "\n",
        "  for (batch, idx) in enumerate(t):\n",
        "    batch_loss = train_step(enc_train[idx:idx+BATCH_SIZE],\n",
        "                            dec_train[idx:idx+BATCH_SIZE],\n",
        "                            encoder,\n",
        "                            decoder,\n",
        "                            optimizer,\n",
        "                            dec_tokenizer)\n",
        "    total_loss += batch_loss\n",
        "\n",
        "  t.set_description_str('Epoch %2d' % (epoch +1))\n",
        "  t.set_postfix_str('Loss %.4f' % (total_loss.numpy()/ (batch+1)))\n",
        "\n",
        "  test_loss = 0\n",
        "\n",
        "  idx_list = list(range(0, enc_val.shape[0], BATCH_SIZE))\n",
        "  random.shuffle(idx_list)\n",
        "  t = tqdm(idx_list)\n",
        "\n",
        "  for (test_batch, idx) in enumerate(t):\n",
        "    test_batch_loss = eval_step(enc_val[idx:idx+BATCH_SIZE],\n",
        "                                dec_val[idx:idx+BATCH_SIZE],\n",
        "                                encoder,\n",
        "                                decoder,\n",
        "                                dec_tokenizer)\n",
        "    test_loss += test_batch_loss\n",
        "\n",
        "  t.set_description_str('Test Epoch %2d' % (epoch+1))\n",
        "  t.set_postfix_str('Test Loss %.4f' % (test_loss.numpy()/ (test_batch+1)))"
      ],
      "metadata": {
        "colab": {
          "base_uri": "https://localhost:8080/"
        },
        "id": "w-YhrFK-ofKe",
        "outputId": "858c6959-9d76-4b0f-e03e-c2d5607fd1dd"
      },
      "execution_count": 20,
      "outputs": [
        {
          "output_type": "stream",
          "name": "stderr",
          "text": [
            "100%|██████████| 375/375 [01:43<00:00,  3.64it/s]\n",
            "100%|██████████| 94/94 [00:24<00:00,  3.79it/s]\n",
            "100%|██████████| 375/375 [01:42<00:00,  3.65it/s]\n",
            "100%|██████████| 94/94 [00:09<00:00, 10.04it/s]\n",
            "100%|██████████| 375/375 [01:42<00:00,  3.66it/s]\n",
            "100%|██████████| 94/94 [00:09<00:00, 10.00it/s]\n",
            "100%|██████████| 375/375 [01:42<00:00,  3.65it/s]\n",
            "100%|██████████| 94/94 [00:09<00:00,  9.99it/s]\n",
            "100%|██████████| 375/375 [01:42<00:00,  3.65it/s]\n",
            "100%|██████████| 94/94 [00:09<00:00,  9.99it/s]\n",
            "100%|██████████| 375/375 [01:42<00:00,  3.65it/s]\n",
            "100%|██████████| 94/94 [00:09<00:00,  9.98it/s]\n",
            "100%|██████████| 375/375 [01:42<00:00,  3.65it/s]\n",
            "100%|██████████| 94/94 [00:09<00:00, 10.00it/s]\n",
            "100%|██████████| 375/375 [01:42<00:00,  3.65it/s]\n",
            "100%|██████████| 94/94 [00:09<00:00,  9.99it/s]\n",
            "100%|██████████| 375/375 [01:42<00:00,  3.65it/s]\n",
            "100%|██████████| 94/94 [00:09<00:00, 10.03it/s]\n",
            "100%|██████████| 375/375 [01:42<00:00,  3.65it/s]\n",
            "100%|██████████| 94/94 [00:09<00:00, 10.02it/s]\n"
          ]
        }
      ]
    },
    {
      "cell_type": "code",
      "source": [
        "def evaluate(sentence, encoder, decoder):\n",
        "  attention = np.zeros((dec_train.shape[-1], enc_train.shape[-1]))\n",
        "  sentence = preprocess_sentence(sentence)\n",
        "  inputs = enc_tokenizer.texts_to_sequences([sentence.split()])\n",
        "  inputs = tf.keras.preprocessing.sequence.pad_sequences(inputs,\n",
        "                                                         maxlen = enc_train.shape[-1],\n",
        "                                                         padding= 'post')\n",
        "  \n",
        "  result = ''\n",
        "  enc_out = encoder(inputs)\n",
        "  dec_hidden = enc_out[:, -1]\n",
        "  dec_input = tf.expand_dims([dec_tokenizer.word_index['<start>']], 0)\n",
        "\n",
        "  for t in range(dec_train.shape[-1]):\n",
        "    predictions, dec_hidden, attention_weights = decoder(dec_input,\n",
        "                                                         dec_hidden,\n",
        "                                                         enc_out)\n",
        "    \n",
        "    attention_weights = tf.reshape(attention_weights, (-1, ))\n",
        "    attention[t] = attention_weights.numpy()\n",
        "\n",
        "    predicted_id = \\\n",
        "    tf.argmax(tf.math.softmax(predictions, axis=-1)[0]).numpy()\n",
        "\n",
        "    result += dec_tokenizer.index_word[predicted_id] + ' '\n",
        "\n",
        "    if dec_tokenizer.index_word[predicted_id] == '<end>':\n",
        "      return result, sentence, attention\n",
        "\n",
        "    dec_input = tf.expand_dims([predicted_id], 0)\n",
        "\n",
        "  return result, sentence, attention\n"
      ],
      "metadata": {
        "id": "xBG8GznNofHw"
      },
      "execution_count": 21,
      "outputs": []
    },
    {
      "cell_type": "code",
      "source": [
        "def plot_attention(attention, sentence, predicted_sentence):\n",
        "  fig = plt.figure(figsize=(10, 10))\n",
        "  ax = fig.add_subplot(1, 1, 1)\n",
        "  ax.matshow(attention, cmap='viridis')\n",
        "\n",
        "  fontdict = {'fontsize': 14}\n",
        "\n",
        "  ax.set_xticklabels([''] + sentence, fontdict=fontdict, rotation=90)\n",
        "  ax.set_yticklabels([''] + predicted_sentence, fontdict = fontdict)\n",
        "\n",
        "  ax.xaxis.set_major_locator(ticker.MultipleLocator(1))\n",
        "  ax.yaxis.set_major_locator(ticker.MultipleLocator(1))\n",
        "\n",
        "  plt.show()"
      ],
      "metadata": {
        "id": "FXQpjIu5Adqd"
      },
      "execution_count": 22,
      "outputs": []
    },
    {
      "cell_type": "code",
      "source": [
        "def translate(sentence, encoder, decoder):\n",
        "  result, sentence, attention = evaluate(sentence, encoder, decoder)\n",
        "\n",
        "  print('Input : %s' % (sentence))\n",
        "  print('Predicted translation : {}'.format(result))\n",
        "\n",
        "  attention = attention[:len(result.split()), :len(sentence.split())]\n",
        "  plot_attention(attention, sentence.split(), result.split(' '))"
      ],
      "metadata": {
        "id": "YRbqSKthAfRD"
      },
      "execution_count": 23,
      "outputs": []
    },
    {
      "cell_type": "code",
      "source": [
        "translate(\"Can I have some coffee?\", encoder, decoder)"
      ],
      "metadata": {
        "colab": {
          "base_uri": "https://localhost:8080/",
          "height": 665
        },
        "id": "w3aTMooAAkxS",
        "outputId": "6b93e059-96f6-4b63-c6c1-67820ec486a2"
      },
      "execution_count": 25,
      "outputs": [
        {
          "output_type": "stream",
          "name": "stdout",
          "text": [
            "Input : can i have some coffee ?\n",
            "Predicted translation : me pueden dar algo de algo de algo de algo de algo de algo de algo de algo \n"
          ]
        },
        {
          "output_type": "display_data",
          "data": {
            "image/png": "[encoded data removed]",
            "text/plain": [
              "<Figure size 720x720 with 1 Axes>"
            ]
          },
          "metadata": {
            "needs_background": "light"
          }
        }
      ]
    },
    {
      "cell_type": "code",
      "source": [
        ""
      ],
      "metadata": {
        "id": "2KE9P_NbNCta"
      },
      "execution_count": null,
      "outputs": []
    }
  ]
}