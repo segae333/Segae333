{
 "cells": [
  {
   "cell_type": "code",
   "execution_count": 1,
   "id": "98186ea9",
   "metadata": {},
   "outputs": [],
   "source": [
    "import numpy as np\n",
    "import cv2\n",
    "import sys"
   ]
  },
  {
   "cell_type": "code",
   "execution_count": 2,
   "id": "c6a2b62e",
   "metadata": {},
   "outputs": [],
   "source": [
    "src = cv2.imread('./fig/puppy.bmp')\n",
    "\n",
    "M = np.array([[1, 0, 200],[0, 1, 100]], np.float32)\n",
    "\n",
    "dst = cv2.warpAffine(src, M, (0,0))\n",
    "\n",
    "cv2.imshow('src', src)\n",
    "\n",
    "cv2.waitKey()\n",
    "cv2.destroyAllWindows()"
   ]
  },
  {
   "cell_type": "code",
   "execution_count": 3,
   "id": "90c4aa2c",
   "metadata": {},
   "outputs": [
    {
     "name": "stdout",
     "output_type": "stream",
     "text": [
      "(461, 600, 3)\n"
     ]
    }
   ],
   "source": [
    "src = cv2.imread('C:/Users/segaeshin/Segae333/211112/Ch_6_geometric_trans/fig/rose.jpg')\n",
    "print(src.shape)\n",
    "\n",
    "dst_1 = cv2.resize(src, (2*src.shape[0], 2*src.shape[1]), \n",
    "                        interpolation = cv2.INTER_NEAREST)\n",
    "dst_2 = cv2.resize(src, (2*src.shape[0], 2*src.shape[1]),\n",
    "                        interpolation = cv2.INTER_LINEAR)\n",
    "dst_3 = cv2.resize(src, (2*src.shape[0], 2*src.shape[1]),\n",
    "                        interpolation = cv2.INTER_CUBIC)\n",
    "\n",
    "cv2.imshow('src', src)\n",
    "cv2.imshow('dst_1', dst_1)\n",
    "cv2.imshow('dst_2', dst_2)\n",
    "cv2.imshow('dst_3', dst_3)\n",
    "\n",
    "cv2.waitKey()\n",
    "cv2.destroyAllWindows()"
   ]
  },
  {
   "cell_type": "code",
   "execution_count": 3,
   "id": "43017d1e",
   "metadata": {},
   "outputs": [],
   "source": [
    "src = cv2.imread('./fig/puppy.bmp')\n",
    "\n",
    "# rad = 20 * np.pi/180\n",
    "# rad_30 = 60*np.pi/180\n",
    "# M = np.array([[np.cos(rad), -np.sin(rad), 0],\n",
    "#              [np.sin(rad), np.cos(rad), 0]], np.float32)\n",
    "\n",
    "# M1  = np.array([[np.cos(rad_30), np.sin(rad_30), 0],\n",
    "#              [-np.sin(rad_30), np.cos(rad_30), 0]], np.float32)\n",
    "\n",
    "# dst = cv2.warpAffine(src, M , (0,0))\n",
    "# dst2 = cv2.warpAffine(src, M1, (0,0))\n",
    "\n",
    "center = (src.shape[1]/2, src.shape[0]/2)\n",
    "\n",
    "affine = cv2.getRotationMatrix2D(center, 20, 1)\n",
    "\n",
    "dst = cv2.warpAffine(src, affine, (0,0))\n",
    "\n",
    "cv2.imshow('src', src)\n",
    "cv2.imshow('dst', dst)\n",
    "cv2.imshow('dst2', dst2)\n",
    "\n",
    "cv2.waitKey()\n",
    "cv2.destroyAllWindows()"
   ]
  },
  {
   "cell_type": "code",
   "execution_count": null,
   "id": "a508c02a",
   "metadata": {},
   "outputs": [],
   "source": []
  },
  {
   "cell_type": "code",
   "execution_count": null,
   "id": "80be2159",
   "metadata": {},
   "outputs": [],
   "source": []
  }
 ],
 "metadata": {
  "kernelspec": {
   "display_name": "Python 3",
   "language": "python",
   "name": "python3"
  },
  "language_info": {
   "codemirror_mode": {
    "name": "ipython",
    "version": 3
   },
   "file_extension": ".py",
   "mimetype": "text/x-python",
   "name": "python",
   "nbconvert_exporter": "python",
   "pygments_lexer": "ipython3",
   "version": "3.8.8"
  }
 },
 "nbformat": 4,
 "nbformat_minor": 5
}
