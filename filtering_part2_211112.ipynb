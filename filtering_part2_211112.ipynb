{
 "cells": [
  {
   "cell_type": "code",
   "execution_count": 1,
   "id": "aa185766",
   "metadata": {},
   "outputs": [],
   "source": [
    "import numpy as np\n",
    "import cv2\n",
    "import sys"
   ]
  },
  {
   "cell_type": "code",
   "execution_count": 4,
   "id": "04244a25",
   "metadata": {},
   "outputs": [],
   "source": [
    "# 가우시안 필터\n",
    "src = cv2.imread('./filtering/fig/blue_eyes.png', cv2.IMREAD_GRAYSCALE)\n",
    "\n",
    "dst_mean = cv2.blur(src, (5,5))\n",
    "\n",
    "dst_gaussian1 = cv2.GaussianBlur(src,(0,0), 1)\n",
    "dst_gaussian2 = cv2.GaussianBlur(src,(0,0), 2)\n",
    "dst_mean = cv2.blur(src, (7,7))\n",
    "\n",
    "cv2.imshow('src', src)\n",
    "cv2.imshow('dst_mean', dst_mean)\n",
    "cv2.imshow('dst_gaussian1', dst_gaussian1)\n",
    "cv2.imshow('dst_gaussian2', dst_gaussian2)\n",
    "\n",
    "cv2.waitKey()\n",
    "cv2.destroyAllWindows()\n"
   ]
  },
  {
   "cell_type": "code",
   "execution_count": 9,
   "id": "334fe3f6",
   "metadata": {},
   "outputs": [],
   "source": [
    "# sharpening filter\n",
    "src = cv2.imread('./filtering/fig/blue_eyes.png', cv2.IMREAD_GRAYSCALE)\n",
    "\n",
    "src_gblur = cv2.GaussianBlur(src , (0, 0), 1)\n",
    "\n",
    "dst_sharp = cv2.addWeighted(src, 2, src_gblur, -1, 0)\n",
    "\n",
    "cv2.imshow('src', src)\n",
    "cv2.imshow('src_gblur', src_gblur)\n",
    "cv2.imshow('dst_sharp', dst_sharp)\n",
    "\n",
    "cv2.waitKey()\n",
    "cv2.destroyAllWindows()"
   ]
  },
  {
   "cell_type": "code",
   "execution_count": 14,
   "id": "992e2c5b",
   "metadata": {},
   "outputs": [
    {
     "name": "stdout",
     "output_type": "stream",
     "text": [
      "(790, 1200)\n"
     ]
    }
   ],
   "source": [
    "## median filter\n",
    "src = cv2.imread('./filtering/fig/blue_eyes.png', cv2.IMREAD_GRAYSCALE)\n",
    "print(src.shape)\n",
    "\n",
    "salt_pepper_1 = np.random.choice((0, 255), src.shape,\n",
    "                                 p= (0.8, 0.2)).astype(np.uint32)\n",
    "salt_pepper_2 = np.random.choice((0, 255), src.shape,\n",
    "                                 p= (0.8, 0.2)).astype(np.uint32)\n",
    "\n",
    "src_noise = src - salt_pepper_1 + salt_pepper_2\n",
    "src_noise = np.clip(src_noise, 0, 255).astype(np.uint8)\n",
    "\n",
    "#cv2.imshow('salt_peper', salt_pepper_1)\n",
    "cv2.imshow('src_noise', src_noise)\n",
    "\n",
    "cv2.waitKey()\n",
    "cv2.destroyAllWindows()"
   ]
  },
  {
   "cell_type": "code",
   "execution_count": 3,
   "id": "6d512cf6",
   "metadata": {},
   "outputs": [],
   "source": [
    "# 양방향 필터 \n",
    "src = cv2.imread('./filtering/fig/blue_eyes.png', cv2.IMREAD_GRAYSCALE)\n",
    "\n",
    "dst_gaussian = cv2.GaussianBlur(src, (0,0), 5.0)\n",
    "\n",
    "dst_bilateral = cv2.bilateralFilter(src, -1, 10, 3 )\n",
    "\n",
    "\n",
    "cv2.imshow('src', src)\n",
    "cv2.imshow('dst_gaussian', dst_gaussian)\n",
    "cv2.imshow('bilateral', dst_bilateral)\n",
    "\n",
    "cv2.waitKey()\n",
    "cv2.destroyAllWindows()"
   ]
  },
  {
   "cell_type": "code",
   "execution_count": null,
   "id": "a2180020",
   "metadata": {},
   "outputs": [],
   "source": []
  }
 ],
 "metadata": {
  "kernelspec": {
   "display_name": "Python 3",
   "language": "python",
   "name": "python3"
  },
  "language_info": {
   "codemirror_mode": {
    "name": "ipython",
    "version": 3
   },
   "file_extension": ".py",
   "mimetype": "text/x-python",
   "name": "python",
   "nbconvert_exporter": "python",
   "pygments_lexer": "ipython3",
   "version": "3.8.8"
  }
 },
 "nbformat": 4,
 "nbformat_minor": 5
}
