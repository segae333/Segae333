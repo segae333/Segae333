{
  "nbformat": 4,
  "nbformat_minor": 0,
  "metadata": {
    "colab": {
      "name": "re_211125.ipynb",
      "provenance": [],
      "collapsed_sections": []
    },
    "kernelspec": {
      "name": "python3",
      "display_name": "Python 3"
    },
    "language_info": {
      "name": "python"
    }
  },
  "cells": [
    {
      "cell_type": "code",
      "metadata": {
        "id": "9EfYIqRkvPRe"
      },
      "source": [
        "import re"
      ],
      "execution_count": 1,
      "outputs": []
    },
    {
      "cell_type": "code",
      "metadata": {
        "colab": {
          "base_uri": "https://localhost:8080/"
        },
        "id": "WswzsVjXvY1V",
        "outputId": "74e87c7d-e274-42c7-97b5-b5c24a837d44"
      },
      "source": [
        "# 숫자 찾기 \n",
        "example = '2021 11 25 thursday'\n",
        "print(re.findall('[0-9]', example))\n",
        "\n",
        "\n",
        "# 숫자 아닌것 찾기\n",
        "print(re.findall('[^0-9]', example))"
      ],
      "execution_count": 9,
      "outputs": [
        {
          "output_type": "stream",
          "name": "stdout",
          "text": [
            "['2', '0', '2', '1', '1', '1', '2', '5']\n",
            "[' ', ' ', ' ', 't', 'h', 'u', 'r', 's', 'd', 'a', 'y']\n"
          ]
        }
      ]
    },
    {
      "cell_type": "code",
      "metadata": {
        "colab": {
          "base_uri": "https://localhost:8080/"
        },
        "id": "5akualUevYyw",
        "outputId": "514da2a8-ef34-44ba-8f71-560a3e40dd87"
      },
      "source": [
        "# 이메일 주소 찾기 \n",
        "example = '제 이메일은 hereee@nate.com 입니다. zergod@nate.com으로 변경 되었습니다'\n",
        "print(re.findall(r'[a-z]+@[a-z]+.[a-z]+', example))"
      ],
      "execution_count": 30,
      "outputs": [
        {
          "output_type": "stream",
          "name": "stdout",
          "text": [
            "['hereee@nate.com', 'zergod@nate.com']\n"
          ]
        }
      ]
    },
    {
      "cell_type": "code",
      "metadata": {
        "colab": {
          "base_uri": "https://localhost:8080/"
        },
        "id": "Dz-nGGTtv93U",
        "outputId": "b5cd7e8a-b98b-48b2-861d-97f623ef1048"
      },
      "source": [
        "# URL 찾기 \n",
        "example = 'https://www.google.com 입니다. 네이버에 검색하시면 https://wwww.naver.com 이 상단에 노출 됩니다.'\n",
        "print(re.findall('[a-z]+:[\\/]+[a-z]+\\.+[a-z]+\\.+[a-z]+', example))"
      ],
      "execution_count": 54,
      "outputs": [
        {
          "output_type": "stream",
          "name": "stdout",
          "text": [
            "['https://www.google.com', 'https://wwww.naver.com']\n"
          ]
        }
      ]
    },
    {
      "cell_type": "code",
      "metadata": {
        "colab": {
          "base_uri": "https://localhost:8080/"
        },
        "id": "S6MnPPsHvYwC",
        "outputId": "333b2097-bdc6-46e2-a046-47d35a53374d"
      },
      "source": [
        "# 파일 찾기\n",
        "example = '제 바탕화면 보시면 sonata01.png 파일과 avante02.jpg 파일 그리고 socar2021.gif 파일이 있습니다.'\n",
        "print(re.findall('[a-z]+[0-9]+\\.+[a-z]+', example))"
      ],
      "execution_count": 42,
      "outputs": [
        {
          "output_type": "stream",
          "name": "stdout",
          "text": [
            "['sonata01.png', 'avante02.jpg', 'socar2021.gif']\n"
          ]
        }
      ]
    },
    {
      "cell_type": "code",
      "metadata": {
        "colab": {
          "base_uri": "https://localhost:8080/"
        },
        "id": "2nvu4VwCvYtP",
        "outputId": "ae8fad5f-3d37-429e-cfa0-d770f0148036"
      },
      "source": [
        "## 정규 표현식 응용\n",
        "\n",
        "def pad_punctuation(sentence, punc) :\n",
        "  for p in punc :\n",
        "    sentence = sentence.replace(p, \" \"+p + \" \")\n",
        "  return sentence\n",
        "\n",
        "sentence = \"Hi, my name is john.\"\n",
        "\n",
        "print(pad_punctuation(sentence, [\".\", \"?\", \"!\", \",\"]))"
      ],
      "execution_count": 55,
      "outputs": [
        {
          "output_type": "stream",
          "name": "stdout",
          "text": [
            "Hi ,  my name is john . \n"
          ]
        }
      ]
    },
    {
      "cell_type": "code",
      "metadata": {
        "colab": {
          "base_uri": "https://localhost:8080/"
        },
        "id": "gjHTBVeKvYpW",
        "outputId": "797b93c5-6de8-4bcb-bab8-e25fdb2d8a71"
      },
      "source": [
        "sentence = \"First, open the first chapter.\"\n",
        "\n",
        "print(sentence.lower())\n",
        "\n",
        "sentence = \"First, open the first chapter\"\n",
        "\n",
        "print(sentence.upper())"
      ],
      "execution_count": 56,
      "outputs": [
        {
          "output_type": "stream",
          "name": "stdout",
          "text": [
            "first, open the first chapter.\n",
            "FIRST, OPEN THE FIRST CHAPTER\n"
          ]
        }
      ]
    },
    {
      "cell_type": "code",
      "metadata": {
        "colab": {
          "base_uri": "https://localhost:8080/"
        },
        "id": "c9_F6shsvYkx",
        "outputId": "f04fbcdc-226a-4b7e-90ed-b66de2a388cd"
      },
      "source": [
        "sentence = \"He is a ten-year-old boy.\"\n",
        "sentence = re.sub(\"([^a-zA-Z.,!?])\", \" \", sentence)\n",
        "print(sentence)"
      ],
      "execution_count": 57,
      "outputs": [
        {
          "output_type": "stream",
          "name": "stdout",
          "text": [
            "He is a ten year old boy.\n"
          ]
        }
      ]
    },
    {
      "cell_type": "markdown",
      "metadata": {
        "id": "C_9ftFUXASKu"
      },
      "source": [
        "배운것들 종합하기"
      ]
    },
    {
      "cell_type": "code",
      "metadata": {
        "colab": {
          "base_uri": "https://localhost:8080/"
        },
        "id": "UbgLQ_AbAW4Y",
        "outputId": "42f5843b-75ae-477d-c7e3-9640bdbd5593"
      },
      "source": [
        "corpus = \\\n",
        "\"\"\"\n",
        "No sooner had I been helped into my bathing-suit than I sprang out upon the \n",
        "warm sand and without thought of fear plunged into the cool water. \n",
        "I felt the great billows rock and sink. The buoyant motion of the water filled \n",
        "me with an exquisite, quivering joy. Suddenly my ecstasy gave place to terror; \n",
        "for my foot struck against a rock and the next instant there was a rush of water over my head. \n",
        "I thrust out my hands to grasp some support, I clutched at the water and at the seaweed which the waves tossed in my face. \n",
        "But all my frantic efforts were in vain. The waves seemed to be playing a game with me, and tossed me from one to another in their wild frolic. \n",
        "It was fearful! The good, firm earth had slipped from my feet, and everything seemed shut out from this strange,\n",
        " all-enveloping element—life, air, warmth and love. At last, however, the sea, as if weary of its new toy, \n",
        " threw me back on the shore, and in another instant I was clasped in my teacher's arms. \n",
        " Oh, the comfort of the long, tender embrace! As soon as I had recovered from my panic sufficiently to say anything, I demanded: \"Who put salt in the water?\"\n",
        "\"\"\"\n",
        "\n",
        "def cleaning_text(text, punc, regex) :\n",
        "  \n",
        "  # 노이즈 유형 1\n",
        "  for p in punc :\n",
        "    text = text.replace(p, \" \"+ p + \" \")\n",
        "  \n",
        "  # 노이즈 유형 2\n",
        "  text = text.lower()\n",
        "  \n",
        "  # 노이즈 유형 3\n",
        "  text = re.sub(regex, \" \", text)\n",
        "  \n",
        "  return text\n",
        "\n",
        "\n",
        "# def cleaning_text(text, punc, regex):\n",
        "#     # 노이즈 유형 1\n",
        "#     for p in punc:\n",
        "#         text = text.replace(p, \" \"+p+\" \")\n",
        "#     # 노이즈 유형 2\n",
        "#     text = text.lower()\n",
        "#     # 노이즈 유형 3\n",
        "#     text = re.sub(regex,\" \", text)\n",
        "#     return text\n",
        "\n",
        "print(cleaning_text(corpus, [\".\", \",\", \"!\", \"?\" ], \"([^a-zA-Z0-9.,?!\\n])\"))\n"
      ],
      "execution_count": 61,
      "outputs": [
        {
          "output_type": "stream",
          "name": "stdout",
          "text": [
            "\n",
            "no sooner had i been helped into my bathing suit than i sprang out upon the \n",
            "warm sand and without thought of fear plunged into the cool water .  \n",
            "i felt the great billows rock and sink .  the buoyant motion of the water filled \n",
            "me with an exquisite ,  quivering joy .  suddenly my ecstasy gave place to terror  \n",
            "for my foot struck against a rock and the next instant there was a rush of water over my head .  \n",
            "i thrust out my hands to grasp some support ,  i clutched at the water and at the seaweed which the waves tossed in my face .  \n",
            "but all my frantic efforts were in vain .  the waves seemed to be playing a game with me ,  and tossed me from one to another in their wild frolic .  \n",
            "it was fearful !  the good ,  firm earth had slipped from my feet ,  and everything seemed shut out from this strange , \n",
            " all enveloping element life ,  air ,  warmth and love .  at last ,  however ,  the sea ,  as if weary of its new toy ,  \n",
            " threw me back on the shore ,  and in another instant i was clasped in my teacher s arms .  \n",
            " oh ,  the comfort of the long ,  tender embrace !  as soon as i had recovered from my panic sufficiently to say anything ,  i demanded   who put salt in the water ?  \n",
            "\n"
          ]
        }
      ]
    },
    {
      "cell_type": "code",
      "metadata": {
        "id": "PoJ1QmwEAWzq"
      },
      "source": [
        ""
      ],
      "execution_count": null,
      "outputs": []
    }
  ]
}