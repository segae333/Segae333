{
 "cells": [
  {
   "cell_type": "code",
   "execution_count": 1,
   "id": "6a44b836",
   "metadata": {},
   "outputs": [],
   "source": [
    "import numpy as np\n",
    "import sys\n",
    "import cv2"
   ]
  },
  {
   "cell_type": "code",
   "execution_count": 7,
   "id": "3fb96311",
   "metadata": {},
   "outputs": [],
   "source": [
    "src = cv2.imread('./Ch_8_binary_img/fig/cells.png', cv2.IMREAD_GRAYSCALE)\n",
    "\n",
    "if src is None :\n",
    "    print('image read failed')\n",
    "    sys.exit()\n",
    "    \n",
    "\n",
    "# retval1, dst1 = cv2.threshold(src, 100, 255, cv2.THRESH_BINARY)\n",
    "# retval2, dst2 = cv2.threshold(src, 200, 255, cv2.THRESH_BINARY)\n",
    "# print(retval1, retval2)\n",
    "\n",
    "def call_trackbar(pos) :\n",
    "    retval, dst = cv2.threshold(src, pos, 255, cv2.THRESH_BINARY_INV)\n",
    "    cv2.imshow('dst', dst)\n",
    "    \n",
    "\n",
    "\n",
    "cv2.imshow('src', src)\n",
    "cv2.namedWindow('dst')\n",
    "cv2.createTrackbar('level', 'dst', 128, 255, call_trackbar)\n",
    "\n",
    "# cv2.imshow('dst1', dst1)\n",
    "# cv2.imshow('dst2', dst2)\n",
    "\n",
    "cv2.waitKey()\n",
    "cv2.destroyAllWindows()"
   ]
  },
  {
   "cell_type": "code",
   "execution_count": 14,
   "id": "c0c8a02d",
   "metadata": {},
   "outputs": [
    {
     "ename": "error",
     "evalue": "OpenCV(4.5.4-dev) D:\\a\\opencv-python\\opencv-python\\opencv\\modules\\imgproc\\src\\thresh.cpp:1557: error: (-2:Unspecified error) in function 'double __cdecl cv::threshold(const class cv::_InputArray &,const class cv::_OutputArray &,double,double,int)'\n> THRESH_OTSU mode:\n>     'src_type == CV_8UC1 || src_type == CV_16UC1'\n> where\n>     'src_type' is 16 (CV_8UC3)\n",
     "output_type": "error",
     "traceback": [
      "\u001b[1;31m---------------------------------------------------------------------------\u001b[0m",
      "\u001b[1;31merror\u001b[0m                                     Traceback (most recent call last)",
      "\u001b[1;32m<ipython-input-14-c7327601992c>\u001b[0m in \u001b[0;36m<module>\u001b[1;34m\u001b[0m\n\u001b[0;32m      1\u001b[0m \u001b[0msrc\u001b[0m \u001b[1;33m=\u001b[0m \u001b[0mcv2\u001b[0m\u001b[1;33m.\u001b[0m\u001b[0mimread\u001b[0m\u001b[1;33m(\u001b[0m\u001b[1;34m'./Ch_8_binary_img/fig/rice.png'\u001b[0m\u001b[1;33m)\u001b[0m\u001b[1;33m\u001b[0m\u001b[1;33m\u001b[0m\u001b[0m\n\u001b[0;32m      2\u001b[0m \u001b[1;33m\u001b[0m\u001b[0m\n\u001b[1;32m----> 3\u001b[1;33m \u001b[0mthres\u001b[0m\u001b[1;33m,\u001b[0m \u001b[0mdst\u001b[0m \u001b[1;33m=\u001b[0m \u001b[0mcv2\u001b[0m\u001b[1;33m.\u001b[0m\u001b[0mthreshold\u001b[0m\u001b[1;33m(\u001b[0m\u001b[0msrc\u001b[0m\u001b[1;33m,\u001b[0m \u001b[1;36m0\u001b[0m\u001b[1;33m,\u001b[0m \u001b[1;36m255\u001b[0m\u001b[1;33m,\u001b[0m  \u001b[0mcv2\u001b[0m\u001b[1;33m.\u001b[0m\u001b[0mTHRESH_OTSU\u001b[0m\u001b[1;33m)\u001b[0m\u001b[1;33m\u001b[0m\u001b[1;33m\u001b[0m\u001b[0m\n\u001b[0m\u001b[0;32m      4\u001b[0m \u001b[1;33m\u001b[0m\u001b[0m\n\u001b[0;32m      5\u001b[0m \u001b[0mdst\u001b[0m \u001b[1;33m=\u001b[0m \u001b[0mnp\u001b[0m\u001b[1;33m.\u001b[0m\u001b[0mzeros\u001b[0m\u001b[1;33m(\u001b[0m\u001b[0msrc\u001b[0m\u001b[1;33m.\u001b[0m\u001b[0mshape\u001b[0m\u001b[1;33m,\u001b[0m \u001b[0mnp\u001b[0m\u001b[1;33m.\u001b[0m\u001b[0muint8\u001b[0m\u001b[1;33m)\u001b[0m\u001b[1;33m\u001b[0m\u001b[1;33m\u001b[0m\u001b[0m\n",
      "\u001b[1;31merror\u001b[0m: OpenCV(4.5.4-dev) D:\\a\\opencv-python\\opencv-python\\opencv\\modules\\imgproc\\src\\thresh.cpp:1557: error: (-2:Unspecified error) in function 'double __cdecl cv::threshold(const class cv::_InputArray &,const class cv::_OutputArray &,double,double,int)'\n> THRESH_OTSU mode:\n>     'src_type == CV_8UC1 || src_type == CV_16UC1'\n> where\n>     'src_type' is 16 (CV_8UC3)\n"
     ]
    }
   ],
   "source": [
    "src = cv2.imread('./Ch_8_binary_img/fig/rice.png')\n",
    "\n",
    "thres, dst = cv2.threshold(src, 0, 255,  cv2.THRESH_OTSU)\n",
    "\n",
    "dst = np.zeros(src.shape, np.uint8)\n",
    "\n",
    "bw = src.shape[1]//4\n",
    "bh = src.shape[0]//4\n",
    "\n",
    "for y in range(4) :\n",
    "    for x in range(4) :\n",
    "        src_ = src[y*bh:(y+1)*bh, x*bw:(x+1)*bw]\n",
    "        dst_ = dst2[y*bh:(y+1)*bh, x*bw:(x+1)*bw]\n",
    "        cv2.threshold(src_, 0, 255, cv2.THRESH_OTSU, dst_)\n",
    "# print(src.shape)\n",
    "# print(bw)\n",
    "# print(bh)\n",
    "\n",
    "cv2.imshow('src', src)\n",
    "cv2.imshow('dst', dst)\n",
    "cv2.imshow('dst2', dst2)\n",
    "\n",
    "cv2.waitKey()\n",
    "cv2.destroyAllWindows()"
   ]
  },
  {
   "cell_type": "code",
   "execution_count": 7,
   "id": "0493e82d",
   "metadata": {},
   "outputs": [],
   "source": [
    "src = cv2.imread('./Ch_8_binary_img/fig/sudoku.jpg', cv2.IMREAD_GRAYSCALE)\n",
    "\n",
    "\n",
    "dst = cv2.adaptiveThreshold(src, 255, cv2.ADAPTIVE_THRESH_GAUSSIAN_C, \n",
    "                           cv2.THRESH_BINARY, 3, 5 )\n",
    "\n",
    "\n",
    "\n",
    "cv2.imshow('src', src)\n",
    "cv2.imshow('dst', dst)\n",
    "\n",
    "cv2.waitKey()\n",
    "cv2.destroyAllWindows()"
   ]
  },
  {
   "cell_type": "code",
   "execution_count": 10,
   "id": "3de06d8a",
   "metadata": {},
   "outputs": [],
   "source": [
    "src = cv2.imread('./Ch_8_binary_img/fig/circuit.bmp', cv2.IMREAD_GRAYSCALE)\n",
    "\n",
    "kernel = cv2.getStructuringElement(cv2.MORPH_RECT, (5,5))\n",
    "dst1 = cv2.erode(src, kernel)\n",
    "dst2 = cv2.dilate(src, kernel)\n",
    "\n",
    "cv2.imshow('src', src)\n",
    "cv2.imshow('dst1', dst1)\n",
    "cv2.imshow('dst2', dst2)\n",
    "\n",
    "cv2.waitKey()\n",
    "cv2.destroyAllWindows()"
   ]
  },
  {
   "cell_type": "code",
   "execution_count": 17,
   "id": "f84ff49b",
   "metadata": {},
   "outputs": [],
   "source": [
    "src = cv2.imread('./Ch_8_binary_img/fig/rice.png', cv2.IMREAD_GRAYSCALE)\n",
    "\n",
    "dst1 = np.zeros(src.shape, np.uint8)\n",
    "\n",
    "bw = src.shape[1]//4\n",
    "bh = src.shape[0]//4\n",
    "\n",
    "for y in range(4) :\n",
    "    for x in range(4) :\n",
    "        src_ = src[y*bh:(y+1)*bh, x*bw:(x+1)*bw]\n",
    "        dst_ = dst2[y*bh:(y+1)*bh, x*bw:(x+1)*bw]\n",
    "        cv2.threshold(src_, 0, 255, cv2.THRESH_OTSU, dst_)\n",
    "\n",
    "kernel = cv2.getStructuringElement(cv2.MORPH_RECT, (3,3))\n",
    "\n",
    "dst2 = cv2.morphologyEx(dst1, cv2.MORPH_OPEN, kernel, None)\n",
    "dst_erode = cv2.morphologyEx(dst1, cv2.MORPH_ERODE, kernel, None)\n",
    "\n",
    "cv2.imshow('src', src)\n",
    "cv2.imshow('dst1', dst1)\n",
    "cv2.imshow('dst2', dst2)\n",
    "cv2.imshow('dst_erode', dst_erode)\n",
    "\n",
    "cv2.waitKey()\n",
    "cv2.destroyAllWindows()"
   ]
  },
  {
   "cell_type": "code",
   "execution_count": 24,
   "id": "79f51572",
   "metadata": {},
   "outputs": [
    {
     "name": "stdout",
     "output_type": "stream",
     "text": [
      "119\n"
     ]
    }
   ],
   "source": [
    "src = cv2.imread('./Ch_8_binary_img/fig/keyboard.jpg', cv2.IMREAD_GRAYSCALE)\n",
    "\n",
    "ret, dst = cv2.threshold(src, 0, 255, cv2.THRESH_OTSU)\n",
    "\n",
    "kernel = cv2.getStructuringElement(cv2.MORPH_RECT, (3,3))\n",
    "dst_morph = cv2.morphologyEx(dst, cv2.MORPH_OPEN, kernel)\n",
    "\n",
    "dst = cv2.cvtColor(src, cv2.COLOR_GRAY2BGR)\n",
    "cnt, labels, stats, centroids = cv2.connectedComponentsWithStats(dst_morph, \n",
    "                                                                connectivity = 8)\n",
    "print(cnt)\n",
    "for i in range(1, cnt) :\n",
    "    x, y, w, h, area = stats[i]\n",
    "    \n",
    "    if area > 1000 or area < 20 : \n",
    "        continue\n",
    "    cv2.rectangle(dst, (x, y, w, h), (0, 0, 255), 2)\n",
    "        \n",
    "\n",
    "\n",
    "cv2.imshow('src', src)\n",
    "cv2.imshow('dst', dst)\n",
    "\n",
    "cv2.waitKey()\n",
    "cv2.destroyAllWindows()"
   ]
  }
 ],
 "metadata": {
  "kernelspec": {
   "display_name": "Python 3",
   "language": "python",
   "name": "python3"
  },
  "language_info": {
   "codemirror_mode": {
    "name": "ipython",
    "version": 3
   },
   "file_extension": ".py",
   "mimetype": "text/x-python",
   "name": "python",
   "nbconvert_exporter": "python",
   "pygments_lexer": "ipython3",
   "version": "3.8.8"
  }
 },
 "nbformat": 4,
 "nbformat_minor": 5
}
