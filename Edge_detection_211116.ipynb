{
 "cells": [
  {
   "cell_type": "code",
   "execution_count": 1,
   "id": "57875a4d",
   "metadata": {},
   "outputs": [],
   "source": [
    "import numpy as np \n",
    "import sys\n",
    "import cv2"
   ]
  },
  {
   "cell_type": "code",
   "execution_count": 13,
   "id": "21637070",
   "metadata": {},
   "outputs": [],
   "source": [
    "src = cv2.imread('./fig2/lenna.bmp')\n",
    "\n",
    "dx = cv2.Sobel(src, cv2.CV_32F, 1, 0, delta = 128)\n",
    "dy = cv2.Sobel(src, cv2.CV_32F, 0, 1, delta  =128)\n",
    "\n",
    "mag = np.clip(cv2.magnitude(dx, dy), 0, 255).astype(np.uint8)\n",
    "\n",
    "dx = dx.astype(np.uint8)\n",
    "dy = dy.astype(np.uint8)\n",
    "\n",
    "cv2.imshow('src', src)\n",
    "cv2.imshow('dx', dx)\n",
    "cv2.imshow('dy', dy)\n",
    "cv2.imshow('mag', mag)\n",
    "\n",
    "cv2.waitKey()\n",
    "cv2.destroyAllWindows()"
   ]
  },
  {
   "cell_type": "code",
   "execution_count": 10,
   "id": "76b2d59b",
   "metadata": {},
   "outputs": [],
   "source": [
    "import sys\n",
    "import numpy as np\n",
    "import cv2"
   ]
  },
  {
   "cell_type": "code",
   "execution_count": 14,
   "id": "34db45bb",
   "metadata": {},
   "outputs": [],
   "source": [
    "src = cv2.imread('./fig/crack.jpg', cv2.IMREAD_GRAYSCALE)\n",
    "\n",
    "if src is None:\n",
    "    print('Image load failed!')\n",
    "    sys.exit()\n",
    "\n",
    "dx = cv2.Sobel(src, cv2.CV_32F, 1, 0)\n",
    "dy = cv2.Sobel(src, cv2.CV_32F, 0, 1)\n",
    "\n",
    "mag = cv2.magnitude(dx, dy)\n",
    "mag = np.clip(mag, 0, 255).astype(np.uint8)\n",
    "\n",
    "dst = np.zeros(mag.shape[:2], np.uint8)\n",
    "dst[mag > 120] = 255\n",
    "# _, dst = cv2.threshold(mag, 120, 255, cv2.THRESH_BINARY)\n",
    "\n",
    "cv2.imshow('src', src)\n",
    "cv2.imshow('mag', mag)\n",
    "cv2.imshow('dst', dst)\n",
    "cv2.waitKey()\n",
    "\n",
    "cv2.destroyAllWindows()"
   ]
  },
  {
   "cell_type": "code",
   "execution_count": 15,
   "id": "3baec2d9",
   "metadata": {},
   "outputs": [],
   "source": [
    "src = cv2.imread('./fig/crack.jpg', cv2.IMREAD_GRAYSCALE)\n",
    "\n",
    "\n",
    "if src is None:\n",
    "    print('Image load failed!')\n",
    "    sys.exit()\n",
    "    \n",
    "\n",
    "mag = np.clip(cv2.magnitude(dx,dy), 0, 255).astype(np.uint8)\n",
    "dst_sobel = np.zeros(mag.shape, np.uint8)\n",
    "dst_sobel[mag>100] = 255\n",
    "\n",
    "dst_canny = cv2.Canny(src, 100, 150)\n",
    "\n",
    "cv2.imshow('src', src)\n",
    "cv2.imshow('dst_sobel', dst_sobel)\n",
    "cv2.imshow('dst_canny', dst_canny)\n",
    "\n",
    "cv2.waitKey()\n",
    "cv2.destroyAllWindows()"
   ]
  },
  {
   "cell_type": "code",
   "execution_count": null,
   "id": "33bfde0c",
   "metadata": {},
   "outputs": [],
   "source": []
  },
  {
   "cell_type": "code",
   "execution_count": null,
   "id": "0d973593",
   "metadata": {},
   "outputs": [],
   "source": []
  },
  {
   "cell_type": "code",
   "execution_count": null,
   "id": "09ef2f04",
   "metadata": {},
   "outputs": [],
   "source": []
  },
  {
   "cell_type": "code",
   "execution_count": null,
   "id": "e3f09a7e",
   "metadata": {},
   "outputs": [],
   "source": []
  }
 ],
 "metadata": {
  "kernelspec": {
   "display_name": "Python 3",
   "language": "python",
   "name": "python3"
  },
  "language_info": {
   "codemirror_mode": {
    "name": "ipython",
    "version": 3
   },
   "file_extension": ".py",
   "mimetype": "text/x-python",
   "name": "python",
   "nbconvert_exporter": "python",
   "pygments_lexer": "ipython3",
   "version": "3.8.8"
  }
 },
 "nbformat": 4,
 "nbformat_minor": 5
}
