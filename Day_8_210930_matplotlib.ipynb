{
 "cells": [
  {
   "cell_type": "code",
   "execution_count": 8,
   "id": "8606438d",
   "metadata": {},
   "outputs": [],
   "source": [
    "import pandas as pd\n",
    "import matplotlib.pyplot as plt\n",
    "\n",
    "plt.rcParams['font.family'] = 'Malgun Gothic'\n",
    "plt.rcParams['axes.unicode_minus'] = False "
   ]
  },
  {
   "cell_type": "code",
   "execution_count": null,
   "id": "1672b53f",
   "metadata": {},
   "outputs": [],
   "source": [
    "# 서울에서 충청남도, 경상북도, 강원도로 이동한 인구 데이터만 선택해서 사용\n",
    "df = pd.read_excel('./시도별 전출입 인구수.xlsx', header=0)\n",
    "# NaN 데이터 처리 \n",
    "# 서울에서 청청남도, 경상북도 강원도로 이동한 이구 데이터 추출 \n",
    "# 년도가 string이므로 int로 변경\n",
    "# 인덱스는 년도 \n",
    "df.fillna(method='ffill')\n",
    "\n"
   ]
  },
  {
   "cell_type": "code",
   "execution_count": null,
   "id": "9200d7ff",
   "metadata": {},
   "outputs": [],
   "source": [
    "mask = (df['전출지별'] == '서울특별시') & (df['전입지별'] != '서울특별시') \n",
    "df_seoul = df[mask]\n",
    "df_seoul = df_seoul.drop(['전출지별'], axis=1)\n",
    "df_seoul.rename({'전입지별':'전입지'}, axis=1, inplace=True)\n",
    "df_seoul.set_index('전입지', inplace=True)\n",
    "\n",
    "# 서울에서 '충청남도','경상북도', '강원도', '전라남도'로 이동한 인구 데이터 값만 선택\n",
    "col_years = list(map(str, range(1970, 2018)))\n",
    "df_4 = df_seoul.loc[['충청남도','경상북도', '강원도', '전라남도'], col_years]"
   ]
  },
  {
   "cell_type": "code",
   "execution_count": null,
   "id": "b9d23732",
   "metadata": {},
   "outputs": [],
   "source": [
    "# -*- coding: utf-8 -*-\n",
    "2\n",
    "​\n",
    "3\n",
    "# 라이브러리 불러오기\n",
    "4\n",
    "import pandas as pd\n",
    "5\n",
    "import matplotlib.pyplot as plt\n",
    "6\n",
    "​\n",
    "7\n",
    "# matplotlib 한글 폰트 오류 문제 해결\n",
    "8\n",
    "from matplotlib import font_manager, rc\n",
    "9\n",
    "font_path = \"./malgun.ttf\"   #폰트파일의 위치\n",
    "10\n",
    "font_name = font_manager.FontProperties(fname=font_path).get_name()\n",
    "11\n",
    "rc('font', family=font_name)\n",
    "12\n",
    "​\n",
    "13\n",
    "plt.style.use('ggplot')   # 스타일 서식 지정\n",
    "14\n",
    "plt.rcParams['axes.unicode_minus']=False   # 마이너스 부호 출력 설정\n",
    "15\n",
    "​\n",
    "16\n",
    "# Excel 데이터를 데이터프레임 변환 \n",
    "17\n",
    "df = pd.read_excel('./남북한발전전력량.xlsx', engine= 'openpyxl', convert_float=True)\n",
    "18\n",
    "df = df.loc[5:9]\n",
    "19\n",
    "df.drop('전력량 (억㎾h)', axis='columns', inplace=True)\n",
    "20\n",
    "df.set_index('발전 전력별', inplace=True)\n",
    "21\n",
    "df = df.T \n",
    "22\n",
    "​\n",
    "23\n",
    "# 증감율(변동률) 계산\n",
    "24\n",
    "df = df.rename(columns={'합계':'총발전량'})\n",
    "25\n",
    "df['총발전량 - 1년'] = df['총발전량'].shift(1)\n",
    "26\n",
    "df['증감율'] = ((df['총발전량'] / df['총발전량 - 1년']) - 1) * 100      \n",
    "27\n",
    "​\n",
    "28\n",
    "# 2축 그래프 그리기\n",
    "29\n",
    "ax1 = df[['수력','화력']].plot(kind='bar', figsize=(20, 10), width=0.7, stacked=True)  \n",
    "30\n",
    "ax2 = ax1.twinx()\n",
    "31\n",
    "ax2.plot(df.index, df.증감율, ls='--', marker='o', markersize=20, \n",
    "32\n",
    "         color='green', label='전년대비 증감율(%)')  \n",
    "33\n",
    "​\n",
    "34\n",
    "ax1.set_ylim(0, 500)\n",
    "35\n",
    "ax2.set_ylim(-50, 50)\n",
    "36\n",
    "​\n",
    "37\n",
    "ax1.set_xlabel('연도', size=20)\n",
    "38\n",
    "ax1.set_ylabel('발전량(억 KWh)')\n",
    "39\n",
    "ax2.set_ylabel('전년 대비 증감율(%)')\n",
    "40\n",
    "​\n",
    "41\n",
    "plt.title('북한 전력 발전량 (1990 ~ 2016)', size=30)\n",
    "42\n",
    "ax1.legend(loc='upper left')\n",
    "43\n",
    "​\n",
    "44\n",
    "plt.show()"
   ]
  },
  {
   "cell_type": "code",
   "execution_count": null,
   "id": "d64714b0",
   "metadata": {},
   "outputs": [],
   "source": [
    "# 라이브러리 불러오기\n",
    "import pandas as pd\n",
    "import matplotlib.pyplot as plt\n",
    "​\n",
    "# matplotlib 한글 폰트 오류 문제 해결\n",
    "from matplotlib import font_manager, rc\n",
    "font_path = \"./malgun.ttf\"   #폰트파일의 위치\n",
    "font_name = font_manager.FontProperties(fname=font_path).get_name()\n",
    "rc('font', family=font_name)\n",
    "​\n",
    "plt.style.use('ggplot')   # 스타일 서식 지정\n",
    "plt.rcParams['axes.unicode_minus']=False   # 마이너스 부호 출력 설정\n",
    "​\n",
    "# Excel 데이터를 데이터프레임 변환 \n",
    "df = pd.read_excel('./남북한발전전력량.xlsx', engine= 'openpyxl', convert_float=True)\n",
    "df = df.loc[5:9]\n",
    "df.drop('전력량 (억㎾h)', axis='columns', inplace=True)\n",
    "df.set_index('발전 전력별', inplace=True)\n",
    "df = df.T \n",
    "​\n",
    "# 증감율(변동률) 계산\n",
    "df = df.rename(columns={'합계':'총발전량'})\n",
    "df['총발전량 - 1년'] = df['총발전량'].shift(1)\n",
    "df['증감율'] = ((df['총발전량'] / df['총발전량 - 1년']) - 1) * 100      \n",
    "​\n",
    "# 2축 그래프 그리기\n",
    "ax1 = df[['수력','화력']].plot(kind='bar', figsize=(20, 10), width=0.7, stacked=True)  \n",
    "ax2 = ax1.twinx()\n",
    "ax2.plot(df.index, df.증감율, ls='--', marker='o', markersize=20, \n",
    "         color='green', label='전년대비 증감율(%)')  \n",
    "​\n",
    "ax1.set_ylim(0, 500)\n",
    "ax2.set_ylim(-50, 50)\n",
    "​\n",
    "ax1.set_xlabel('연도', size=20)\n",
    "ax1.set_ylabel('발전량(억 KWh)')\n",
    "ax2.set_ylabel('전년 대비 증감율(%)')\n",
    "​\n",
    "plt.title('북한 전력 발전량 (1990 ~ 2016)', size=30)\n",
    "ax1.legend(loc='upper left')\n",
    "​\n",
    "plt.show()\n"
   ]
  },
  {
   "cell_type": "code",
   "execution_count": null,
   "id": "4977115d",
   "metadata": {},
   "outputs": [],
   "source": [
    "# 라이브러리 불러오기\n",
    "import matplotlib.pyplot as plt\n",
    "import seaborn as sns\n",
    " \n",
    "# Seaborn 제공 데이터셋 가져오기\n",
    "titanic = sns.load_dataset('titanic')\n",
    " \n",
    "# 스타일 테마 설정 (5가지: darkgrid, whitegrid, dark, white, ticks)\n",
    "sns.set_style('whitegrid')\n",
    "\n",
    "# 그래프 객체 생성 (figure에 3개의 서브 플롯을 생성)\n",
    "fig = plt.figure(figsize=(15, 5))   \n",
    "ax1 = fig.add_subplot(1, 3, 1)\n",
    "ax2 = fig.add_subplot(1, 3, 2)\n",
    "ax3 = fig.add_subplot(1, 3, 3)\n",
    " \n",
    "# x축, y축에 변수 할당\n",
    "sns.barplot(x='sex', y='survived', data=titanic, ax=ax1) \n",
    "\n",
    "# x축, y축에 변수 할당하고 hue 옵션 추가 \n",
    "sns.barplot(x='sex', y='survived', hue='class', data=titanic, ax=ax2) \n",
    "\n",
    "# x축, y축에 변수 할당하고 hue 옵션을 추가하여 누적 출력\n",
    "sns.barplot(x='sex', y='survived', hue='class', dodge=False, data=titanic, ax=ax3)       \n",
    "\n",
    "# 차트 제목 표시\n",
    "ax1.set_title('titanic survived - sex')\n",
    "ax2.set_title('titanic survived - sex/class')\n",
    "ax3.set_title('titanic survived - sex/class(stacked)')\n",
    "\n",
    "plt.show()"
   ]
  },
  {
   "cell_type": "code",
   "execution_count": 2,
   "id": "3387587e",
   "metadata": {},
   "outputs": [
    {
     "data": {
      "image/png": "[encoded data removed]",
      "text/plain": [
       "<Figure size 1080x360 with 2 Axes>"
      ]
     },
     "metadata": {},
     "output_type": "display_data"
    }
   ],
   "source": [
    "import seaborn as sns\n",
    " \n",
    "# Seaborn 제공 데이터셋 가져오기\n",
    "titanic = sns.load_dataset('titanic')\n",
    " \n",
    "# 스타일 테마 설정 (5가지: darkgrid, whitegrid, dark, white, ticks)\n",
    "sns.set_style('darkgrid')\n",
    "\n",
    "# 그래프 객체 생성 (figure에 2개의 서브 플롯을 생성)\n",
    "fig = plt.figure(figsize=(15, 5))   \n",
    "ax1 = fig.add_subplot(1, 2, 1)\n",
    "ax2 = fig.add_subplot(1, 2, 2)\n",
    " \n",
    "# 그래프 그리기 - 선형회귀선 표시(fit_reg=True)\n",
    "sns.regplot(x='age',        #x축 변수\n",
    "            y='fare',       #y축 변수\n",
    "            data=titanic,   #데이터\n",
    "            ax=ax1)         #axe 객체 - 1번째 그래프 \n",
    "\n",
    "# 그래프 그리기 - 선형회귀선 미표시(fit_reg=False)\n",
    "sns.regplot(x='age',        #x축 변수\n",
    "            y='fare',       #y축 변수\n",
    "            data=titanic,   #데이터\n",
    "            ax=ax2,         #axe 객체 - 2번째 그래프        \n",
    "            fit_reg=False)  #회귀선 미표시\n",
    "\n",
    "plt.show()"
   ]
  },
  {
   "cell_type": "code",
   "execution_count": 3,
   "id": "97684995",
   "metadata": {},
   "outputs": [],
   "source": [
    "import folium"
   ]
  },
  {
   "cell_type": "code",
   "execution_count": 5,
   "id": "ecd62f9e",
   "metadata": {},
   "outputs": [],
   "source": [
    "# 서울 지도 만들기 \n",
    "seoul_map = folium.Map(location=[37.55, 126.98], zoom_start=12)\n",
    "\n",
    "# 지도를 HTML 파일로 저장하기\n",
    "seoul_map.save('seoul_1.html')"
   ]
  },
  {
   "cell_type": "code",
   "execution_count": 6,
   "id": "421f29d1",
   "metadata": {},
   "outputs": [
    {
     "name": "stdout",
     "output_type": "stream",
     "text": [
      "<class 'pandas.core.frame.DataFrame'>\n",
      "RangeIndex: 150 entries, 0 to 149\n",
      "Data columns (total 5 columns):\n",
      " #   Column        Non-Null Count  Dtype  \n",
      "---  ------        --------------  -----  \n",
      " 0   sepal_length  150 non-null    float64\n",
      " 1   sepal_width   150 non-null    float64\n",
      " 2   petal_length  150 non-null    float64\n",
      " 3   petal_width   150 non-null    float64\n",
      " 4   species       150 non-null    object \n",
      "dtypes: float64(4), object(1)\n",
      "memory usage: 6.0+ KB\n"
     ]
    }
   ],
   "source": [
    "import seaborn as sns\n",
    "\n",
    "iris = sns.load_dataset('iris')\n",
    "iris.info()"
   ]
  },
  {
   "cell_type": "code",
   "execution_count": 9,
   "id": "a92f8f15",
   "metadata": {},
   "outputs": [
    {
     "data": {
      "image/png": "[encoded data removed]",
      "text/plain": [
       "<Figure size 432x288 with 1 Axes>"
      ]
     },
     "metadata": {},
     "output_type": "display_data"
    }
   ],
   "source": [
    "def scatter_graph(X, Y) :\n",
    "    sns.scatterplot(x=X, y=Y)\n",
    "    \n",
    "iris = sns.load_dataset('iris')\n",
    "iris.set_index('species', inplace=True)\n",
    "\n",
    "x_data = iris.index\n",
    "y_data = iris['petal_width']\n",
    "scatter_graph(x_data, y_data) # 입의 넓이를 산점도로\n",
    "\n",
    "y_data = iris['petal_length'] # 잎의 길이를 산점도로\n",
    "scatter_graph(x_data, y_data)\n",
    "\n",
    "plt.title('붓꽃의 잎의 길이와 넓이, 종의 관계')  # title\n",
    "labels = iris[['petal_width', 'petal_length']]\n",
    "plt.legend(labels)   # 범주\n",
    "plt.show()"
   ]
  },
  {
   "cell_type": "code",
   "execution_count": null,
   "id": "a5d0eaeb",
   "metadata": {},
   "outputs": [],
   "source": []
  },
  {
   "cell_type": "code",
   "execution_count": null,
   "id": "7f837f3e",
   "metadata": {},
   "outputs": [],
   "source": []
  }
 ],
 "metadata": {
  "kernelspec": {
   "display_name": "Python 3",
   "language": "python",
   "name": "python3"
  },
  "language_info": {
   "codemirror_mode": {
    "name": "ipython",
    "version": 3
   },
   "file_extension": ".py",
   "mimetype": "text/x-python",
   "name": "python",
   "nbconvert_exporter": "python",
   "pygments_lexer": "ipython3",
   "version": "3.8.8"
  }
 },
 "nbformat": 4,
 "nbformat_minor": 5
}
