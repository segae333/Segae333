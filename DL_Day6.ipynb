{
  "nbformat": 4,
  "nbformat_minor": 0,
  "metadata": {
    "colab": {
      "name": "DL_Day6.ipynb",
      "provenance": [],
      "collapsed_sections": [
        "WCfH36H-1csy",
        "UxdnRz8A16wG"
      ]
    },
    "kernelspec": {
      "name": "python3",
      "display_name": "Python 3"
    },
    "language_info": {
      "name": "python"
    }
  },
  "cells": [
    {
      "cell_type": "markdown",
      "metadata": {
        "id": "UyMO7F5L08d6"
      },
      "source": [
        "### Drop out 모델\n"
      ]
    },
    {
      "cell_type": "code",
      "metadata": {
        "id": "raS9Rg5_1AJ8"
      },
      "source": [
        "import numpy as np \n",
        "import matplotlib.pyplot as plt\n",
        "import tensorflow as tf \n",
        "from tensorflow import keras\n",
        "from tensorflow.keras.datasets import cifar10\n",
        "\n",
        "(x_train, y_train), (x_test, y_test) = cifar10.load_data()"
      ],
      "execution_count": null,
      "outputs": []
    },
    {
      "cell_type": "code",
      "metadata": {
        "id": "FyiKIyw71AqL"
      },
      "source": [
        "# shape확인\n",
        "print(x_train.shape)\n",
        "print(y_train.shape)\n",
        "print(x_test.shape)\n",
        "print(y_test.shape)"
      ],
      "execution_count": null,
      "outputs": []
    },
    {
      "cell_type": "code",
      "metadata": {
        "id": "XjbOTr-e1Any"
      },
      "source": [
        "plt.figure(figsize=(20, 20))\n",
        "for i, img in enumerate(x_train[:4]):\n",
        "    plt.subplot(1, 4, i+1)\n",
        "    plt.imshow(x_train[i])\n",
        "plt.show()"
      ],
      "execution_count": null,
      "outputs": []
    },
    {
      "cell_type": "code",
      "metadata": {
        "id": "AwRjzY6i1Ak0"
      },
      "source": [
        "print(f\"y_train original shape : {y_train.shape}\")\n",
        "y_train = keras.utils.to_categorical(y_train)\n",
        "print(f\"y_train one-hot shape :{y_train.shape}\")"
      ],
      "execution_count": null,
      "outputs": []
    },
    {
      "cell_type": "code",
      "metadata": {
        "id": "79TMObPv1AiT"
      },
      "source": [
        "y_test = keras.utils.to_categorical(y_test)"
      ],
      "execution_count": null,
      "outputs": []
    },
    {
      "cell_type": "code",
      "metadata": {
        "id": "8aR2_-rK1Afa"
      },
      "source": [
        "conv2D = keras.layers.Conv2D(filters=32, kernel_size =3, strides= 1, kernel_initializer=\"he_normal\", activation='relu', padding='same',input_shape=(32, 32,3))"
      ],
      "execution_count": null,
      "outputs": []
    },
    {
      "cell_type": "code",
      "metadata": {
        "id": "oe5poXpT1Acp"
      },
      "source": [
        "conv2D_2 = keras.layers.Conv2D(filters=32, kernel_size =3, strides= 1, kernel_initializer=\"he_normal\", activation='relu', padding='same')"
      ],
      "execution_count": null,
      "outputs": []
    },
    {
      "cell_type": "code",
      "metadata": {
        "id": "TZT2exFK1APG"
      },
      "source": [
        "model_drop = keras.Sequential([\n",
        "    keras.layers.Conv2D(32, 3, kernel_initializer=\"he_normal\", activation='relu', padding=\"same\", input_shape=(32, 32, 3)),\n",
        "    keras.layers.Dropout(0.15),\n",
        "    keras.layers.MaxPooling2D(),\n",
        "    keras.layers.Conv2D(32, 3, kernel_initializer=\"he_normal\", activation='relu', padding='same'),\n",
        "    keras.layers.MaxPooling2D(),\n",
        "    keras.layers.Conv2D(64, 3, kernel_initializer=\"he_normal\", activation='relu', padding='same'),\n",
        "    keras.layers.Dropout(0.15),\n",
        "    keras.layers.MaxPooling2D(),\n",
        "    keras.layers.Conv2D(64, 3, kernel_initializer=\"he_normal\", activation='relu', padding='same'),\n",
        "    keras.layers.MaxPooling2D(),\n",
        "    keras.layers.Conv2D(128, 3, kernel_initializer=\"he_normal\", activation='relu', padding='same'),\n",
        "    keras.layers.Dropout(0.15),\n",
        "    keras.layers.Conv2D(128, 3, kernel_initializer=\"he_normal\", activation='relu', padding='same'),\n",
        "    keras.layers.MaxPooling2D(),\n",
        "    keras.layers.Flatten(),\n",
        "    keras.layers.Dropout(0.15),\n",
        "    keras.layers.Dense(512, kernel_initializer=\"he_normal\", activation='relu'),\n",
        "    keras.layers.Dropout(0.3),\n",
        "    keras.layers.Dense(10, activation=\"softmax\")\n",
        "])"
      ],
      "execution_count": null,
      "outputs": []
    },
    {
      "cell_type": "code",
      "metadata": {
        "id": "tl93D1F71AMo"
      },
      "source": [
        "model_drop.summary()"
      ],
      "execution_count": null,
      "outputs": []
    },
    {
      "cell_type": "code",
      "metadata": {
        "id": "k1HjyCYT1QKp"
      },
      "source": [
        "model_drop.compile(\n",
        "    optimizer = \"adam\",\n",
        "    loss = \"categorical_crossentropy\",\n",
        "    metrics=[\"accuracy\"]\n",
        ")"
      ],
      "execution_count": null,
      "outputs": []
    },
    {
      "cell_type": "code",
      "metadata": {
        "id": "kvcecRRt1QHz"
      },
      "source": [
        "epoch = 1000\n",
        "batch_size = 128\n",
        "es = keras.callbacks.EarlyStopping(monitor=\"val_loss\", patience=10)"
      ],
      "execution_count": null,
      "outputs": []
    },
    {
      "cell_type": "code",
      "metadata": {
        "id": "XqFZrEF91QFP"
      },
      "source": [
        "hist = model_drop.fit(x_train, y_train, batch_size=batch_size, epochs=epoch, validation_split=0.2, shuffle=True, callbacks=[es])"
      ],
      "execution_count": null,
      "outputs": []
    },
    {
      "cell_type": "code",
      "metadata": {
        "id": "P04Wnie81QCw"
      },
      "source": [
        "loss, acc = model_drop.evaluate(x_test, y_test)"
      ],
      "execution_count": null,
      "outputs": []
    },
    {
      "cell_type": "markdown",
      "metadata": {
        "id": "WCfH36H-1csy"
      },
      "source": [
        "### BatchNormalization 모델\n",
        " "
      ]
    },
    {
      "cell_type": "code",
      "metadata": {
        "id": "OIsLnx-T1P_z"
      },
      "source": [
        "model_batch = keras.Sequential([\n",
        "        keras.layers.Conv2D(32, 3, kernel_initializer='he_normal', padding='same', input_shape=(32, 32, 3)),\n",
        "        keras.layers.BatchNormalization(),\n",
        "        keras.layers.Activation('relu'),\n",
        "        keras.layers.Conv2D(32, 3, kernel_initializer='he_normal', padding='same'),\n",
        "        keras.layers.BatchNormalization(),\n",
        "        keras.layers.Activation('relu'),\n",
        "        keras.layers.MaxPooling2D(),\n",
        "        keras.layers.Conv2D(64, 3, kernel_initializer='he_normal', padding='same'),\n",
        "        keras.layers.BatchNormalization(),\n",
        "        keras.layers.Activation('relu'),\n",
        "        keras.layers.Conv2D(64, 3, kernel_initializer='he_normal', padding='same'),\n",
        "        keras.layers.BatchNormalization(),\n",
        "        keras.layers.Activation('relu'),\n",
        "        keras.layers.MaxPooling2D(),\n",
        "        keras.layers.Conv2D(128, 3, kernel_initializer='he_normal', padding='same'),\n",
        "        keras.layers.BatchNormalization(),\n",
        "        keras.layers.Activation('relu'),\n",
        "        keras.layers.Conv2D(128, 3, kernel_initializer='he_normal', padding='same'),\n",
        "        keras.layers.BatchNormalization(),\n",
        "        keras.layers.Activation('relu'),\n",
        "        keras.layers.MaxPooling2D(),\n",
        "        keras.layers.Flatten(),\n",
        "        keras.layers.BatchNormalization(),\n",
        "        keras.layers.Dense(512, kernel_initializer='he_normal'),\n",
        "        keras.layers.BatchNormalization(),\n",
        "        keras.layers.Activation('relu'),\n",
        "        keras.layers.Dense(10, activation='softmax')\n",
        "])"
      ],
      "execution_count": null,
      "outputs": []
    },
    {
      "cell_type": "code",
      "metadata": {
        "id": "yd-v6BF61P4z"
      },
      "source": [
        "model_batch.compile(\n",
        "    optimizer = \"adam\",\n",
        "    loss = \"categorical_crossentropy\",\n",
        "    metrics= ['accuracy']\n",
        ")"
      ],
      "execution_count": null,
      "outputs": []
    },
    {
      "cell_type": "code",
      "metadata": {
        "id": "h-J1dXcr1nlK"
      },
      "source": [
        "epoch = 1000\n",
        "batch_size = 128\n",
        "es = keras.callbacks.EarlyStopping(monitor=\"val_loss\", patience=10)"
      ],
      "execution_count": null,
      "outputs": []
    },
    {
      "cell_type": "code",
      "metadata": {
        "id": "fhr_vRsj1nis"
      },
      "source": [
        "model_batch.fit(x_train, y_train, batch_size=batch_size, epochs=epoch, validation_split=0.2, shuffle=True, callbacks=[es])"
      ],
      "execution_count": null,
      "outputs": []
    },
    {
      "cell_type": "code",
      "metadata": {
        "id": "AFRFhWbg1nf3"
      },
      "source": [
        "loss, acc = model_batch.evaluate(x_test, y_test)"
      ],
      "execution_count": null,
      "outputs": []
    },
    {
      "cell_type": "markdown",
      "metadata": {
        "id": "UxdnRz8A16wG"
      },
      "source": [
        "### tf.keras.Augmentation 추가\n"
      ]
    },
    {
      "cell_type": "code",
      "metadata": {
        "id": "grDlb-9M1ncf"
      },
      "source": [
        "augment = keras.Sequential(\n",
        "    [\n",
        "     keras.layers.experimental.preprocessing.RandomFlip('horizontal', input_shape=(32, 32, 3)),\n",
        "     keras.layers.experimental.preprocessing.RandomRotation(0.2),\n",
        "     keras.layers.experimental.preprocessing.RandomZoom(0.1),\n",
        "    ]\n",
        ")"
      ],
      "execution_count": null,
      "outputs": []
    },
    {
      "cell_type": "code",
      "metadata": {
        "id": "SoOfHTvG1nXx"
      },
      "source": [
        "model2 = keras.Sequential([\n",
        "    augment,\n",
        "    keras.layers.Conv2D(32, 3, kernel_initializer='he_normal', activation='relu', padding='same'),\n",
        "    keras.layers.Dropout(0.15),\n",
        "    keras.layers.Conv2D(32, 3, kernel_initializer=\"he_normal\",activation='relu', padding='same'),\n",
        "    keras.layers.MaxPooling2D(),\n",
        "    keras.layers.Conv2D(64, 3, kernel_initializer=\"he_normal\",activation='relu', padding='same'),\n",
        "    keras.layers.Dropout(0.15),\n",
        "    keras.layers.MaxPooling2D(),\n",
        "    keras.layers.Conv2D(64, 3, kernel_initializer=\"he_normal\",activation='relu', padding='same'),\n",
        "    keras.layers.MaxPooling2D(),\n",
        "    keras.layers.Conv2D(128, 3, kernel_initializer=\"he_normal\",activation='relu', padding='same'),\n",
        "    keras.layers.Dropout(0.15),\n",
        "    keras.layers.Conv2D(128, 3, kernel_initializer=\"he_normal\",activation='relu', padding='same'),\n",
        "    keras.layers.MaxPooling2D(),\n",
        "    keras.layers.Flatten(),\n",
        "    keras.layers.Dropout(0.15),\n",
        "    keras.layers.Dense(512, kernel_initializer=\"he_normal\", activation=\"relu\"),\n",
        "    keras.layers.Dropout(0.3),\n",
        "    keras.layers.Dense(10, activation=\"softmax\")\n",
        "])"
      ],
      "execution_count": null,
      "outputs": []
    },
    {
      "cell_type": "code",
      "metadata": {
        "id": "IRegn8wh9YRc"
      },
      "source": [
        "model2.compile(\n",
        "    optimizer = \"adam\",\n",
        "    loss = \"categorical_crossentropy\",\n",
        "    metrics=['accuracy']\n",
        ")"
      ],
      "execution_count": null,
      "outputs": []
    },
    {
      "cell_type": "code",
      "metadata": {
        "id": "FQg0hkwP9YOY"
      },
      "source": [
        "epoch = 1000\n",
        "batch_size = 128\n",
        "es = keras.callbacks.EarlyStopping(monitor='val_loss', patience=10)"
      ],
      "execution_count": null,
      "outputs": []
    },
    {
      "cell_type": "code",
      "metadata": {
        "id": "1F-f_-Kp9YMB"
      },
      "source": [
        "model2.summary()"
      ],
      "execution_count": null,
      "outputs": []
    },
    {
      "cell_type": "code",
      "metadata": {
        "id": "IO65smfA9YJU"
      },
      "source": [
        "model2.fit(x_train, y_train, batch_size= batch_size, epochs=epoch, validation_split=0.2, shuffle=True, callbacks=[es])"
      ],
      "execution_count": null,
      "outputs": []
    },
    {
      "cell_type": "code",
      "metadata": {
        "id": "B_zLCzcK9YEO"
      },
      "source": [
        "loss, acc = model2.evaluate(x_test, y_test)"
      ],
      "execution_count": null,
      "outputs": []
    },
    {
      "cell_type": "markdown",
      "metadata": {
        "id": "_p82K0GR9hK0"
      },
      "source": [
        "### 고양이 개 분류기 (Binary)\n"
      ]
    },
    {
      "cell_type": "code",
      "metadata": {
        "id": "wP8HFIpB9mhW"
      },
      "source": [
        "import pandas as pd\n",
        "import numpy as np \n",
        "import keras as tf\n",
        "import matplotlib.pyplot as plt\n",
        "from tensorflow import keras"
      ],
      "execution_count": 8,
      "outputs": []
    },
    {
      "cell_type": "code",
      "metadata": {
        "colab": {
          "base_uri": "https://localhost:8080/",
          "height": 205
        },
        "id": "FZz_EKVY9nRR",
        "outputId": "fbd3ae10-6348-47b3-be82-4b40850b3c06"
      },
      "source": [
        "# 데이터 불러오기 \n",
        "train_datagen = tf.keras.preprocessing.image.ImageDataGenerator()\n",
        "valid_datagen = tf.keras.preprocessing.image.ImageDataGenerator()"
      ],
      "execution_count": 7,
      "outputs": [
        {
          "output_type": "error",
          "ename": "AttributeError",
          "evalue": "ignored",
          "traceback": [
            "\u001b[0;31m---------------------------------------------------------------------------\u001b[0m",
            "\u001b[0;31mAttributeError\u001b[0m                            Traceback (most recent call last)",
            "\u001b[0;32m<ipython-input-7-0f60c0017bcd>\u001b[0m in \u001b[0;36m<module>\u001b[0;34m()\u001b[0m\n\u001b[1;32m      1\u001b[0m \u001b[0;31m# 데이터 불러오기\u001b[0m\u001b[0;34m\u001b[0m\u001b[0;34m\u001b[0m\u001b[0;34m\u001b[0m\u001b[0m\n\u001b[0;32m----> 2\u001b[0;31m \u001b[0mtrain_datagen\u001b[0m \u001b[0;34m=\u001b[0m \u001b[0mtf\u001b[0m\u001b[0;34m.\u001b[0m\u001b[0mkeras\u001b[0m\u001b[0;34m.\u001b[0m\u001b[0mpreprocessing\u001b[0m\u001b[0;34m.\u001b[0m\u001b[0mimage\u001b[0m\u001b[0;34m.\u001b[0m\u001b[0mImageDataGenerator\u001b[0m\u001b[0;34m(\u001b[0m\u001b[0;34m)\u001b[0m\u001b[0;34m\u001b[0m\u001b[0;34m\u001b[0m\u001b[0m\n\u001b[0m\u001b[1;32m      3\u001b[0m \u001b[0mvalid_datagen\u001b[0m \u001b[0;34m=\u001b[0m \u001b[0mtf\u001b[0m\u001b[0;34m.\u001b[0m\u001b[0mkeras\u001b[0m\u001b[0;34m.\u001b[0m\u001b[0mpreprocessing\u001b[0m\u001b[0;34m.\u001b[0m\u001b[0mimage\u001b[0m\u001b[0;34m.\u001b[0m\u001b[0mImageDataGenerator\u001b[0m\u001b[0;34m(\u001b[0m\u001b[0;34m)\u001b[0m\u001b[0;34m\u001b[0m\u001b[0;34m\u001b[0m\u001b[0m\n",
            "\u001b[0;31mAttributeError\u001b[0m: module 'keras' has no attribute 'keras'"
          ]
        }
      ]
    },
    {
      "cell_type": "markdown",
      "metadata": {
        "id": "8OrW_Kils7wl"
      },
      "source": [
        "### Image_data_generator를 이용한 cats or dogs classifier"
      ]
    },
    {
      "cell_type": "code",
      "metadata": {
        "id": "P8KJiD6r9nOj"
      },
      "source": [
        "import numpy as np \n",
        "import matplotlib.pyplot as plt\n",
        "import tensorflow as tf \n",
        "from tensorflow import keras"
      ],
      "execution_count": null,
      "outputs": []
    },
    {
      "cell_type": "code",
      "metadata": {
        "id": "lt5lFudW9nLl"
      },
      "source": [
        "train_dir = '/content/drive/MyDrive/Colab Notebooks/영우_4기_딥러닝/dataset/cats_and_dogs_small/train'\n",
        "valid_dir = '/content/drive/MyDrive/Colab Notebooks/영우_4기_딥러닝/dataset/cats_and_dogs_small/validation'\n",
        "test_dir = '/content/drive/MyDrive/Colab Notebooks/영우_4기_딥러닝/dataset/cats_and_dogs_small/test'"
      ],
      "execution_count": null,
      "outputs": []
    },
    {
      "cell_type": "code",
      "metadata": {
        "id": "B6g3Kr889nGb"
      },
      "source": [
        "# parameter\n",
        "batch_size=20\n",
        "learning_rate=0.0001\n",
        "epochs=5"
      ],
      "execution_count": null,
      "outputs": []
    },
    {
      "cell_type": "code",
      "metadata": {
        "id": "At2KhNQP9nD3"
      },
      "source": [
        "## DATA를 만듬\n",
        "train_datagen = tf.keras.preprocessing.image.ImageDataGenerator( # Augmentation 추가\n",
        "    rotation_range =40, # 회전 범위\n",
        "    width_shift_range=0.2, # 가로로 이동 비율\n",
        "    height_shift_range=0.2, # 세로로 이동 비율\n",
        "    shear_range=0.2, # 전단의 강도\n",
        "    zoom_range=0.2, # 확대와 축소 범위 (1-0.2 ~ 1+0.2)\n",
        "    horizontal_flip =True \n",
        ")\n",
        "valid_datagen = tf.keras.preprocessing.image.ImageDataGenerator()\n",
        "test_datagen = tf.keras.preprocessing.image.ImageDataGenerator()"
      ],
      "execution_count": null,
      "outputs": []
    },
    {
      "cell_type": "code",
      "metadata": {
        "id": "XbMk9HUxtUZd"
      },
      "source": [
        "## 만든데이터를 불러와서 파씽함.\n",
        "train_generator = train_datagen.flow_from_directory(\n",
        "        directory=train_dir,         # 타깃 디렉터리\n",
        "        target_size=(128, 128),      # 모든 이미지를 128 × 128 크기로 바꿉니다\n",
        "        batch_size=batch_size,\n",
        "        interpolation='bilinear',  ## resize시 interpolatrion 기법\n",
        "        color_mode ='rgb',\n",
        "        shuffle='True',\n",
        "        # binary_crossentropy 손실을 사용하기 때문에 이진 레이블이 필요합니다\n",
        "        class_mode='binary') # binary, categorical , sparse , input"
      ],
      "execution_count": null,
      "outputs": []
    },
    {
      "cell_type": "code",
      "metadata": {
        "id": "DDtck-s5tUWr"
      },
      "source": [
        "## class의 인덱스를 확인.\n",
        "print(train_generator.class_indices)\n",
        "print(train_generator.classes)"
      ],
      "execution_count": null,
      "outputs": []
    },
    {
      "cell_type": "code",
      "metadata": {
        "id": "z5Gz3iImtUUe"
      },
      "source": [
        "validation_generator = valid_datagen.flow_from_directory(\n",
        "        directory=valid_dir,\n",
        "        target_size=(128, 128),\n",
        "        batch_size=batch_size,\n",
        "        shuffle='True',\n",
        "        interpolation='bilinear',  ## resize시 interpolatrion 기법\n",
        "        color_mode='rgb',\n",
        "        class_mode='binary') #categorical"
      ],
      "execution_count": null,
      "outputs": []
    },
    {
      "cell_type": "code",
      "metadata": {
        "id": "rdFIe9J6tUR5"
      },
      "source": [
        "test_generator = test_datagen.flow_from_directory(\n",
        "        directory=test_dir,\n",
        "        target_size=(128, 128),\n",
        "        batch_size=batch_size,\n",
        "        shuffle='True',\n",
        "        interpolation='bilinear',  ## resize시 interpolatrion 기법\n",
        "        color_mode='rgb',\n",
        "        class_mode='binary') #categorical"
      ],
      "execution_count": null,
      "outputs": []
    },
    {
      "cell_type": "code",
      "metadata": {
        "id": "pMhAJuvbtUPW"
      },
      "source": [
        "## 파씽한 데이터의 배치사이즈 확인하기\n",
        "for data_batch, labels_batch in train_generator:\n",
        "    print('배치 데이터 크기:', data_batch.shape)\n",
        "    print('배치 레이블 크기:', labels_batch.shape)\n",
        "    print('class :',train_generator.class_indices)\n",
        "    break"
      ],
      "execution_count": null,
      "outputs": []
    },
    {
      "cell_type": "code",
      "metadata": {
        "id": "3Uq8tVkctUMY"
      },
      "source": [
        "## 모델\n",
        "input_Layer = tf.keras.layers.Input(shape=(128,128,3))\n",
        "x=tf.keras.layers.Conv2D(32,(3,3),strides=1, activation='relu',kernel_regularizer=tf.keras.regularizers.l2(0.001))(input_Layer)\n",
        "x=tf.keras.layers.MaxPool2D((2,2))(x)\n",
        "x=tf.keras.layers.Conv2D(64,(3,3),strides=1,activation='relu', padding='same')(x)\n",
        "x=tf.keras.layers.MaxPool2D((2,2))(x)\n",
        "x=tf.keras.layers.Conv2D(128,(3,3),strides=1,activation='relu')(x)\n",
        "x=tf.keras.layers.BatchNormalization()(x)\n",
        "x=tf.keras.layers.Activation('relu')(x)\n",
        "x=tf.keras.layers.Conv2D(64,(3,3),strides=1,activation='relu')(x)\n",
        "x=tf.keras.layers.Dropout(0.5)(x)\n",
        "x=tf.keras.layers.MaxPool2D((2,2))(x)\n",
        "x=tf.keras.layers.Flatten()(x)\n",
        "x= tf.keras.layers.Dense(512, activation='relu')(x)\n",
        "Out_Layer= tf.keras.layers.Dense(1, activation='sigmoid')(x)\n",
        "\n",
        "model = tf.keras.Model(inputs=[input_Layer], outputs=[Out_Layer])\n",
        "model.summary()"
      ],
      "execution_count": null,
      "outputs": []
    },
    {
      "cell_type": "code",
      "metadata": {
        "id": "glnMtKBBtUJ4"
      },
      "source": [
        "loss_function=tf.keras.losses.binary_crossentropy\n",
        "optimize=tf.keras.optimizers.RMSprop(learning_rate=learning_rate)\n",
        "metric=tf.keras.metrics.binary_accuracy\n",
        "model.compile(loss=loss_function,\n",
        "              optimizer=optimize,\n",
        "              metrics=[metric])"
      ],
      "execution_count": null,
      "outputs": []
    },
    {
      "cell_type": "code",
      "metadata": {
        "id": "mLMaj86ctUHH"
      },
      "source": [
        "import os\n",
        "history = model.fit(\n",
        "      train_generator,\n",
        "      #steps_per_epoch=int((len(os.listdir(train_dir)))/batch_size),\n",
        "      steps_per_epoch = 100,\n",
        "      epochs=epochs,\n",
        "      validation_data=validation_generator,\n",
        "      # callbacks=callbacks_list,\n",
        "      #validation_freq=1\n",
        ")"
      ],
      "execution_count": null,
      "outputs": []
    },
    {
      "cell_type": "code",
      "metadata": {
        "id": "OrktzDRAtlWu"
      },
      "source": [
        "print(model.evaluate(test_generator))\n",
        "model.save('cats_and_dogs_binary_classification.hdf5')"
      ],
      "execution_count": null,
      "outputs": []
    },
    {
      "cell_type": "code",
      "metadata": {
        "id": "hJrnB-54tlTV"
      },
      "source": [
        "history.history.keys()"
      ],
      "execution_count": null,
      "outputs": []
    },
    {
      "cell_type": "code",
      "metadata": {
        "id": "10CH4nkXtlQL"
      },
      "source": [
        "import matplotlib.pyplot as plt\n",
        "\n",
        "acc = history.history['binary_accuracy']\n",
        "val_acc = history.history['val_binary_accuracy']\n",
        "loss = history.history['loss']\n",
        "val_loss = history.history['val_loss']\n",
        "\n",
        "epochs = range(len(acc))\n",
        "\n",
        "plt.plot(epochs, acc, 'r-', label='Training acc')\n",
        "plt.plot(epochs, val_acc, 'b', label='Validation acc')\n",
        "plt.title('Training and validation accuracy')\n",
        "plt.legend()\n",
        "\n",
        "plt.figure()\n",
        "\n",
        "plt.plot(epochs, loss, 'r-', label='Training loss')\n",
        "plt.plot(epochs, val_loss, 'b', label='Validation loss')\n",
        "plt.title('Training and validation loss')\n",
        "plt.legend()\n",
        "\n",
        "plt.show()"
      ],
      "execution_count": null,
      "outputs": []
    },
    {
      "cell_type": "code",
      "metadata": {
        "id": "_ooyUtq-tlNV"
      },
      "source": [
        ""
      ],
      "execution_count": null,
      "outputs": []
    },
    {
      "cell_type": "code",
      "metadata": {
        "id": "DeRiTu4GtlId"
      },
      "source": [
        ""
      ],
      "execution_count": null,
      "outputs": []
    },
    {
      "cell_type": "code",
      "metadata": {
        "id": "bSqk_JkttlFj"
      },
      "source": [
        ""
      ],
      "execution_count": null,
      "outputs": []
    }
  ]
}