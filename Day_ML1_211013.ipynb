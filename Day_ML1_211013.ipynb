{
 "cells": [
  {
   "cell_type": "code",
   "execution_count": 1,
   "metadata": {},
   "outputs": [
    {
     "name": "stdout",
     "output_type": "stream",
     "text": [
      "Requirement already satisfied: scikit-learn in c:\\users\\segaeshin\\anaconda3\\lib\\site-packages (0.21.3)\n",
      "Requirement already satisfied: joblib>=0.11 in c:\\users\\segaeshin\\anaconda3\\lib\\site-packages (from scikit-learn) (0.14.0)\n",
      "Requirement already satisfied: numpy>=1.11.0 in c:\\users\\segaeshin\\anaconda3\\lib\\site-packages (from scikit-learn) (1.17.3)\n",
      "Requirement already satisfied: scipy>=0.17.0 in c:\\users\\segaeshin\\anaconda3\\lib\\site-packages (from scikit-learn) (1.3.1)\n",
      "Note: you may need to restart the kernel to use updated packages.\n"
     ]
    }
   ],
   "source": [
    "pip install scikit-learn"
   ]
  },
  {
   "cell_type": "code",
   "execution_count": 2,
   "metadata": {},
   "outputs": [],
   "source": [
    "import numpy as np \n",
    "import pandas as pd\n",
    "import matplotlib.pyplot as plt"
   ]
  },
  {
   "cell_type": "code",
   "execution_count": 3,
   "metadata": {},
   "outputs": [],
   "source": [
    "np.random.seed(1013)\n",
    "\n",
    "x = np.arange(1, 30, 1, dtype= np.int16)\n",
    "x\n",
    "\n",
    "y = 2 * x + 1\n",
    "\n",
    "y_random = y + np.random.normal(loc = 0, scale = 8, size = len(y))"
   ]
  },
  {
   "cell_type": "code",
   "execution_count": 4,
   "metadata": {},
   "outputs": [
    {
     "data": {
      "text/plain": [
       "29"
      ]
     },
     "execution_count": 4,
     "metadata": {},
     "output_type": "execute_result"
    }
   ],
   "source": [
    "len(y)"
   ]
  },
  {
   "cell_type": "code",
   "execution_count": 5,
   "metadata": {},
   "outputs": [
    {
     "data": {
      "image/png": "[encoded data removed]",
      "text/plain": [
       "<Figure size 432x288 with 1 Axes>"
      ]
     },
     "metadata": {
      "needs_background": "light"
     },
     "output_type": "display_data"
    }
   ],
   "source": [
    "plt.plot(x, y, \".\", markersize = 20)\n",
    "plt.plot(x, y_random, \".\", markersize=20)\n",
    "plt.show()"
   ]
  },
  {
   "cell_type": "markdown",
   "metadata": {},
   "source": [
    "### Parameter estimation"
   ]
  },
  {
   "cell_type": "code",
   "execution_count": 6,
   "metadata": {},
   "outputs": [
    {
     "name": "stdout",
     "output_type": "stream",
     "text": [
      "beta_1 = 2.01\n",
      "beta_0 = 1.031\n"
     ]
    }
   ],
   "source": [
    "Sxy = (x - np.mean(x))*(y_random - np.mean(y_random))\n",
    "Sxx = (x - np.mean(x))**2\n",
    "\n",
    "Sxy = Sxy.sum()\n",
    "Sxx = Sxx.sum()\n",
    "\n",
    "beta_1 = Sxy/Sxx\n",
    "beta_0 = np.mean(y_random) - beta_1 * np.mean(x)\n",
    "\n",
    "print(\"beta_1 = {}\".format(beta_1.round(3)))\n",
    "print(\"beta_0 = {}\".format(beta_0.round(3)))"
   ]
  },
  {
   "cell_type": "code",
   "execution_count": 7,
   "metadata": {},
   "outputs": [
    {
     "name": "stdout",
     "output_type": "stream",
     "text": [
      "[ 3.04121275  4.07204334  5.10287393  6.13370452  7.16453512  8.19536571\n",
      "  9.2261963  10.25702689 11.28785748 12.31868808 13.34951867 14.38034926\n",
      " 15.41117985 16.44201044 17.47284104 18.50367163 19.53450222 20.56533281\n",
      " 21.5961634  22.626994   23.65782459 24.68865518 25.71948577 26.75031636\n",
      " 27.78114696 28.81197755 29.84280814 30.87363873 31.90446932]\n"
     ]
    }
   ],
   "source": [
    "## 추정량 \n",
    "\n",
    "y_hat = beta_0*x + beta_1\n",
    "print(y_hat)"
   ]
  },
  {
   "cell_type": "code",
   "execution_count": 8,
   "metadata": {},
   "outputs": [
    {
     "data": {
      "image/png": "[encoded data removed]",
      "text/plain": [
       "<Figure size 432x288 with 1 Axes>"
      ]
     },
     "metadata": {
      "needs_background": "light"
     },
     "output_type": "display_data"
    }
   ],
   "source": [
    "plt.plot(x, y, \".\", markersize=20)\n",
    "plt.plot(x, y_random, '.', markersize=20)\n",
    "plt.plot(x, y_hat, color='r' )\n",
    "\n",
    "plt.show()"
   ]
  },
  {
   "cell_type": "code",
   "execution_count": 9,
   "metadata": {},
   "outputs": [],
   "source": [
    "from sklearn.linear_model import LinearRegression"
   ]
  },
  {
   "cell_type": "code",
   "execution_count": 18,
   "metadata": {},
   "outputs": [
    {
     "name": "stdout",
     "output_type": "stream",
     "text": [
      "[2.01038216] 1.0308305920375211\n"
     ]
    }
   ],
   "source": [
    "Lr = LinearRegression()\n",
    "x_2d = x.reshape(-1, 1)\n",
    "Lr.fit(x_2d, y_random)\n",
    "\n",
    "print(Lr.coef_, Lr.intercept_)"
   ]
  },
  {
   "cell_type": "code",
   "execution_count": 15,
   "metadata": {},
   "outputs": [
    {
     "data": {
      "text/plain": [
       "(29, 1)"
      ]
     },
     "execution_count": 15,
     "metadata": {},
     "output_type": "execute_result"
    }
   ],
   "source": [
    "np.shape(x)\n",
    "np.shape(x_2d)"
   ]
  },
  {
   "cell_type": "code",
   "execution_count": null,
   "metadata": {},
   "outputs": [],
   "source": []
  },
  {
   "cell_type": "code",
   "execution_count": null,
   "metadata": {},
   "outputs": [],
   "source": []
  },
  {
   "cell_type": "code",
   "execution_count": null,
   "metadata": {},
   "outputs": [],
   "source": []
  }
 ],
 "metadata": {
  "kernelspec": {
   "display_name": "Python 3",
   "language": "python",
   "name": "python3"
  },
  "language_info": {
   "codemirror_mode": {
    "name": "ipython",
    "version": 3
   },
   "file_extension": ".py",
   "mimetype": "text/x-python",
   "name": "python",
   "nbconvert_exporter": "python",
   "pygments_lexer": "ipython3",
   "version": "3.7.5"
  }
 },
 "nbformat": 4,
 "nbformat_minor": 2
}
