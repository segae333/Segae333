{
 "cells": [
  {
   "cell_type": "code",
   "execution_count": 1,
   "id": "90123eb3",
   "metadata": {},
   "outputs": [],
   "source": [
    "import numpy as np \n",
    "import cv2\n",
    "import matplotlib.pyplot as plt \n",
    "import sys"
   ]
  },
  {
   "cell_type": "code",
   "execution_count": 9,
   "id": "dfcdd18f",
   "metadata": {},
   "outputs": [],
   "source": [
    "src = cv2.imread('./histogram/fig/candies.png')\n",
    "\n",
    "# inRange(src, lowerb, upperb[, dst]) -> dst\n",
    "# src = 입력영상 \n",
    "# lowerb : 하한값 \n",
    "# upperb : 상한값 \n",
    "\n",
    "src_hsv = cv2.cvtColor(src, cv2.COLOR_BGR2HSV)\n",
    "\n",
    "dst1 = cv2.inRange(src, (0, 128, 0), (100, 255, 100)) # b, g, r\n",
    "dst2 = cv2.inRange(src_hsv, (50, 170, 0), (80, 255, 255)) # b, g, r\n",
    "\n",
    "cv2.imshow('src', src)\n",
    "cv2.imshow('dst1', dst1)\n",
    "cv2.imshow('dst2', dst2)\n",
    "\n",
    "cv2.waitKey()\n",
    "cv2.destroyAllWindows()"
   ]
  },
  {
   "cell_type": "code",
   "execution_count": 17,
   "id": "c344fbec",
   "metadata": {},
   "outputs": [],
   "source": [
    "src = cv2.imread('./histogram/fig/flowers.jpg')\n",
    "\n",
    "# inRange(src, lowerb, upperb[, dst]) -> dst\n",
    "# src = 입력영상 \n",
    "# lowerb : 하한값 \n",
    "# upperb : 상한값 \n",
    "\n",
    "src_hsv = cv2.cvtColor(src, cv2.COLOR_BGR2HSV)\n",
    "\n",
    "dst1 = cv2.inRange(src, (200, 10, 0), (255, 150, 150)) # b, g, r\n",
    "dst2 = cv2.inRange(src_hsv, (50, 170, 0), (80, 255, 255)) # b, g, r\n",
    "\n",
    "cv2.imshow('src', src)\n",
    "cv2.imshow('dst1', dst1)\n",
    "cv2.imshow('dst2', dst2)\n",
    "\n",
    "cv2.waitKey()\n",
    "cv2.destroyAllWindows()"
   ]
  },
  {
   "cell_type": "code",
   "execution_count": 20,
   "id": "4fdfcbdf",
   "metadata": {},
   "outputs": [],
   "source": [
    "src = cv2.imread('./histogram/fig/cropland.png')\n",
    "\n",
    "x, y, w, h = cv2.selectROI(src)\n",
    "\n",
    "src_ycrcb = cv2.cvtColor(src, cv2.COLOR_BGR2YCrCb)\n",
    "\n",
    "crop = src_ycrcb[y:y+h , x:x+w ]\n",
    "# calcHist(images, channels, mask, histSize, ranges[, hist[, accumulate]])\n",
    "hist = cv2.calcHist([crop], [1, 2], None, [256, 256], [0, 256, 0, 256])\n",
    "\n",
    "backproj = cv2.calcBackProject([src_ycrcb], [1, 2], hist, [0, 256, 0, 256], 1)\n",
    "\n",
    "dst = cv2.copyTo(src, backproj)\n",
    "\n",
    "cv2.imshow('src', src)\n",
    "cv2.imshow('backproj', backproj)\n",
    "cv2.imshow('dst', dst)\n",
    "\n",
    "cv2.waitKey()\n",
    "cv2.destroyAllWindows()"
   ]
  },
  {
   "cell_type": "code",
   "execution_count": 21,
   "id": "6fd86683",
   "metadata": {},
   "outputs": [],
   "source": []
  },
  {
   "cell_type": "code",
   "execution_count": 3,
   "id": "d90fcd3c",
   "metadata": {},
   "outputs": [],
   "source": [
    "src =cv2.imread('./filtering/fig/blue_eyes.png', cv2.IMREAD_GRAYSCALE)\n",
    "\n",
    "kernel_3 = np.ones((3, 3), np.float32)/9.\n",
    "kernel_5 = np.ones((5,5), np.float32)/25.\n",
    "\n",
    "src_mean_filter3 = cv2.filter2D(src, -1, kernel_3)\n",
    "src_mean_filter5 = cv2.filter2D(src, -1, kernel_5)\n",
    "\n",
    "cv2.imshow('src', src)\n",
    "cv2.imshow('src_mean_filter3', src_mean_filter3)\n",
    "cv2.imshow('src_mean_filter5', src_mean_filter5)\n",
    "\n",
    "\n",
    "\n",
    "cv2.waitKey()\n",
    "cv2.destroyAllWindows()"
   ]
  },
  {
   "cell_type": "code",
   "execution_count": null,
   "id": "2048c95e",
   "metadata": {},
   "outputs": [],
   "source": []
  }
 ],
 "metadata": {
  "kernelspec": {
   "display_name": "Python 3",
   "language": "python",
   "name": "python3"
  },
  "language_info": {
   "codemirror_mode": {
    "name": "ipython",
    "version": 3
   },
   "file_extension": ".py",
   "mimetype": "text/x-python",
   "name": "python",
   "nbconvert_exporter": "python",
   "pygments_lexer": "ipython3",
   "version": "3.8.8"
  }
 },
 "nbformat": 4,
 "nbformat_minor": 5
}
