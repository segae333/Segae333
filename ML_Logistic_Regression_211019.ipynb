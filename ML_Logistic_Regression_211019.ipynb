{
 "cells": [
  {
   "cell_type": "code",
   "execution_count": null,
   "id": "43fcc20a",
   "metadata": {},
   "outputs": [],
   "source": [
    "## 로지스틱 회귀"
   ]
  },
  {
   "cell_type": "code",
   "execution_count": null,
   "id": "c6f135de",
   "metadata": {},
   "outputs": [],
   "source": [
    "## 전체소스코드\n",
    "## https://bit.ly/hg-04-1"
   ]
  },
  {
   "cell_type": "code",
   "execution_count": 2,
   "id": "fb364e9a",
   "metadata": {},
   "outputs": [],
   "source": [
    "import pandas as pd\n",
    "import numpy as np\n",
    "import matplotlib.pyplot as plt"
   ]
  },
  {
   "cell_type": "code",
   "execution_count": 4,
   "id": "8fc60780",
   "metadata": {},
   "outputs": [
    {
     "data": {
      "text/html": [
       "<div>\n",
       "<style scoped>\n",
       "    .dataframe tbody tr th:only-of-type {\n",
       "        vertical-align: middle;\n",
       "    }\n",
       "\n",
       "    .dataframe tbody tr th {\n",
       "        vertical-align: top;\n",
       "    }\n",
       "\n",
       "    .dataframe thead th {\n",
       "        text-align: right;\n",
       "    }\n",
       "</style>\n",
       "<table border=\"1\" class=\"dataframe\">\n",
       "  <thead>\n",
       "    <tr style=\"text-align: right;\">\n",
       "      <th></th>\n",
       "      <th>Species</th>\n",
       "      <th>Weight</th>\n",
       "      <th>Length</th>\n",
       "      <th>Diagonal</th>\n",
       "      <th>Height</th>\n",
       "      <th>Width</th>\n",
       "    </tr>\n",
       "  </thead>\n",
       "  <tbody>\n",
       "    <tr>\n",
       "      <th>0</th>\n",
       "      <td>Bream</td>\n",
       "      <td>242.0</td>\n",
       "      <td>25.4</td>\n",
       "      <td>30.0</td>\n",
       "      <td>11.5200</td>\n",
       "      <td>4.0200</td>\n",
       "    </tr>\n",
       "    <tr>\n",
       "      <th>1</th>\n",
       "      <td>Bream</td>\n",
       "      <td>290.0</td>\n",
       "      <td>26.3</td>\n",
       "      <td>31.2</td>\n",
       "      <td>12.4800</td>\n",
       "      <td>4.3056</td>\n",
       "    </tr>\n",
       "    <tr>\n",
       "      <th>2</th>\n",
       "      <td>Bream</td>\n",
       "      <td>340.0</td>\n",
       "      <td>26.5</td>\n",
       "      <td>31.1</td>\n",
       "      <td>12.3778</td>\n",
       "      <td>4.6961</td>\n",
       "    </tr>\n",
       "    <tr>\n",
       "      <th>3</th>\n",
       "      <td>Bream</td>\n",
       "      <td>363.0</td>\n",
       "      <td>29.0</td>\n",
       "      <td>33.5</td>\n",
       "      <td>12.7300</td>\n",
       "      <td>4.4555</td>\n",
       "    </tr>\n",
       "    <tr>\n",
       "      <th>4</th>\n",
       "      <td>Bream</td>\n",
       "      <td>430.0</td>\n",
       "      <td>29.0</td>\n",
       "      <td>34.0</td>\n",
       "      <td>12.4440</td>\n",
       "      <td>5.1340</td>\n",
       "    </tr>\n",
       "  </tbody>\n",
       "</table>\n",
       "</div>"
      ],
      "text/plain": [
       "  Species  Weight  Length  Diagonal   Height   Width\n",
       "0   Bream   242.0    25.4      30.0  11.5200  4.0200\n",
       "1   Bream   290.0    26.3      31.2  12.4800  4.3056\n",
       "2   Bream   340.0    26.5      31.1  12.3778  4.6961\n",
       "3   Bream   363.0    29.0      33.5  12.7300  4.4555\n",
       "4   Bream   430.0    29.0      34.0  12.4440  5.1340"
      ]
     },
     "execution_count": 4,
     "metadata": {},
     "output_type": "execute_result"
    }
   ],
   "source": [
    "fish = pd.read_csv('https://bit.ly/fish_csv_data')\n",
    "fish.head()"
   ]
  },
  {
   "cell_type": "code",
   "execution_count": 8,
   "id": "5a6492b8",
   "metadata": {},
   "outputs": [
    {
     "data": {
      "text/plain": [
       "Perch        56\n",
       "Bream        35\n",
       "Roach        20\n",
       "Pike         17\n",
       "Smelt        14\n",
       "Parkki       11\n",
       "Whitefish     6\n",
       "Name: Species, dtype: int64"
      ]
     },
     "execution_count": 8,
     "metadata": {},
     "output_type": "execute_result"
    }
   ],
   "source": [
    "fish['Species'].value_counts()"
   ]
  },
  {
   "cell_type": "code",
   "execution_count": 14,
   "id": "79f7f6e4",
   "metadata": {},
   "outputs": [
    {
     "data": {
      "text/plain": [
       "array(['Bream', 'Bream', 'Bream', 'Bream', 'Bream', 'Bream', 'Bream',\n",
       "       'Bream', 'Bream', 'Bream'], dtype=object)"
      ]
     },
     "execution_count": 14,
     "metadata": {},
     "output_type": "execute_result"
    }
   ],
   "source": [
    "fish_input = fish[[\"Weight\", \"Length\", \"Diagonal\", \"Height\", \"Width\"]].to_numpy()\n",
    "##fish_input[:5]\n",
    "fish_target = fish[\"Species\"].to_numpy()\n",
    "fish_target[:10]"
   ]
  },
  {
   "cell_type": "code",
   "execution_count": 15,
   "id": "95048216",
   "metadata": {},
   "outputs": [],
   "source": [
    "from sklearn.model_selection import train_test_split"
   ]
  },
  {
   "cell_type": "code",
   "execution_count": 16,
   "id": "97d8371f",
   "metadata": {},
   "outputs": [],
   "source": [
    "train_input, test_input, train_target, test_target = train_test_split(fish_input, fish_target,\n",
    "                                                                     stratify=fish_target)"
   ]
  },
  {
   "cell_type": "code",
   "execution_count": 18,
   "id": "b6558971",
   "metadata": {},
   "outputs": [
    {
     "name": "stdout",
     "output_type": "stream",
     "text": [
      "(119, 5)\n",
      "(40, 5)\n"
     ]
    }
   ],
   "source": [
    "print(np.shape(train_input))\n",
    "print(np.shape(test_input))"
   ]
  },
  {
   "cell_type": "code",
   "execution_count": 19,
   "id": "49ff7f9f",
   "metadata": {},
   "outputs": [],
   "source": [
    "# 스케일링\n",
    "from sklearn.preprocessing import StandardScaler"
   ]
  },
  {
   "cell_type": "code",
   "execution_count": 20,
   "id": "9e4807d0",
   "metadata": {},
   "outputs": [],
   "source": [
    "ss = StandardScaler()\n",
    "ss.fit(train_input)\n",
    "\n",
    "train_scaled = ss.transform(train_input)\n",
    "test_scaled = ss.transform(test_input)"
   ]
  },
  {
   "cell_type": "code",
   "execution_count": 22,
   "id": "0bd85242",
   "metadata": {},
   "outputs": [],
   "source": [
    "z = np.arange(-5, 5, 0.1)\n",
    "prob_y = 1/(1 + np.exp(-z))"
   ]
  },
  {
   "cell_type": "code",
   "execution_count": 24,
   "id": "c1c9ef8f",
   "metadata": {},
   "outputs": [
    {
     "data": {
      "image/png": "[encoded data removed]",
      "text/plain": [
       "<Figure size 432x288 with 1 Axes>"
      ]
     },
     "metadata": {
      "needs_background": "light"
     },
     "output_type": "display_data"
    }
   ],
   "source": [
    "plt.plot(z, prob_y)\n",
    "\n",
    "plt.axhline(1, linestyle = \"--\", color='r')\n",
    "plt.axhline(0, linestyle = \"--\" , color='r')\n",
    "plt.axhline(0.5, linestyle = \"--\", color=\"b\")\n",
    "\n",
    "plt.show()"
   ]
  },
  {
   "cell_type": "code",
   "execution_count": 25,
   "id": "7fec1dfb",
   "metadata": {},
   "outputs": [
    {
     "data": {
      "text/plain": [
       "array([False, False,  True, False, False, False, False, False,  True,\n",
       "       False, False, False, False, False, False, False,  True,  True,\n",
       "       False, False, False, False, False, False, False, False, False,\n",
       "       False,  True, False, False, False, False, False, False, False,\n",
       "       False, False,  True, False, False,  True, False, False,  True,\n",
       "        True, False, False,  True, False, False,  True,  True, False,\n",
       "        True,  True, False, False, False, False, False, False, False,\n",
       "       False, False, False,  True,  True, False, False,  True, False,\n",
       "       False,  True, False,  True,  True,  True, False, False, False,\n",
       "       False,  True, False,  True,  True, False, False,  True, False,\n",
       "        True, False, False,  True, False, False,  True, False, False,\n",
       "       False,  True,  True,  True, False,  True, False, False, False,\n",
       "        True, False,  True, False,  True, False, False, False,  True,\n",
       "       False, False])"
      ]
     },
     "execution_count": 25,
     "metadata": {},
     "output_type": "execute_result"
    }
   ],
   "source": [
    "## Boolean index\n",
    "bream_smelt_index = (train_target == \"Bream\") | (train_target ==\"Smelt\")\n",
    "\n",
    "bream_smelt_index\n",
    "# train_target"
   ]
  },
  {
   "cell_type": "code",
   "execution_count": 27,
   "id": "c82c1466",
   "metadata": {},
   "outputs": [
    {
     "name": "stdout",
     "output_type": "stream",
     "text": [
      "(119, 5)\n",
      "(36, 5)\n"
     ]
    }
   ],
   "source": [
    "train_bream_smelt = train_scaled[bream_smelt_index]\n",
    "target_bream_smlet = train_target[bream_smelt_index]\n",
    "\n",
    "print(np.shape(train_scaled))\n",
    "print(np.shape(train_bream_smelt))"
   ]
  },
  {
   "cell_type": "code",
   "execution_count": 28,
   "id": "a56f6f47",
   "metadata": {},
   "outputs": [],
   "source": [
    "from sklearn.linear_model import LogisticRegression"
   ]
  },
  {
   "cell_type": "code",
   "execution_count": 29,
   "id": "906a312d",
   "metadata": {},
   "outputs": [
    {
     "data": {
      "text/plain": [
       "1.0"
      ]
     },
     "execution_count": 29,
     "metadata": {},
     "output_type": "execute_result"
    }
   ],
   "source": [
    "lr = LogisticRegression()\n",
    "lr.fit(train_bream_smelt, target_bream_smlet) #(x , y)\n",
    "\n",
    "lr.score(train_bream_smelt, target_bream_smlet)"
   ]
  },
  {
   "cell_type": "code",
   "execution_count": 33,
   "id": "9222efed",
   "metadata": {},
   "outputs": [
    {
     "name": "stdout",
     "output_type": "stream",
     "text": [
      "['Smelt' 'Bream' 'Bream' 'Smelt' 'Bream']\n",
      "[[0.07399441 0.92600559]\n",
      " [0.98624724 0.01375276]\n",
      " [0.99190899 0.00809101]\n",
      " [0.03132932 0.96867068]\n",
      " [0.99369567 0.00630433]]\n",
      "[[-1.05302452 -1.31472755 -1.38134512 -1.4639791  -1.430566  ]\n",
      " [ 0.25535172  0.0998029   0.2616043   1.25588042  0.50935119]\n",
      " [ 0.52775984  0.31106394  0.49144697  1.44228487  0.4442906 ]\n",
      " [-1.07999293 -1.59947069 -1.61970047 -1.65391967 -1.90779783]\n",
      " [ 0.80016797  0.40291656  0.60211195  1.4383398   0.46041983]]\n"
     ]
    }
   ],
   "source": [
    "print(lr.predict(train_bream_smelt[:5]))\n",
    "print(lr.predict_proba(train_bream_smelt[:5]))\n",
    "print(train_bream_smelt[:5])\n",
    "\n"
   ]
  },
  {
   "cell_type": "code",
   "execution_count": 34,
   "id": "28e3c25f",
   "metadata": {},
   "outputs": [
    {
     "name": "stdout",
     "output_type": "stream",
     "text": [
      "[[-0.41918646 -0.58840572 -0.67512412 -1.03404725 -0.77174889]] [-2.23855679]\n"
     ]
    }
   ],
   "source": [
    "print(lr.coef_, lr.intercept_)"
   ]
  },
  {
   "cell_type": "code",
   "execution_count": 39,
   "id": "11745347",
   "metadata": {},
   "outputs": [
    {
     "name": "stderr",
     "output_type": "stream",
     "text": [
      "C:\\Users\\new333\\anaconda3\\lib\\site-packages\\sklearn\\linear_model\\_logistic.py:763: ConvergenceWarning: lbfgs failed to converge (status=1):\n",
      "STOP: TOTAL NO. of ITERATIONS REACHED LIMIT.\n",
      "\n",
      "Increase the number of iterations (max_iter) or scale the data as shown in:\n",
      "    https://scikit-learn.org/stable/modules/preprocessing.html\n",
      "Please also refer to the documentation for alternative solver options:\n",
      "    https://scikit-learn.org/stable/modules/linear_model.html#logistic-regression\n",
      "  n_iter_i = _check_optimize_result(\n"
     ]
    },
    {
     "data": {
      "text/plain": [
       "LogisticRegression(C=20)"
      ]
     },
     "execution_count": 39,
     "metadata": {},
     "output_type": "execute_result"
    }
   ],
   "source": [
    "# C = 1/lambda\n",
    "lr = LogisticRegression(C = 20, max_iter = 100) \n",
    "#근사식 100번정도 까지 계산해 봐라. 지정해 주지 않으면 무한대로 계산할 수도 있음\n",
    "\n",
    "lr.fit(train_scaled, train_target)"
   ]
  },
  {
   "cell_type": "code",
   "execution_count": 40,
   "id": "55b966c1",
   "metadata": {},
   "outputs": [
    {
     "name": "stdout",
     "output_type": "stream",
     "text": [
      "0.9159663865546218\n",
      "0.975\n"
     ]
    }
   ],
   "source": [
    "print(lr.score(train_scaled, train_target)) # 회귀 는 R스퀘어 값이 score\n",
    "print(lr.score(test_scaled, test_target))"
   ]
  },
  {
   "cell_type": "code",
   "execution_count": 43,
   "id": "b8de270f",
   "metadata": {},
   "outputs": [
    {
     "name": "stdout",
     "output_type": "stream",
     "text": [
      "['Pike' 'Parkki' 'Bream' 'Bream' 'Bream' 'Roach' 'Roach' 'Perch' 'Pike'\n",
      " 'Perch']\n",
      "['Pike' 'Parkki' 'Bream' 'Bream' 'Bream' 'Roach' 'Roach' 'Perch' 'Pike'\n",
      " 'Perch']\n"
     ]
    }
   ],
   "source": [
    "print(lr.predict(test_scaled[:10]))\n",
    "print(test_target[:10])"
   ]
  },
  {
   "cell_type": "code",
   "execution_count": 44,
   "id": "55f7910c",
   "metadata": {},
   "outputs": [
    {
     "name": "stdout",
     "output_type": "stream",
     "text": [
      "['Bream' 'Parkki' 'Perch' 'Pike' 'Roach' 'Smelt' 'Whitefish']\n"
     ]
    }
   ],
   "source": [
    "print(lr.classes_)"
   ]
  },
  {
   "cell_type": "code",
   "execution_count": 46,
   "id": "b791b6a7",
   "metadata": {},
   "outputs": [
    {
     "name": "stdout",
     "output_type": "stream",
     "text": [
      "[[-1.48217195 -1.34750734  2.08502366  7.91273021 -0.5992689 ]\n",
      " [-0.1765568  -1.73370943 -3.18070152  6.41146446 -2.49780081]\n",
      " [ 3.26019055  6.08613456 -9.09061392 -5.93599938  5.01183795]\n",
      " [-0.12866627  3.42007442  3.7427284  -3.30866052 -1.35509884]\n",
      " [-2.03371742 -6.0666611   4.64586707 -1.07178774  2.77629782]\n",
      " [-1.36082626  1.31678088  1.19159536 -4.99507669 -4.26614118]\n",
      " [ 1.92174815 -1.67511199  0.60610095  0.98732966  0.93017396]]\n",
      "[-0.03021713 -0.46814577  2.71423741 -0.41142144  1.84817341 -6.43721772\n",
      "  2.78459125]\n"
     ]
    }
   ],
   "source": [
    "print(lr.coef_)\n",
    "print(lr.intercept_)"
   ]
  },
  {
   "cell_type": "code",
   "execution_count": null,
   "id": "42c558f1",
   "metadata": {},
   "outputs": [],
   "source": [
    "## 전체 소스코드\n",
    "## http:s://bit.ly/hg-04-2"
   ]
  },
  {
   "cell_type": "code",
   "execution_count": 47,
   "id": "fa4601ff",
   "metadata": {},
   "outputs": [],
   "source": [
    "fish = pd.read_csv('https://bit.ly/fish_csv_data')"
   ]
  },
  {
   "cell_type": "code",
   "execution_count": 48,
   "id": "8cb1daac",
   "metadata": {},
   "outputs": [],
   "source": [
    "fish_input = fish[[\"Weight\", \"Length\", \"Diagonal\", \"Height\", \"Width\"]].to_numpy()\n",
    "fish_target = fish[\"Species\"].to_numpy()"
   ]
  },
  {
   "cell_type": "code",
   "execution_count": 49,
   "id": "097b027f",
   "metadata": {},
   "outputs": [],
   "source": [
    "from sklearn.model_selection import train_test_split"
   ]
  },
  {
   "cell_type": "code",
   "execution_count": 50,
   "id": "8feff73f",
   "metadata": {},
   "outputs": [],
   "source": [
    "train_input, test_input, train_target, test_target = train_test_split(\n",
    "fish_input, fish_target, stratify= fish_target)"
   ]
  },
  {
   "cell_type": "code",
   "execution_count": 51,
   "id": "1225b29b",
   "metadata": {},
   "outputs": [],
   "source": [
    "from sklearn.preprocessing import StandardScaler"
   ]
  },
  {
   "cell_type": "code",
   "execution_count": 52,
   "id": "ac465cf5",
   "metadata": {},
   "outputs": [],
   "source": [
    "ss = StandardScaler()\n",
    "ss.fit(train_input)\n",
    "\n",
    "train_scaled = ss .transform(train_input)\n",
    "test_scaled = ss.transform(test_input)"
   ]
  },
  {
   "cell_type": "code",
   "execution_count": 53,
   "id": "d2174b60",
   "metadata": {},
   "outputs": [],
   "source": [
    "from sklearn.linear_model import SGDClassifier"
   ]
  },
  {
   "cell_type": "code",
   "execution_count": 56,
   "id": "6d39f103",
   "metadata": {},
   "outputs": [
    {
     "data": {
      "text/plain": [
       "SGDClassifier(loss='log', max_iter=100)"
      ]
     },
     "execution_count": 56,
     "metadata": {},
     "output_type": "execute_result"
    }
   ],
   "source": [
    "sc = SGDClassifier(loss = \"log\", max_iter=100) \n",
    "sc.fit(train_scaled, train_target)"
   ]
  },
  {
   "cell_type": "code",
   "execution_count": 57,
   "id": "987792f3",
   "metadata": {},
   "outputs": [
    {
     "name": "stdout",
     "output_type": "stream",
     "text": [
      "0.8571428571428571\n",
      "0.85\n"
     ]
    }
   ],
   "source": [
    "print(sc.score(train_scaled, train_target))\n",
    "print(sc.score(test_scaled, test_target))"
   ]
  },
  {
   "cell_type": "code",
   "execution_count": 58,
   "id": "dcb0e9af",
   "metadata": {},
   "outputs": [
    {
     "name": "stdout",
     "output_type": "stream",
     "text": [
      "0.8319327731092437\n",
      "0.8\n"
     ]
    }
   ],
   "source": [
    "## partial fit\n",
    "sc.partial_fit(train_scaled, train_target)\n",
    "print(sc.score(train_scaled, train_target))\n",
    "print(sc.score(test_scaled, test_target))\n",
    "\n"
   ]
  },
  {
   "cell_type": "code",
   "execution_count": 59,
   "id": "60f36e0b",
   "metadata": {},
   "outputs": [
    {
     "data": {
      "text/plain": [
       "array(['Bream', 'Parkki', 'Perch', 'Pike', 'Roach', 'Smelt', 'Whitefish'],\n",
       "      dtype=object)"
      ]
     },
     "execution_count": 59,
     "metadata": {},
     "output_type": "execute_result"
    }
   ],
   "source": [
    "classes = np.unique(train_target)\n",
    "classes"
   ]
  },
  {
   "cell_type": "code",
   "execution_count": 61,
   "id": "ee192add",
   "metadata": {},
   "outputs": [],
   "source": [
    "sc = SGDClassifier(loss = \"log\")\n",
    "\n",
    "train_score = []\n",
    "test_score = []\n",
    "\n",
    "for _ in range(0, 300) :\n",
    "    sc.partial_fit(train_scaled, train_target, classes = classes)\n",
    "    train_score.append(sc.score(train_scaled, train_target))\n",
    "    test_score.append(sc.score(test_scaled, test_target))\n",
    "    \n",
    "\n"
   ]
  },
  {
   "cell_type": "code",
   "execution_count": 62,
   "id": "a20c55cb",
   "metadata": {},
   "outputs": [
    {
     "data": {
      "text/plain": [
       "[0.680672268907563,\n",
       " 0.7394957983193278,\n",
       " 0.6974789915966386,\n",
       " 0.865546218487395,\n",
       " 0.8067226890756303,\n",
       " 0.8067226890756303,\n",
       " 0.7226890756302521,\n",
       " 0.7983193277310925,\n",
       " 0.7815126050420168,\n",
       " 0.8151260504201681,\n",
       " 0.8907563025210085,\n",
       " 0.8487394957983193,\n",
       " 0.8067226890756303,\n",
       " 0.7899159663865546,\n",
       " 0.8403361344537815,\n",
       " 0.7815126050420168,\n",
       " 0.8823529411764706,\n",
       " 0.7478991596638656,\n",
       " 0.8571428571428571,\n",
       " 0.8739495798319328,\n",
       " 0.8151260504201681,\n",
       " 0.907563025210084,\n",
       " 0.865546218487395,\n",
       " 0.907563025210084,\n",
       " 0.8907563025210085,\n",
       " 0.865546218487395,\n",
       " 0.8403361344537815,\n",
       " 0.8403361344537815,\n",
       " 0.865546218487395,\n",
       " 0.9411764705882353,\n",
       " 0.7983193277310925,\n",
       " 0.9495798319327731,\n",
       " 0.8991596638655462,\n",
       " 0.8739495798319328,\n",
       " 0.9327731092436975,\n",
       " 0.9327731092436975,\n",
       " 0.8403361344537815,\n",
       " 0.8403361344537815,\n",
       " 0.8823529411764706,\n",
       " 0.8571428571428571,\n",
       " 0.7815126050420168,\n",
       " 0.8403361344537815,\n",
       " 0.9411764705882353,\n",
       " 0.9243697478991597,\n",
       " 0.8907563025210085,\n",
       " 0.7899159663865546,\n",
       " 0.8403361344537815,\n",
       " 0.8907563025210085,\n",
       " 0.8067226890756303,\n",
       " 0.8907563025210085,\n",
       " 0.8823529411764706,\n",
       " 0.9327731092436975,\n",
       " 0.907563025210084,\n",
       " 0.7899159663865546,\n",
       " 0.8487394957983193,\n",
       " 0.9411764705882353,\n",
       " 0.865546218487395,\n",
       " 0.9243697478991597,\n",
       " 0.9327731092436975,\n",
       " 0.957983193277311,\n",
       " 0.907563025210084,\n",
       " 0.9411764705882353,\n",
       " 0.865546218487395,\n",
       " 0.9327731092436975,\n",
       " 0.9159663865546218,\n",
       " 0.907563025210084,\n",
       " 0.9243697478991597,\n",
       " 0.9495798319327731,\n",
       " 0.9411764705882353,\n",
       " 0.9327731092436975,\n",
       " 0.9159663865546218,\n",
       " 0.8487394957983193,\n",
       " 0.9411764705882353,\n",
       " 0.9243697478991597,\n",
       " 0.8907563025210085,\n",
       " 0.8739495798319328,\n",
       " 0.865546218487395,\n",
       " 0.9495798319327731,\n",
       " 0.9411764705882353,\n",
       " 0.9327731092436975,\n",
       " 0.9411764705882353,\n",
       " 0.9495798319327731,\n",
       " 0.8823529411764706,\n",
       " 0.8739495798319328,\n",
       " 0.865546218487395,\n",
       " 0.9243697478991597,\n",
       " 0.9495798319327731,\n",
       " 0.8991596638655462,\n",
       " 0.8739495798319328,\n",
       " 0.8487394957983193,\n",
       " 0.9243697478991597,\n",
       " 0.9495798319327731,\n",
       " 0.9411764705882353,\n",
       " 0.9243697478991597,\n",
       " 0.9243697478991597,\n",
       " 0.9411764705882353,\n",
       " 0.957983193277311,\n",
       " 0.9495798319327731,\n",
       " 0.9495798319327731,\n",
       " 0.9495798319327731,\n",
       " 0.9495798319327731,\n",
       " 0.9495798319327731,\n",
       " 0.8907563025210085,\n",
       " 0.907563025210084,\n",
       " 0.9495798319327731,\n",
       " 0.9411764705882353,\n",
       " 0.9411764705882353,\n",
       " 0.9495798319327731,\n",
       " 0.9243697478991597,\n",
       " 0.9327731092436975,\n",
       " 0.957983193277311,\n",
       " 0.9327731092436975,\n",
       " 0.9411764705882353,\n",
       " 0.9495798319327731,\n",
       " 0.9495798319327731,\n",
       " 0.8991596638655462,\n",
       " 0.9495798319327731,\n",
       " 0.8991596638655462,\n",
       " 0.907563025210084,\n",
       " 0.8991596638655462,\n",
       " 0.9243697478991597,\n",
       " 0.9495798319327731,\n",
       " 0.9243697478991597,\n",
       " 0.957983193277311,\n",
       " 0.9495798319327731,\n",
       " 0.9495798319327731,\n",
       " 0.9243697478991597,\n",
       " 0.9495798319327731,\n",
       " 0.9495798319327731,\n",
       " 0.9327731092436975,\n",
       " 0.9495798319327731,\n",
       " 0.9159663865546218,\n",
       " 0.9495798319327731,\n",
       " 0.9243697478991597,\n",
       " 0.9495798319327731,\n",
       " 0.9243697478991597,\n",
       " 0.9411764705882353,\n",
       " 0.9411764705882353,\n",
       " 0.9327731092436975,\n",
       " 0.9495798319327731,\n",
       " 0.9411764705882353,\n",
       " 0.9495798319327731,\n",
       " 0.9495798319327731,\n",
       " 0.8991596638655462,\n",
       " 0.9495798319327731,\n",
       " 0.907563025210084,\n",
       " 0.9159663865546218,\n",
       " 0.9327731092436975,\n",
       " 0.9495798319327731,\n",
       " 0.9495798319327731,\n",
       " 0.9495798319327731,\n",
       " 0.9495798319327731,\n",
       " 0.9495798319327731,\n",
       " 0.9495798319327731,\n",
       " 0.9159663865546218,\n",
       " 0.8991596638655462,\n",
       " 0.9495798319327731,\n",
       " 0.957983193277311,\n",
       " 0.907563025210084,\n",
       " 0.8991596638655462,\n",
       " 0.9495798319327731,\n",
       " 0.907563025210084,\n",
       " 0.9159663865546218,\n",
       " 0.9411764705882353,\n",
       " 0.9411764705882353,\n",
       " 0.957983193277311,\n",
       " 0.957983193277311,\n",
       " 0.907563025210084,\n",
       " 0.9411764705882353,\n",
       " 0.8991596638655462,\n",
       " 0.8907563025210085,\n",
       " 0.9495798319327731,\n",
       " 0.9495798319327731,\n",
       " 0.9495798319327731,\n",
       " 0.9411764705882353,\n",
       " 0.9159663865546218,\n",
       " 0.9495798319327731,\n",
       " 0.9495798319327731,\n",
       " 0.9159663865546218,\n",
       " 0.9411764705882353,\n",
       " 0.9411764705882353,\n",
       " 0.9495798319327731,\n",
       " 0.9411764705882353,\n",
       " 0.9411764705882353,\n",
       " 0.9495798319327731,\n",
       " 0.9495798319327731,\n",
       " 0.9495798319327731,\n",
       " 0.9159663865546218,\n",
       " 0.9495798319327731,\n",
       " 0.957983193277311,\n",
       " 0.9495798319327731,\n",
       " 0.9495798319327731,\n",
       " 0.9243697478991597,\n",
       " 0.9327731092436975,\n",
       " 0.8907563025210085,\n",
       " 0.9243697478991597,\n",
       " 0.9495798319327731,\n",
       " 0.9495798319327731,\n",
       " 0.9411764705882353,\n",
       " 0.9495798319327731,\n",
       " 0.9327731092436975,\n",
       " 0.9495798319327731,\n",
       " 0.9495798319327731,\n",
       " 0.9495798319327731,\n",
       " 0.9495798319327731,\n",
       " 0.957983193277311,\n",
       " 0.8907563025210085,\n",
       " 0.9243697478991597,\n",
       " 0.957983193277311,\n",
       " 0.9495798319327731,\n",
       " 0.9495798319327731,\n",
       " 0.9495798319327731,\n",
       " 0.957983193277311,\n",
       " 0.957983193277311,\n",
       " 0.957983193277311,\n",
       " 0.9327731092436975,\n",
       " 0.9159663865546218,\n",
       " 0.9495798319327731,\n",
       " 0.9495798319327731,\n",
       " 0.957983193277311,\n",
       " 0.9327731092436975,\n",
       " 0.957983193277311,\n",
       " 0.9495798319327731,\n",
       " 0.907563025210084,\n",
       " 0.9411764705882353,\n",
       " 0.9327731092436975,\n",
       " 0.9495798319327731,\n",
       " 0.907563025210084,\n",
       " 0.9495798319327731,\n",
       " 0.9495798319327731,\n",
       " 0.9243697478991597,\n",
       " 0.9495798319327731,\n",
       " 0.957983193277311,\n",
       " 0.9495798319327731,\n",
       " 0.957983193277311,\n",
       " 0.9495798319327731,\n",
       " 0.9411764705882353,\n",
       " 0.9495798319327731,\n",
       " 0.9495798319327731,\n",
       " 0.957983193277311,\n",
       " 0.9495798319327731,\n",
       " 0.9495798319327731,\n",
       " 0.957983193277311,\n",
       " 0.957983193277311,\n",
       " 0.9495798319327731,\n",
       " 0.9159663865546218,\n",
       " 0.957983193277311,\n",
       " 0.9411764705882353,\n",
       " 0.9159663865546218,\n",
       " 0.9495798319327731,\n",
       " 0.957983193277311,\n",
       " 0.9159663865546218,\n",
       " 0.9495798319327731,\n",
       " 0.957983193277311,\n",
       " 0.9495798319327731,\n",
       " 0.957983193277311,\n",
       " 0.9327731092436975,\n",
       " 0.9327731092436975,\n",
       " 0.9495798319327731,\n",
       " 0.9495798319327731,\n",
       " 0.9495798319327731,\n",
       " 0.9411764705882353,\n",
       " 0.9495798319327731,\n",
       " 0.9495798319327731,\n",
       " 0.9495798319327731,\n",
       " 0.957983193277311,\n",
       " 0.9495798319327731,\n",
       " 0.9495798319327731,\n",
       " 0.9495798319327731,\n",
       " 0.9495798319327731,\n",
       " 0.9495798319327731,\n",
       " 0.9411764705882353,\n",
       " 0.9495798319327731,\n",
       " 0.957983193277311,\n",
       " 0.957983193277311,\n",
       " 0.9243697478991597,\n",
       " 0.957983193277311,\n",
       " 0.9327731092436975,\n",
       " 0.9495798319327731,\n",
       " 0.9495798319327731,\n",
       " 0.957983193277311,\n",
       " 0.9495798319327731,\n",
       " 0.957983193277311,\n",
       " 0.957983193277311,\n",
       " 0.957983193277311,\n",
       " 0.9243697478991597,\n",
       " 0.957983193277311,\n",
       " 0.9495798319327731,\n",
       " 0.9495798319327731,\n",
       " 0.8907563025210085,\n",
       " 0.9243697478991597,\n",
       " 0.9159663865546218,\n",
       " 0.9495798319327731,\n",
       " 0.9495798319327731,\n",
       " 0.957983193277311,\n",
       " 0.9411764705882353,\n",
       " 0.9495798319327731,\n",
       " 0.9495798319327731,\n",
       " 0.957983193277311,\n",
       " 0.957983193277311]"
      ]
     },
     "execution_count": 62,
     "metadata": {},
     "output_type": "execute_result"
    }
   ],
   "source": [
    "train_score"
   ]
  },
  {
   "cell_type": "code",
   "execution_count": 63,
   "id": "96bb42b2",
   "metadata": {},
   "outputs": [
    {
     "data": {
      "image/png": "[encoded data removed]",
      "text/plain": [
       "<Figure size 432x288 with 1 Axes>"
      ]
     },
     "metadata": {
      "needs_background": "light"
     },
     "output_type": "display_data"
    }
   ],
   "source": [
    "plt.plot(train_score, label = \"Train\")\n",
    "plt.plot(test_score, label = \"Test\")\n",
    "\n",
    "plt.ylim(0.5, 1.04)\n",
    "plt.legend()\n",
    "\n",
    "plt.show()"
   ]
  }
 ],
 "metadata": {
  "kernelspec": {
   "display_name": "Python 3",
   "language": "python",
   "name": "python3"
  },
  "language_info": {
   "codemirror_mode": {
    "name": "ipython",
    "version": 3
   },
   "file_extension": ".py",
   "mimetype": "text/x-python",
   "name": "python",
   "nbconvert_exporter": "python",
   "pygments_lexer": "ipython3",
   "version": "3.8.8"
  }
 },
 "nbformat": 4,
 "nbformat_minor": 5
}
