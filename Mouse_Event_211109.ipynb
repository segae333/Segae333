{
 "cells": [
  {
   "cell_type": "code",
   "execution_count": 1,
   "metadata": {},
   "outputs": [],
   "source": [
    "import numpy as np\n",
    "import sys\n",
    "import cv2\n"
   ]
  },
  {
   "cell_type": "code",
   "execution_count": 8,
   "metadata": {},
   "outputs": [],
   "source": [
    "img = cv2.imread('./fig/puppy.bmp')\n",
    "\n",
    "if img is None :\n",
    "    print('image load failed!')\n",
    "    sys.exit()\n",
    "    \n",
    "cv2.imshow('img', img)\n",
    "\n",
    "while True : \n",
    "\n",
    "    key = cv2.waitKey()\n",
    "    if key == 27 or key == ord('q') : \n",
    "        break\n",
    "        \n",
    "    elif key == ord('i') :\n",
    "        img = cv2.bitwise_not(img)\n",
    "        cv2.imshow('img', img)\n",
    "        \n",
    "\n",
    "        \n",
    "cv2.destroyAllWindows()\n"
   ]
  },
  {
   "cell_type": "code",
   "execution_count": 6,
   "metadata": {},
   "outputs": [
    {
     "name": "stdout",
     "output_type": "stream",
     "text": [
      "EVENT_LBUTTONDOWN :  118 60\n",
      "EVENT_LBUTTONUP:  71 99\n",
      "EVENT_LBUTTONDOWN :  99 81\n",
      "EVENT_LBUTTONUP:  119 110\n",
      "EVENT_LBUTTONDOWN :  149 51\n",
      "EVENT_LBUTTONUP:  145 113\n",
      "EVENT_LBUTTONDOWN :  72 122\n",
      "EVENT_LBUTTONUP:  163 154\n",
      "EVENT_LBUTTONDOWN :  227 75\n",
      "EVENT_LBUTTONUP:  175 112\n",
      "EVENT_LBUTTONDOWN :  208 99\n",
      "EVENT_LBUTTONUP:  237 119\n",
      "EVENT_LBUTTONDOWN :  244 94\n",
      "EVENT_LBUTTONUP:  270 103\n",
      "EVENT_LBUTTONDOWN :  271 85\n",
      "EVENT_LBUTTONUP:  276 123\n",
      "EVENT_LBUTTONDOWN :  301 58\n",
      "EVENT_LBUTTONUP:  309 149\n",
      "EVENT_LBUTTONDOWN :  338 79\n",
      "EVENT_LBUTTONUP:  384 134\n",
      "EVENT_LBUTTONDOWN :  432 81\n",
      "EVENT_LBUTTONUP:  452 146\n",
      "EVENT_LBUTTONDOWN :  451 113\n",
      "EVENT_LBUTTONUP:  480 118\n",
      "EVENT_LBUTTONDOWN :  489 88\n",
      "EVENT_LBUTTONUP:  494 158\n"
     ]
    }
   ],
   "source": [
    "oldx = -1\n",
    "oldy = -1\n",
    "\n",
    "def call_mouse(event, x, y, flags, param):\n",
    "    global oldx, oldy\n",
    "\n",
    "    if event == cv2.EVENT_LBUTTONDOWN :\n",
    "        print('EVENT_LBUTTONDOWN : ', x, y)\n",
    "        oldx, oldy = x, y\n",
    "        \n",
    "    elif event == cv2.EVENT_LBUTTONUP :\n",
    "        print('EVENT_LBUTTONUP: ', x,y)\n",
    "    \n",
    "    elif event == cv2.EVENT_MOUSEMOVE : \n",
    "        if flags == cv2.EVENT_FLAG_LBUTTON : \n",
    "            cv2.line(img, (oldx, oldy), (x, y), (0, 0, 255),\n",
    "                    4, cv2.LINE_AA)\n",
    "            cv2.imshow('img', img)\n",
    "            oldx, oldy = x, y\n",
    "    \n",
    "\n",
    "img = np.ones((400, 600, 3), dtype = np.uint8)*255\n",
    "\n",
    "cv2.namedWindow('img')\n",
    "## 반드시 cv2.namedWindow 함수 밑에서 시작 \n",
    "# cv2.setMouseCallback(windowname, onmouse, param = None) -> None\n",
    "# windowname : 마우스이벤트를 수행할 창 이름 \n",
    "# on mouse : 마우스 이벤트 콜벡 함수 \n",
    "# param : 콜백함수에 전달할 데이터 \n",
    "\n",
    "cv2.setMouseCallback('img', call_mouse)\n",
    "\n",
    "cv2.imshow('img', img)\n",
    "\n",
    "cv2.waitKey()\n",
    "cv2.destroyAllWindows()\n"
   ]
  },
  {
   "cell_type": "code",
   "execution_count": 11,
   "metadata": {},
   "outputs": [
    {
     "ename": "NameError",
     "evalue": "name 'sunglass' is not defined",
     "output_type": "error",
     "traceback": [
      "\u001b[1;31m---------------------------------------------------------------------------\u001b[0m",
      "\u001b[1;31mNameError\u001b[0m                                 Traceback (most recent call last)",
      "\u001b[1;32m<ipython-input-11-6f5e9feff866>\u001b[0m in \u001b[0;36m<module>\u001b[1;34m\u001b[0m\n\u001b[0;32m      7\u001b[0m \u001b[1;31m#img = np.zeros((400, 600, 3), dtype = np.uint8)\u001b[0m\u001b[1;33m\u001b[0m\u001b[1;33m\u001b[0m\u001b[1;33m\u001b[0m\u001b[0m\n\u001b[0;32m      8\u001b[0m \u001b[0mimg\u001b[0m \u001b[1;33m=\u001b[0m \u001b[0mcv2\u001b[0m\u001b[1;33m.\u001b[0m\u001b[0mimread\u001b[0m\u001b[1;33m(\u001b[0m\u001b[1;34m'./fig/fig/imgbin_sunglasses_1.png'\u001b[0m\u001b[1;33m,\u001b[0m \u001b[0mcv2\u001b[0m\u001b[1;33m.\u001b[0m\u001b[0mIMREAD_UNCHANGED\u001b[0m\u001b[1;33m)\u001b[0m\u001b[1;33m\u001b[0m\u001b[1;33m\u001b[0m\u001b[0m\n\u001b[1;32m----> 9\u001b[1;33m \u001b[0mglass\u001b[0m \u001b[1;33m=\u001b[0m \u001b[0msunglass\u001b[0m\u001b[1;33m[\u001b[0m\u001b[1;33m:\u001b[0m\u001b[1;33m,\u001b[0m \u001b[1;33m:\u001b[0m\u001b[1;33m,\u001b[0m \u001b[1;36m0\u001b[0m\u001b[1;33m:\u001b[0m\u001b[1;36m3\u001b[0m\u001b[1;33m]\u001b[0m\u001b[1;33m\u001b[0m\u001b[1;33m\u001b[0m\u001b[0m\n\u001b[0m\u001b[0;32m     10\u001b[0m \u001b[0mcv2\u001b[0m\u001b[1;33m.\u001b[0m\u001b[0mnamedWindow\u001b[0m\u001b[1;33m(\u001b[0m\u001b[1;34m'img'\u001b[0m\u001b[1;33m)\u001b[0m\u001b[1;33m\u001b[0m\u001b[1;33m\u001b[0m\u001b[0m\n\u001b[0;32m     11\u001b[0m \u001b[1;31m# createTrackbar(trackbarName, windowName, value, count, onChange) -> None\u001b[0m\u001b[1;33m\u001b[0m\u001b[1;33m\u001b[0m\u001b[1;33m\u001b[0m\u001b[0m\n",
      "\u001b[1;31mNameError\u001b[0m: name 'sunglass' is not defined"
     ]
    }
   ],
   "source": [
    "def call_track(pos):\n",
    "    img[:] = pos\n",
    "    cv2.imshow('img', img)\n",
    "#    print(pos)\n",
    "\n",
    "\n",
    "#img = np.zeros((400, 600, 3), dtype = np.uint8)\n",
    "img = cv2.imread('./fig/fig/imgbin_sunglasses_1.png', cv2.IMREAD_UNCHANGED)\n",
    "\n",
    "cv2.namedWindow('img')\n",
    "# createTrackbar(trackbarName, windowName, value, count, onChange) -> None\n",
    "# TrackBarName : 트랙바 이름 \n",
    "# WindowName : 트랙바를 생성할 창 이름\n",
    "# value : 트랙바 위치 초기값 \n",
    "# count : 트랙바 최대값, 최소값은 0\n",
    "# on change : callback 함수 e.g,... onchange(pos) 위치를 정수형태로 전달\n",
    "\n",
    "cv2.createTrackbar('level', 'img', 0, 255, call_track)\n",
    "\n",
    "cv2.imshow('img', img)\n",
    "\n",
    "cv2.waitKey()\n",
    "cv2.destroyAllWindows()"
   ]
  },
  {
   "cell_type": "code",
   "execution_count": 3,
   "metadata": {},
   "outputs": [],
   "source": [
    "def call_track(pos) :\n",
    "    \n",
    "    img_glass = img * pos \n",
    "    cv2.imshow('img', img_glass)\n",
    "    \n",
    "    \n",
    "img_alpha = cv2.imread('./fig/fig/imgbin_sunglasses_1.png', cv2.IMREAD_UNCHANGED)\n",
    "img = img_alpha[ : , :, -1]\n",
    "img[img>0 ] = 1\n",
    "\n",
    "\n",
    "cv2.namedWindow('img')\n",
    "cv2.createTrackbar('level', 'img', 0, 255, call_track)\n",
    "\n",
    "cv2.imshow('img', img)\n",
    "\n",
    "cv2.waitKey()\n",
    "cv2.destroyAllWindows()"
   ]
  },
  {
   "cell_type": "code",
   "execution_count": null,
   "metadata": {},
   "outputs": [],
   "source": [
    "src = cv2.imread('./fig2/lenna.bmp', cv2.IMREAD_COLOR)\n",
    "\n",
    "if src is None :\n",
    "    print('image read failed')\n",
    "    sys.exit()\n",
    "    \n",
    "dst = cv2.add(src, (100, 100, 100, 0)) # B, G, R, ALPHA\n",
    "#dst = np.clip(src +100., 0, 255).astype(np.uint8)\n",
    "    \n",
    "cv2.imshow('img', src)\n",
    "cv2.imshow('dst', dst)\n",
    "\n",
    "cv2.waitKey()\n",
    "cv2.destroyAllWindows()"
   ]
  }
 ],
 "metadata": {
  "kernelspec": {
   "display_name": "Python 3",
   "language": "python",
   "name": "python3"
  },
  "language_info": {
   "codemirror_mode": {
    "name": "ipython",
    "version": 3
   },
   "file_extension": ".py",
   "mimetype": "text/x-python",
   "name": "python",
   "nbconvert_exporter": "python",
   "pygments_lexer": "ipython3",
   "version": "3.7.5"
  }
 },
 "nbformat": 4,
 "nbformat_minor": 2
}
