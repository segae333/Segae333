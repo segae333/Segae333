{
  "nbformat": 4,
  "nbformat_minor": 0,
  "metadata": {
    "colab": {
      "name": "Gradient_Tape.ipynb",
      "provenance": []
    },
    "kernelspec": {
      "name": "python3",
      "display_name": "Python 3"
    },
    "language_info": {
      "name": "python"
    }
  },
  "cells": [
    {
      "cell_type": "markdown",
      "metadata": {
        "id": "zmGuM9553-Dx"
      },
      "source": [
        "### Gradient Tape"
      ]
    },
    {
      "cell_type": "code",
      "metadata": {
        "id": "cFEJL3Kp4V7M"
      },
      "source": [
        "import tensorflow as tf"
      ],
      "execution_count": 13,
      "outputs": []
    },
    {
      "cell_type": "code",
      "metadata": {
        "id": "PafsGxep37DS"
      },
      "source": [
        "test1 = [1,2,3]\n",
        "test2 = [10, 20 ,30]"
      ],
      "execution_count": 11,
      "outputs": []
    },
    {
      "cell_type": "code",
      "metadata": {
        "id": "Ja_5j39K377d"
      },
      "source": [
        "t1 = tf.Variable(test1, dtype=tf.float32)\n",
        "t2 = tf.Variable(test2, dtype=tf.float32)"
      ],
      "execution_count": 14,
      "outputs": []
    },
    {
      "cell_type": "code",
      "metadata": {
        "colab": {
          "base_uri": "https://localhost:8080/"
        },
        "id": "nT9UyCLv4d1i",
        "outputId": "31110f3b-7021-470d-f9b5-ecf84dd384d5"
      },
      "source": [
        "with tf.GradientTape() as tape :\n",
        "  t3 = t1 * t2\n",
        "\n",
        "gradient = tape.gradient(t3, [t1, t2])\n",
        "print(gradient[0])\n",
        "print(gradient[1])\n"
      ],
      "execution_count": 18,
      "outputs": [
        {
          "output_type": "stream",
          "name": "stdout",
          "text": [
            "tf.Tensor([10. 20. 30.], shape=(3,), dtype=float32)\n",
            "tf.Tensor([1. 2. 3.], shape=(3,), dtype=float32)\n"
          ]
        }
      ]
    },
    {
      "cell_type": "markdown",
      "metadata": {
        "id": "oN6B9TC55J1i"
      },
      "source": [
        "###Gradient Tape basic ex2"
      ]
    },
    {
      "cell_type": "code",
      "metadata": {
        "id": "PbTdxmJ25NpZ"
      },
      "source": [
        "test1 = [1,2,3]\n",
        "test2 = [10, 20 ,30]"
      ],
      "execution_count": 19,
      "outputs": []
    },
    {
      "cell_type": "code",
      "metadata": {
        "id": "jDNoWts25TO9"
      },
      "source": [
        "t1 = tf.constant(test1, dtype=tf.float32)\n",
        "t2 = tf.Variable(test2, dtype=tf.float32)\n",
        "\n",
        "with tf.GradientTape() as tape : # 원래 텐서는 Variable은 계산하지 않는다 하지만 watch 함수를 사용하면 Variable도 계산할 수 있다.\n",
        "  tape.watch(t1)\n",
        "  t3 = t1 * t2\n",
        "\n",
        "gradients = tape.gradient(t3, [t1, t2])"
      ],
      "execution_count": 24,
      "outputs": []
    },
    {
      "cell_type": "code",
      "metadata": {
        "colab": {
          "base_uri": "https://localhost:8080/"
        },
        "id": "o2u25GJQ5vBZ",
        "outputId": "20a7e517-af73-42fc-a49c-fbb34579a09a"
      },
      "source": [
        "print(gradients[0])"
      ],
      "execution_count": 25,
      "outputs": [
        {
          "output_type": "stream",
          "name": "stdout",
          "text": [
            "tf.Tensor([10. 20. 30.], shape=(3,), dtype=float32)\n"
          ]
        }
      ]
    },
    {
      "cell_type": "markdown",
      "metadata": {
        "id": "KAMLzgYz6eXY"
      },
      "source": [
        "### Gradient Tape 이용한 linear regression"
      ]
    },
    {
      "cell_type": "code",
      "metadata": {
        "id": "fQFkJN3m56ir"
      },
      "source": [
        "import matplotlib.pyplot as plt\n",
        "import numpy as np\n"
      ],
      "execution_count": 26,
      "outputs": []
    },
    {
      "cell_type": "code",
      "metadata": {
        "id": "Bwq1r8D96t0l"
      },
      "source": [
        "# 데이터 선언\n",
        "x_data =[[1.],[2.],[3.],[4.]]\n",
        "y_data =[[1.],[3.],[5.],[7.]]"
      ],
      "execution_count": 27,
      "outputs": []
    },
    {
      "cell_type": "code",
      "metadata": {
        "id": "JJMJbP_z64bq"
      },
      "source": [
        "## 평균 0, 분산 1의 파라미터의 정규분포로 부터 값을 가져옴.\n",
        "# 학습을 통해 업데이트가 되어 변화되는 모델의 파라미터인 w,b를 의미한다.\n",
        "W=tf.Variable(tf.random.normal((1,1),mean=0, stddev=1.0))\n",
        "b=tf.Variable(tf.random.normal((1,1),mean=0, stddev=1.0))\n",
        "lr=0.001\n",
        "history = np.zeros([2000,3], 'float32')"
      ],
      "execution_count": 28,
      "outputs": []
    },
    {
      "cell_type": "code",
      "metadata": {
        "id": "BflxIzcX7JKI"
      },
      "source": [
        "w = np.array(W)\n",
        "w = w.reshape(1)\n",
        "B = np.array(b)\n",
        "B = B.reshape(1)"
      ],
      "execution_count": 29,
      "outputs": []
    },
    {
      "cell_type": "code",
      "metadata": {
        "id": "nAKgoHke74xo",
        "outputId": "b3238390-bbf3-44d1-9850-77f49ca3ab9c",
        "colab": {
          "base_uri": "https://localhost:8080/",
          "height": 338
        }
      },
      "source": [
        "plt.plot(x_data, y_data, 'o')\n",
        "plt.plot([0,4], [b, (w*4 +B)], 'r-')"
      ],
      "execution_count": 30,
      "outputs": [
        {
          "output_type": "stream",
          "name": "stderr",
          "text": [
            "/usr/local/lib/python3.7/dist-packages/numpy/core/_asarray.py:136: VisibleDeprecationWarning: Creating an ndarray from ragged nested sequences (which is a list-or-tuple of lists-or-tuples-or ndarrays with different lengths or shapes) is deprecated. If you meant to do this, you must specify 'dtype=object' when creating the ndarray\n",
            "  return array(a, dtype, copy=False, order=order, subok=True)\n"
          ]
        },
        {
          "output_type": "execute_result",
          "data": {
            "text/plain": [
              "[<matplotlib.lines.Line2D at 0x7f6746f04b50>]"
            ]
          },
          "metadata": {},
          "execution_count": 30
        },
        {
          "output_type": "display_data",
          "data": {
            "image/png": "[encoded data removed]",
            "text/plain": [
              "<Figure size 432x288 with 1 Axes>"
            ]
          },
          "metadata": {
            "needs_background": "light"
          }
        }
      ]
    },
    {
      "cell_type": "code",
      "metadata": {
        "id": "mIUlpmfP8isq"
      },
      "source": [
        "w_trace = []\n",
        "b_trace = []"
      ],
      "execution_count": 31,
      "outputs": []
    },
    {
      "cell_type": "code",
      "metadata": {
        "id": "YLcDVNN27_VS"
      },
      "source": [
        "for epoch in range(2000):\n",
        "    total_error = 0\n",
        "\n",
        "    for x, y in zip(x_data, y_data):\n",
        "        with tf.GradientTape() as tape:\n",
        "            y_hat = W * x + b\n",
        "            error = (y_hat - y) **2\n",
        "        \n",
        "        gradients = tape.gradient(error, [W, b]) \n",
        "\n",
        "        W = tf.Variable(W - lr * gradients[0])\n",
        "        b = tf.Variable(b - lr * gradients[1])\n",
        "\n",
        "        w_trace.append(W.numpy())\n",
        "        b_trace.append(b.numpy())\n",
        "\n",
        "        visual_error = tf.square(error)\n",
        "        total_error = total_error + visual_error\n",
        "\n",
        "    print(\"epoch : \", epoch, \"error :\", total_error/len(x_data))\n",
        "    history[epoch,:] = [(total_error/len(x_data))[0], W[0], b[0]]"
      ],
      "execution_count": null,
      "outputs": []
    },
    {
      "cell_type": "code",
      "metadata": {
        "id": "iOdyp3Zj9dIq"
      },
      "source": [
        "w = np.array(W)\n",
        "w = w.reshape(1)\n",
        "B = np.array(b)\n",
        "B = B.reshape(1)"
      ],
      "execution_count": 33,
      "outputs": []
    },
    {
      "cell_type": "code",
      "metadata": {
        "id": "XVU9u4aA95RI",
        "outputId": "3550c994-853f-461e-c69b-132af76d68e3",
        "colab": {
          "base_uri": "https://localhost:8080/",
          "height": 338
        }
      },
      "source": [
        "plt.plot(x_data, y_data, 'o')\n",
        "plt.plot([0, 4], [b, (w*4 + B)], 'r-')"
      ],
      "execution_count": 34,
      "outputs": [
        {
          "output_type": "stream",
          "name": "stderr",
          "text": [
            "/usr/local/lib/python3.7/dist-packages/numpy/core/_asarray.py:136: VisibleDeprecationWarning: Creating an ndarray from ragged nested sequences (which is a list-or-tuple of lists-or-tuples-or ndarrays with different lengths or shapes) is deprecated. If you meant to do this, you must specify 'dtype=object' when creating the ndarray\n",
            "  return array(a, dtype, copy=False, order=order, subok=True)\n"
          ]
        },
        {
          "output_type": "execute_result",
          "data": {
            "text/plain": [
              "[<matplotlib.lines.Line2D at 0x7f6746e52fd0>]"
            ]
          },
          "metadata": {},
          "execution_count": 34
        },
        {
          "output_type": "display_data",
          "data": {
            "image/png": "[encoded data removed]",
            "text/plain": [
              "<Figure size 432x288 with 1 Axes>"
            ]
          },
          "metadata": {
            "needs_background": "light"
          }
        }
      ]
    },
    {
      "cell_type": "code",
      "metadata": {
        "id": "Loa5sozO99Mb",
        "outputId": "3a94fd1a-c24f-4a5f-ede5-22ea5ebe5cd2",
        "colab": {
          "base_uri": "https://localhost:8080/"
        }
      },
      "source": [
        "# 학습이 끝난 후 W와 b로 예측\n",
        "\n",
        "print(history)\n",
        "print(\"W :\", W)\n",
        "print(\"b:\", b)\n",
        "print(\"input 3\", tf.add(tf.matmul([[3.]], W), b))\n",
        "print(\"input 4\", tf.add(tf.matmul([[4.]], W), b))"
      ],
      "execution_count": 35,
      "outputs": [
        {
          "output_type": "stream",
          "name": "stdout",
          "text": [
            "[[ 5.8524453e+03 -1.5717225e+00  2.0136080e+00]\n",
            " [ 4.5772988e+03 -1.4203058e+00  2.0602453e+00]\n",
            " [ 3.5863796e+03 -1.2786946e+00  2.1035388e+00]\n",
            " ...\n",
            " [ 7.6580001e-04  1.8843564e+00 -6.5712100e-01]\n",
            " [ 7.6212239e-04  1.8844955e+00 -6.5753359e-01]\n",
            " [ 7.5846014e-04  1.8846345e+00 -6.5794569e-01]]\n",
            "W : <tf.Variable 'Variable:0' shape=(1, 1) dtype=float32, numpy=array([[1.8846345]], dtype=float32)>\n",
            "b: <tf.Variable 'Variable:0' shape=(1, 1) dtype=float32, numpy=array([[-0.6579457]], dtype=float32)>\n",
            "input 3 tf.Tensor([[4.995958]], shape=(1, 1), dtype=float32)\n",
            "input 4 tf.Tensor([[6.8805923]], shape=(1, 1), dtype=float32)\n"
          ]
        }
      ]
    },
    {
      "cell_type": "code",
      "metadata": {
        "id": "MFsKHfS7-3it",
        "outputId": "ef9d1d61-3ef7-4658-ce3d-6d023c1c862c",
        "colab": {
          "base_uri": "https://localhost:8080/",
          "height": 313
        }
      },
      "source": [
        "# loss function\n",
        "plt.plot(history[:,0])\n",
        "plt.title('loss function')\n",
        "plt.xlabel('epoch')\n",
        "plt.ylabel('loss')  "
      ],
      "execution_count": 36,
      "outputs": [
        {
          "output_type": "execute_result",
          "data": {
            "text/plain": [
              "Text(0, 0.5, 'loss')"
            ]
          },
          "metadata": {},
          "execution_count": 36
        },
        {
          "output_type": "display_data",
          "data": {
            "image/png": "[encoded data removed]",
            "text/plain": [
              "<Figure size 432x288 with 1 Axes>"
            ]
          },
          "metadata": {
            "needs_background": "light"
          }
        }
      ]
    },
    {
      "cell_type": "code",
      "metadata": {
        "id": "hu7qSwTR-7p-"
      },
      "source": [
        "a = np.array(w_trace)\n",
        "a = a.reshape(8000,1)"
      ],
      "execution_count": 37,
      "outputs": []
    },
    {
      "cell_type": "code",
      "metadata": {
        "id": "me5qRkm4-99s",
        "outputId": "767785ab-9eb6-4d6c-80a1-10e8e0a8970e",
        "colab": {
          "base_uri": "https://localhost:8080/",
          "height": 284
        }
      },
      "source": [
        "plt.plot(a)"
      ],
      "execution_count": 38,
      "outputs": [
        {
          "output_type": "execute_result",
          "data": {
            "text/plain": [
              "[<matplotlib.lines.Line2D at 0x7f67466cbfd0>]"
            ]
          },
          "metadata": {},
          "execution_count": 38
        },
        {
          "output_type": "display_data",
          "data": {
            "image/png": "[encoded data removed]",
            "text/plain": [
              "<Figure size 432x288 with 1 Axes>"
            ]
          },
          "metadata": {
            "needs_background": "light"
          }
        }
      ]
    },
    {
      "cell_type": "markdown",
      "metadata": {
        "id": "Z2MvwYcFOZXO"
      },
      "source": [
        "### Multi Regression"
      ]
    },
    {
      "cell_type": "code",
      "metadata": {
        "id": "EslWOpADOY4l",
        "outputId": "ff3718df-dcae-4f40-a958-d1dd87d39e9d",
        "colab": {
          "base_uri": "https://localhost:8080/"
        }
      },
      "source": [
        "import tensorflow as tf\n",
        "import numpy as np\n",
        "## data 선언\n",
        "x_data = [[2.,0.,7.], [6.,4.,2.], [5.,2.,4.],[8.,4.,1]]\n",
        "y_data = [[75], [95], [91], [97]]\n",
        "test_data=[[5.,5.,5.]]\n",
        "print(len(x_data),len(x_data[1]))  # 행크기 , 열크기"
      ],
      "execution_count": 27,
      "outputs": [
        {
          "output_type": "stream",
          "name": "stdout",
          "text": [
            "4 3\n"
          ]
        }
      ]
    },
    {
      "cell_type": "code",
      "metadata": {
        "id": "MmydKOf-n7Jw",
        "outputId": "3b6902ad-28a8-448b-d948-4237ed830b97",
        "colab": {
          "base_uri": "https://localhost:8080/"
        }
      },
      "source": [
        "## tf.keras를 활용한 perceptron 모델 구현.\n",
        "model = tf.keras.Sequential()   ## 모델 만들기 위해 sequential 매서드를 선언. 이를 통해 모델을 만들 수 있다.\n",
        "model.add(tf.keras.layers.Dense(1, input_dim=3)) # 선언된 모델에 add를 통해 쌓아감. , 현재는 입력 변수 갯수 3, perceptron 1개.\n",
        "model.summary() ## 설계한 모델 프린트"
      ],
      "execution_count": 28,
      "outputs": [
        {
          "output_type": "stream",
          "name": "stdout",
          "text": [
            "Model: \"sequential\"\n",
            "_________________________________________________________________\n",
            "Layer (type)                 Output Shape              Param #   \n",
            "=================================================================\n",
            "dense (Dense)                (None, 1)                 4         \n",
            "=================================================================\n",
            "Total params: 4\n",
            "Trainable params: 4\n",
            "Non-trainable params: 0\n",
            "_________________________________________________________________\n"
          ]
        }
      ]
    },
    {
      "cell_type": "code",
      "metadata": {
        "id": "DfRWcE4DpsUb"
      },
      "source": [
        "loss = tf.keras.losses.mse # mean squre error\n",
        "optimizer = tf.keras.optimizers.SGD(lr=0.01)\n",
        "metrics = tf.keras.metrics.mae # mean absolute error ㅣ예측값 - 정답ㅣ\n",
        "\n",
        "# 모델 컴파일하기\n",
        "model.compile(loss=loss, optimizer=optimizer, metrics=[metrics])\n",
        "\n",
        "# 모델 동작하기\n",
        "model.fit(x_data, y_data, epochs=20, batch_size=2)"
      ],
      "execution_count": null,
      "outputs": []
    },
    {
      "cell_type": "code",
      "metadata": {
        "id": "LRan6rjfrMLp",
        "outputId": "b63c0bfd-30e2-41f4-dced-b6b751e460e6",
        "colab": {
          "base_uri": "https://localhost:8080/"
        }
      },
      "source": [
        "# 결과를 출력\n",
        "print(model.weights)\n",
        "print(\"test data [5., 5., 5.] 예측 값 :\", model.predict(test_data))"
      ],
      "execution_count": 30,
      "outputs": [
        {
          "output_type": "stream",
          "name": "stdout",
          "text": [
            "[<tf.Variable 'dense/kernel:0' shape=(3, 1) dtype=float32, numpy=\n",
            "array([[9.281991 ],\n",
            "       [3.9444592],\n",
            "       [8.074075 ]], dtype=float32)>, <tf.Variable 'dense/bias:0' shape=(1,) dtype=float32, numpy=array([2.0359561], dtype=float32)>]\n",
            "test data [5., 5., 5.] 예측 값 : [[108.53858]]\n"
          ]
        }
      ]
    },
    {
      "cell_type": "markdown",
      "metadata": {
        "id": "lVnccNxQsOVu"
      },
      "source": [
        "### Binary Classification"
      ]
    },
    {
      "cell_type": "code",
      "metadata": {
        "id": "PlzPkKvesUSD"
      },
      "source": [
        "\n",
        "import tensorflow as tf\n",
        "\n",
        "## data 선언\n",
        "x_data = [[0.,0.], [0.,1.], [1.,0.],[1.,1.]]\n",
        "y_data = [[0.], [1.], [1.], [1.]]\n",
        "test_data=[[0.8, 0.8]]\n",
        "\n"
      ],
      "execution_count": 6,
      "outputs": []
    },
    {
      "cell_type": "code",
      "metadata": {
        "id": "INzwTsC7sUwR",
        "outputId": "b4e1e314-3545-4523-b039-e31d308a0f3c",
        "colab": {
          "base_uri": "https://localhost:8080/"
        }
      },
      "source": [
        "## tf.keras를 활용한 perceptron 모델 구현.\n",
        "model = tf.keras.Sequential()   ## 모델 만들기 위해 sequential 매서드를 선언. 이를 통해 모델을 만들 수 있다.\n",
        "model.add(tf.keras.layers.Dense(1, input_dim=2)) # 선언된 모델에 add를 통해 쌓아감. , 현재는 입력 변수 갯수 3, perceptron 1개.\n",
        "model.summary() ## 설계한 모델 프린트"
      ],
      "execution_count": 7,
      "outputs": [
        {
          "output_type": "stream",
          "name": "stdout",
          "text": [
            "Model: \"sequential_1\"\n",
            "_________________________________________________________________\n",
            "Layer (type)                 Output Shape              Param #   \n",
            "=================================================================\n",
            "dense_1 (Dense)              (None, 1)                 3         \n",
            "=================================================================\n",
            "Total params: 3\n",
            "Trainable params: 3\n",
            "Non-trainable params: 0\n",
            "_________________________________________________________________\n"
          ]
        }
      ]
    },
    {
      "cell_type": "code",
      "metadata": {
        "id": "B9gP0aDks2M8",
        "outputId": "39cad5e4-1349-47e2-f165-618b8f31a109",
        "colab": {
          "base_uri": "https://localhost:8080/"
        }
      },
      "source": [
        "loss = tf.keras.losses.mse # mean squre error\n",
        "optimizer = tf.keras.optimizers.SGD(lr=0.01)\n",
        "metrics = tf.keras.metrics.mae # mean absolute error ㅣ예측값 - 정답ㅣ\n",
        "\n",
        "# 모델 컴파일하기\n",
        "model.compile(loss=loss, optimizer=optimizer, metrics=[metrics])\n",
        "\n",
        "# 모델 동작하기\n",
        "model.fit(x_data, y_data, epochs=20, batch_size=4)"
      ],
      "execution_count": 11,
      "outputs": [
        {
          "output_type": "stream",
          "name": "stderr",
          "text": [
            "/usr/local/lib/python3.7/dist-packages/keras/optimizer_v2/optimizer_v2.py:356: UserWarning: The `lr` argument is deprecated, use `learning_rate` instead.\n",
            "  \"The `lr` argument is deprecated, use `learning_rate` instead.\")\n"
          ]
        },
        {
          "output_type": "stream",
          "name": "stdout",
          "text": [
            "Epoch 1/20\n",
            "1/1 [==============================] - 0s 226ms/step - loss: 0.2170 - mean_absolute_error: 0.4466\n",
            "Epoch 2/20\n",
            "1/1 [==============================] - 0s 4ms/step - loss: 0.2135 - mean_absolute_error: 0.4416\n",
            "Epoch 3/20\n",
            "1/1 [==============================] - 0s 6ms/step - loss: 0.2102 - mean_absolute_error: 0.4368\n",
            "Epoch 4/20\n",
            "1/1 [==============================] - 0s 6ms/step - loss: 0.2071 - mean_absolute_error: 0.4321\n",
            "Epoch 5/20\n",
            "1/1 [==============================] - 0s 9ms/step - loss: 0.2042 - mean_absolute_error: 0.4275\n",
            "Epoch 6/20\n",
            "1/1 [==============================] - 0s 8ms/step - loss: 0.2013 - mean_absolute_error: 0.4230\n",
            "Epoch 7/20\n",
            "1/1 [==============================] - 0s 4ms/step - loss: 0.1987 - mean_absolute_error: 0.4187\n",
            "Epoch 8/20\n",
            "1/1 [==============================] - 0s 4ms/step - loss: 0.1961 - mean_absolute_error: 0.4145\n",
            "Epoch 9/20\n",
            "1/1 [==============================] - 0s 5ms/step - loss: 0.1937 - mean_absolute_error: 0.4104\n",
            "Epoch 10/20\n",
            "1/1 [==============================] - 0s 5ms/step - loss: 0.1914 - mean_absolute_error: 0.4064\n",
            "Epoch 11/20\n",
            "1/1 [==============================] - 0s 5ms/step - loss: 0.1892 - mean_absolute_error: 0.4025\n",
            "Epoch 12/20\n",
            "1/1 [==============================] - 0s 8ms/step - loss: 0.1871 - mean_absolute_error: 0.3988\n",
            "Epoch 13/20\n",
            "1/1 [==============================] - 0s 4ms/step - loss: 0.1851 - mean_absolute_error: 0.3951\n",
            "Epoch 14/20\n",
            "1/1 [==============================] - 0s 5ms/step - loss: 0.1832 - mean_absolute_error: 0.3916\n",
            "Epoch 15/20\n",
            "1/1 [==============================] - 0s 7ms/step - loss: 0.1813 - mean_absolute_error: 0.3881\n",
            "Epoch 16/20\n",
            "1/1 [==============================] - 0s 9ms/step - loss: 0.1796 - mean_absolute_error: 0.3847\n",
            "Epoch 17/20\n",
            "1/1 [==============================] - 0s 7ms/step - loss: 0.1779 - mean_absolute_error: 0.3815\n",
            "Epoch 18/20\n",
            "1/1 [==============================] - 0s 4ms/step - loss: 0.1763 - mean_absolute_error: 0.3783\n",
            "Epoch 19/20\n",
            "1/1 [==============================] - 0s 4ms/step - loss: 0.1747 - mean_absolute_error: 0.3752\n",
            "Epoch 20/20\n",
            "1/1 [==============================] - 0s 4ms/step - loss: 0.1733 - mean_absolute_error: 0.3722\n"
          ]
        },
        {
          "output_type": "execute_result",
          "data": {
            "text/plain": [
              "<keras.callbacks.History at 0x7f737c32d190>"
            ]
          },
          "metadata": {},
          "execution_count": 11
        }
      ]
    },
    {
      "cell_type": "code",
      "metadata": {
        "id": "fRMXTIputHl0",
        "outputId": "4308b3e3-a3c9-4357-92d5-7b73d44776c4",
        "colab": {
          "base_uri": "https://localhost:8080/"
        }
      },
      "source": [
        "print(model.weights)\n",
        "print(\"test data [0.8, 0.8] 예측 값 :\", model.predict(test_data))\n",
        "\n",
        "if model.predict(test_data) >0.5:\n",
        "    print(\"합격\")\n",
        "else:\n",
        "    print(\"불합격\")"
      ],
      "execution_count": 12,
      "outputs": [
        {
          "output_type": "stream",
          "name": "stdout",
          "text": [
            "[<tf.Variable 'dense_1/kernel:0' shape=(2, 1) dtype=float32, numpy=\n",
            "array([[-0.0297911 ],\n",
            "       [ 0.10808301]], dtype=float32)>, <tf.Variable 'dense_1/bias:0' shape=(1,) dtype=float32, numpy=array([0.68324846], dtype=float32)>]\n",
            "test data [0.8, 0.8] 예측 값 : [[0.745882]]\n",
            "합격\n"
          ]
        }
      ]
    },
    {
      "cell_type": "markdown",
      "metadata": {
        "id": "6wLeC7Z-zlNe"
      },
      "source": [
        "### Logistic Regression"
      ]
    },
    {
      "cell_type": "code",
      "metadata": {
        "id": "Q8buLKiDzqCC"
      },
      "source": [
        "\n",
        "import tensorflow as tf\n",
        "\n",
        "## data 선언\n",
        "x_data = [[5.], [30.], [95.], [100.], [265.], [270.], [290.], [300.],[365.]]\n",
        "y_data = [[0.], [0.], [0.], [0.], [1.], [1.], [1.], [1.], [1.]]\n",
        "test_data= [[7.]]\n",
        "test_data2= [[80.]]\n",
        "test_data3= [[110.]]\n",
        "test_data4= [[180.]]\n",
        "test_data5= [[320.]]\n",
        "\n"
      ],
      "execution_count": 13,
      "outputs": []
    },
    {
      "cell_type": "code",
      "metadata": {
        "id": "Vr7cSIhRz151",
        "outputId": "e2ed3e3a-a4b9-42df-d43c-e131dd244f37",
        "colab": {
          "base_uri": "https://localhost:8080/"
        }
      },
      "source": [
        "## tf.keras를 활용한 perceptron 모델 구현.\n",
        "model = tf.keras.Sequential()   ## 모델 만들기 위해 sequential 매서드를 선언. 이를 통해 모델을 만들 수 있다.\n",
        "model.add(tf.keras.layers.Dense(1, input_dim=1, activation='sigmoid')) # 선언된 모델에 add를 통해 쌓아감. , 현재는 입력 변수 갯수 3, perceptron 1개.\n",
        "model.summary() ## 설계한 모델 프린트"
      ],
      "execution_count": 15,
      "outputs": [
        {
          "output_type": "stream",
          "name": "stdout",
          "text": [
            "Model: \"sequential_3\"\n",
            "_________________________________________________________________\n",
            "Layer (type)                 Output Shape              Param #   \n",
            "=================================================================\n",
            "dense_3 (Dense)              (None, 1)                 2         \n",
            "=================================================================\n",
            "Total params: 2\n",
            "Trainable params: 2\n",
            "Non-trainable params: 0\n",
            "_________________________________________________________________\n"
          ]
        }
      ]
    },
    {
      "cell_type": "code",
      "metadata": {
        "id": "8YGjRUvvz2Uv"
      },
      "source": [
        "loss = tf.keras.losses.mse # mean squre error\n",
        "optimizer = tf.keras.optimizers.SGD(lr=0.01)\n",
        "metrics = tf.keras.metrics.binary_accuracy # mean absolute error ㅣ예측값 - 정답ㅣ\n",
        "\n",
        "# 모델 컴파일하기\n",
        "model.compile(loss=loss, optimizer=optimizer, metrics=[metrics])\n",
        "\n",
        "# 모델 동작하기\n",
        "model.fit(x_data, y_data, epochs=1500, batch_size=2)"
      ],
      "execution_count": null,
      "outputs": []
    },
    {
      "cell_type": "code",
      "metadata": {
        "id": "ZItVh-m22Zmy",
        "outputId": "b87d9cce-b625-4357-e02c-207936f9e240",
        "colab": {
          "base_uri": "https://localhost:8080/"
        }
      },
      "source": [
        "# 결과를 출력합니다.\n",
        "print(\" test data [7.] 예측 값 : \", model.predict(test_data))\n",
        "print(\" test data [80.] 예측 값 : \", model.predict(test_data2))\n",
        "print(\" test data [110.] 예측 값 : \", model.predict(test_data3))\n",
        "print(\" test data [180.] 예측 값 : \", model.predict(test_data4))\n",
        "print(\" test data [320.] 예측 값 : \", model.predict(test_data5))"
      ],
      "execution_count": 20,
      "outputs": [
        {
          "output_type": "stream",
          "name": "stdout",
          "text": [
            " test data [7.] 예측 값 :  [[0.00817195]]\n",
            " test data [80.] 예측 값 :  [[1.5137941e-23]]\n",
            " test data [110.] 예측 값 :  [[4.5550747e-32]]\n",
            " test data [180.] 예측 값 :  [[0.]]\n",
            " test data [320.] 예측 값 :  [[0.]]\n"
          ]
        }
      ]
    },
    {
      "cell_type": "markdown",
      "metadata": {
        "id": "U3ZQqM0V-Hrp"
      },
      "source": [
        "### XOR Problem"
      ]
    },
    {
      "cell_type": "code",
      "metadata": {
        "id": "SPUI4jMY-Mh-"
      },
      "source": [
        "\n",
        "import tensorflow as tf\n",
        "\n",
        "## data 선언\n",
        "x_data = [[0., 0.],[0. ,1.],[1. ,0.],[1. ,1.]]\n",
        "y_data = [[0.],[1.],[1.],[0.]]\n",
        "test_data = [[0.5, 0.5]]\n",
        "\n",
        "\n"
      ],
      "execution_count": 1,
      "outputs": []
    },
    {
      "cell_type": "code",
      "metadata": {
        "id": "fJSXzdC7_LG-",
        "outputId": "c4364f0d-ce86-4117-dd04-09c916ff97bd",
        "colab": {
          "base_uri": "https://localhost:8080/"
        }
      },
      "source": [
        "## tf.keras를 활용한 perceptron 모델 구현.\n",
        "model = tf.keras.Sequential()   ## 모델 만들기 위해 sequential 매서드를 선언. 이를 통해 모델을 만들 수 있다.\n",
        "model.add(tf.keras.layers.Dense(4, input_dim=2, activation='sigmoid')) # 선언된 모델에 add를 통해 쌓아감. , 현재는 입력 변수 갯수 3, perceptron 1개. 비선형 모델은 activation써야 합니다.\n",
        "model.add(tf.keras.layers.Dense(5, activation='sigmoid'))\n",
        "model.add(tf.keras.layers.Dense(1, activation='sigmoid'))\n",
        "model.summary() ## 설계한 모델 프린트"
      ],
      "execution_count": 2,
      "outputs": [
        {
          "output_type": "stream",
          "name": "stdout",
          "text": [
            "Model: \"sequential\"\n",
            "_________________________________________________________________\n",
            "Layer (type)                 Output Shape              Param #   \n",
            "=================================================================\n",
            "dense (Dense)                (None, 4)                 12        \n",
            "_________________________________________________________________\n",
            "dense_1 (Dense)              (None, 5)                 25        \n",
            "_________________________________________________________________\n",
            "dense_2 (Dense)              (None, 1)                 6         \n",
            "=================================================================\n",
            "Total params: 43\n",
            "Trainable params: 43\n",
            "Non-trainable params: 0\n",
            "_________________________________________________________________\n"
          ]
        }
      ]
    },
    {
      "cell_type": "code",
      "metadata": {
        "id": "70GU5WVdABCg"
      },
      "source": [
        "loss = tf.keras.losses.binary_crossentropy # mean squre error\n",
        "optimizer = tf.keras.optimizers.SGD(learning_rate=0.5)\n",
        "metrics = tf.keras.metrics.binary_accuracy # mean absolute error ㅣ예측값 - 정답ㅣ\n",
        "\n",
        "# 모델 컴파일하기\n",
        "model.compile(loss=loss, optimizer=optimizer, metrics=[metrics])\n",
        "\n",
        "# 모델 동작하기\n",
        "model.fit(x_data, y_data, epochs=2000, batch_size=4)"
      ],
      "execution_count": null,
      "outputs": []
    },
    {
      "cell_type": "code",
      "metadata": {
        "id": "C-mQmkUaBkvL",
        "outputId": "6416eb2c-5daa-46f7-839b-7f466081fd77",
        "colab": {
          "base_uri": "https://localhost:8080/"
        }
      },
      "source": [
        "# 결과를 출력합니다.\n",
        "print(\" test data [[0.5,0.5]] 예측 값 : \", model.predict(test_data))"
      ],
      "execution_count": 4,
      "outputs": [
        {
          "output_type": "stream",
          "name": "stdout",
          "text": [
            " test data [[0.5,0.5]] 예측 값 :  [[0.9966531]]\n"
          ]
        }
      ]
    },
    {
      "cell_type": "markdown",
      "metadata": {
        "id": "Oj4LN7oVLA_B"
      },
      "source": [
        ""
      ]
    },
    {
      "cell_type": "markdown",
      "metadata": {
        "id": "cb9fpI53MakO"
      },
      "source": [
        "### House Pricing "
      ]
    },
    {
      "cell_type": "code",
      "metadata": {
        "id": "JayVipD-MefE"
      },
      "source": [
        "\n",
        "import pandas as pd\n",
        "import tensorflow as tf\n",
        "import matplotlib.pyplot as plt\n",
        "\n",
        "## 데이터 읽어오기.\n",
        "df = pd.read_csv(\"house_price_of_unit_area.csv\")\n"
      ],
      "execution_count": 8,
      "outputs": []
    },
    {
      "cell_type": "code",
      "metadata": {
        "id": "D2rnu0KGO1rT",
        "outputId": "7138a0c9-5d7e-4844-f26b-6ffba98f16af",
        "colab": {
          "base_uri": "https://localhost:8080/",
          "height": 432
        }
      },
      "source": [
        "df.info()\n",
        "df.head()"
      ],
      "execution_count": 21,
      "outputs": [
        {
          "output_type": "stream",
          "name": "stdout",
          "text": [
            "<class 'pandas.core.frame.DataFrame'>\n",
            "RangeIndex: 414 entries, 0 to 413\n",
            "Data columns (total 6 columns):\n",
            " #   Column                               Non-Null Count  Dtype  \n",
            "---  ------                               --------------  -----  \n",
            " 0   house age                            414 non-null    float64\n",
            " 1   distance to the nearest MRT station  414 non-null    float64\n",
            " 2   number of convenience stores         414 non-null    int64  \n",
            " 3   latitude                             414 non-null    float64\n",
            " 4   longitude                            414 non-null    float64\n",
            " 5   house price of unit area             414 non-null    float64\n",
            "dtypes: float64(5), int64(1)\n",
            "memory usage: 19.5 KB\n"
          ]
        },
        {
          "output_type": "execute_result",
          "data": {
            "text/html": [
              "<div>\n",
              "<style scoped>\n",
              "    .dataframe tbody tr th:only-of-type {\n",
              "        vertical-align: middle;\n",
              "    }\n",
              "\n",
              "    .dataframe tbody tr th {\n",
              "        vertical-align: top;\n",
              "    }\n",
              "\n",
              "    .dataframe thead th {\n",
              "        text-align: right;\n",
              "    }\n",
              "</style>\n",
              "<table border=\"1\" class=\"dataframe\">\n",
              "  <thead>\n",
              "    <tr style=\"text-align: right;\">\n",
              "      <th></th>\n",
              "      <th>house age</th>\n",
              "      <th>distance to the nearest MRT station</th>\n",
              "      <th>number of convenience stores</th>\n",
              "      <th>latitude</th>\n",
              "      <th>longitude</th>\n",
              "      <th>house price of unit area</th>\n",
              "    </tr>\n",
              "  </thead>\n",
              "  <tbody>\n",
              "    <tr>\n",
              "      <th>0</th>\n",
              "      <td>32.0</td>\n",
              "      <td>84.87882</td>\n",
              "      <td>10</td>\n",
              "      <td>24.98298</td>\n",
              "      <td>121.54024</td>\n",
              "      <td>37.9</td>\n",
              "    </tr>\n",
              "    <tr>\n",
              "      <th>1</th>\n",
              "      <td>19.5</td>\n",
              "      <td>306.59470</td>\n",
              "      <td>9</td>\n",
              "      <td>24.98034</td>\n",
              "      <td>121.53951</td>\n",
              "      <td>42.2</td>\n",
              "    </tr>\n",
              "    <tr>\n",
              "      <th>2</th>\n",
              "      <td>13.3</td>\n",
              "      <td>561.98450</td>\n",
              "      <td>5</td>\n",
              "      <td>24.98746</td>\n",
              "      <td>121.54391</td>\n",
              "      <td>47.3</td>\n",
              "    </tr>\n",
              "    <tr>\n",
              "      <th>3</th>\n",
              "      <td>13.3</td>\n",
              "      <td>561.98450</td>\n",
              "      <td>5</td>\n",
              "      <td>24.98746</td>\n",
              "      <td>121.54391</td>\n",
              "      <td>54.8</td>\n",
              "    </tr>\n",
              "    <tr>\n",
              "      <th>4</th>\n",
              "      <td>5.0</td>\n",
              "      <td>390.56840</td>\n",
              "      <td>5</td>\n",
              "      <td>24.97937</td>\n",
              "      <td>121.54245</td>\n",
              "      <td>43.1</td>\n",
              "    </tr>\n",
              "  </tbody>\n",
              "</table>\n",
              "</div>"
            ],
            "text/plain": [
              "   house age  ...  house price of unit area\n",
              "0       32.0  ...                      37.9\n",
              "1       19.5  ...                      42.2\n",
              "2       13.3  ...                      47.3\n",
              "3       13.3  ...                      54.8\n",
              "4        5.0  ...                      43.1\n",
              "\n",
              "[5 rows x 6 columns]"
            ]
          },
          "metadata": {},
          "execution_count": 21
        }
      ]
    },
    {
      "cell_type": "code",
      "metadata": {
        "id": "mgpdfLG3N_sQ"
      },
      "source": [
        "\n",
        "\n",
        "## key말고 해당하는 value값만 추출해서 입력과 정갑 데이터 분류\n",
        "x_data = df.copy()\n",
        "tf.random.set_seed(777) # random seed를 고정해줘서 돌릴때마다 랜던값을 고정 \n",
        "\n",
        "#X = df.iloc[:, 0:5]\n",
        "#Y = df.iloc[:, 5:6]"
      ],
      "execution_count": 32,
      "outputs": []
    },
    {
      "cell_type": "code",
      "metadata": {
        "id": "G0t7a5atOtLG"
      },
      "source": [
        "y_data = x_data.pop(\"house price of unit area\")"
      ],
      "execution_count": 33,
      "outputs": []
    },
    {
      "cell_type": "code",
      "metadata": {
        "id": "JB0qpB7rOuX4",
        "outputId": "c40bcb5e-b835-428d-82bb-df47b12d3071",
        "colab": {
          "base_uri": "https://localhost:8080/"
        }
      },
      "source": [
        "print(y_data)"
      ],
      "execution_count": 34,
      "outputs": [
        {
          "output_type": "stream",
          "name": "stdout",
          "text": [
            "0      37.9\n",
            "1      42.2\n",
            "2      47.3\n",
            "3      54.8\n",
            "4      43.1\n",
            "       ... \n",
            "409    15.4\n",
            "410    50.0\n",
            "411    40.6\n",
            "412    52.5\n",
            "413    63.9\n",
            "Name: house price of unit area, Length: 414, dtype: float64\n"
          ]
        }
      ]
    },
    {
      "cell_type": "code",
      "metadata": {
        "id": "GRFIl0GWOw6g",
        "outputId": "a25e3f41-17f0-4457-c2d9-ef902f57760e",
        "colab": {
          "base_uri": "https://localhost:8080/"
        }
      },
      "source": [
        "print(x_data)"
      ],
      "execution_count": 35,
      "outputs": [
        {
          "output_type": "stream",
          "name": "stdout",
          "text": [
            "     house age  distance to the nearest MRT station  ...  latitude  longitude\n",
            "0         32.0                             84.87882  ...  24.98298  121.54024\n",
            "1         19.5                            306.59470  ...  24.98034  121.53951\n",
            "2         13.3                            561.98450  ...  24.98746  121.54391\n",
            "3         13.3                            561.98450  ...  24.98746  121.54391\n",
            "4          5.0                            390.56840  ...  24.97937  121.54245\n",
            "..         ...                                  ...  ...       ...        ...\n",
            "409       13.7                           4082.01500  ...  24.94155  121.50381\n",
            "410        5.6                             90.45606  ...  24.97433  121.54310\n",
            "411       18.8                            390.96960  ...  24.97923  121.53986\n",
            "412        8.1                            104.81010  ...  24.96674  121.54067\n",
            "413        6.5                             90.45606  ...  24.97433  121.54310\n",
            "\n",
            "[414 rows x 5 columns]\n"
          ]
        }
      ]
    },
    {
      "cell_type": "code",
      "metadata": {
        "id": "-WW0pBnFcXQG",
        "outputId": "7458ae20-702b-416c-82cc-aa92fdaaf951",
        "colab": {
          "base_uri": "https://localhost:8080/"
        }
      },
      "source": [
        "model = tf.keras.Sequential()\n",
        "model.add(tf.keras.layers.Dense(64, input_dim=5, activation='sigmoid'))\n",
        "model.add(tf.keras.layers.Dense(128, activation='sigmoid'))\n",
        "model.add(tf.keras.layers.Dense(256, activation='sigmoid'))\n",
        "model.add(tf.keras.layers.Dense(1))\n",
        "model.summary()"
      ],
      "execution_count": 36,
      "outputs": [
        {
          "output_type": "stream",
          "name": "stdout",
          "text": [
            "Model: \"sequential_1\"\n",
            "_________________________________________________________________\n",
            "Layer (type)                 Output Shape              Param #   \n",
            "=================================================================\n",
            "dense_1 (Dense)              (None, 64)                384       \n",
            "_________________________________________________________________\n",
            "dense_2 (Dense)              (None, 128)               8320      \n",
            "_________________________________________________________________\n",
            "dense_3 (Dense)              (None, 256)               33024     \n",
            "_________________________________________________________________\n",
            "dense_4 (Dense)              (None, 1)                 257       \n",
            "=================================================================\n",
            "Total params: 41,985\n",
            "Trainable params: 41,985\n",
            "Non-trainable params: 0\n",
            "_________________________________________________________________\n"
          ]
        }
      ]
    },
    {
      "cell_type": "code",
      "metadata": {
        "id": "WC-O6J3FcZQR"
      },
      "source": [
        "optimizer=tf.keras.optimizers.SGD(learning_rate=0.04) ### 경사 하강법으로 global min 에 찾아가는 최적화 방법 선언.\n",
        "loss=tf.keras.losses.mean_squared_error  ## 예측값 과 정답의 오차값 정의.\n",
        "metrics=tf.keras.metrics.RootMeanSquaredError() ### 학습하면서 평가할 메트릭스 선언언\n",
        "\n",
        "model.compile(loss =loss, optimizer= optimizer, metrics=[metrics])"
      ],
      "execution_count": 37,
      "outputs": []
    },
    {
      "cell_type": "code",
      "metadata": {
        "id": "iz-f-SFrcb5a",
        "outputId": "d220f8a4-9eb4-43d9-9fba-6ced29969daa",
        "colab": {
          "base_uri": "https://localhost:8080/"
        }
      },
      "source": [
        "result = model.fit(x_data, y_data, epochs=100, batch_size=100)"
      ],
      "execution_count": 38,
      "outputs": [
        {
          "output_type": "stream",
          "name": "stdout",
          "text": [
            "Epoch 1/100\n",
            "5/5 [==============================] - 0s 6ms/step - loss: 9846.7002 - root_mean_squared_error: 99.2305\n",
            "Epoch 2/100\n",
            "5/5 [==============================] - 0s 4ms/step - loss: 1352.0897 - root_mean_squared_error: 36.7708\n",
            "Epoch 3/100\n",
            "5/5 [==============================] - 0s 3ms/step - loss: 589.3423 - root_mean_squared_error: 24.2764\n",
            "Epoch 4/100\n",
            "5/5 [==============================] - 0s 4ms/step - loss: 235.6337 - root_mean_squared_error: 15.3504\n",
            "Epoch 5/100\n",
            "5/5 [==============================] - 0s 3ms/step - loss: 188.5344 - root_mean_squared_error: 13.7308\n",
            "Epoch 6/100\n",
            "5/5 [==============================] - 0s 4ms/step - loss: 185.0643 - root_mean_squared_error: 13.6038\n",
            "Epoch 7/100\n",
            "5/5 [==============================] - 0s 3ms/step - loss: 185.3429 - root_mean_squared_error: 13.6141\n",
            "Epoch 8/100\n",
            "5/5 [==============================] - 0s 3ms/step - loss: 184.9622 - root_mean_squared_error: 13.6001\n",
            "Epoch 9/100\n",
            "5/5 [==============================] - 0s 3ms/step - loss: 185.5671 - root_mean_squared_error: 13.6223\n",
            "Epoch 10/100\n",
            "5/5 [==============================] - 0s 3ms/step - loss: 185.0133 - root_mean_squared_error: 13.6020\n",
            "Epoch 11/100\n",
            "5/5 [==============================] - 0s 3ms/step - loss: 185.0117 - root_mean_squared_error: 13.6019\n",
            "Epoch 12/100\n",
            "5/5 [==============================] - 0s 4ms/step - loss: 185.5877 - root_mean_squared_error: 13.6231\n",
            "Epoch 13/100\n",
            "5/5 [==============================] - 0s 3ms/step - loss: 185.4807 - root_mean_squared_error: 13.6191\n",
            "Epoch 14/100\n",
            "5/5 [==============================] - 0s 3ms/step - loss: 184.9742 - root_mean_squared_error: 13.6005\n",
            "Epoch 15/100\n",
            "5/5 [==============================] - 0s 4ms/step - loss: 186.4734 - root_mean_squared_error: 13.6555\n",
            "Epoch 16/100\n",
            "5/5 [==============================] - 0s 4ms/step - loss: 185.1578 - root_mean_squared_error: 13.6073\n",
            "Epoch 17/100\n",
            "5/5 [==============================] - 0s 3ms/step - loss: 184.9590 - root_mean_squared_error: 13.6000\n",
            "Epoch 18/100\n",
            "5/5 [==============================] - 0s 4ms/step - loss: 184.8045 - root_mean_squared_error: 13.5943\n",
            "Epoch 19/100\n",
            "5/5 [==============================] - 0s 4ms/step - loss: 184.7495 - root_mean_squared_error: 13.5923\n",
            "Epoch 20/100\n",
            "5/5 [==============================] - 0s 3ms/step - loss: 185.1605 - root_mean_squared_error: 13.6074\n",
            "Epoch 21/100\n",
            "5/5 [==============================] - 0s 4ms/step - loss: 185.2221 - root_mean_squared_error: 13.6096\n",
            "Epoch 22/100\n",
            "5/5 [==============================] - 0s 3ms/step - loss: 185.2074 - root_mean_squared_error: 13.6091\n",
            "Epoch 23/100\n",
            "5/5 [==============================] - 0s 3ms/step - loss: 185.0447 - root_mean_squared_error: 13.6031\n",
            "Epoch 24/100\n",
            "5/5 [==============================] - 0s 3ms/step - loss: 185.0057 - root_mean_squared_error: 13.6017\n",
            "Epoch 25/100\n",
            "5/5 [==============================] - 0s 3ms/step - loss: 185.0132 - root_mean_squared_error: 13.6020\n",
            "Epoch 26/100\n",
            "5/5 [==============================] - 0s 3ms/step - loss: 185.0261 - root_mean_squared_error: 13.6024\n",
            "Epoch 27/100\n",
            "5/5 [==============================] - 0s 3ms/step - loss: 185.4688 - root_mean_squared_error: 13.6187\n",
            "Epoch 28/100\n",
            "5/5 [==============================] - 0s 3ms/step - loss: 185.4938 - root_mean_squared_error: 13.6196\n",
            "Epoch 29/100\n",
            "5/5 [==============================] - 0s 4ms/step - loss: 185.1184 - root_mean_squared_error: 13.6058\n",
            "Epoch 30/100\n",
            "5/5 [==============================] - 0s 4ms/step - loss: 185.5705 - root_mean_squared_error: 13.6224\n",
            "Epoch 31/100\n",
            "5/5 [==============================] - 0s 5ms/step - loss: 185.0292 - root_mean_squared_error: 13.6025\n",
            "Epoch 32/100\n",
            "5/5 [==============================] - 0s 4ms/step - loss: 184.9957 - root_mean_squared_error: 13.6013\n",
            "Epoch 33/100\n",
            "5/5 [==============================] - 0s 3ms/step - loss: 184.9790 - root_mean_squared_error: 13.6007\n",
            "Epoch 34/100\n",
            "5/5 [==============================] - 0s 4ms/step - loss: 184.8572 - root_mean_squared_error: 13.5962\n",
            "Epoch 35/100\n",
            "5/5 [==============================] - 0s 3ms/step - loss: 185.3242 - root_mean_squared_error: 13.6134\n",
            "Epoch 36/100\n",
            "5/5 [==============================] - 0s 4ms/step - loss: 185.6203 - root_mean_squared_error: 13.6243\n",
            "Epoch 37/100\n",
            "5/5 [==============================] - 0s 3ms/step - loss: 185.2234 - root_mean_squared_error: 13.6097\n",
            "Epoch 38/100\n",
            "5/5 [==============================] - 0s 4ms/step - loss: 185.0170 - root_mean_squared_error: 13.6021\n",
            "Epoch 39/100\n",
            "5/5 [==============================] - 0s 3ms/step - loss: 184.7924 - root_mean_squared_error: 13.5938\n",
            "Epoch 40/100\n",
            "5/5 [==============================] - 0s 3ms/step - loss: 185.2352 - root_mean_squared_error: 13.6101\n",
            "Epoch 41/100\n",
            "5/5 [==============================] - 0s 4ms/step - loss: 185.5443 - root_mean_squared_error: 13.6215\n",
            "Epoch 42/100\n",
            "5/5 [==============================] - 0s 4ms/step - loss: 185.3977 - root_mean_squared_error: 13.6161\n",
            "Epoch 43/100\n",
            "5/5 [==============================] - 0s 3ms/step - loss: 185.0553 - root_mean_squared_error: 13.6035\n",
            "Epoch 44/100\n",
            "5/5 [==============================] - 0s 3ms/step - loss: 186.3970 - root_mean_squared_error: 13.6527\n",
            "Epoch 45/100\n",
            "5/5 [==============================] - 0s 4ms/step - loss: 185.7981 - root_mean_squared_error: 13.6308\n",
            "Epoch 46/100\n",
            "5/5 [==============================] - 0s 3ms/step - loss: 185.3512 - root_mean_squared_error: 13.6144\n",
            "Epoch 47/100\n",
            "5/5 [==============================] - 0s 4ms/step - loss: 186.1522 - root_mean_squared_error: 13.6438\n",
            "Epoch 48/100\n",
            "5/5 [==============================] - 0s 4ms/step - loss: 185.1931 - root_mean_squared_error: 13.6086\n",
            "Epoch 49/100\n",
            "5/5 [==============================] - 0s 4ms/step - loss: 184.9967 - root_mean_squared_error: 13.6013\n",
            "Epoch 50/100\n",
            "5/5 [==============================] - 0s 3ms/step - loss: 185.8188 - root_mean_squared_error: 13.6315\n",
            "Epoch 51/100\n",
            "5/5 [==============================] - 0s 4ms/step - loss: 185.9841 - root_mean_squared_error: 13.6376\n",
            "Epoch 52/100\n",
            "5/5 [==============================] - 0s 4ms/step - loss: 185.5492 - root_mean_squared_error: 13.6216\n",
            "Epoch 53/100\n",
            "5/5 [==============================] - 0s 4ms/step - loss: 185.3157 - root_mean_squared_error: 13.6131\n",
            "Epoch 54/100\n",
            "5/5 [==============================] - 0s 4ms/step - loss: 186.1279 - root_mean_squared_error: 13.6429\n",
            "Epoch 55/100\n",
            "5/5 [==============================] - 0s 3ms/step - loss: 185.7554 - root_mean_squared_error: 13.6292\n",
            "Epoch 56/100\n",
            "5/5 [==============================] - 0s 5ms/step - loss: 185.1418 - root_mean_squared_error: 13.6067\n",
            "Epoch 57/100\n",
            "5/5 [==============================] - 0s 4ms/step - loss: 185.1812 - root_mean_squared_error: 13.6081\n",
            "Epoch 58/100\n",
            "5/5 [==============================] - 0s 4ms/step - loss: 185.7025 - root_mean_squared_error: 13.6273\n",
            "Epoch 59/100\n",
            "5/5 [==============================] - 0s 4ms/step - loss: 185.0615 - root_mean_squared_error: 13.6037\n",
            "Epoch 60/100\n",
            "5/5 [==============================] - 0s 4ms/step - loss: 185.0725 - root_mean_squared_error: 13.6041\n",
            "Epoch 61/100\n",
            "5/5 [==============================] - 0s 3ms/step - loss: 185.1091 - root_mean_squared_error: 13.6055\n",
            "Epoch 62/100\n",
            "5/5 [==============================] - 0s 4ms/step - loss: 186.8808 - root_mean_squared_error: 13.6704\n",
            "Epoch 63/100\n",
            "5/5 [==============================] - 0s 4ms/step - loss: 185.1687 - root_mean_squared_error: 13.6077\n",
            "Epoch 64/100\n",
            "5/5 [==============================] - 0s 3ms/step - loss: 185.1176 - root_mean_squared_error: 13.6058\n",
            "Epoch 65/100\n",
            "5/5 [==============================] - 0s 4ms/step - loss: 185.8063 - root_mean_squared_error: 13.6311\n",
            "Epoch 66/100\n",
            "5/5 [==============================] - 0s 4ms/step - loss: 184.7976 - root_mean_squared_error: 13.5940\n",
            "Epoch 67/100\n",
            "5/5 [==============================] - 0s 3ms/step - loss: 185.0018 - root_mean_squared_error: 13.6015\n",
            "Epoch 68/100\n",
            "5/5 [==============================] - 0s 4ms/step - loss: 184.7068 - root_mean_squared_error: 13.5907\n",
            "Epoch 69/100\n",
            "5/5 [==============================] - 0s 4ms/step - loss: 185.4571 - root_mean_squared_error: 13.6183\n",
            "Epoch 70/100\n",
            "5/5 [==============================] - 0s 4ms/step - loss: 187.4239 - root_mean_squared_error: 13.6903\n",
            "Epoch 71/100\n",
            "5/5 [==============================] - 0s 5ms/step - loss: 186.3425 - root_mean_squared_error: 13.6507\n",
            "Epoch 72/100\n",
            "5/5 [==============================] - 0s 3ms/step - loss: 184.9165 - root_mean_squared_error: 13.5984\n",
            "Epoch 73/100\n",
            "5/5 [==============================] - 0s 3ms/step - loss: 185.0791 - root_mean_squared_error: 13.6044\n",
            "Epoch 74/100\n",
            "5/5 [==============================] - 0s 3ms/step - loss: 186.2651 - root_mean_squared_error: 13.6479\n",
            "Epoch 75/100\n",
            "5/5 [==============================] - 0s 3ms/step - loss: 184.8073 - root_mean_squared_error: 13.5944\n",
            "Epoch 76/100\n",
            "5/5 [==============================] - 0s 4ms/step - loss: 185.1329 - root_mean_squared_error: 13.6064\n",
            "Epoch 77/100\n",
            "5/5 [==============================] - 0s 5ms/step - loss: 184.9461 - root_mean_squared_error: 13.5995\n",
            "Epoch 78/100\n",
            "5/5 [==============================] - 0s 3ms/step - loss: 185.6136 - root_mean_squared_error: 13.6240\n",
            "Epoch 79/100\n",
            "5/5 [==============================] - 0s 4ms/step - loss: 184.8908 - root_mean_squared_error: 13.5975\n",
            "Epoch 80/100\n",
            "5/5 [==============================] - 0s 5ms/step - loss: 185.1786 - root_mean_squared_error: 13.6080\n",
            "Epoch 81/100\n",
            "5/5 [==============================] - 0s 3ms/step - loss: 185.5705 - root_mean_squared_error: 13.6224\n",
            "Epoch 82/100\n",
            "5/5 [==============================] - 0s 5ms/step - loss: 186.7439 - root_mean_squared_error: 13.6654\n",
            "Epoch 83/100\n",
            "5/5 [==============================] - 0s 4ms/step - loss: 185.0580 - root_mean_squared_error: 13.6036\n",
            "Epoch 84/100\n",
            "5/5 [==============================] - 0s 3ms/step - loss: 187.9117 - root_mean_squared_error: 13.7081\n",
            "Epoch 85/100\n",
            "5/5 [==============================] - 0s 4ms/step - loss: 184.7947 - root_mean_squared_error: 13.5939\n",
            "Epoch 86/100\n",
            "5/5 [==============================] - 0s 3ms/step - loss: 184.7915 - root_mean_squared_error: 13.5938\n",
            "Epoch 87/100\n",
            "5/5 [==============================] - 0s 4ms/step - loss: 185.1758 - root_mean_squared_error: 13.6079\n",
            "Epoch 88/100\n",
            "5/5 [==============================] - 0s 4ms/step - loss: 185.0856 - root_mean_squared_error: 13.6046\n",
            "Epoch 89/100\n",
            "5/5 [==============================] - 0s 4ms/step - loss: 185.0052 - root_mean_squared_error: 13.6017\n",
            "Epoch 90/100\n",
            "5/5 [==============================] - 0s 4ms/step - loss: 185.3624 - root_mean_squared_error: 13.6148\n",
            "Epoch 91/100\n",
            "5/5 [==============================] - 0s 4ms/step - loss: 185.4625 - root_mean_squared_error: 13.6185\n",
            "Epoch 92/100\n",
            "5/5 [==============================] - 0s 3ms/step - loss: 185.1347 - root_mean_squared_error: 13.6064\n",
            "Epoch 93/100\n",
            "5/5 [==============================] - 0s 4ms/step - loss: 186.2423 - root_mean_squared_error: 13.6471\n",
            "Epoch 94/100\n",
            "5/5 [==============================] - 0s 3ms/step - loss: 184.9438 - root_mean_squared_error: 13.5994\n",
            "Epoch 95/100\n",
            "5/5 [==============================] - 0s 5ms/step - loss: 185.1351 - root_mean_squared_error: 13.6064\n",
            "Epoch 96/100\n",
            "5/5 [==============================] - 0s 3ms/step - loss: 184.9268 - root_mean_squared_error: 13.5988\n",
            "Epoch 97/100\n",
            "5/5 [==============================] - 0s 3ms/step - loss: 184.9476 - root_mean_squared_error: 13.5995\n",
            "Epoch 98/100\n",
            "5/5 [==============================] - 0s 3ms/step - loss: 185.0657 - root_mean_squared_error: 13.6039\n",
            "Epoch 99/100\n",
            "5/5 [==============================] - 0s 4ms/step - loss: 185.0753 - root_mean_squared_error: 13.6042\n",
            "Epoch 100/100\n",
            "5/5 [==============================] - 0s 3ms/step - loss: 185.5462 - root_mean_squared_error: 13.6215\n"
          ]
        }
      ]
    },
    {
      "cell_type": "code",
      "metadata": {
        "id": "GN9DFFU9ceLX",
        "outputId": "23309884-bc22-4e63-f5cd-9c41d86049f4",
        "colab": {
          "base_uri": "https://localhost:8080/"
        }
      },
      "source": [
        "print(result.history.keys())"
      ],
      "execution_count": 39,
      "outputs": [
        {
          "output_type": "stream",
          "name": "stdout",
          "text": [
            "dict_keys(['loss', 'root_mean_squared_error'])\n"
          ]
        }
      ]
    },
    {
      "cell_type": "code",
      "metadata": {
        "id": "m5oxdfHqcghL",
        "outputId": "d97804a9-2857-4391-8319-d85c1d096d52",
        "colab": {
          "base_uri": "https://localhost:8080/",
          "height": 313
        }
      },
      "source": [
        "loss = result.history['loss']\n",
        "\n",
        "# loss 그래프\n",
        "epochs = range(1, len(loss)+1)\n",
        "plt.subplot(211)\n",
        "plt.plot(epochs, loss, 'b-', label='Training loss')\n",
        "plt.title('Training loss')\n",
        "plt.xlabel('Epochs')\n",
        "plt.ylabel('Loss')\n",
        "plt.legend()\n",
        "\n",
        "mae = result.history['root_mean_squared_error']\n",
        "epochs = range(1, len(mae)+1)\n",
        "\n",
        "# mean absolute error 그래프화\n",
        "plt.subplot(212)\n",
        "plt.plot(epochs, mae, 'r-', label='Training mae')\n",
        "plt.title('Training rmse')\n",
        "plt.xlabel('Epochs')\n",
        "plt.ylabel('rmse')\n",
        "plt.legend()"
      ],
      "execution_count": 40,
      "outputs": [
        {
          "output_type": "execute_result",
          "data": {
            "text/plain": [
              "<matplotlib.legend.Legend at 0x7f0860e1fc90>"
            ]
          },
          "metadata": {},
          "execution_count": 40
        },
        {
          "output_type": "display_data",
          "data": {
            "image/png": "[encoded data removed]",
            "text/plain": [
              "<Figure size 432x288 with 2 Axes>"
            ]
          },
          "metadata": {
            "needs_background": "light"
          }
        }
      ]
    },
    {
      "cell_type": "code",
      "metadata": {
        "id": "LURHUgb0cjbF",
        "outputId": "e45e5b40-3e6c-4d2d-dbb8-b4f6168f38e5",
        "colab": {
          "base_uri": "https://localhost:8080/"
        }
      },
      "source": [
        "# x_data -> model -> predict값 - y_data값을 추출\n",
        "\n",
        "print(model.evaluate(x_data, y_data))\n",
        "print(\"\\n Test rmse : %.4f\" % (model.evaluate(x_data, y_data)[1]))"
      ],
      "execution_count": 41,
      "outputs": [
        {
          "output_type": "stream",
          "name": "stdout",
          "text": [
            "13/13 [==============================] - 0s 2ms/step - loss: 185.7198 - root_mean_squared_error: 13.6279\n",
            "[185.7197723388672, 13.627903938293457]\n",
            "13/13 [==============================] - 0s 1ms/step - loss: 185.7198 - root_mean_squared_error: 13.6279\n",
            "\n",
            " Test rmse : 13.6279\n"
          ]
        }
      ]
    },
    {
      "cell_type": "code",
      "metadata": {
        "id": "RKORrRvaclYX"
      },
      "source": [
        ""
      ],
      "execution_count": null,
      "outputs": []
    }
  ]
}