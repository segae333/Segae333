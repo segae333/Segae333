{
 "cells": [
  {
   "cell_type": "code",
   "execution_count": 7,
   "id": "4550b020",
   "metadata": {},
   "outputs": [
    {
     "name": "stdout",
     "output_type": "stream",
     "text": [
      "fibonacci(5) 를 구합니다.\n",
      "fibonacci(4) 를 구합니다.\n",
      "fibonacci(3) 를 구합니다.\n",
      "fibonacci(2) 를 구합니다.\n",
      "fibonacci(1) 를 구합니다.\n",
      "fibonacci(2) 를 구합니다.\n",
      "fibonacci(3) 를 구합니다.\n",
      "fibonacci(2) 를 구합니다.\n",
      "fibonacci(1) 를 구합니다.\n",
      "------\n",
      "fibonacci(5) 계산에 활용된 덧셈 횟수는 0 번 입니다.\n"
     ]
    }
   ],
   "source": [
    "# 함수를 선언합니다. \n",
    "counter = 0 \n",
    "def fibonacci(n) :\n",
    "    #어떤 피보나치 수를 구하는지 출력합니다.\n",
    "    print(\"fibonacci({}) 를 구합니다.\".format(n))\n",
    "    global counter\n",
    "    counter *=1\n",
    "    #피보나치 수를 구합니다.\n",
    "    if n == 1 :\n",
    "        return 1\n",
    "    if n == 2 :\n",
    "        return 1 \n",
    "    else :\n",
    "        return fibonacci(n - 1) + fibonacci(n - 2)\n",
    "    \n",
    "#함수를 호출합니다.\n",
    "fibonacci(5)\n",
    "print(\"------\")\n",
    "print(\"fibonacci(5) 계산에 활용된 덧셈 횟수는 {} 번 입니다.\".format(counter))"
   ]
  },
  {
   "cell_type": "code",
   "execution_count": 9,
   "id": "97987eb3",
   "metadata": {},
   "outputs": [
    {
     "name": "stdout",
     "output_type": "stream",
     "text": [
      "fibonacci(10) 1346269 57\n"
     ]
    }
   ],
   "source": [
    "# 메모 변수를 만듭니다.\n",
    "dictionary = { 1:1 , \n",
    "              2:2 , \n",
    "}\n",
    "\n",
    "count = 0\n",
    "# 함수를 선언합니다.\n",
    "def fibonacci(n) :\n",
    "    global count\n",
    "    count+=1\n",
    "    if n in dictionary :\n",
    "         # 메모 되어 있으면 메모된 값 리턴\n",
    "        return dictionary[n]\n",
    "    else :\n",
    "        # 메모 되어 있지 않으면 값을 구함\n",
    "        output = fibonacci(n -1) + fibonacci(n-2)\n",
    "        dictionary[n] = output\n",
    "        return output\n",
    "\n",
    "# 함수를 호출합니다.\n",
    "print(\"fibonacci(10)\", fibonacci(30), count)"
   ]
  },
  {
   "cell_type": "code",
   "execution_count": 10,
   "id": "77b62528",
   "metadata": {},
   "outputs": [
    {
     "name": "stdout",
     "output_type": "stream",
     "text": [
      "원본 :  [[1, 2, 3], [4, [5, 6]], 7, [8, 9]]\n",
      "변환 :  [1, 2, 3, 4, 5, 6, 7, 8, 9]\n"
     ]
    }
   ],
   "source": [
    "# 다음 빈칸을 재귀함수로 만들어 리스트를 평탄화하는 함수를 만들어 보세요. \n",
    "# 평탄화 함수\n",
    "# 중첩된 리스트가 있을 때 중첩 모두\n",
    "def flatten(data) : \n",
    "    # 최종 결과를 저장할 리스트 작성\n",
    "    output = []\n",
    "    # 리스트 각각의 item을 가져와서 작업\n",
    "    for item in data : \n",
    "        # 데이터의 타입이 lsit이면 flatten 함수 호출 \n",
    "        if type(item) == list :\n",
    "            output+=flatten(item)\n",
    "        else : \n",
    "            output.append(item)\n",
    "    return output\n",
    "\n",
    "    \n",
    "    \n",
    "    \n",
    "example = [[1, 2,3,] , [4,[5,6]], 7 , [8,9]]\n",
    "print(\"원본 : \", example)\n",
    "print(\"변환 : \", flatten(example))"
   ]
  },
  {
   "cell_type": "markdown",
   "id": "94fb879f",
   "metadata": {},
   "source": [
    " 튜플, 람마 파일 처리는 파이썬만의 특별한 구문. 특별히 공부하지 않으면 다른 프로그래밍언어와\n",
    "쓰임에 혼란이 올수도 있다.\n",
    "\n",
    "튜플 : 리스트와 유사한 자료형, 한번 결정된 요소는 바꿀수 없음\n"
   ]
  },
  {
   "cell_type": "code",
   "execution_count": 11,
   "id": "5c1d965d",
   "metadata": {},
   "outputs": [
    {
     "name": "stdout",
     "output_type": "stream",
     "text": [
      "before 10 20\n",
      "after 20 10\n"
     ]
    }
   ],
   "source": [
    "#튜플의 값 교환\n",
    "a , b = 10 ,20\n",
    "print(\"before\", a,b)\n",
    "a, b = b , a\n",
    "print(\"after\", a, b)"
   ]
  },
  {
   "cell_type": "code",
   "execution_count": 13,
   "id": "af1c70fb",
   "metadata": {},
   "outputs": [
    {
     "name": "stdout",
     "output_type": "stream",
     "text": [
      "두수 입력 : 20 3\n",
      "17\n"
     ]
    }
   ],
   "source": [
    "# 문 : 두 수를 입력받아 큰 수에서 작은수(num1 - num2)의 형식으로 작성하세요 \n",
    "def minus_func(num1 , num2) :\n",
    "    return num1 - num2\n",
    "\n",
    "def trans_func(num1, num2) :\n",
    "    if num1 < num2 :\n",
    "        return (num2, num1)\n",
    "    else : \n",
    "        return(num1, num2)\n",
    "    \n",
    "input_numbers = input(\"두수 입력 : \").split()\n",
    "(num1, num2) = trans_func(int(input_numbers[0]),int(input_numbers[1]))\n",
    "print(minus_func(num1,num2))"
   ]
  },
  {
   "cell_type": "markdown",
   "id": "c5764fbd",
   "metadata": {},
   "source": [
    "map(함수명, 리스트)\n",
    "filter(함수명, 리스트) : 함수에 조건식 \n",
    "lambda 매개변수 : 리턴값\n",
    "map(lambda x : x*x, 리스트)"
   ]
  },
  {
   "cell_type": "markdown",
   "id": "829ea920",
   "metadata": {},
   "source": [
    "file 함수를 활용한 데이터 저장 \n",
    "open, road or write, close\n",
    "open(파일명, 모드) : \n",
    "    모드 => w : 기존에 파일이 존재하면 기존 데이터 삭제후 새로 생성, 존재하지 않으면 새로 생성\n",
    "    모드 => a : 마지막에 추가후 새로 생성\n",
    "    모드 => r : 읽기만 가능.... 존재히지 않으면 error\n"
   ]
  },
  {
   "cell_type": "code",
   "execution_count": 27,
   "id": "1ff287a5",
   "metadata": {},
   "outputs": [
    {
     "name": "stdout",
     "output_type": "stream",
     "text": [
      "file read data :  Hello python programmingHello python programmingHello python programmingHello python programmingHello python programming\n"
     ]
    }
   ],
   "source": [
    "file = open(\"python.txt\",\"a\") # file open\n",
    "file.write(\"Hello python programming\") # file write\n",
    "file.close() # file close\n",
    "\n",
    "# file.write(\"test\") error 발생\n",
    "file = open(\"python.txt\", \"rw+\")\n",
    "contents = file.read()\n",
    "print(\"file read data : \", contents)\n",
    "file.close()"
   ]
  },
  {
   "cell_type": "markdown",
   "id": "5cd0ba54",
   "metadata": {},
   "source": [
    "제너레이터 \n",
    "이터레이터를 직접 만들때 사용하는 코드 \n",
    "함수 내부에 yield 키워드 사용하면 해당 함수는 제너레이터 함수 됨\n",
    "일반 함수와 달리 호출해도 함수 내부 코드가 실행되지 않음 "
   ]
  },
  {
   "cell_type": "code",
   "execution_count": 33,
   "id": "8adc0f8d",
   "metadata": {},
   "outputs": [
    {
     "name": "stdout",
     "output_type": "stream",
     "text": [
      "함수 호출111\n",
      "시작 00 : 1\n",
      "함수 호출111\n",
      "시작 11 : 1\n",
      "함수 호출111\n",
      "시작 22 : 1\n",
      "함수 호출111\n"
     ]
    },
    {
     "data": {
      "text/plain": [
       "1"
      ]
     },
     "execution_count": 33,
     "metadata": {},
     "output_type": "execute_result"
    }
   ],
   "source": [
    "# 제너레이터 함수 만들기 : yield 키워드를 넣으면 일반 함수가 제너레이터 함수가 됨\n",
    "def test() :\n",
    "    print(\"함수 호출111\")\n",
    "    yield 1\n",
    "    print(\"함수 호출222\")\n",
    "    yield 2\n",
    "    print(\"함수 호출333\")\n",
    "\n",
    "print(\"시작 00 :\", next(test()))\n",
    "print(\"시작 11 :\", next(test()))\n",
    "print(\"시작 22 :\", next(test()))\n",
    "next(test())\n",
    " # next() 함수를 사용해야 제너레이터 함수 호출 가능\n"
   ]
  },
  {
   "cell_type": "markdown",
   "id": "379db4d4",
   "metadata": {},
   "source": [
    "튜플 : 리스트와 비슷하지만, 요소를 수정할 수 없는 파이썬의 특별한 문법."
   ]
  },
  {
   "cell_type": "code",
   "execution_count": 35,
   "id": "d632503e",
   "metadata": {},
   "outputs": [
    {
     "name": "stdout",
     "output_type": "stream",
     "text": [
      "#홀수만 추출하기\n",
      "[1, 3, 5, 7, 9]\n",
      "\n",
      "# 3 이상, 7 미만 추출하기\n",
      "[3, 4, 5, 6]\n",
      "\n",
      "# 제곱해서 50 미만 추출하기\n",
      "[1, 2, 3, 4, 5, 6, 7]\n"
     ]
    }
   ],
   "source": [
    "numbers = list(range(1, 10+1))\n",
    "\n",
    "print(\"#홀수만 추출하기\")\n",
    "print(list(filter(lambda x: x%2 ,numbers)))\n",
    "print()\n",
    "\n",
    "print(\"# 3 이상, 7 미만 추출하기\")\n",
    "print(list(filter(lambda x: 3<=x<7,numbers)))\n",
    "print()\n",
    "\n",
    "print(\"# 제곱해서 50 미만 추출하기\")\n",
    "print(list(filter(lambda x: x*x <50,numbers)))"
   ]
  },
  {
   "cell_type": "markdown",
   "id": "3f8cd3ab",
   "metadata": {},
   "source": [
    "구문 오류, 예외(런타임 에러), 기본 예외처리, by except구문\n"
   ]
  },
  {
   "cell_type": "code",
   "execution_count": 40,
   "id": "aa8c4b71",
   "metadata": {},
   "outputs": [
    {
     "name": "stdout",
     "output_type": "stream",
     "text": [
      "정수 입력 > d\n",
      "정수를 입력하지 않음 \n"
     ]
    }
   ],
   "source": [
    "# 조건문으로 예외 처리하기 \n",
    "PI = 3.14\n",
    "input_number = input(\"정수 입력 > \")\n",
    "# 사용자의 입력이 숫자인지 \n",
    "if input_number.isdigit() :\n",
    "    input_number = int(input_number)\n",
    "    \n",
    "    print(\"원의 반지름 : \", input_number)\n",
    "    print(\"원의 둘레 : \",input_number*2*PI)\n",
    "    print(\"원의 넓이 : \", input_number*input_number*PI)\n",
    "else :\n",
    "    print(\"정수를 입력하지 않음 \")"
   ]
  },
  {
   "cell_type": "code",
   "execution_count": 41,
   "id": "b793c5f5",
   "metadata": {},
   "outputs": [
    {
     "name": "stdout",
     "output_type": "stream",
     "text": [
      "정수를 입력하지 않음 \n"
     ]
    }
   ],
   "source": [
    "# 예외처리 try : 실행할 구문 입력 except : 예외처리 구문 입력\n",
    "try : \n",
    "    input_number = int(input_number)\n",
    "    \n",
    "    print(\"원의 반지름 : \", input_number)\n",
    "    print(\"원의 둘레 : \",input_number*2*PI)\n",
    "    print(\"원의 넓이 : \", input_number*input_number*PI)\n",
    "except :\n",
    "    print(\"정수를 입력하지 않음 \")"
   ]
  },
  {
   "cell_type": "code",
   "execution_count": 47,
   "id": "ee652f4d",
   "metadata": {},
   "outputs": [
    {
     "name": "stdout",
     "output_type": "stream",
     "text": [
      "try end......\n"
     ]
    },
    {
     "data": {
      "text/plain": [
       "True"
      ]
     },
     "execution_count": 47,
     "metadata": {},
     "output_type": "execute_result"
    }
   ],
   "source": [
    "def write_func(filename, mode) : \n",
    "    try :\n",
    "        file = open(filename, 'r')\n",
    "        return file # return 이 중간에 존재\n",
    "        file.write(text) # 실행 안됨\n",
    "    except Exception as error: \n",
    "        print(\"file error\")\n",
    "    finally : # 중간에 return이 되어도 무조건 실행 \n",
    "        print(\"try end......\")\n",
    "        file.close()\n",
    "        \n",
    "write_func(\"file_close.txt\",\"Heloo file\")\n",
    "file.closed"
   ]
  },
  {
   "cell_type": "code",
   "execution_count": null,
   "id": "56a58071",
   "metadata": {},
   "outputs": [
    {
     "name": "stdout",
     "output_type": "stream",
     "text": [
      "파일명 입력 : test\n",
      "file open err [Errno 2] No such file or directory: 'test'\n",
      "파일명 입력 : test\n",
      "New File\n",
      "try break test\n",
      "파일명 입력 : test\n",
      "New File\n",
      "try break test\n"
     ]
    }
   ],
   "source": [
    "#키보드에서 파일명을 읿력받아 \"r \"모드로 열어서 파일의 내용을 화면에 출력 \n",
    "# 없으면 \"w\" 모드로 open 후에 \"New file\"을 파일에 저장 후 파일 close\n",
    "# try~ except ~ finally 활용 \n",
    "\n",
    "while True :\n",
    "    filename = input(\"파일명 입력 : \")\n",
    "    try :\n",
    "        file = open(filename, \"r\")\n",
    "        print(file.read())\n",
    "        #break\n",
    "        print(\"try break test\")\n",
    "    except Exception as err :\n",
    "        print(\"file open err\", err)\n",
    "        file = open(filename, \"w\")\n",
    "        file.write(\"New File\")\n",
    "    finally:  # 어떤 상황에도 무조건 실행\n",
    "        file.close()\n",
    "        \n",
    "print(\"file.closed : \", file.closed)"
   ]
  },
  {
   "cell_type": "code",
   "execution_count": null,
   "id": "1a198cab",
   "metadata": {},
   "outputs": [],
   "source": [
    "try : \n",
    "    except Exception as e :\n",
    "    except ValueError as e :\n",
    "    except indexError as e :\n",
    "        "
   ]
  },
  {
   "cell_type": "code",
   "execution_count": 6,
   "id": "8a17069a",
   "metadata": {},
   "outputs": [
    {
     "name": "stdout",
     "output_type": "stream",
     "text": [
      "정수입력 > 4\n",
      "4번째 요소 : 100\n",
      "index error :  [52, 273, 32, 72, 100]\n"
     ]
    }
   ],
   "source": [
    "# 변수를 선언 합니다.\n",
    "list_number = [52, 273, 32, 72, 100]\n",
    "\n",
    "# try Except 구문으로 예외를 처리합니다.\n",
    "try :\n",
    "    # 숫자를 입력 받습니다.\n",
    "    number_input = int(input(\"정수입력 > \"))\n",
    "    # 리스트의 요소를 출력합니다.\n",
    "    print(\"{}번째 요소 : {}\".format(number_input, list_number[number_input]))\n",
    "    print(\"index error : \", list_number)\n",
    "except ValueError as exception :\n",
    "    #ValueError 가 발생하는 경우\n",
    "    print(\"정수를 입력해 주세요.\")\n",
    "    print(type(exception), exception)\n",
    "except IndexError as exception :\n",
    "    print(\"리스트의 인덱스를 벗어났어요!\")\n",
    "    print(type(exception), exception)\n",
    "except Exception as exception :\n",
    "    print(\"미리 파악하지 못한 예외가 발생했습니다.\")\n",
    "    print(type(exception), exception)"
   ]
  },
  {
   "cell_type": "code",
   "execution_count": null,
   "id": "428ace0c",
   "metadata": {},
   "outputs": [],
   "source": [
    "number = 10\n",
    "\n",
    "if number > 0 :\n",
    "    raise NotImplementedError   "
   ]
  },
  {
   "cell_type": "code",
   "execution_count": 8,
   "id": "386121e1",
   "metadata": {},
   "outputs": [
    {
     "name": "stdout",
     "output_type": "stream",
     "text": [
      "파일명 입력 >Hey\n",
      "이름 입력 : 'end'입력되면 입력종료싱싱\n",
      "성적 입력 > 40\n",
      "이름 입력 : 'end'입력되면 입력종료안녕하세요\n",
      "성적 입력 > 70\n",
      "이름 입력 : 'end'입력되면 입력종료end\n",
      "find name >싱싱\n",
      "싱싱 : 70\n"
     ]
    }
   ],
   "source": [
    "#파일 open\n",
    "def file_open(file_name, file_mode) : \n",
    "    file = open(file_name, file_mode)\n",
    "    return file\n",
    "\n",
    "def file_write(file) : # 자료입력 (이름, 성적) 이름에 'end' 입력되면 종료\n",
    "    while True :\n",
    "        name = input(\"이름 입력 : 'end'입력되면 입력종료\")\n",
    "        if name == \"end\" :\n",
    "            break\n",
    "            \n",
    "        while True :\n",
    "            try :\n",
    "                score = int(input(\"성적 입력 > \"))\n",
    "                break\n",
    "            except :\n",
    "                print(\"솟자 입력\")\n",
    "        context = name + ',' + str(score) + '\\n'\n",
    "        file.write(context) # file에 자료 저장\n",
    "        \n",
    "file_name = input(\"파일명 입력 >\")\n",
    "file = file_open(file_name,\"a\") # 파일 오픈 함수 출력\n",
    "file_write(file) # 파일에 저장하는 함수 출력\n",
    "file.close() # 파일 close\n",
    "\n",
    "# 파일에서 자료를 가져와서 변수에 저장\n",
    "names, scores = [],[]\n",
    "with file_open(file_name,\"r\") as file :\n",
    "    for item in file :\n",
    "        values = item.split(',')\n",
    "        names.append(values[0])\n",
    "        scores.append(int(values[1]))\n",
    "        \n",
    "# 검색할 이름 입력\n",
    "name = input(\"find name >\")\n",
    "# 자료 검색 : 존재하면 출력, 없으면 \"Not Found\" 출력\n",
    "if name in names : \n",
    "    print(\"{} : {}\".format(name,scores[names.index(name)]))\n",
    "else:\n",
    "    print(\"Not Found\")\n",
    "\n",
    "# 전체 성적의 합과 평균, 인원수 출력 "
   ]
  },
  {
   "cell_type": "markdown",
   "id": "b5b31b62",
   "metadata": {},
   "source": [
    "함수의 활용 : 재귀함수 - 메모리\n",
    "    제너레이터 \n",
    "    map(함수명, 리스트)\n",
    "    filter(함수명, 리스트)\n",
    "    file 처리하는 함수 open, close, read, write\n",
    "    try : ~except: ~ else: ~finally\n",
    "\n",
    "\n",
    "python : 자료의 형태 - 문자, 숫자, 불리언(T,F)\n",
    "    list[], 딕셔너리{}\n",
    "    튜플()\n",
    " list[ 반복문 ] : 리스트 내포 \n",
    " \n",
    " 조건식 if ~ elif ~else \n",
    " \n",
    " 반복문 for( 변수 in 반복데이터)\n",
    " while \n",
    " break, continue \n",
    " "
   ]
  },
  {
   "cell_type": "code",
   "execution_count": null,
   "id": "73ad5866",
   "metadata": {},
   "outputs": [],
   "source": []
  }
 ],
 "metadata": {
  "kernelspec": {
   "display_name": "Python 3",
   "language": "python",
   "name": "python3"
  },
  "language_info": {
   "codemirror_mode": {
    "name": "ipython",
    "version": 3
   },
   "file_extension": ".py",
   "mimetype": "text/x-python",
   "name": "python",
   "nbconvert_exporter": "python",
   "pygments_lexer": "ipython3",
   "version": "3.8.8"
  }
 },
 "nbformat": 4,
 "nbformat_minor": 5
}
