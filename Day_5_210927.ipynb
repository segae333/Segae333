{
 "cells": [
  {
   "cell_type": "markdown",
   "metadata": {},
   "source": [
    "- 표준 모듈을 사용하면서 모듈 사용법을 익혀본다.\n",
    "- 모듈은 일반적으로 package라고 부른다. (ex: 라이브러리, 패키지)"
   ]
  },
  {
   "cell_type": "code",
   "execution_count": 3,
   "metadata": {},
   "outputs": [],
   "source": [
    "import math # import 모듈명"
   ]
  },
  {
   "cell_type": "code",
   "execution_count": 2,
   "metadata": {},
   "outputs": [
    {
     "data": {
      "text/plain": [
       "-0.5440211108893698"
      ]
     },
     "execution_count": 2,
     "metadata": {},
     "output_type": "execute_result"
    }
   ],
   "source": [
    "math.sin(10) # 모듈명.오브젝트"
   ]
  },
  {
   "cell_type": "code",
   "execution_count": 6,
   "metadata": {},
   "outputs": [
    {
     "data": {
      "text/plain": [
       "10"
      ]
     },
     "execution_count": 6,
     "metadata": {},
     "output_type": "execute_result"
    }
   ],
   "source": [
    "math.ceil(10.56)  # Shhift + tap 을 누르면 함수의 설명을 볼수 있다.\n",
    "math.floor(10.56) # 숫자보다 작은 정수중의 최대값(정수만 출력, 소수점 밑으로 버림)"
   ]
  },
  {
   "cell_type": "code",
   "execution_count": 7,
   "metadata": {},
   "outputs": [
    {
     "data": {
      "text/plain": [
       "-0.5440211108893698"
      ]
     },
     "execution_count": 7,
     "metadata": {},
     "output_type": "execute_result"
    }
   ],
   "source": [
    "from math import sin, trunc, floor \n",
    "# from 모듈명 import 가져오고자 하는 변수 또는 함수(전체 패키지 임포트 하고 싶지 않을때)\n",
    "# from math import * = import math \n",
    "sin(10)"
   ]
  },
  {
   "cell_type": "markdown",
   "metadata": {},
   "source": [
    "as 구문 : 모듈의 이름이 너무 길어 짧게 줄여 사용하고 싶은 경우\n",
    " - import 모듈 as 사용하고 싶은 식별자\n",
    "\n",
    "1. import 모듈명 \n",
    "2. import 모듈명 as 약어\n",
    "3. from 모둘명 import 변수 또는 함수, ..... "
   ]
  },
  {
   "cell_type": "code",
   "execution_count": 10,
   "metadata": {},
   "outputs": [
    {
     "name": "stdout",
     "output_type": "stream",
     "text": [
      "m.sin =  -0.5440211108893698\n",
      "m.cos =  -0.8390715290764524\n",
      "m.tan =  0.6483608274590866\n",
      "m.floor =  2\n"
     ]
    }
   ],
   "source": [
    "import math as m \n",
    "print(\"m.sin = \",m.sin(10))\n",
    "print(\"m.cos = \",m.cos(10))\n",
    "print(\"m.tan = \",m.tan(10))\n",
    "print(\"m.floor = \",m.floor(2.5))"
   ]
  },
  {
   "cell_type": "code",
   "execution_count": 26,
   "metadata": {},
   "outputs": [
    {
     "name": "stdout",
     "output_type": "stream",
     "text": [
      "# random 모듈\n",
      " - random() :  0.3576944176151703\n",
      " - uniform(10,20) :  18.313812504823122\n",
      " - randrange(10) :  2\n",
      " - choice ([1,2,3,4,5]) :  5\n",
      " - shuffle([1,2,3,4,5]) :  None\n",
      " - sample([1,2,3,4,5], k =2) :  [2, 3]\n"
     ]
    }
   ],
   "source": [
    "import random\n",
    "print(\"# random 모듈\")\n",
    "\n",
    "# random() : 0.0 <= x < 1.0 사이의 float를 리턴합니다.\n",
    "print(\" - random() : \", random.random())\n",
    "\n",
    "# uniform(min, max) : 지정한 법위 사이의 float를 리턴합니다.\n",
    "print(\" - uniform(10,20) : \", random.uniform(10,20))\n",
    "\n",
    "# randomrange() : 지정한 범위의 int를 리턴합니다.\n",
    "# - randrange(max) : 0부터 max 사이의 값을 리턴합니다.\n",
    "# - randrange(min, max) : min 부터 max 사이의 값을 리턴합니다.\n",
    "print(\" - randrange(10) : \", random.randrange(10))\n",
    "\n",
    "# choice(list) : 리스트 내부에 있는 요소를 랜던함게 선택합니다.\n",
    "print(\" - choice ([1,2,3,4,5]) : \", random.choice([1,2,3,4,5]))\n",
    "\n",
    "# shuffle(list)  :리스트의 요소들을 랜덤하게 섞습니다. \n",
    "print(\" - shuffle([1,2,3,4,5]) : \", random.shuffle([1,2,3,4,5]))\n",
    "\n",
    "# sample(list, k = 숫자) : 리스트의 요소 중에 k개를 뽑습니다.\n",
    "print(\" - sample([1,2,3,4,5], k =2) : \", random.sample([1,2,3,4,5] , k = 2))"
   ]
  },
  {
   "cell_type": "code",
   "execution_count": 27,
   "metadata": {},
   "outputs": [
    {
     "name": "stdout",
     "output_type": "stream",
     "text": [
      "['C:\\\\Users\\\\segaeshin\\\\Anaconda3\\\\lib\\\\site-packages\\\\ipykernel_launcher.py', '-f', 'C:\\\\Users\\\\segaeshin\\\\AppData\\\\Roaming\\\\jupyter\\\\runtime\\\\kernel-2070b325-487f-4a29-bb53-4e9aa821002a.json']\n",
      "_________\n"
     ]
    }
   ],
   "source": [
    "# sys 모듈\n",
    "# 모듈을 읽어 들입니다. \n",
    "import sys\n",
    "# 명령 매개변수를 출력합니다.\n",
    "print(sys.argv)\n",
    "print(\"_________\")"
   ]
  },
  {
   "cell_type": "code",
   "execution_count": 28,
   "metadata": {},
   "outputs": [
    {
     "name": "stdout",
     "output_type": "stream",
     "text": [
      "getwindowsversion:():  sys.getwindowsversion(major=10, minor=0, build=19043, platform=2, service_pack='')\n",
      "__\n",
      "copyright: Copyright (c) 2001-2019 Python Software Foundation.\n",
      "All Rights Reserved.\n",
      "\n",
      "Copyright (c) 2000 BeOpen.com.\n",
      "All Rights Reserved.\n",
      "\n",
      "Copyright (c) 1995-2001 Corporation for National Research Initiatives.\n",
      "All Rights Reserved.\n",
      "\n",
      "Copyright (c) 1991-1995 Stichting Mathematisch Centrum, Amsterdam.\n",
      "All Rights Reserved.\n",
      "_______\n",
      "version: 3.7.5 (default, Oct 31 2019, 15:18:51) [MSC v.1916 64 bit (AMD64)]\n"
     ]
    },
    {
     "ename": "SystemExit",
     "evalue": "",
     "output_type": "error",
     "traceback": [
      "An exception has occurred, use %tb to see the full traceback.\n",
      "\u001b[1;31mSystemExit\u001b[0m\n"
     ]
    },
    {
     "name": "stderr",
     "output_type": "stream",
     "text": [
      "C:\\Users\\segaeshin\\Anaconda3\\lib\\site-packages\\IPython\\core\\interactiveshell.py:3334: UserWarning: To exit: use 'exit', 'quit', or Ctrl-D.\n",
      "  warn(\"To exit: use 'exit', 'quit', or Ctrl-D.\", stacklevel=1)\n"
     ]
    }
   ],
   "source": [
    "# 컴퓨터 환경과 관련된 정보를 출력합니다.\n",
    "print(\"getwindowsversion:(): \",sys.getwindowsversion() )\n",
    "print(\"__\")\n",
    "print(\"copyright:\", sys.copyright)\n",
    "print(\"_______\")\n",
    "print(\"version:\", sys.version)\n",
    "\n",
    "# 프로그램을 강제로 종효합니다.\n",
    "sys.exit()"
   ]
  },
  {
   "cell_type": "code",
   "execution_count": 37,
   "metadata": {},
   "outputs": [
    {
     "name": "stdout",
     "output_type": "stream",
     "text": [
      "현재 운영체제: nt\n",
      "현재 폴더 :  C:\\Users\\segaeshin\\Segae333\n",
      "현재 폴더 내부의 요소 :  ['.git', '.ipynb_checkpoints', 'day-2.ipynb', 'day_3.ipynb', 'Day_5_210927.ipynb', 'new.txt', 'original.txt', 'Python Excercise.ipynb', 'Python_algori_excer.ipynb', 'README.md', 'Segae333', 'summary0917.docx']\n",
      ".git\n",
      ".ipynb_checkpoints\n",
      "day-2.ipynb\n",
      "day_3.ipynb\n",
      "Day_5_210927.ipynb\n",
      "new.txt\n",
      "original.txt\n",
      "Python Excercise.ipynb\n",
      "Python_algori_excer.ipynb\n",
      "README.md\n",
      "Segae333\n",
      "summary0917.docx\n"
     ]
    }
   ],
   "source": [
    "# os 모듈\n",
    "# 모듈을 읽어 들입니다.\n",
    "import os\n",
    "\n",
    "# 깁ㄴ 정보를 몇개 출력해 봅시다.\n",
    "print('현재 운영체제:', os.name)\n",
    "print(\"현재 폴더 : \", os.getcwd())\n",
    "print(\"현재 폴더 내부의 요소 : \", os.listdir())\n",
    "dir_list = os.listdir()\n",
    "for file_name in dir_list :\n",
    "    print(file_name)\n",
    "\n",
    "# 폴더를 만들고 제거합니다.[폴더가 비어있을때만 제거 가능]\n",
    "os.mkdir(\"Hello\")\n",
    "os.rmdir(\"Hello\")\n",
    "\n",
    "# 파일을 생성하고 + 파일 이름을 변경합니다.\n",
    "with open(\"original.txt\", \"w\") as file :\n",
    "    file.write(\"hello\")\n",
    "os.rename(\"original.txt\", \"new.txt\")\n",
    "\n",
    "# 파일을 제거합니다.\n",
    "os.remove(\"new.txt\")\n",
    "#os.unlink(\"new.txt\")\n"
   ]
  },
  {
   "cell_type": "code",
   "execution_count": 57,
   "metadata": {},
   "outputs": [
    {
     "name": "stdout",
     "output_type": "stream",
     "text": [
      "현재 시간 :  2021-09-27 11:04:14.321038\n",
      "2021년 9월 27일 11시 4분 14초\n",
      "2021년 9월 27일 11시 4분 14초\n",
      "out_now :  2021년 09월 27일 11시 04분 14초\n",
      "시간 정지 \n",
      "시간 정지 end\n"
     ]
    }
   ],
   "source": [
    "# datetime 모듈 : date , time 관련된 코드들\n",
    "import datetime\n",
    "import locale\n",
    "\n",
    "locale.setlocale(locale.LC_ALL,'')\n",
    "print(\"현재 시간 : \", datetime.datetime.now())\n",
    "\n",
    "now = datetime.datetime.now()  # now는 변수\n",
    "print(\"{}년 {}월 {}일 {}시 {}분 {}초\".format(now.year,now.month,\n",
    "                                       now.day, now.hour, now.minute,\n",
    "                                       now.second))\n",
    "\n",
    "out_now = now.strftime(\"%Y{} %m{} %d{} %H{} %M{} %S{}\".format(*\"년월일시분초\"))\n",
    "print(\"{}년 {}월 {}일 {}시 {}분 {}초\".format(now.year,now.month,\n",
    "                                       now.day, now.hour, now.minute,\n",
    "                                       now.second))\n",
    "print(\"out_now : \",out_now)\n",
    "\n",
    "import time\n",
    "print(\"시간 정지 \")\n",
    "time.sleep(5)\n",
    "print(\"시간 정지 end\")"
   ]
  },
  {
   "cell_type": "code",
   "execution_count": 59,
   "metadata": {},
   "outputs": [
    {
     "name": "stdout",
     "output_type": "stream",
     "text": [
      "os.listdir() :  ['.git', '.ipynb_checkpoints', 'day-2.ipynb', 'day_3.ipynb', 'Day_5_210927.ipynb', 'original.txt', 'Python Excercise.ipynb', 'Python_algori_excer.ipynb', 'README.md', 'Segae333', 'summary0917.docx']\n",
      "\n",
      "폴더 :  .git\n",
      "폴더 :  .ipynb_checkpoints\n",
      "파일 :  day-2.ipynb\n",
      "파일 :  day_3.ipynb\n",
      "파일 :  Day_5_210927.ipynb\n",
      "파일 :  original.txt\n",
      "파일 :  Python Excercise.ipynb\n",
      "파일 :  Python_algori_excer.ipynb\n",
      "파일 :  README.md\n",
      "폴더 :  Segae333\n",
      "파일 :  summary0917.docx\n"
     ]
    }
   ],
   "source": [
    "output = os.listdir(\"./\") # listdir(PATH) PATH : 경로 ./ 현재디렉토리\n",
    "print(\"os.listdir() : \", output)\n",
    "print()\n",
    "\n",
    "for path in output :\n",
    "    if os.path.isdir(path) : \n",
    "        print(\"폴더 : \", path)\n",
    "    else : \n",
    "        print(\"파일 : \", path)\n",
    "        "
   ]
  },
  {
   "cell_type": "code",
   "execution_count": 61,
   "metadata": {},
   "outputs": [
    {
     "name": "stdout",
     "output_type": "stream",
     "text": [
      "os.listdir() :  ['.git', '.ipynb_checkpoints', 'day-2.ipynb', 'day_3.ipynb', 'Day_5_210927.ipynb', 'original.txt', 'Python Excercise.ipynb', 'Python_algori_excer.ipynb', 'README.md', 'Segae333', 'summary0917.docx']\n",
      "\n",
      "폴더 :  .git\n",
      "폴더 :  .ipynb_checkpoints\n",
      "파일 :  day-2.ipynb\n",
      "파일 :  day_3.ipynb\n",
      "파일 :  Day_5_210927.ipynb\n",
      "파일 :  original.txt\n",
      "파일 :  Python Excercise.ipynb\n",
      "파일 :  Python_algori_excer.ipynb\n",
      "파일 :  README.md\n",
      "폴더 :  Segae333\n",
      "파일 :  summary0917.docx\n",
      "---------------------------------------------\n",
      "파일 :  COMMIT_EDITMSG\n",
      "파일 :  config\n",
      "파일 :  description\n",
      "파일 :  FETCH_HEAD\n",
      "파일 :  HEAD\n",
      "파일 :  hooks\n",
      "파일 :  index\n",
      "파일 :  info\n",
      "파일 :  logs\n",
      "파일 :  objects\n",
      "파일 :  ORIG_HEAD\n",
      "파일 :  packed-refs\n",
      "파일 :  refs\n",
      "파일 :  day-2-checkpoint.ipynb\n",
      "파일 :  day_3-checkpoint.ipynb\n",
      "파일 :  Day_5_210927-checkpoint.ipynb\n",
      "파일 :  Python Excercise-checkpoint.ipynb\n",
      "파일 :  Python_algori_excer-checkpoint.ipynb\n",
      "파일 :  day-2.ipynb\n",
      "파일 :  day_3.ipynb\n",
      "파일 :  Day_5_210927.ipynb\n",
      "파일 :  original.txt\n",
      "파일 :  Python Excercise.ipynb\n",
      "파일 :  Python_algori_excer.ipynb\n",
      "파일 :  README.md\n",
      "파일 :  COMMIT_EDITMSG\n",
      "파일 :  config\n",
      "파일 :  description\n",
      "파일 :  FETCH_HEAD\n",
      "파일 :  HEAD\n",
      "파일 :  hooks\n",
      "파일 :  index\n",
      "파일 :  info\n",
      "파일 :  logs\n",
      "파일 :  objects\n",
      "파일 :  ORIG_HEAD\n",
      "파일 :  packed-refs\n",
      "파일 :  refs\n",
      "파일 :  day-2-checkpoint.ipynb\n",
      "파일 :  day_3-checkpoint.ipynb\n",
      "파일 :  Day_5_210927-checkpoint.ipynb\n",
      "파일 :  Python Excercise-checkpoint.ipynb\n",
      "파일 :  Python_algori_excer-checkpoint.ipynb\n",
      "파일 :  chap01-3.ipynb\n",
      "파일 :  output.ipynb\n",
      "파일 :  README.md\n",
      "파일 :  summary0915.docx\n",
      "파일 :  summary0916.docx\n",
      "파일 :  summary0917.docx\n",
      "파일 :  summary0923.docx\n",
      "파일 :  일지.docx\n",
      "파일 :  summary0917.docx\n"
     ]
    }
   ],
   "source": [
    "# 330page 문3\n",
    "output = os.listdir(\"./\") # listdir(PATH) PATH : 경로 ./ 현재디렉토리\n",
    "print(\"os.listdir() : \", output)\n",
    "print()\n",
    "\n",
    "for path in output :\n",
    "    if os.path.isdir(path) : \n",
    "        print(\"폴더 : \", path)\n",
    "    else : \n",
    "        print(\"파일 : \", path)\n",
    "\n",
    "print(\"---------------------------------------------\")\n",
    "def read_folder(path) : \n",
    "    output = os.listdir(path)\n",
    "    for item in output :\n",
    "        if os.path.isdir(item) : \n",
    "            read_folder(item)\n",
    "        else : \n",
    "            print(\"파일 : \", item)\n",
    "            \n",
    "read_folder(\".\")"
   ]
  },
  {
   "cell_type": "code",
   "execution_count": 7,
   "metadata": {},
   "outputs": [
    {
     "name": "stdout",
     "output_type": "stream",
     "text": [
      "<!DOCTYPE html>\n",
      "<html itemscope=\"\" itemtype=\"http://schema.org/WebPage\" lang=\"ko\"><head><meta content=\"text/html; charset=utf-8\" http-equiv=\"Content-Type\"/><meta content=\"/logos/doodles/2021/googles-23rd-birthday-6753651837109087-law.gif\" itemprop=\"image\"/><meta content=\"Google 설립 23주년\" property=\"twitter:title\"/><meta content=\"Google 설립 23주년 #Google기념일로고\" property=\"twitter:description\"/><meta content=\"Google 설립 23주년 #Google기념일로고\" property=\"og:description\"/><meta content=\"summary_large_image\" property=\"twitter:card\"/><meta content=\"@GoogleDoodles\" property=\"twitter:site\"/><meta content=\"https://www.google.com/logos/doodles/2021/googles-23rd-birthday-6753651837109087-2xa.gif\" property=\"twitter:image\"/><meta content=\"https://www.google.com/logos/doodles/2021/googles-23rd-birthday-6753651837109087-2xa.gif\" property=\"og:image\"/><meta content=\"735\" property=\"og:image:width\"/><meta content=\"440\" property=\"og:image:height\"/><meta content=\"https://www.google.com/logos/doodles/2021/googles-23rd-birthday-6753651837109087-2xa.gif\" property=\"og:url\"/><meta content=\"video.other\" property=\"og:type\"/><title>Google</title><script nonce=\"ICJHnaPXGmSPCSw50ybwJw==\">(function(){window.google={kEI:'qTBRYZGkHoai-QbxqLXYBA',kEXPI:'0,1302536,56873,6059,206,1699,3105,925,1391,383,246,5,1354,5250,1122516,1197769,632,328866,51224,16114,19397,9287,17572,4859,1361,9290,3025,17584,4020,978,13228,3847,4192,6430,14762,4286,2774,919,5081,1593,1279,2212,239,291,149,1103,840,6297,3514,606,2023,2297,1704,12966,3227,2845,7,4808,7546,5096,7540,4084,4696,908,2,940,2615,3424,360,9358,3,346,230,6460,148,13975,4,1528,2302,1238,5803,4683,2015,13611,4764,2658,872,5829,656,30,3877,7535,4521,638,1494,16786,5830,2527,992,3102,3138,6,908,3,3541,1,14710,1814,283,38,874,5996,14656,2068,1715,2,3035,10987,1931,3909,409,1271,743,5853,2050,2930,2,4344,1137,1160,1269,5431,2378,2720,4546,3,147,5326,4635,3622,2,6,138,2,7596,1933,2635,2578,372,2760,549,2069,1919,3,583,793,1265,52,33,182,631,2303,665,2,534,930,926,1373,1259,1023,1245,2,291,314,23,5,85,118,198,451,242,1960,902,1037,230,4,54,100,157,540,1030,2,2644,236,825,2,6,756,40,41,374,46,43,1121,503,52,2,143,1408,229,486,8,140,322,731,369,1,301,506,277,197,243,110,14,1986,2040,355,274,292,37,2,1,3,301,15,2,349,11,338,326,59,2,213,43,364,371,251,4,408,1253,1312,6,20,5568406,446,73,87,45,109,23,10,1802542,4193979,2800697,882,444,1,2,80,1,1796,1,9,2553,1,748,141,795,563,1,4265,1,1,2,1331,4142,2609,155,17,13,72,139,4,2,20,2,169,13,19,46,5,39,96,548,29,2,2,1,2,1,2,2,7,4,1,2,2,2,2,2,2,353,513,186,1,1,158,3,2,2,2,2,2,4,2,3,3,269,461,2,45,3,40,15,4,2,6,24,28,10,33,3,4,4,7,4,35,1,2,5,2,1,41,1,1,1,1,13,23953924,2772894,1268457,276,62,3,2414,448,2,1041,9,3239,1538,881,855,852',kBL:'lszj'};google.sn='webhp';google.kHL='ko';})();(function(){\n",
      "var f=this||self;var h,k=[];function l(a){for(var b;a&&(!a.getAttribute||!(b=a.getAttribute(\"eid\")));)a=a.parentNode;return b||h}function m(a){for(var b=null;a&&(!a.getAttribute||!(b=a.getAttribute(\"leid\")));)a=a.parentNode;return b}\n",
      "function n(a,b,c,d,g){var e=\"\";c||-1!==b.search(\"&ei=\")||(e=\"&ei=\"+l(d),-1===b.search(\"&lei=\")&&(d=m(d))&&(e+=\"&lei=\"+d));d=\"\";!c&&f._cshid&&-1===b.search(\"&cshid=\")&&\"slh\"!==a&&(d=\"&cshid=\"+f._cshid);c=c||\"/\"+(g||\"gen_204\")+\"?atyp=i&ct=\"+a+\"&cad=\"+b+e+\"&zx=\"+Date.now()+d;/^http:/i.test(c)&&\"https:\"===window.location.protocol&&(google.ml&&google.ml(Error(\"a\"),!1,{src:c,glmm:1}),c=\"\");return c};h=google.kEI;google.getEI=l;google.getLEI=m;google.ml=function(){return null};google.log=function(a,b,c,d,g){if(c=n(a,b,c,d,g)){a=new Image;var e=k.length;k[e]=a;a.onerror=a.onload=a.onabort=function(){delete k[e]};a.src=c}};google.logUrl=n;}).call(this);(function(){\n",
      "google.y={};google.sy=[];google.x=function(a,b){if(a)var c=a.id;else{do c=Math.random();while(google.y[c])}google.y[c]=[a,b];return!1};google.sx=function(a){google.sy.push(a)};google.lm=[];google.plm=function(a){google.lm.push.apply(google.lm,a)};google.lq=[];google.load=function(a,b,c){google.lq.push([[a],b,c])};google.loadAll=function(a,b){google.lq.push([a,b])};google.bx=!1;google.lx=function(){};}).call(this);google.f={};(function(){\n",
      "document.documentElement.addEventListener(\"submit\",function(b){var a;if(a=b.target){var c=a.getAttribute(\"data-submitfalse\");a=\"1\"===c||\"q\"===c&&!a.elements.q.value?!0:!1}else a=!1;a&&(b.preventDefault(),b.stopPropagation())},!0);document.documentElement.addEventListener(\"click\",function(b){var a;a:{for(a=b.target;a&&a!==document.documentElement;a=a.parentElement)if(\"A\"===a.tagName){a=\"1\"===a.getAttribute(\"data-nohref\");break a}a=!1}a&&b.preventDefault()},!0);}).call(this);</script><style>#gbar,#guser{font-size:13px;padding-top:1px !important;}#gbar{height:22px}#guser{padding-bottom:7px !important;text-align:right}.gbh,.gbd{border-top:1px solid #c9d7f1;font-size:1px}.gbh{height:0;position:absolute;top:24px;width:100%}@media all{.gb1{height:22px;margin-right:.5em;vertical-align:top}#gbar{float:left}}a.gb1,a.gb4{text-decoration:underline !important}a.gb1,a.gb4{color:#00c !important}.gbi .gb4{color:#dd8e27 !important}.gbf .gb4{color:#900 !important}\n",
      "</style><style>body,td,a,p,.h{font-family:&#44404;&#47548;,&#46027;&#50880;,arial,sans-serif}.ko{font-size:9pt}body{margin:0;overflow-y:scroll}#gog{padding:3px 8px 0}td{line-height:.8em}.gac_m td{line-height:17px}form{margin-bottom:20px}.h{color:#1558d6}em{font-weight:bold;font-style:normal}.lst{height:25px;width:496px}.gsfi,.lst{font:18px arial,sans-serif}.gsfs{font:17px arial,sans-serif}.ds{display:inline-box;display:inline-block;margin:3px 0 4px;margin-left:4px}input{font-family:inherit}body{background:#fff;color:#000}a{color:#4b11a8;text-decoration:none}a:hover,a:active{text-decoration:underline}.fl a{color:#1558d6}a:visited{color:#4b11a8}.sblc{padding-top:5px}.sblc a{display:block;margin:2px 0;margin-left:13px;font-size:11px}.lsbb{background:#f8f9fa;border:solid 1px;border-color:#dadce0 #70757a #70757a #dadce0;height:30px}.lsbb{display:block}#WqQANb a{display:inline-block;margin:0 12px}.lsb{background:url(/images/nav_logo229.png) 0 -261px repeat-x;border:none;color:#000;cursor:pointer;height:30px;margin:0;outline:0;font:15px arial,sans-serif;vertical-align:top}.lsb:active{background:#dadce0}.lst:focus{outline:none}.tiah{width:458px}</style><script nonce=\"ICJHnaPXGmSPCSw50ybwJw==\">(function(){window.google.erd={sp:'hp',jsr:0,bv:46};\n",
      "var f=this||self;var g,h,k=null!==(g=f.mei)&&void 0!==g?g:1,l=null!==(h=f.sdo)&&void 0!==h?h:!0,n=0,p,q=google.erd,t=q.jsr;google.ml=function(a,b,e,m,d){d=void 0===d?2:d;b&&(p=a&&a.message);if(google.dl)return google.dl(a,d,e),null;if(0>t){window.console&&console.error(a,e);if(-2===t)throw a;b=!1}else b=!a||!a.message||\"Error loading script\"===a.message||n>=k&&!m?!1:!0;if(!b)return null;n++;e=e||{};b=encodeURIComponent;var c=\"/gen_204?atyp=i&ei=\"+b(google.kEI);google.kEXPI&&(c+=\"&jexpid=\"+b(google.kEXPI));c+=\"&srcpg=\"+b(q.sp)+\"&jsr=\"+b(q.jsr)+\"&bver=\"+b(q.bv)+(\"&jsel=\"+d);c+=\"&sn=\"+b(google.sn);for(var r in e)c+=\"&\",c+=b(r),c+=\"=\",c+=b(e[r]);c=c+\"&emsg=\"+b(a.name+\": \"+a.message);c=c+\"&jsst=\"+b(a.stack||\"N/A\");12288<=c.length&&(c=c.substr(0,12288));a=c;m||google.log(0,\"\",a);return a};window.onerror=function(a,b,e,m,d){p!==a&&google.ml(d instanceof Error?d:Error(a),!1,void 0,!1,google.dl?0:2);p=null;l&&n>=k&&(window.onerror=null)};})();</script></head><body bgcolor=\"#fff\"><script nonce=\"ICJHnaPXGmSPCSw50ybwJw==\">(function(){var src='/images/nav_logo229.png';var iesg=false;document.body.onload = function(){window.n && window.n();if (document.images){new Image().src=src;}\n",
      "if (!iesg){document.f&&document.f.q.focus();document.gbqf&&document.gbqf.q.focus();}\n",
      "}\n",
      "})();</script><div id=\"mngb\"><div id=\"gbar\"><nobr><b class=\"gb1\">검색</b> <a class=\"gb1\" href=\"http://www.google.co.kr/imghp?hl=ko&amp;tab=wi\">이미지</a> <a class=\"gb1\" href=\"http://maps.google.co.kr/maps?hl=ko&amp;tab=wl\">지도</a> <a class=\"gb1\" href=\"https://play.google.com/?hl=ko&amp;tab=w8\">Play</a> <a class=\"gb1\" href=\"http://www.youtube.com/?gl=KR&amp;tab=w1\">YouTube</a> <a class=\"gb1\" href=\"https://news.google.com/?tab=wn\">뉴스</a> <a class=\"gb1\" href=\"https://mail.google.com/mail/?tab=wm\">Gmail</a> <a class=\"gb1\" href=\"https://drive.google.com/?tab=wo\">드라이브</a> <a class=\"gb1\" href=\"https://www.google.co.kr/intl/ko/about/products?tab=wh\" style=\"text-decoration:none\"><u>더보기</u> »</a></nobr></div><div id=\"guser\" width=\"100%\"><nobr><span class=\"gbi\" id=\"gbn\"></span><span class=\"gbf\" id=\"gbf\"></span><span id=\"gbe\"></span><a class=\"gb4\" href=\"http://www.google.co.kr/history/optout?hl=ko\">웹 기록</a> | <a class=\"gb4\" href=\"/preferences?hl=ko\">설정</a> | <a class=\"gb4\" href=\"https://accounts.google.com/ServiceLogin?hl=ko&amp;passive=true&amp;continue=http://www.google.com/&amp;ec=GAZAAQ\" id=\"gb_70\" target=\"_top\">로그인</a></nobr></div><div class=\"gbh\" style=\"left:0\"></div><div class=\"gbh\" style=\"right:0\"></div></div><center><br clear=\"all\" id=\"lgpd\"/><div id=\"lga\"><a href=\"/search?ie=UTF-8&amp;q=Google+&amp;oi=ddle&amp;ct=174788361&amp;hl=ko&amp;si=AHuW2sTKkcygiABA_QY_APML0LA-zLeY72p7cWUnG9AtyAalP7HHY3dFtSWBqk8puNCUm6BnkheVtoD5vs0xVFaZgHy4zOVkJ0E9Wa5_cYARMoqWTiHqoWQ%3D&amp;sa=X&amp;ved=0ahUKEwjRnJnmkZ7zAhUGUd4KHXFUDUsQPQgD\"><img alt=\"Google 설립 23주년\" border=\"0\" height=\"210\" id=\"hplogo\" src=\"/logos/doodles/2021/googles-23rd-birthday-6753651837109087-law.gif\" title=\"Google 설립 23주년\" width=\"369\"/><br/></a><br/></div><form action=\"/search\" name=\"f\"><table cellpadding=\"0\" cellspacing=\"0\"><tr valign=\"top\"><td width=\"25%\"> </td><td align=\"center\" nowrap=\"\"><input name=\"ie\" type=\"hidden\" value=\"ISO-8859-1\"/><input name=\"hl\" type=\"hidden\" value=\"ko\"/><input name=\"source\" type=\"hidden\" value=\"hp\"/><input name=\"biw\" type=\"hidden\"/><input name=\"bih\" type=\"hidden\"/><div class=\"ds\" style=\"height:32px;margin:4px 0\"><div style=\"position:relative;zoom:1\"><input autocomplete=\"off\" class=\"lst tiah\" maxlength=\"2048\" name=\"q\" size=\"57\" style=\"margin:0;padding:5px 8px 0 6px;vertical-align:top;color:#000;padding-right:38px\" title=\"Google 검색\" value=\"\"/><img alt=\"\" data-script-url=\"/textinputassistant/11/ko_tia.js\" height=\"23\" id=\"tsuid1\" src=\"/textinputassistant/tia.png\" style=\"position:absolute;cursor:pointer;right:5px;top:4px;z-index:300\" width=\"27\"/><script nonce=\"ICJHnaPXGmSPCSw50ybwJw==\">(function(){var id='tsuid1';document.getElementById(id).onclick = function(){var s = document.createElement('script');s.src = this.getAttribute('data-script-url');(document.getElementById('xjsc')||document.body).appendChild(s);};})();</script></div></div><br style=\"line-height:0\"/><span class=\"ds\"><span class=\"lsbb\"><input class=\"lsb\" name=\"btnG\" type=\"submit\" value=\"Google 검색\"/></span></span><span class=\"ds\"><span class=\"lsbb\"><input class=\"lsb\" id=\"tsuid2\" name=\"btnI\" type=\"submit\" value=\"I’m Feeling Lucky\"/><script nonce=\"ICJHnaPXGmSPCSw50ybwJw==\">(function(){var id='tsuid2';document.getElementById(id).onclick = function(){if (this.form.q.value){this.checked = 1;if (this.form.iflsig)this.form.iflsig.disabled = false;}\n",
      "else top.location='/doodles/';};})();</script><input name=\"iflsig\" type=\"hidden\" value=\"ALs-wAMAAAAAYVE-uV8jq3DbL-deedVTQpSuNpHSTMov\"/></span></span></td><td align=\"left\" class=\"fl sblc\" nowrap=\"\" width=\"25%\"><a href=\"/advanced_search?hl=ko&amp;authuser=0\">고급검색</a></td></tr></table><input id=\"gbv\" name=\"gbv\" type=\"hidden\" value=\"1\"/><script nonce=\"ICJHnaPXGmSPCSw50ybwJw==\">(function(){\n",
      "var a,b=\"1\";if(document&&document.getElementById)if(\"undefined\"!=typeof XMLHttpRequest)b=\"2\";else if(\"undefined\"!=typeof ActiveXObject){var c,d,e=[\"MSXML2.XMLHTTP.6.0\",\"MSXML2.XMLHTTP.3.0\",\"MSXML2.XMLHTTP\",\"Microsoft.XMLHTTP\"];for(c=0;d=e[c++];)try{new ActiveXObject(d),b=\"2\"}catch(h){}}a=b;if(\"2\"==a&&-1==location.search.indexOf(\"&gbv=2\")){var f=google.gbvu,g=document.getElementById(\"gbv\");g&&(g.value=a);f&&window.setTimeout(function(){location.href=f},0)};}).call(this);</script></form><div id=\"gac_scont\"></div><div style=\"font-size:83%;min-height:3.5em\"><br/></div><span id=\"footer\"><div style=\"font-size:10pt\"><div id=\"WqQANb\" style=\"margin:19px auto;text-align:center\"><a href=\"/intl/ko/ads/\">광고 프로그램</a><a href=\"http://www.google.co.kr/intl/ko/services/\">비즈니스 솔루션</a><a href=\"/intl/ko/about.html\">Google 정보</a><a href=\"http://www.google.com/setprefdomain?prefdom=KR&amp;prev=http://www.google.co.kr/&amp;sig=K_micNbxHUd6v7KOsHKQVgriO6O8w%3D\">Google.co.kr</a></div></div><p style=\"font-size:8pt;color:#70757a\">© 2021 - <a href=\"/intl/ko/policies/privacy/\">개인정보처리방침</a> - <a href=\"/intl/ko/policies/terms/\">약관</a></p></span></center><script nonce=\"ICJHnaPXGmSPCSw50ybwJw==\">(function(){window.google.cdo={height:757,width:1440};(function(){\n",
      "var a=window.innerWidth,b=window.innerHeight;if(!a||!b){var c=window.document,d=\"CSS1Compat\"==c.compatMode?c.documentElement:c.body;a=d.clientWidth;b=d.clientHeight}a&&b&&(a!=google.cdo.width||b!=google.cdo.height)&&google.log(\"\",\"\",\"/client_204?&atyp=i&biw=\"+a+\"&bih=\"+b+\"&ei=\"+google.kEI);}).call(this);})();</script> <script nonce=\"ICJHnaPXGmSPCSw50ybwJw==\">(function(){google.xjs={ck:'',cs:'',excm:[]};})();</script> <script nonce=\"ICJHnaPXGmSPCSw50ybwJw==\">(function(){var u='/xjs/_/js/k\\x3dxjs.hp.en.3-3KfVctVSg.O/am\\x3dAPgEWA/d\\x3d1/ed\\x3d1/rs\\x3dACT90oFYtpgGNdnD55sATsmsQTnqOWDvYw/m\\x3dsb_he,d';\n",
      "var e=this||self,f=function(a){return a};var g;var l=function(a,b){this.g=b===h?a:\"\"};l.prototype.toString=function(){return this.g+\"\"};var h={};\n",
      "function m(){var a=u;google.lx=function(){n(a);google.lx=function(){}};google.bx||google.lx()}\n",
      "function n(a){google.timers&&google.timers.load&&google.tick&&google.tick(\"load\",\"xjsls\");var b=document;var c=\"SCRIPT\";\"application/xhtml+xml\"===b.contentType&&(c=c.toLowerCase());c=b.createElement(c);if(void 0===g){b=null;var k=e.trustedTypes;if(k&&k.createPolicy){try{b=k.createPolicy(\"goog#html\",{createHTML:f,createScript:f,createScriptURL:f})}catch(p){e.console&&e.console.error(p.message)}g=b}else g=b}a=(b=g)?b.createScriptURL(a):a;a=new l(a,h);c.src=a instanceof l&&a.constructor===l?a.g:\"type_error:TrustedResourceUrl\";var d;a=(c.ownerDocument&&c.ownerDocument.defaultView||window).document;(d=(b=null===(d=a.querySelector)||void 0===d?void 0:d.call(a,\"script[nonce]\"))?b.nonce||b.getAttribute(\"nonce\")||\"\":\"\")&&c.setAttribute(\"nonce\",d);document.body.appendChild(c);google.psa=!0};setTimeout(function(){m()},0);})();(function(){window.google.xjsu='/xjs/_/js/k\\x3dxjs.hp.en.3-3KfVctVSg.O/am\\x3dAPgEWA/d\\x3d1/ed\\x3d1/rs\\x3dACT90oFYtpgGNdnD55sATsmsQTnqOWDvYw/m\\x3dsb_he,d';})();function _DumpException(e){throw e;}\n",
      "function _F_installCss(c){}\n",
      "(function(){google.jl={attn:false,blt:'none',chnk:0,dw:false,dwu:true,emtn:0,end:0,ine:false,lls:'default',pdt:0,rep:0,snet:true,strt:0,ubm:false,uwp:true};})();(function(){var pmc='{\\x22d\\x22:{},\\x22sb_he\\x22:{\\x22agen\\x22:true,\\x22cgen\\x22:true,\\x22client\\x22:\\x22heirloom-hp\\x22,\\x22dh\\x22:true,\\x22dhqt\\x22:true,\\x22ds\\x22:\\x22\\x22,\\x22ffql\\x22:\\x22ko\\x22,\\x22fl\\x22:true,\\x22host\\x22:\\x22google.com\\x22,\\x22isbh\\x22:28,\\x22jsonp\\x22:true,\\x22msgs\\x22:{\\x22cibl\\x22:\\x22&#44160;&#49353;&#50612; &#51648;&#50864;&#44592;\\x22,\\x22dym\\x22:\\x22&#51060;&#44163;&#51012; &#52286;&#51004;&#49512;&#45208;&#50836;?\\x22,\\x22lcky\\x22:\\x22I&#8217;m Feeling Lucky\\x22,\\x22lml\\x22:\\x22&#51088;&#49464;&#55176; &#50508;&#50500;&#48372;&#44592;\\x22,\\x22oskt\\x22:\\x22&#51077;&#47141; &#46020;&#44396;\\x22,\\x22psrc\\x22:\\x22&#44160;&#49353;&#50612;&#44032; \\\\u003Ca href\\x3d\\\\\\x22/history\\\\\\x22\\\\u003E&#50937; &#44592;&#47197;\\\\u003C/a\\\\u003E&#50640;&#49436; &#49325;&#51228;&#46104;&#50632;&#49845;&#45768;&#45796;.\\x22,\\x22psrl\\x22:\\x22&#49325;&#51228;\\x22,\\x22sbit\\x22:\\x22&#51060;&#48120;&#51648;&#47196; &#44160;&#49353;\\x22,\\x22srch\\x22:\\x22Google &#44160;&#49353;\\x22},\\x22ovr\\x22:{},\\x22pq\\x22:\\x22\\x22,\\x22refpd\\x22:true,\\x22refspre\\x22:true,\\x22rfs\\x22:[],\\x22sbas\\x22:\\x220 3px 8px 0 rgba(0,0,0,0.2),0 0 0 1px rgba(0,0,0,0.08)\\x22,\\x22sbpl\\x22:16,\\x22sbpr\\x22:16,\\x22scd\\x22:10,\\x22stok\\x22:\\x22fhFeEyjz_w6pvRBNQmSGZF3xtls\\x22,\\x22uhde\\x22:false}}';google.pmc=JSON.parse(pmc);})();</script> </body></html>\n"
     ]
    },
    {
     "data": {
      "text/plain": [
       "<meta content=\"text/html; charset=utf-8\" http-equiv=\"Content-Type\"/>"
      ]
     },
     "execution_count": 7,
     "metadata": {},
     "output_type": "execute_result"
    }
   ],
   "source": [
    "#pip install beautifulsoup4 \n",
    "# 외부 모듈 설치 cmd 창에서 pip install 패키지명(모듈명)\n",
    "from bs4 import BeautifulSoup\n",
    "from urllib import request\n",
    "\n",
    "target = request.urlopen(\"http://google.com\")\n",
    "\n",
    "output = target.read()\n",
    "\n",
    "soup = BeautifulSoup(output)\n",
    "print(soup)\n",
    "soup.find('meta')"
   ]
  },
  {
   "cell_type": "code",
   "execution_count": 16,
   "metadata": {},
   "outputs": [
    {
     "data": {
      "text/plain": [
       "[<div class=\"test\" custom=\"good\" id=\"upper\">\n",
       " <h3 title=\"Good Content Title\">Contents Title</h3>\n",
       " <p>Test contents</p>\n",
       " </div>, <div class_=\"test\" custom=\"nice\" id=\"lower\">\n",
       " <p>Test Test Test 1</p>\n",
       " <p>Test Test Test 2</p>\n",
       " <p>Test Test Test 3</p>\n",
       " </div>]"
      ]
     },
     "execution_count": 16,
     "metadata": {},
     "output_type": "execute_result"
    }
   ],
   "source": [
    "html = html = '''\n",
    "<html>\n",
    "  <head>\n",
    "    <title>BeautifulSoup test</title>\n",
    "  </head>\n",
    "  <body>\n",
    "    <div id='upper' class='test' custom='good'>\n",
    "      <h3 title='Good Content Title'>Contents Title</h3>\n",
    "      <p>Test contents</p>\n",
    "    </div>\n",
    "    <div id='lower' class_='test' custom='nice'>\n",
    "      <p>Test Test Test 1</p>\n",
    "      <p>Test Test Test 2</p>\n",
    "      <p>Test Test Test 3</p>\n",
    "    </div>\n",
    "  </body>\n",
    "</html>'''\n",
    "\n",
    "soup = BeautifulSoup(html) # <html ~ </html> tag 형식으로 변경\n",
    "#print(soup)\n",
    "#print(html)\n",
    "soup.find_all('p')\n",
    "soup.find('h3') # 처음나오는 h3 tag 검색\n",
    "soup.find('div', class_='test')\n",
    "\n",
    "soup.select(\"div\")"
   ]
  },
  {
   "cell_type": "code",
   "execution_count": 17,
   "metadata": {},
   "outputs": [
    {
     "name": "stdout",
     "output_type": "stream",
     "text": [
      "<p>Test contents</p>\n",
      "<p>Test Test Test 1</p>\n",
      "<p>Test Test Test 2</p>\n",
      "<p>Test Test Test 3</p>\n"
     ]
    }
   ],
   "source": [
    "for item in soup.select(\"div\") :\n",
    "    for value in item.select('p') :\n",
    "        print(value)"
   ]
  },
  {
   "cell_type": "code",
   "execution_count": 33,
   "metadata": {},
   "outputs": [
    {
     "name": "stdout",
     "output_type": "stream",
     "text": [
      "\n",
      "뼈 건강에 좋은 '칼슘'은 모든 연령대의 필수 영양소지만, 특히 완경기(폐경기)를 앞두고 있거나 이미 겪고 있는 중년 여성들에게 좋다. 갱년기 증상이 있는 중년 남성에게도 도움이 된다. 40대에 들어서면 부지런히 칼슘 식품을 먹어둬야 뼈를 보호할 수 있다. 칼슘은 보충제 형태로 먹으면 과다 섭취 등 부작용 우려가 있기 때문에 '자연 그대로'의 음식이 더 좋고 안전하다. 어떤 음식들에 칼슘이 많을까? \n",
      "◆ 중년 여성들이 '골감소증' 위험 매우 높은 이유는? \n",
      "보건복지부의 '2020년 한국인 영양소 섭취기준'을 보면 50세 이상 여성의 경우 '골감소증' 유병률이 매우 높은 것으로 나타났다. 골감소증은 골다공증의 전 단계다. 완경(폐경)과 함께 생기는 다른 갱년기 증상과는 달리 별다른 자각 증상이 없어 치료시기를 놓치는 경우가 많다. 골감소증이 있으면 작은 충격으로도 뼈가 부러질 수 있다. 척추 압박골절의 경우 척추후만증 같은 합병증이 생길 수 있다. 고관절 골절, 손목 골절 등은 사망률도 높고 장애로 이어질 수도 있다. 뼈 건강을 돕는 칼슘 섭취가 평소 부족한 게 주요 원인이다. \n",
      "◆ '뼈 건강' 위해 '칼슘' 보충이 중요한 까닭은? \n",
      "질병관리청 자료를 보면 골감소증, 골다공증 예방을 위해서는 평상 시 적당량의 칼슘을 보충하는 것이 좋다. 50세 미만 성인은 하루 1000mg, 50세 이상은 하루 1200mg의 칼슘 섭취를 권장한다. 그러나 건강보조식품 및 대체요법은 모든 사람에게 효과적인 것은 아니므로 주의해야 한다. 우리 주변에 흔한 '천연 음식' 중에 칼슘이 많이 든 것을 집중적으로 먹는 게 좋다. 카페인은 칼슘 배설을 촉진시키므로 지나치게 섭취하지 않도록 한다. 커피는 하루에 2잔 이내로 마시는 게 좋다. \n",
      "◆ 뜻밖에 채소에 많은 칼슘... 달래, 시레기, 근대, 귤, 시금치 등 \n",
      "칼슘이 많이 든 식품을 보면 흔히 알고 있는 생선뼈 뿐 아니라 뜻밖에 채소들이 눈에 띈다. 오히려 생선보다 많이 든 채소도 있다. 잔멸치 2큰술에 90mg, 뱅어포 1장에 158mg의 칼슘이 들어 있지만 달래 1/3컵에는 224mg이나 함유돼 있다. 시레기(무우청) 158mg, 근대 156mg, 귤 1개 145mg, 시금치 1/3컵에 130mg의 칼슘이 포함돼 있다. 우유 1컵에는 224mg, 요플레 1개에 156mg, 두부 1/5모에 145mg 들어 있다. \n",
      "◆ \"비타민 D 보충에도 신경 쓰세요\" \n",
      "뼈 건강에는 비타민 D도 영향을 미친다. 장에서 칼슘의 흡수를 늘리고 뼈에 무기질이 들러붙는 데 중요한 역할을 한다. 비타민 D가 결핍되면 뼈가 약해지는 골연화증이 발생한다. 하루 20~30분 정도 햇빛을 쬐면 비타민 D 생성에 좋다. 대구 간유, 연어, 고등어, 정어리, 뱀장어 등 생선에도 많이 들어 있다. 최근 자외선 차단제 등의 영향으로 비타민 D 부족에 시달리는 여성들이 많다. 비타민 K는 골 손실과 칼슘 배설량을 감소시켜 골밀도에 좋은 영향을 준다. 비타민 K 함량이 높은 식품은 녹황색 채소, 간, 곡류, 과일 등이다. \n",
      "◆ 운동이 뼈 건강에도 좋은 이유 \n",
      "젊었을 때 운동을 열심히 하면 이미 유전적으로 결정된 '최대 골량'을 확보할 수 있다. 중년 이상의 경우 운동으로 더 이상 골량을 늘릴 수는 없지만 줄어드는 것은 막을 수 있다. 특히 근력운동을 하면 하체를 튼튼하게 해주고 균형감을 높여 낙상의 위험을 줄일 수 있다. 걷기 등 유산소 운동을 하면서 스쿼트, 까치발 운동 등 하체 근력 운동을 하는 게 좋다. 운동은 하루에 30-60분 이상, 1주일에 3-5일 해야 효과를 볼 수 있다.\n",
      "김용 기자 (ecok@kormedi.com)\n"
     ]
    }
   ],
   "source": [
    "url = \"https://news.v.daum.net/v/20210927103132686\"\n",
    "# 제목을 출력\n",
    "target = request.urlopen(url)\n",
    "\n",
    "output = target.read()\n",
    "\n",
    "soup = BeautifulSoup(output)\n",
    "soup.find('h3').text\n",
    "\n",
    "for item in soup.select(\"section\") :\n",
    "    for value in item.select('p') :\n",
    "        print(value.text)\n",
    "\n"
   ]
  },
  {
   "cell_type": "code",
   "execution_count": null,
   "metadata": {},
   "outputs": [],
   "source": [
    "# request : url로부터 자료를 가져 옴. \n",
    "# BeautifulSoup : tag 형식으로 자료변환 \n",
    "# 변환된자료.selecet(), find, find_all, select_one -> site 의 정보 확인 \n",
    "# 네이버 영화 순위 출력\n",
    "# 순위 영화명 평점 출력 다음과 같은 형식으로 \n",
    "# 1 포드 V 페라리 : 9.55\n"
   ]
  },
  {
   "cell_type": "code",
   "execution_count": 13,
   "metadata": {},
   "outputs": [],
   "source": [
    "from urllib import request\n",
    "from bs4 import BeautifulSoup\n",
    "\n",
    "url = \"https://movie.naver.com/movie/sdb/rank/rmovie.naver?sel=pnt&date=20210926\"\n",
    "\n",
    "# url로 부터 자료를 tag 형식으로 가져옴\n",
    "soup = BeautifulSoup(request.urlopen(url))\n",
    "\n"
   ]
  },
  {
   "cell_type": "code",
   "execution_count": 16,
   "metadata": {},
   "outputs": [
    {
     "name": "stdout",
     "output_type": "stream",
     "text": [
      "\n",
      "밥정\n",
      " <div class=\"tit5\">\n",
      "<a href=\"/movie/bi/mi/basic.naver?code=186114\" title=\"밥정\">밥정</a>\n",
      "</div>\n",
      "\n",
      "그린 북\n",
      " <div class=\"tit5\">\n",
      "<a href=\"/movie/bi/mi/basic.naver?code=171539\" title=\"그린 북\">그린 북</a>\n",
      "</div>\n",
      "\n",
      "가버나움\n",
      " <div class=\"tit5\">\n",
      "<a href=\"/movie/bi/mi/basic.naver?code=174830\" title=\"가버나움\">가버나움</a>\n",
      "</div>\n",
      "\n",
      "디지몬 어드벤처 라스트 에볼루션 : 인연\n",
      " <div class=\"tit5\">\n",
      "<a href=\"/movie/bi/mi/basic.naver?code=192613\" title=\"디지몬 어드벤처 라스트 에볼루션 : 인연\">디지몬 어드벤처 라스트 에볼루션 : 인연</a>\n",
      "</div>\n",
      "\n",
      "원더\n",
      " <div class=\"tit5\">\n",
      "<a href=\"/movie/bi/mi/basic.naver?code=151196\" title=\"원더\">원더</a>\n",
      "</div>\n",
      "\n",
      "베일리 어게인\n",
      " <div class=\"tit5\">\n",
      "<a href=\"/movie/bi/mi/basic.naver?code=144906\" title=\"베일리 어게인\">베일리 어게인</a>\n",
      "</div>\n",
      "\n",
      "그대, 고맙소 : 김호중 생애 첫 팬미팅 무비\n",
      " <div class=\"tit5\">\n",
      "<a href=\"/movie/bi/mi/basic.naver?code=196828\" title=\"그대, 고맙소 : 김호중 생애 첫 팬미팅 무비\">그대, 고맙소 : 김호중 생애 첫 팬미팅 무비</a>\n",
      "</div>\n",
      "\n",
      "아일라\n",
      " <div class=\"tit5\">\n",
      "<a href=\"/movie/bi/mi/basic.naver?code=169240\" title=\"아일라\">아일라</a>\n",
      "</div>\n",
      "\n",
      "먼 훗날 우리\n",
      " <div class=\"tit5\">\n",
      "<a href=\"/movie/bi/mi/basic.naver?code=175092\" title=\"먼 훗날 우리\">먼 훗날 우리</a>\n",
      "</div>\n",
      "\n",
      "당갈\n",
      " <div class=\"tit5\">\n",
      "<a href=\"/movie/bi/mi/basic.naver?code=157243\" title=\"당갈\">당갈</a>\n",
      "</div>\n",
      "\n",
      "극장판 바이올렛 에버가든\n",
      " <div class=\"tit5\">\n",
      "<a href=\"/movie/bi/mi/basic.naver?code=196843\" title=\"극장판 바이올렛 에버가든\">극장판 바이올렛 에버가든</a>\n",
      "</div>\n",
      "\n",
      "포드 V 페라리\n",
      " <div class=\"tit5\">\n",
      "<a href=\"/movie/bi/mi/basic.naver?code=181710\" title=\"포드 V 페라리\">포드 V 페라리</a>\n",
      "</div>\n",
      "\n",
      "주전장\n",
      " <div class=\"tit5\">\n",
      "<a href=\"/movie/bi/mi/basic.naver?code=179518\" title=\"주전장\">주전장</a>\n",
      "</div>\n",
      "\n",
      "쇼생크 탈출\n",
      " <div class=\"tit5\">\n",
      "<a href=\"/movie/bi/mi/basic.naver?code=17421\" title=\"쇼생크 탈출\">쇼생크 탈출</a>\n",
      "</div>\n",
      "\n",
      "터미네이터 2:오리지널\n",
      " <div class=\"tit5\">\n",
      "<a href=\"/movie/bi/mi/basic.naver?code=10200\" title=\"터미네이터 2:오리지널\">터미네이터 2:오리지널</a>\n",
      "</div>\n",
      "\n",
      "나 홀로 집에\n",
      " <div class=\"tit5\">\n",
      "<a href=\"/movie/bi/mi/basic.naver?code=10016\" title=\"나 홀로 집에\">나 홀로 집에</a>\n",
      "</div>\n",
      "\n",
      "라이언 일병 구하기\n",
      " <div class=\"tit5\">\n",
      "<a href=\"/movie/bi/mi/basic.naver?code=18988\" title=\"라이언 일병 구하기\">라이언 일병 구하기</a>\n",
      "</div>\n",
      "\n",
      "덕구\n",
      " <div class=\"tit5\">\n",
      "<a href=\"/movie/bi/mi/basic.naver?code=154667\" title=\"덕구\">덕구</a>\n",
      "</div>\n",
      "\n",
      "클래식\n",
      " <div class=\"tit5\">\n",
      "<a href=\"/movie/bi/mi/basic.naver?code=35939\" title=\"클래식\">클래식</a>\n",
      "</div>\n",
      "\n",
      "월-E\n",
      " <div class=\"tit5\">\n",
      "<a href=\"/movie/bi/mi/basic.naver?code=69105\" title=\"월-E\">월-E</a>\n",
      "</div>\n",
      "\n",
      "잭 스나이더의 저스티스 리그\n",
      " <div class=\"tit5\">\n",
      "<a href=\"/movie/bi/mi/basic.naver?code=203288\" title=\"잭 스나이더의 저스티스 리그\">잭 스나이더의 저스티스 리그</a>\n",
      "</div>\n",
      "\n",
      "보헤미안 랩소디\n",
      " <div class=\"tit5\">\n",
      "<a href=\"/movie/bi/mi/basic.naver?code=156464\" title=\"보헤미안 랩소디\">보헤미안 랩소디</a>\n",
      "</div>\n",
      "\n",
      "사운드 오브 뮤직\n",
      " <div class=\"tit5\">\n",
      "<a href=\"/movie/bi/mi/basic.naver?code=10102\" title=\"사운드 오브 뮤직\">사운드 오브 뮤직</a>\n",
      "</div>\n",
      "\n",
      "빽 투 더 퓨쳐\n",
      " <div class=\"tit5\">\n",
      "<a href=\"/movie/bi/mi/basic.naver?code=10002\" title=\"빽 투 더 퓨쳐\">빽 투 더 퓨쳐</a>\n",
      "</div>\n",
      "\n",
      "포레스트 검프\n",
      " <div class=\"tit5\">\n",
      "<a href=\"/movie/bi/mi/basic.naver?code=17159\" title=\"포레스트 검프\">포레스트 검프</a>\n",
      "</div>\n",
      "\n",
      "위대한 쇼맨\n",
      " <div class=\"tit5\">\n",
      "<a href=\"/movie/bi/mi/basic.naver?code=106360\" title=\"위대한 쇼맨\">위대한 쇼맨</a>\n",
      "</div>\n",
      "\n",
      "글래디에이터\n",
      " <div class=\"tit5\">\n",
      "<a href=\"/movie/bi/mi/basic.naver?code=29217\" title=\"글래디에이터\">글래디에이터</a>\n",
      "</div>\n",
      "\n",
      "타이타닉\n",
      " <div class=\"tit5\">\n",
      "<a href=\"/movie/bi/mi/basic.naver?code=18847\" title=\"타이타닉\">타이타닉</a>\n",
      "</div>\n",
      "\n",
      "헬프\n",
      " <div class=\"tit5\">\n",
      "<a href=\"/movie/bi/mi/basic.naver?code=82432\" title=\"헬프\">헬프</a>\n",
      "</div>\n",
      "\n",
      "인생은 아름다워\n",
      " <div class=\"tit5\">\n",
      "<a href=\"/movie/bi/mi/basic.naver?code=22126\" title=\"인생은 아름다워\">인생은 아름다워</a>\n",
      "</div>\n",
      "\n",
      "매트릭스\n",
      " <div class=\"tit5\">\n",
      "<a href=\"/movie/bi/mi/basic.naver?code=24452\" title=\"매트릭스\">매트릭스</a>\n",
      "</div>\n",
      "\n",
      "살인의 추억\n",
      " <div class=\"tit5\">\n",
      "<a href=\"/movie/bi/mi/basic.naver?code=35901\" title=\"살인의 추억\">살인의 추억</a>\n",
      "</div>\n",
      "\n",
      "센과 치히로의 행방불명\n",
      " <div class=\"tit5\">\n",
      "<a href=\"/movie/bi/mi/basic.naver?code=32686\" title=\"센과 치히로의 행방불명\">센과 치히로의 행방불명</a>\n",
      "</div>\n",
      "\n",
      "가나의 혼인잔치: 언약\n",
      " <div class=\"tit5\">\n",
      "<a href=\"/movie/bi/mi/basic.naver?code=197647\" title=\"가나의 혼인잔치: 언약\">가나의 혼인잔치: 언약</a>\n",
      "</div>\n",
      "\n",
      "토이 스토리 3\n",
      " <div class=\"tit5\">\n",
      "<a href=\"/movie/bi/mi/basic.naver?code=66463\" title=\"토이 스토리 3\">토이 스토리 3</a>\n",
      "</div>\n",
      "\n",
      "헌터 킬러\n",
      " <div class=\"tit5\">\n",
      "<a href=\"/movie/bi/mi/basic.naver?code=92125\" title=\"헌터 킬러\">헌터 킬러</a>\n",
      "</div>\n",
      "\n",
      "캐스트 어웨이\n",
      " <div class=\"tit5\">\n",
      "<a href=\"/movie/bi/mi/basic.naver?code=31162\" title=\"캐스트 어웨이\">캐스트 어웨이</a>\n",
      "</div>\n",
      "\n",
      "집으로...\n",
      " <div class=\"tit5\">\n",
      "<a href=\"/movie/bi/mi/basic.naver?code=34324\" title=\"집으로...\">집으로...</a>\n",
      "</div>\n",
      "\n",
      "반지의 제왕: 왕의 귀환\n",
      " <div class=\"tit5\">\n",
      "<a href=\"/movie/bi/mi/basic.naver?code=31796\" title=\"반지의 제왕: 왕의 귀환\">반지의 제왕: 왕의 귀환</a>\n",
      "</div>\n",
      "\n",
      "죽은 시인의 사회\n",
      " <div class=\"tit5\">\n",
      "<a href=\"/movie/bi/mi/basic.naver?code=10048\" title=\"죽은 시인의 사회\">죽은 시인의 사회</a>\n",
      "</div>\n",
      "\n",
      "히든 피겨스\n",
      " <div class=\"tit5\">\n",
      "<a href=\"/movie/bi/mi/basic.naver?code=147092\" title=\"히든 피겨스\">히든 피겨스</a>\n",
      "</div>\n",
      "\n",
      "알라딘\n",
      " <div class=\"tit5\">\n",
      "<a href=\"/movie/bi/mi/basic.naver?code=163788\" title=\"알라딘\">알라딘</a>\n",
      "</div>\n",
      "\n",
      "어벤져스: 엔드게임\n",
      " <div class=\"tit5\">\n",
      "<a href=\"/movie/bi/mi/basic.naver?code=136900\" title=\"어벤져스: 엔드게임\">어벤져스: 엔드게임</a>\n",
      "</div>\n",
      "\n",
      "레옹\n",
      " <div class=\"tit5\">\n",
      "<a href=\"/movie/bi/mi/basic.naver?code=17170\" title=\"레옹\">레옹</a>\n",
      "</div>\n",
      "\n",
      "쉰들러 리스트\n",
      " <div class=\"tit5\">\n",
      "<a href=\"/movie/bi/mi/basic.naver?code=14450\" title=\"쉰들러 리스트\">쉰들러 리스트</a>\n",
      "</div>\n",
      "\n",
      "아이 캔 스피크\n",
      " <div class=\"tit5\">\n",
      "<a href=\"/movie/bi/mi/basic.naver?code=161850\" title=\"아이 캔 스피크\">아이 캔 스피크</a>\n",
      "</div>\n",
      "\n",
      "동주\n",
      " <div class=\"tit5\">\n",
      "<a href=\"/movie/bi/mi/basic.naver?code=134899\" title=\"동주\">동주</a>\n",
      "</div>\n",
      "\n",
      "안녕 베일리\n",
      " <div class=\"tit5\">\n",
      "<a href=\"/movie/bi/mi/basic.naver?code=181700\" title=\"안녕 베일리\">안녕 베일리</a>\n",
      "</div>\n",
      "\n",
      "클레멘타인\n",
      " <div class=\"tit5\">\n",
      "<a href=\"/movie/bi/mi/basic.naver?code=37886\" title=\"클레멘타인\">클레멘타인</a>\n",
      "</div>\n",
      "\n",
      "여인의 향기\n",
      " <div class=\"tit5\">\n",
      "<a href=\"/movie/bi/mi/basic.naver?code=12482\" title=\"여인의 향기\">여인의 향기</a>\n",
      "</div>\n"
     ]
    }
   ],
   "source": [
    "movie_title, movie_point = [],[] # 영화제목과 평점을 저장할 빈 리스트 선언 \n",
    "\n",
    "for line in soup.select('tr') :\n",
    "    title = line.find('div' , class_='tit5')\n",
    "    if title : # 자료가 존재하면 Movie_title 리스트에 추가\n",
    "        movie_title.append(title.get_text().strip(\"\\n\")) # title.get_text == title.text \n",
    "        print(title.get_text(), title)\n",
    "        \n",
    "    point = line.find('td', class_='point')\n",
    "    if point : # 평점이 있으면 처리 \n",
    "        movie_point.append(point.text)"
   ]
  },
  {
   "cell_type": "code",
   "execution_count": 17,
   "metadata": {},
   "outputs": [
    {
     "name": "stdout",
     "output_type": "stream",
     "text": [
      "1 밥정 : 9.63\n",
      "2 그린 북 : 9.59\n",
      "3 가버나움 : 9.59\n",
      "4 디지몬 어드벤처 라스트 에볼루션 : 인연 : 9.54\n",
      "5 원더 : 9.53\n",
      "6 베일리 어게인 : 9.52\n",
      "7 그대, 고맙소 : 김호중 생애 첫 팬미팅 무비 : 9.51\n",
      "8 아일라 : 9.51\n",
      "9 먼 훗날 우리 : 9.50\n",
      "10 당갈 : 9.49\n",
      "11 극장판 바이올렛 에버가든 : 9.49\n",
      "12 포드 V 페라리 : 9.48\n",
      "13 주전장 : 9.47\n",
      "14 쇼생크 탈출 : 9.45\n",
      "15 터미네이터 2:오리지널 : 9.44\n",
      "16 나 홀로 집에 : 9.43\n",
      "17 라이언 일병 구하기 : 9.43\n",
      "18 덕구 : 9.43\n",
      "19 클래식 : 9.42\n",
      "20 월-E : 9.42\n",
      "21 잭 스나이더의 저스티스 리그 : 9.42\n",
      "22 보헤미안 랩소디 : 9.42\n",
      "23 사운드 오브 뮤직 : 9.42\n",
      "24 빽 투 더 퓨쳐 : 9.41\n",
      "25 포레스트 검프 : 9.41\n",
      "26 위대한 쇼맨 : 9.41\n",
      "27 글래디에이터 : 9.41\n",
      "28 타이타닉 : 9.40\n",
      "29 헬프 : 9.40\n",
      "30 인생은 아름다워 : 9.40\n",
      "31 매트릭스 : 9.40\n",
      "32 살인의 추억 : 9.40\n",
      "33 센과 치히로의 행방불명 : 9.40\n",
      "34 가나의 혼인잔치: 언약 : 9.39\n",
      "35 토이 스토리 3 : 9.39\n",
      "36 헌터 킬러 : 9.39\n",
      "37 캐스트 어웨이 : 9.38\n",
      "38 집으로... : 9.38\n",
      "39 반지의 제왕: 왕의 귀환 : 9.38\n",
      "40 죽은 시인의 사회 : 9.38\n",
      "41 히든 피겨스 : 9.38\n",
      "42 알라딘 : 9.38\n",
      "43 어벤져스: 엔드게임 : 9.38\n",
      "44 레옹 : 9.38\n",
      "45 쉰들러 리스트 : 9.37\n",
      "46 아이 캔 스피크 : 9.37\n",
      "47 동주 : 9.37\n",
      "48 안녕 베일리 : 9.37\n",
      "49 클레멘타인 : 9.37\n",
      "50 여인의 향기 : 9.37\n"
     ]
    }
   ],
   "source": [
    "for i,(title,point) in enumerate(zip(movie_title,movie_point)) : \n",
    "    print(i+1, title, ':', point)"
   ]
  },
  {
   "cell_type": "markdown",
   "metadata": {},
   "source": [
    "openapi 사용해보기"
   ]
  },
  {
   "cell_type": "code",
   "execution_count": 1,
   "metadata": {},
   "outputs": [],
   "source": [
    "import requests"
   ]
  },
  {
   "cell_type": "code",
   "execution_count": 8,
   "metadata": {},
   "outputs": [],
   "source": [
    "text='''Yesterday\n",
    "All my troubles seemed so far away\n",
    "Now it looks as though they're here to stay\n",
    "Oh, I believe in yesterday\n",
    "Suddenly\n",
    "I'm not half the man I used to be\n",
    "There's a shadow hanging over me\n",
    "Oh, yesterday came suddenly\n",
    "Why she had to go, I don't know\n",
    "She wouldn't say\n",
    "I said something wrong\n",
    "Now I long for yesterday\n",
    "Yesterday\n",
    "Love was such an easy game to play\n",
    "Now I need a place to hide away\n",
    "Oh, I believe in yesterday\n",
    "Why she'''"
   ]
  },
  {
   "cell_type": "code",
   "execution_count": 9,
   "metadata": {},
   "outputs": [
    {
     "name": "stdout",
     "output_type": "stream",
     "text": [
      "<class 'dict'>\n",
      "<class 'dict'>\n"
     ]
    }
   ],
   "source": [
    "request_url = \"https://openapi.naver.com/v1/papago/n2mt\"\n",
    "\n",
    "headers= {\"X-Naver-Client-Id\": \"EWnUX7mvA6mvq1kEyaCZ\", \n",
    "          \"X-Naver-Client-Secret\":\"XomYtIfy_V\"}\n",
    "params = {\"source\": \"ko\", \"target\": \"en\", \"text\": text}\n",
    "print(type(headers))\n",
    "print(type(params))\n",
    "\n"
   ]
  },
  {
   "cell_type": "code",
   "execution_count": 11,
   "metadata": {},
   "outputs": [
    {
     "name": "stdout",
     "output_type": "stream",
     "text": [
      "번역할 한글 입력 > 안녕\n",
      "Hi.\n",
      "번역할 한글 입력 > 안녕하세요\n",
      "Hello\n",
      "번역할 한글 입력 > 배가 고픕니다\n",
      "I am hungry.\n",
      "번역할 한글 입력 > 사랑해\n",
      "I love you.\n",
      "번역할 한글 입력 > 신기하다\n",
      "Surprising.\n",
      "번역할 한글 입력 > 종료\n"
     ]
    }
   ],
   "source": [
    "while True :\n",
    "    text = input(\"번역할 한글 입력 > \")\n",
    "    if text == \"종료\" :\n",
    "        break\n",
    "    params = {\"source\": \"ko\", \"target\": \"en\", \"text\": text}\n",
    "    response = requests.post(request_url, headers=headers, data=params)\n",
    "#print(type(response.text))\n",
    "\n",
    "    result = response.json()\n",
    "#result\n",
    "    print(result['message']['result']['translatedText'])"
   ]
  },
  {
   "cell_type": "markdown",
   "metadata": {},
   "source": [
    "데코레이터 : 함수 데코레이터와 클래스 데코레이터가 있다. \n",
    "@function()으로 호출"
   ]
  },
  {
   "cell_type": "markdown",
   "metadata": {},
   "source": [
    "패키지 생성하는 방법 \n",
    "- 패키지 디렉토리 생성 \n",
    "- 패키지 디렉토리안에 모듈 생성.... 모듈 여러개 생성 가능\n",
    "- 패키지명.모듈명. import\n"
   ]
  },
  {
   "cell_type": "code",
   "execution_count": null,
   "metadata": {},
   "outputs": [],
   "source": []
  }
 ],
 "metadata": {
  "kernelspec": {
   "display_name": "Python 3",
   "language": "python",
   "name": "python3"
  },
  "language_info": {
   "codemirror_mode": {
    "name": "ipython",
    "version": 3
   },
   "file_extension": ".py",
   "mimetype": "text/x-python",
   "name": "python",
   "nbconvert_exporter": "python",
   "pygments_lexer": "ipython3",
   "version": "3.7.5"
  }
 },
 "nbformat": 4,
 "nbformat_minor": 2
}
